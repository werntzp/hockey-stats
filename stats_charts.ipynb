{
  "nbformat": 4,
  "nbformat_minor": 0,
  "metadata": {
    "colab": {
      "name": "stats_charts.ipynb",
      "provenance": [],
      "collapsed_sections": []
    },
    "kernelspec": {
      "name": "python3",
      "display_name": "Python 3"
    }
  },
  "cells": [
    {
      "cell_type": "code",
      "metadata": {
        "id": "oSYr4M7YPgQl",
        "outputId": "41dce8cd-8dd8-4e71-b979-8d0b31d5b1bf",
        "colab": {
          "base_uri": "https://localhost:8080/"
        }
      },
      "source": [
        "# libraries used\n",
        "\n",
        "import pandas as pd \n",
        "import numpy as np\n",
        "import matplotlib.pyplot as plt\n",
        "import plotly.graph_objects as go\n",
        "import matplotlib.ticker as ticker\n",
        "import plotly.express as px\n",
        "import seaborn as sns\n",
        "import datetime\n",
        "import math\n",
        "\n",
        "%matplotlib inline\n",
        "\n",
        "# needed for treemap graphic\n",
        "!pip install squarify \n",
        "import squarify\n",
        "\n",
        "!pip install pyecharts\n",
        "from pyecharts.charts import Pie\n",
        "from pyecharts import options as opt\n",
        "\n",
        "print(\"loaded libraries\")"
      ],
      "execution_count": 1,
      "outputs": [
        {
          "output_type": "stream",
          "text": [
            "Requirement already satisfied: squarify in /usr/local/lib/python3.6/dist-packages (0.4.3)\n",
            "Requirement already satisfied: pyecharts in /usr/local/lib/python3.6/dist-packages (1.8.1)\n",
            "Requirement already satisfied: jinja2 in /usr/local/lib/python3.6/dist-packages (from pyecharts) (2.11.2)\n",
            "Requirement already satisfied: prettytable in /usr/local/lib/python3.6/dist-packages (from pyecharts) (1.0.1)\n",
            "Requirement already satisfied: simplejson in /usr/local/lib/python3.6/dist-packages (from pyecharts) (3.17.2)\n",
            "Requirement already satisfied: MarkupSafe>=0.23 in /usr/local/lib/python3.6/dist-packages (from jinja2->pyecharts) (1.1.1)\n",
            "Requirement already satisfied: wcwidth in /usr/local/lib/python3.6/dist-packages (from prettytable->pyecharts) (0.2.5)\n",
            "Requirement already satisfied: setuptools in /usr/local/lib/python3.6/dist-packages (from prettytable->pyecharts) (50.3.0)\n",
            "loaded libraries\n"
          ],
          "name": "stdout"
        }
      ]
    },
    {
      "cell_type": "code",
      "metadata": {
        "id": "mr9DTGOXM1NR",
        "outputId": "0a5faa68-c351-421a-e02f-e462197c6d02",
        "colab": {
          "base_uri": "https://localhost:8080/"
        }
      },
      "source": [
        "# load up csv files\n",
        "\n",
        "github_url = \"https://raw.githubusercontent.com/werntzp/hockey-stats/master/\"\n",
        "\n",
        "df_games = pd.read_csv(github_url + \"games.csv\") \n",
        "df_shots = pd.read_csv(github_url + \"shots.csv\") \n",
        "df_goals = pd.read_csv(github_url + \"goals.csv\") \n",
        "#df_goals_assists = pd.read_csv(github_url + \"goals_assists.csv\")\n",
        "df_periods = pd.read_csv(github_url + \"periods.csv\")\n",
        "df_penalties = pd.read_csv(github_url + \"penalties.csv\") \n",
        "df_points = pd.read_csv(github_url + \"points.csv\")\n",
        "df_player_stats = pd.read_csv(github_url + \"xtreme_2020-21_player_stats.csv\")\n",
        "\n",
        "print(\"loaded csv files\")\n"
      ],
      "execution_count": 2,
      "outputs": [
        {
          "output_type": "stream",
          "text": [
            "loaded csv files\n"
          ],
          "name": "stdout"
        }
      ]
    },
    {
      "cell_type": "code",
      "metadata": {
        "id": "6FVD71eSc33b",
        "outputId": "ffca06a1-3188-4a01-86ab-c1618f806c15",
        "colab": {
          "base_uri": "https://localhost:8080/",
          "height": 297
        }
      },
      "source": [
        "# bar chart with goals per period\n",
        "\n",
        "p1xg = df_goals[(df_goals.team == \"a\") & (df_goals.period == 1)].shape[0]\n",
        "p2xg = df_goals[(df_goals.team == \"a\") & (df_goals.period == 2)].shape[0]\n",
        "p3xg = df_goals[(df_goals.team == \"a\") & (df_goals.period == 3)].shape[0]\n",
        "p4xg = df_goals[(df_goals.team == \"a\") & (df_goals.period == 4)].shape[0]\n",
        "\n",
        "p1og = df_goals[(df_goals.team == \"o\") & (df_goals.period == 1)].shape[0]\n",
        "p2og = df_goals[(df_goals.team == \"o\") & (df_goals.period == 2)].shape[0]\n",
        "p3og = df_goals[(df_goals.team == \"o\") & (df_goals.period == 3)].shape[0]\n",
        "p4og = df_goals[(df_goals.team == \"o\") & (df_goals.period == 4)].shape[0]\n",
        "\n",
        "labels = ['1', '2', '3', 'OT']\n",
        "xtreme = [p1xg, p2xg, p3xg, p4xg]\n",
        "opponent = [p1og, p2og, p3og, p4og]\n",
        "\n",
        "x_label = \"Xtreme (\" + str(p1xg + p2xg + p3xg + p4xg) + \")\"\n",
        "o_label = \"Opponents (\" + str(p1og + p2og + p3og + p4og) + \")\"\n",
        "\n",
        "x = np.arange(len(labels))  # the label locations\n",
        "width = 0.35  # the width of the bars\n",
        "\n",
        "fig, ax = plt.subplots()\n",
        "rects1 = ax.bar(x - width/2, xtreme, width, label=x_label, color='black')\n",
        "rects2 = ax.bar(x + width/2, opponent, width, label=o_label, color='#8dd3c7')\n",
        "\n",
        "# Add some text for labels, title and custom x-axis tick labels, etc.\n",
        "ax.set_title('Goals by Period')\n",
        "ax.set_xticks(x)\n",
        "ax.set_xticklabels(labels)\n",
        "ax.spines['right'].set_visible(False)\n",
        "ax.spines['top'].set_visible(False)\n",
        "ax.legend()\n",
        "\n",
        "fig.tight_layout()\n",
        "plt.yticks(np.arange(0, 30, 5))\n",
        "\n",
        "plt.show()"
      ],
      "execution_count": 3,
      "outputs": [
        {
          "output_type": "display_data",
          "data": {
            "image/png": "[encoded data removed]",
            "text/plain": [
              "<Figure size 432x288 with 1 Axes>"
            ]
          },
          "metadata": {
            "tags": [],
            "needs_background": "light"
          }
        }
      ]
    },
    {
      "cell_type": "code",
      "metadata": {
        "id": "LRDTT0Sc8iHH",
        "outputId": "586a0143-aa19-4b4e-e0d4-e85872417771",
        "colab": {
          "base_uri": "https://localhost:8080/",
          "height": 297
        }
      },
      "source": [
        "# bar chart with shots per period\n",
        "\n",
        "p1xs = df_shots['ashburn_p1'].sum()\n",
        "p2xs = df_shots['ashburn_p2'].sum()\n",
        "p3xs = df_shots['ashburn_p3'].sum()\n",
        "p4xs = df_shots['ashburn_ot'].sum()\n",
        "\n",
        "p1os = df_shots['opp_p1'].sum()\n",
        "p2os = df_shots['opp_p2'].sum()\n",
        "p3os = df_shots['opp_p3'].sum()\n",
        "p4os = df_shots['opp_ot'].sum()\n",
        "\n",
        "labels = ['1', '2', '3', 'OT']\n",
        "xtreme = [p1xs, p2xs, p3xs, p4xs]\n",
        "opponent = [p1os, p2os, p3os, p4os]\n",
        "\n",
        "x_label = \"Xtreme (\" + str(p1xs + p2xs + p3xs + p4xs) + \")\"\n",
        "o_label = \"Opponents (\" + str(p1os + p2os + p3os + p4os) + \")\"\n",
        "\n",
        "x = np.arange(len(labels))  # the label locations\n",
        "width = 0.35  # the width of the bars\n",
        "\n",
        "fig, ax = plt.subplots()\n",
        "rects1 = ax.bar(x - width/2, xtreme, width, label=x_label, color='black')\n",
        "rects2 = ax.bar(x + width/2, opponent, width, label=o_label, color='#fb8072')\n",
        "\n",
        "# Add some text for labels, title and custom x-axis tick labels, etc.\n",
        "ax.set_title('Shots by Period')\n",
        "ax.set_xticks(x)\n",
        "ax.set_xticklabels(labels)\n",
        "ax.spines['right'].set_visible(False)\n",
        "ax.spines['top'].set_visible(False)\n",
        "ax.legend()\n",
        "\n",
        "fig.tight_layout()\n",
        "plt.yticks(np.arange(0, 200, 50))\n",
        "\n",
        "plt.show()\n"
      ],
      "execution_count": 4,
      "outputs": [
        {
          "output_type": "display_data",
          "data": {
            "image/png": "[encoded data removed]",
            "text/plain": [
              "<Figure size 432x288 with 1 Axes>"
            ]
          },
          "metadata": {
            "tags": [],
            "needs_background": "light"
          }
        }
      ]
    },
    {
      "cell_type": "code",
      "metadata": {
        "id": "C2k94cQD7qaY",
        "outputId": "208cbc45-a795-405c-f954-541b42d05879",
        "colab": {
          "base_uri": "https://localhost:8080/",
          "height": 297
        }
      },
      "source": [
        "# bar chart comparing xtreme and opponent penalties by period\n",
        "\n",
        "p1xp = df_penalties[(df_penalties.team == \"a\") & (df_penalties.period == 1)].shape[0]\n",
        "p2xp = df_penalties[(df_penalties.team == \"a\") & (df_penalties.period == 2)].shape[0]\n",
        "p3xp = df_penalties[(df_penalties.team == \"a\") & (df_penalties.period == 3)].shape[0]\n",
        "p4xp = df_penalties[(df_penalties.team == \"a\") & (df_penalties.period == 4)].shape[0]\n",
        "\n",
        "p1op = df_penalties[(df_penalties.team == \"o\") & (df_penalties.period == 1)].shape[0]\n",
        "p2op = df_penalties[(df_penalties.team == \"o\") & (df_penalties.period == 2)].shape[0]\n",
        "p3op = df_penalties[(df_penalties.team == \"o\") & (df_penalties.period == 3)].shape[0]\n",
        "p4op = df_penalties[(df_penalties.team == \"o\") & (df_penalties.period == 4)].shape[0]\n",
        "\n",
        "labels = ['1', '2', '3', 'OT']\n",
        "xtreme = [p1xp, p2xp, p3xp, p4xp]\n",
        "opponent = [p1op, p2op, p3op, p4op]\n",
        "\n",
        "x_label = \"Xtreme (\" + str(p1xp + p2xp + p3xp + p4xp) + \")\"\n",
        "o_label = \"Opponents (\" + str(p1op + p2op + p3op + p4op) + \")\"\n",
        "\n",
        "x = np.arange(len(labels))  # the label locations\n",
        "width = 0.35  # the width of the bars\n",
        "\n",
        "fig, ax = plt.subplots()\n",
        "rects1 = ax.bar(x - width/2, xtreme, width, label=x_label, color='black')\n",
        "rects2 = ax.bar(x + width/2, opponent, width, label=o_label, color='#fccde5')\n",
        "\n",
        "# Add some text for labels, title and custom x-axis tick labels, etc.\n",
        "ax.set_title('Penalties by Period')\n",
        "ax.set_xticks(x)\n",
        "ax.set_xticklabels(labels)\n",
        "ax.spines['right'].set_visible(False)\n",
        "ax.spines['top'].set_visible(False)\n",
        "ax.legend()\n",
        "\n",
        "fig.tight_layout()\n",
        "plt.yticks(np.arange(0, 25, 5))\n",
        "\n",
        "plt.show()"
      ],
      "execution_count": 5,
      "outputs": [
        {
          "output_type": "display_data",
          "data": {
            "image/png": "[encoded data removed]",
            "text/plain": [
              "<Figure size 432x288 with 1 Axes>"
            ]
          },
          "metadata": {
            "tags": [],
            "needs_background": "light"
          }
        }
      ]
    },
    {
      "cell_type": "code",
      "metadata": {
        "id": "Z7z7K5RapGzy",
        "outputId": "7d1b38b2-d1a6-42c7-9752-08f68de14f2a",
        "colab": {
          "base_uri": "https://localhost:8080/",
          "height": 245
        }
      },
      "source": [
        "# treemap with penalty types \n",
        "\n",
        "fig = go.Figure()\n",
        "\n",
        "x = 0.\n",
        "y = 0.\n",
        "width = 100.\n",
        "height = 100.\n",
        "\n",
        "# get unique list of xtreme penalty types\n",
        "dfx = df_penalties[(df_penalties.team == \"a\")]\n",
        "arr = dfx.type.unique()\n",
        "\n",
        "p_values = []\n",
        "p_labels = []\n",
        "\n",
        "# loop through names and count up number of times they occured\n",
        "for p in arr:\n",
        "  c = dfx[(dfx.type == p)].shape[0]\n",
        "  p_values.append(c)\n",
        "  p_labels.append(p + \" (\" + str(c) + \")\")\n",
        "\n",
        "normed = squarify.normalize_sizes(p_values, width, height)\n",
        "rects = squarify.squarify(normed, x, y, width, height)\n",
        "\n",
        "# Choose colors from http://colorbrewer2.org/ under \"Export\"\n",
        "color_brewer = ['rgb(43,140,190)','rgb(141,211,199)','rgb(255,255,179)','rgb(190,186,218)','rgb(251,128,114)','rgb(128,177,211)','rgb(253,180,98)','rgb(179,222,105)','rgb(252,205,229)','rgb(217,217,217)','rgb(188,128,189)','rgb(204,235,197)','rgb(44,162,95)', 'rgb(299,245,249)','rgb(136,86,167)']\n",
        "\n",
        "# other colors if have more than 8 penalty types ... , , \n",
        "\n",
        "shapes = []\n",
        "annotations = []\n",
        "counter = 0\n",
        "\n",
        "for r, val, color, lbl in zip(rects, p_values, color_brewer, p_labels):\n",
        "    shapes.append(\n",
        "        dict(\n",
        "            type = 'rect',\n",
        "            x0 = r['x'],\n",
        "            y0 = r['y'],\n",
        "            x1 = r['x']+r['dx'],\n",
        "            y1 = r['y']+r['dy'],\n",
        "            line = dict( width = 2 ),\n",
        "            fillcolor = color\n",
        "        )\n",
        "    )\n",
        "    annotations.append(\n",
        "        dict(\n",
        "            x = r['x']+(r['dx']/2),\n",
        "            y = r['y']+(r['dy']/2),\n",
        "            text = lbl.replace(' ', '\\r\\n'), \n",
        "            showarrow = False\n",
        "        )\n",
        "    )\n",
        "\n",
        "# For hover text\n",
        "fig.add_trace(go.Scatter(\n",
        "    x = [ r['x']+(r['dx']/2) for r in rects ],\n",
        "    y = [ r['y']+(r['dy']/2) for r in rects ],\n",
        "    text = [ str(v) for v in p_values ],\n",
        "    mode = 'text',\n",
        "))\n",
        "\n",
        "fig.update_layout(\n",
        "    height=700,\n",
        "    width=700,\n",
        "    xaxis=dict(showgrid=False,zeroline=False,showticklabels=False),\n",
        "    yaxis=dict(showgrid=False,zeroline=False,showticklabels=False),\n",
        "    shapes=shapes,\n",
        "    annotations=annotations,\n",
        "    hovermode='closest',\n",
        "    title=go.layout.Title(\n",
        "        text=\"Xtreme Penalty Types\",\n",
        "        xref=\"paper\",\n",
        "        x=0\n",
        "    )\n",
        ")\n",
        "\n",
        "fig.show()"
      ],
      "execution_count": 3,
      "outputs": [
        {
          "output_type": "error",
          "ename": "TypeError",
          "evalue": "ignored",
          "traceback": [
            "\u001b[0;31m---------------------------------------------------------------------------\u001b[0m",
            "\u001b[0;31mTypeError\u001b[0m                                 Traceback (most recent call last)",
            "\u001b[0;32m<ipython-input-3-5d1f52448b52>\u001b[0m in \u001b[0;36m<module>\u001b[0;34m()\u001b[0m\n\u001b[1;32m     19\u001b[0m   \u001b[0mc\u001b[0m \u001b[0;34m=\u001b[0m \u001b[0mdfx\u001b[0m\u001b[0;34m[\u001b[0m\u001b[0;34m(\u001b[0m\u001b[0mdfx\u001b[0m\u001b[0;34m.\u001b[0m\u001b[0mtype\u001b[0m \u001b[0;34m==\u001b[0m \u001b[0mp\u001b[0m\u001b[0;34m)\u001b[0m\u001b[0;34m]\u001b[0m\u001b[0;34m.\u001b[0m\u001b[0mshape\u001b[0m\u001b[0;34m[\u001b[0m\u001b[0;36m0\u001b[0m\u001b[0;34m]\u001b[0m\u001b[0;34m\u001b[0m\u001b[0;34m\u001b[0m\u001b[0m\n\u001b[1;32m     20\u001b[0m   \u001b[0mp_values\u001b[0m\u001b[0;34m.\u001b[0m\u001b[0mappend\u001b[0m\u001b[0;34m(\u001b[0m\u001b[0mc\u001b[0m\u001b[0;34m)\u001b[0m\u001b[0;34m\u001b[0m\u001b[0;34m\u001b[0m\u001b[0m\n\u001b[0;32m---> 21\u001b[0;31m   \u001b[0mp_labels\u001b[0m\u001b[0;34m.\u001b[0m\u001b[0mappend\u001b[0m\u001b[0;34m(\u001b[0m\u001b[0mp\u001b[0m \u001b[0;34m+\u001b[0m \u001b[0;34m\" (\"\u001b[0m \u001b[0;34m+\u001b[0m \u001b[0mstr\u001b[0m\u001b[0;34m(\u001b[0m\u001b[0mc\u001b[0m\u001b[0;34m)\u001b[0m \u001b[0;34m+\u001b[0m \u001b[0;34m\")\"\u001b[0m\u001b[0;34m)\u001b[0m\u001b[0;34m\u001b[0m\u001b[0;34m\u001b[0m\u001b[0m\n\u001b[0m\u001b[1;32m     22\u001b[0m \u001b[0;34m\u001b[0m\u001b[0m\n\u001b[1;32m     23\u001b[0m \u001b[0mnormed\u001b[0m \u001b[0;34m=\u001b[0m \u001b[0msquarify\u001b[0m\u001b[0;34m.\u001b[0m\u001b[0mnormalize_sizes\u001b[0m\u001b[0;34m(\u001b[0m\u001b[0mp_values\u001b[0m\u001b[0;34m,\u001b[0m \u001b[0mwidth\u001b[0m\u001b[0;34m,\u001b[0m \u001b[0mheight\u001b[0m\u001b[0;34m)\u001b[0m\u001b[0;34m\u001b[0m\u001b[0;34m\u001b[0m\u001b[0m\n",
            "\u001b[0;31mTypeError\u001b[0m: unsupported operand type(s) for +: 'float' and 'str'"
          ]
        }
      ]
    },
    {
      "cell_type": "code",
      "metadata": {
        "id": "bM6MXF0gwR3L",
        "outputId": "33c9e3fa-3e80-496d-d47c-0a5e01d28bef",
        "colab": {
          "base_uri": "https://localhost:8080/",
          "height": 297
        }
      },
      "source": [
        "# Pie chart with goal types\n",
        "\n",
        "# dictionary with goal types \n",
        "goal_types = {\"en\": \"Empty Net\", \"es\": \"Even Strength\", \"pp\": \"Power Play\", \"ps\": \"Penalty shot\", \"sh\": \"Short-handed\" }\n",
        "\n",
        "# get unique list of goal types \n",
        "dfx = df_goals[(df_goals.team == \"a\")]\n",
        "arr = dfx.type.unique()\n",
        "\n",
        "g_values = []\n",
        "g_labels = []\n",
        "\n",
        "for g in arr:\n",
        "  c = dfx[(dfx.type == g)].shape[0]\n",
        "  g_values.append(c)\n",
        "  g_labels.append(goal_types[g] + \" (\" + str(c) + \")\")\n",
        "\n",
        "#colors\n",
        "colors = ['#ff0000','#c0c0c0','#ffffff','#000000']\n",
        "\n",
        "fig1, ax1 = plt.subplots()\n",
        "#patches, texts, autotexts = ax1.pie(g_values, colors = colors, autopct='%1.0f%%', pctdistance=1.08, startangle=90)\n",
        "patches, texts = ax1.pie(g_values, colors = colors, pctdistance=1.08, startangle=90)\n",
        "\n",
        "# Equal aspect ratio ensures that pie is drawn as a circle\n",
        "plt.legend(patches, g_labels, loc=\"best\")\n",
        "ax1.axis('equal')  \n",
        "ax1.set_title('Types of Xtreme Goals (' + str(len(dfx.index)) + ')')\n",
        "plt.tight_layout()\n",
        "plt.show()"
      ],
      "execution_count": 4,
      "outputs": [
        {
          "output_type": "display_data",
          "data": {
            "image/png": "[encoded data removed]",
            "text/plain": [
              "<Figure size 432x288 with 1 Axes>"
            ]
          },
          "metadata": {
            "tags": []
          }
        }
      ]
    },
    {
      "cell_type": "code",
      "metadata": {
        "id": "u4F9Wi9-7QjT",
        "outputId": "86b1b8ed-e98b-4ae6-e4aa-df664b090632",
        "colab": {
          "base_uri": "https://localhost:8080/",
          "height": 297
        }
      },
      "source": [
        "# Pie chart with goal types\n",
        "\n",
        "# dictionary with goal types \n",
        "#goal_types = {\"en\": \"Empty Net\", \"es\": \"Even Strength\", \"pp\": \"Power Play\", \"ps\": \"Penalty shot\", \"sh\": \"Short-handed\" }\n",
        "\n",
        "# get unique list of goal types \n",
        "dfx = df_goals[(df_goals.team == \"o\")]\n",
        "arr = dfx.type.unique()\n",
        "\n",
        "g_values = []\n",
        "g_labels = []\n",
        "\n",
        "for g in arr:\n",
        "  c = dfx[(dfx.type == g)].shape[0]\n",
        "  g_values.append(c)\n",
        "  g_labels.append(goal_types[g] + \" (\" + str(c) + \")\")\n",
        "\n",
        "#colors\n",
        "colors = ['#80b1d3','#fb8072','#8dd3c7','#fccde5']\n",
        "\n",
        "fig1, ax1 = plt.subplots()\n",
        "#patches, texts, autotexts = ax1.pie(g_values, colors = colors, autopct='%1.0f%%', pctdistance=1.08, startangle=90)\n",
        "patches, texts = ax1.pie(g_values, colors = colors, pctdistance=1.08, startangle=90)\n",
        "\n",
        "# Equal aspect ratio ensures that pie is drawn as a circle\n",
        "plt.legend(patches, g_labels, loc=\"best\")\n",
        "ax1.axis('equal')  \n",
        "ax1.set_title('Types of Opponent Goals (' + str(len(dfx.index)) + ')')\n",
        "plt.tight_layout()\n",
        "plt.show()"
      ],
      "execution_count": 5,
      "outputs": [
        {
          "output_type": "display_data",
          "data": {
            "image/png": "[encoded data removed]",
            "text/plain": [
              "<Figure size 432x288 with 1 Axes>"
            ]
          },
          "metadata": {
            "tags": []
          }
        }
      ]
    },
    {
      "cell_type": "code",
      "metadata": {
        "id": "JjMUguEHx3x8",
        "outputId": "a867a196-d09a-4252-997f-d0dce9b575f9",
        "colab": {
          "base_uri": "https://localhost:8080/",
          "height": 35
        }
      },
      "source": [
        "# calculate how many times Xtreme scored first \n",
        "\n",
        "dfx = pd.DataFrame(columns=[\"game\",\t\"team\",\t\"period\",\t\"time\",\t\"type\"])\n",
        "\n",
        "num_games = df_games.shape[0]\n",
        "\n",
        "# build dataframe where xtreme scored first \n",
        "for g in range(1,num_games+1):\n",
        "    t = df_goals[(df_goals.game == g)].head(1)\n",
        "    dfx = pd.concat([t, dfx[:]])\n",
        "\n",
        "# loop through it to get their record \n",
        "x_win = 0 \n",
        "x_loss = 0 \n",
        "x_tie = 0 \n",
        "\n",
        "dft = dfx[(dfx.team == \"a\")]\n",
        "\n",
        "for idx in dft.index:\n",
        "    # for each game, determine if Xtreme won or lost\n",
        "    g = dft[\"game\"][idx]\n",
        "    # go get score for each game \n",
        "    if ((df_games[(df_games.game == g)].axscore.iloc[0]) > (df_games[(df_games.game == g)].oppscore.iloc[0])):\n",
        "      x_win = x_win + 1\n",
        "    elif ((df_games[(df_games.game == g)].axscore.iloc[0]) < (df_games[(df_games.game == g)].oppscore.iloc[0])):\n",
        "      x_loss = x_loss + 1\n",
        "    else: \n",
        "      x_tie = x_tie + 1\n",
        "\n",
        "print(\"<b>\" +  str(x_win) + \"-\" + str(x_loss) + \"-\" + str(x_tie) + \"</b> when scoring first.\")\n"
      ],
      "execution_count": null,
      "outputs": [
        {
          "output_type": "stream",
          "text": [
            "<b>3-1-1</b> when scoring first.\n"
          ],
          "name": "stdout"
        }
      ]
    },
    {
      "cell_type": "code",
      "metadata": {
        "id": "Nd0RiU4koGob",
        "outputId": "54672552-b7c6-4ea7-b89d-682fcb8b413d",
        "colab": {
          "base_uri": "https://localhost:8080/"
        }
      },
      "source": [
        "# calculate power play percentage (calculated by dividing power play goals by power play opportunities)\n",
        "\n",
        "ppg = df_goals[(df_goals.team == \"a\") & (df_goals.type == \"pp\")].shape[0]\n",
        "ppo = df_penalties[(df_penalties.team == \"o\")].shape[0]\n",
        "pp = '{0:.0f}'.format((ppg / ppo * 100))\n",
        "print(\"Power play percentage: <b>\" + str(pp) + \"%</b>, \")\n"
      ],
      "execution_count": 6,
      "outputs": [
        {
          "output_type": "stream",
          "text": [
            "Power play percentage: <b>9%</b>, \n"
          ],
          "name": "stdout"
        }
      ]
    },
    {
      "cell_type": "code",
      "metadata": {
        "id": "ltWDq6BxqYjQ",
        "outputId": "df0bcdd6-9023-403e-f701-adddd7d63c22",
        "colab": {
          "base_uri": "https://localhost:8080/"
        }
      },
      "source": [
        "# calculate penalty kill percentage (calculated by subtracting power play goals against from power \n",
        "#play opportunities against, then dividing by power play opportunities against.)\n",
        "\n",
        "ppg = df_goals[(df_goals.team == \"o\") & (df_goals.type == \"pp\")].shape[0]\n",
        "ppo = df_penalties[(df_penalties.team == \"a\")].shape[0]\n",
        "pp = '{0:.0f}'.format(((ppo - ppg) / ppo * 100))\n",
        "print(\"penalty kill percentage: <b>\" + str(pp) + \"%</b>.\")\n"
      ],
      "execution_count": 7,
      "outputs": [
        {
          "output_type": "stream",
          "text": [
            "penalty kill percentage: <b>79%</b>.\n"
          ],
          "name": "stdout"
        }
      ]
    },
    {
      "cell_type": "code",
      "metadata": {
        "id": "Rbb9WrydfaU8",
        "outputId": "6e84dbd8-5bca-4614-b566-00888434b3a4",
        "colab": {
          "base_uri": "https://localhost:8080/"
        }
      },
      "source": [
        "# calculate average shots per game (xtreme and opponents) \n",
        "\n",
        "num_games = df_games.shape[0]\n",
        "\n",
        "x_shots = (df_shots['ashburn_p1'].sum() + df_shots['ashburn_p2'].sum() + \n",
        "           df_shots['ashburn_p3'].sum() + df_shots['ashburn_ot'].sum())\n",
        "\n",
        "o_shots = (df_shots['opp_p1'].sum() + df_shots['opp_p2'].sum() + \n",
        "           df_shots['opp_p3'].sum() + df_shots['opp_ot'].sum())\n",
        "\n",
        "x_avg_shots = '{0:.0f}'.format(x_shots / num_games * 1) # round to whole number .0f\n",
        "o_avg_shots = '{0:.0f}'.format(o_shots / num_games * 1) # round to whole number .0f\n",
        "\n",
        "print(\"Averaging <b>\" + str(x_avg_shots) + \"</b> shots per game while opponents average <b>\" +\n",
        "      str(o_avg_shots) + \"</b>.\")"
      ],
      "execution_count": 8,
      "outputs": [
        {
          "output_type": "stream",
          "text": [
            "Averaging <b>24</b> shots per game while opponents average <b>25</b>.\n"
          ],
          "name": "stdout"
        }
      ]
    },
    {
      "cell_type": "code",
      "metadata": {
        "id": "PW4J0MTVkbuJ",
        "outputId": "24e2f1e0-30ef-4b84-b3da-ccbbe4babf69",
        "colab": {
          "base_uri": "https://localhost:8080/",
          "height": 35
        }
      },
      "source": [
        "# what is Xtreme record when getting over x shots?\n",
        "target_shots = 30\n",
        "x_win = 0 \n",
        "x_loss = 0 \n",
        "x_tie = 0 \n",
        "\n",
        "# iterate through shots table \n",
        "for idx in df_shots.index:\n",
        "  # total up the shots\n",
        "  g = df_shots['game'][idx]\n",
        "  shots = df_shots[\"ashburn_p1\"][idx] + df_shots[\"ashburn_p2\"][idx] + df_shots[\"ashburn_p3\"][idx] + df_shots[\"ashburn_ot\"][idx]\n",
        "  \n",
        "  # over?\n",
        "  if (shots >= target_shots):\n",
        "    # print(g, shots)\n",
        "    # get the game and see if Xtreme won or lost\n",
        "    axscore = df_games[(df_games.game == g)].axscore.iloc[0]\n",
        "    oppscore = df_games[(df_games.game == g)].oppscore.iloc[0]\n",
        "    if (axscore > oppscore):\n",
        "      x_win = x_win + 1\n",
        "    elif (axscore < oppscore):\n",
        "      x_loss = x_loss + 1\n",
        "    else:\n",
        "      x_tie = x_tie + 1\n",
        "  \n",
        "# results? \n",
        "print(\"<b>\" + str(x_win) + \"-\" + str(x_loss) + \"-\" + str(x_tie) + \"</b> when getting \" + \n",
        "      str(target_shots) + \" or more shots in a game.\")\n"
      ],
      "execution_count": null,
      "outputs": [
        {
          "output_type": "stream",
          "text": [
            "<b>3-0-0</b> when getting 30 or more shots in a game.\n"
          ],
          "name": "stdout"
        }
      ]
    },
    {
      "cell_type": "code",
      "metadata": {
        "id": "rqpJH8_k2270",
        "outputId": "63a6aa75-9085-4677-ee0f-b8b6651d704f",
        "colab": {
          "base_uri": "https://localhost:8080/",
          "height": 398
        }
      },
      "source": [
        "# calculate how many periods xtreme have scored in \n",
        "\n",
        "num_games = df_games.shape[0]\n",
        "\n",
        "periods_scored = 0 \n",
        "for g in range(1,num_games+1): \n",
        "  dfx = df_goals[(df_goals.game == g) & (df_goals.team == \"a\")]\n",
        "  periods = dfx[\"period\"].unique().size\n",
        "  periods_scored = periods_scored + periods\n",
        "\n",
        "# count # periods where > 0 \n",
        "total_periods = 0 \n",
        "for g in range(1,num_games+1): \n",
        "  for p in range(1,5):\n",
        "    period_num = \"p\" + str(p) + \"_length\"\n",
        "    period_length = df_periods.loc[df_periods.game == g, period_num].iloc[0]\n",
        "    if (period_length > 0):\n",
        "      total_periods = total_periods + 1\n",
        "\n",
        "ps = '{0:.0f}'.format(periods_scored / total_periods * 100)\n",
        "\n",
        "print(\"Scored in <b>\" + str(periods_scored) + \"</b> out of <b>\" + str(total_periods) + \"</b> periods (\" + \n",
        "      str(ps) + \"%).\")\n"
      ],
      "execution_count": null,
      "outputs": [
        {
          "output_type": "error",
          "ename": "IndexError",
          "evalue": "ignored",
          "traceback": [
            "\u001b[0;31m---------------------------------------------------------------------------\u001b[0m",
            "\u001b[0;31mIndexError\u001b[0m                                Traceback (most recent call last)",
            "\u001b[0;32m<ipython-input-15-381aeb1285c3>\u001b[0m in \u001b[0;36m<module>\u001b[0;34m()\u001b[0m\n\u001b[1;32m     14\u001b[0m   \u001b[0;32mfor\u001b[0m \u001b[0mp\u001b[0m \u001b[0;32min\u001b[0m \u001b[0mrange\u001b[0m\u001b[0;34m(\u001b[0m\u001b[0;36m1\u001b[0m\u001b[0;34m,\u001b[0m\u001b[0;36m5\u001b[0m\u001b[0;34m)\u001b[0m\u001b[0;34m:\u001b[0m\u001b[0;34m\u001b[0m\u001b[0;34m\u001b[0m\u001b[0m\n\u001b[1;32m     15\u001b[0m     \u001b[0mperiod_num\u001b[0m \u001b[0;34m=\u001b[0m \u001b[0;34m\"p\"\u001b[0m \u001b[0;34m+\u001b[0m \u001b[0mstr\u001b[0m\u001b[0;34m(\u001b[0m\u001b[0mp\u001b[0m\u001b[0;34m)\u001b[0m \u001b[0;34m+\u001b[0m \u001b[0;34m\"_length\"\u001b[0m\u001b[0;34m\u001b[0m\u001b[0;34m\u001b[0m\u001b[0m\n\u001b[0;32m---> 16\u001b[0;31m     \u001b[0mperiod_length\u001b[0m \u001b[0;34m=\u001b[0m \u001b[0mdf_periods\u001b[0m\u001b[0;34m.\u001b[0m\u001b[0mloc\u001b[0m\u001b[0;34m[\u001b[0m\u001b[0mdf_periods\u001b[0m\u001b[0;34m.\u001b[0m\u001b[0mgame\u001b[0m \u001b[0;34m==\u001b[0m \u001b[0mg\u001b[0m\u001b[0;34m,\u001b[0m \u001b[0mperiod_num\u001b[0m\u001b[0;34m]\u001b[0m\u001b[0;34m.\u001b[0m\u001b[0miloc\u001b[0m\u001b[0;34m[\u001b[0m\u001b[0;36m0\u001b[0m\u001b[0;34m]\u001b[0m\u001b[0;34m\u001b[0m\u001b[0;34m\u001b[0m\u001b[0m\n\u001b[0m\u001b[1;32m     17\u001b[0m     \u001b[0;32mif\u001b[0m \u001b[0;34m(\u001b[0m\u001b[0mperiod_length\u001b[0m \u001b[0;34m>\u001b[0m \u001b[0;36m0\u001b[0m\u001b[0;34m)\u001b[0m\u001b[0;34m:\u001b[0m\u001b[0;34m\u001b[0m\u001b[0;34m\u001b[0m\u001b[0m\n\u001b[1;32m     18\u001b[0m       \u001b[0mtotal_periods\u001b[0m \u001b[0;34m=\u001b[0m \u001b[0mtotal_periods\u001b[0m \u001b[0;34m+\u001b[0m \u001b[0;36m1\u001b[0m\u001b[0;34m\u001b[0m\u001b[0;34m\u001b[0m\u001b[0m\n",
            "\u001b[0;32m/usr/local/lib/python3.6/dist-packages/pandas/core/indexing.py\u001b[0m in \u001b[0;36m__getitem__\u001b[0;34m(self, key)\u001b[0m\n\u001b[1;32m    877\u001b[0m \u001b[0;34m\u001b[0m\u001b[0m\n\u001b[1;32m    878\u001b[0m             \u001b[0mmaybe_callable\u001b[0m \u001b[0;34m=\u001b[0m \u001b[0mcom\u001b[0m\u001b[0;34m.\u001b[0m\u001b[0mapply_if_callable\u001b[0m\u001b[0;34m(\u001b[0m\u001b[0mkey\u001b[0m\u001b[0;34m,\u001b[0m \u001b[0mself\u001b[0m\u001b[0;34m.\u001b[0m\u001b[0mobj\u001b[0m\u001b[0;34m)\u001b[0m\u001b[0;34m\u001b[0m\u001b[0;34m\u001b[0m\u001b[0m\n\u001b[0;32m--> 879\u001b[0;31m             \u001b[0;32mreturn\u001b[0m \u001b[0mself\u001b[0m\u001b[0;34m.\u001b[0m\u001b[0m_getitem_axis\u001b[0m\u001b[0;34m(\u001b[0m\u001b[0mmaybe_callable\u001b[0m\u001b[0;34m,\u001b[0m \u001b[0maxis\u001b[0m\u001b[0;34m=\u001b[0m\u001b[0maxis\u001b[0m\u001b[0;34m)\u001b[0m\u001b[0;34m\u001b[0m\u001b[0;34m\u001b[0m\u001b[0m\n\u001b[0m\u001b[1;32m    880\u001b[0m \u001b[0;34m\u001b[0m\u001b[0m\n\u001b[1;32m    881\u001b[0m     \u001b[0;32mdef\u001b[0m \u001b[0m_is_scalar_access\u001b[0m\u001b[0;34m(\u001b[0m\u001b[0mself\u001b[0m\u001b[0;34m,\u001b[0m \u001b[0mkey\u001b[0m\u001b[0;34m:\u001b[0m \u001b[0mTuple\u001b[0m\u001b[0;34m)\u001b[0m\u001b[0;34m:\u001b[0m\u001b[0;34m\u001b[0m\u001b[0;34m\u001b[0m\u001b[0m\n",
            "\u001b[0;32m/usr/local/lib/python3.6/dist-packages/pandas/core/indexing.py\u001b[0m in \u001b[0;36m_getitem_axis\u001b[0;34m(self, key, axis)\u001b[0m\n\u001b[1;32m   1494\u001b[0m \u001b[0;34m\u001b[0m\u001b[0m\n\u001b[1;32m   1495\u001b[0m             \u001b[0;31m# validate the location\u001b[0m\u001b[0;34m\u001b[0m\u001b[0;34m\u001b[0m\u001b[0;34m\u001b[0m\u001b[0m\n\u001b[0;32m-> 1496\u001b[0;31m             \u001b[0mself\u001b[0m\u001b[0;34m.\u001b[0m\u001b[0m_validate_integer\u001b[0m\u001b[0;34m(\u001b[0m\u001b[0mkey\u001b[0m\u001b[0;34m,\u001b[0m \u001b[0maxis\u001b[0m\u001b[0;34m)\u001b[0m\u001b[0;34m\u001b[0m\u001b[0;34m\u001b[0m\u001b[0m\n\u001b[0m\u001b[1;32m   1497\u001b[0m \u001b[0;34m\u001b[0m\u001b[0m\n\u001b[1;32m   1498\u001b[0m             \u001b[0;32mreturn\u001b[0m \u001b[0mself\u001b[0m\u001b[0;34m.\u001b[0m\u001b[0mobj\u001b[0m\u001b[0;34m.\u001b[0m\u001b[0m_ixs\u001b[0m\u001b[0;34m(\u001b[0m\u001b[0mkey\u001b[0m\u001b[0;34m,\u001b[0m \u001b[0maxis\u001b[0m\u001b[0;34m=\u001b[0m\u001b[0maxis\u001b[0m\u001b[0;34m)\u001b[0m\u001b[0;34m\u001b[0m\u001b[0;34m\u001b[0m\u001b[0m\n",
            "\u001b[0;32m/usr/local/lib/python3.6/dist-packages/pandas/core/indexing.py\u001b[0m in \u001b[0;36m_validate_integer\u001b[0;34m(self, key, axis)\u001b[0m\n\u001b[1;32m   1435\u001b[0m         \u001b[0mlen_axis\u001b[0m \u001b[0;34m=\u001b[0m \u001b[0mlen\u001b[0m\u001b[0;34m(\u001b[0m\u001b[0mself\u001b[0m\u001b[0;34m.\u001b[0m\u001b[0mobj\u001b[0m\u001b[0;34m.\u001b[0m\u001b[0m_get_axis\u001b[0m\u001b[0;34m(\u001b[0m\u001b[0maxis\u001b[0m\u001b[0;34m)\u001b[0m\u001b[0;34m)\u001b[0m\u001b[0;34m\u001b[0m\u001b[0;34m\u001b[0m\u001b[0m\n\u001b[1;32m   1436\u001b[0m         \u001b[0;32mif\u001b[0m \u001b[0mkey\u001b[0m \u001b[0;34m>=\u001b[0m \u001b[0mlen_axis\u001b[0m \u001b[0;32mor\u001b[0m \u001b[0mkey\u001b[0m \u001b[0;34m<\u001b[0m \u001b[0;34m-\u001b[0m\u001b[0mlen_axis\u001b[0m\u001b[0;34m:\u001b[0m\u001b[0;34m\u001b[0m\u001b[0;34m\u001b[0m\u001b[0m\n\u001b[0;32m-> 1437\u001b[0;31m             \u001b[0;32mraise\u001b[0m \u001b[0mIndexError\u001b[0m\u001b[0;34m(\u001b[0m\u001b[0;34m\"single positional indexer is out-of-bounds\"\u001b[0m\u001b[0;34m)\u001b[0m\u001b[0;34m\u001b[0m\u001b[0;34m\u001b[0m\u001b[0m\n\u001b[0m\u001b[1;32m   1438\u001b[0m \u001b[0;34m\u001b[0m\u001b[0m\n\u001b[1;32m   1439\u001b[0m     \u001b[0;31m# -------------------------------------------------------------------\u001b[0m\u001b[0;34m\u001b[0m\u001b[0;34m\u001b[0m\u001b[0;34m\u001b[0m\u001b[0m\n",
            "\u001b[0;31mIndexError\u001b[0m: single positional indexer is out-of-bounds"
          ]
        }
      ]
    },
    {
      "cell_type": "code",
      "metadata": {
        "id": "LLz5VaOzsvgd",
        "outputId": "c0e96ff3-a9d4-4f31-d9c3-26d530682f24",
        "colab": {
          "base_uri": "https://localhost:8080/"
        }
      },
      "source": [
        "# calculate when we give up a goal within 1 minute or 2 of scoring one \n",
        "# find an xtreme goal, see if next one is opponent, then subtract time? \n",
        "\n",
        "# use a counter\n",
        "ctr = 0 \n",
        "\n",
        "# use one minute as threshold\n",
        "threshold = datetime.timedelta(minutes=1)\n",
        "\n",
        "# get all xtreme goals \n",
        "dfx = df_goals[(df_goals.team == \"a\")]\n",
        "\n",
        "# loop through each one\n",
        "for x in range(1, dfx.shape[0]+1):\n",
        "    try: \n",
        "        # current goal is ashburn\n",
        "        curr_goal = dfx.iloc[x]\n",
        "        # next goal is whatever the next one is \n",
        "        next_goal = df_goals.iloc[curr_goal.name+1]\n",
        "        # need to verify next goal occured in the same game, same period, and was scored by opponet\n",
        "        if ((next_goal[0] == curr_goal[0]) & (next_goal[1] == \"o\") & (next_goal[2] == curr_goal[2])):\n",
        "            # now, grab time of ashburn goal and opponent goal \n",
        "            [x1_min, x1_sec] = [int(x) for x in curr_goal[3].split(':')]\n",
        "            a_goal_time = datetime.timedelta(minutes=x1_min, seconds=x1_sec)\n",
        "            [x2_min, x2_sec] = [int(x) for x in next_goal[3].split(':')]\n",
        "            o_goal_time = datetime.timedelta(minutes=x2_min, seconds=x2_sec)\n",
        "            # subtract to get time differential and see if below the threshold\n",
        "            time_diff = a_goal_time - o_goal_time\n",
        "            if (time_diff < threshold):\n",
        "              #print(next_goal)\n",
        "              # increment the counter\n",
        "              ctr = ctr + 1\n",
        "    except:\n",
        "        print(\"\")\n",
        "        \n",
        "#print out the result\n",
        "print(\"Opponents have sored <b>\" + str(ctr) + \"</b> times within one minute of the Xtreme scoring a goal.\")\n",
        "\n"
      ],
      "execution_count": 9,
      "outputs": [
        {
          "output_type": "stream",
          "text": [
            "\n",
            "Opponents have sored <b>6</b> times within one minute of the Xtreme scoring a goal.\n"
          ],
          "name": "stdout"
        }
      ]
    },
    {
      "cell_type": "code",
      "metadata": {
        "id": "yOS9M8XElPUU",
        "outputId": "a93b7e77-ee34-4ac6-e3ad-629b79ec105f",
        "colab": {
          "base_uri": "https://localhost:8080/"
        }
      },
      "source": [
        "# calculate Xtreme record when leading after two periods \n",
        "\n",
        "num_games = df_games.shape[0]\n",
        "\n",
        "x_win = 0 \n",
        "x_tie = 0 \n",
        "x_loss = 0 \n",
        "\n",
        "for g in range(1, num_games+1): \n",
        "  # go through each game, add up xtreme and opponent goals through two periods \n",
        "  x_goals_through_two = df_goals[(df_goals.game == g) & (df_goals.team == \"a\") & (df_goals.period == 1)].shape[0] + df_goals[(df_goals.game == g) & (df_goals.team == \"a\") & (df_goals.period == 2)].shape[0]\n",
        "  o_goals_through_two = df_goals[(df_goals.game == g) & (df_goals.team == \"o\") & (df_goals.period == 1)].shape[0] + df_goals[(df_goals.game == g) & (df_goals.team == \"o\") & (df_goals.period == 2)].shape[0]\n",
        "  # if behind, get 3rd period and ot score, see if they won the game \n",
        "  if (x_goals_through_two > o_goals_through_two): \n",
        "      # add to counter for when behind \n",
        "      x_goals_3rd_and_ot = df_goals[(df_goals.game == g) & (df_goals.team == \"a\") & (df_goals.period == 3)].shape[0] + df_goals[(df_goals.game == g) & (df_goals.team == \"a\") & (df_goals.period == 4)].shape[0]  \n",
        "      o_goals_3rd_and_ot = df_goals[(df_goals.game == g) & (df_goals.team == \"o\") & (df_goals.period == 3)].shape[0] + df_goals[(df_goals.game == g) & (df_goals.team == \"o\") & (df_goals.period == 4)].shape[0]\n",
        "      # compute final score \n",
        "      x_final = x_goals_through_two + x_goals_3rd_and_ot\n",
        "      o_final = o_goals_through_two + o_goals_3rd_and_ot\n",
        "      if (x_final > o_final):\n",
        "        x_win = x_win + 1\n",
        "      elif (x_final < o_final):\n",
        "        x_loss = x_loss + 1\n",
        "      else: \n",
        "        x_tie = x_tie + 1\n",
        "\n",
        "print(\"<b>\" + str(x_win) + \"-\" + str(x_loss) + \"-\" + str(x_tie) + \"</b> when leading after two periods, \")\n"
      ],
      "execution_count": 10,
      "outputs": [
        {
          "output_type": "stream",
          "text": [
            "<b>5-0-2</b> when leading after two periods, \n"
          ],
          "name": "stdout"
        }
      ]
    },
    {
      "cell_type": "code",
      "metadata": {
        "id": "usOumMeQb9P7",
        "outputId": "229f83e4-8bac-4c2b-afb9-8bf66558a283",
        "colab": {
          "base_uri": "https://localhost:8080/"
        }
      },
      "source": [
        "# calculate how many times the Xtreme have won a game when trailing after two periods \n",
        "\n",
        "num_games = df_games.shape[0]\n",
        "\n",
        "games_trailing = 0 \n",
        "x_win = 0 \n",
        "x_tie = 0 \n",
        "x_loss = 0 \n",
        "\n",
        "for g in range(1, num_games+1): \n",
        "  # go through each game, add up xtreme and opponent goals through two periods \n",
        "  x_goals_through_two = df_goals[(df_goals.game == g) & (df_goals.team == \"a\") & (df_goals.period == 1)].shape[0] + df_goals[(df_goals.game == g) & (df_goals.team == \"a\") & (df_goals.period == 2)].shape[0]\n",
        "  o_goals_through_two = df_goals[(df_goals.game == g) & (df_goals.team == \"o\") & (df_goals.period == 1)].shape[0] + df_goals[(df_goals.game == g) & (df_goals.team == \"o\") & (df_goals.period == 2)].shape[0]\n",
        "  # if behind, get 3rd period and ot score, see if they won the game \n",
        "  if (x_goals_through_two <= o_goals_through_two): \n",
        "      # add to counter for when behind \n",
        "      games_trailing = games_trailing + 1\n",
        "      x_goals_3rd_and_ot = df_goals[(df_goals.game == g) & (df_goals.team == \"a\") & (df_goals.period == 3)].shape[0] + df_goals[(df_goals.game == g) & (df_goals.team == \"a\") & (df_goals.period == 4)].shape[0]  \n",
        "      o_goals_3rd_and_ot = df_goals[(df_goals.game == g) & (df_goals.team == \"o\") & (df_goals.period == 3)].shape[0] + df_goals[(df_goals.game == g) & (df_goals.team == \"o\") & (df_goals.period == 4)].shape[0]\n",
        "      # compute final score \n",
        "      x_final = x_goals_through_two + x_goals_3rd_and_ot\n",
        "      o_final = o_goals_through_two + o_goals_3rd_and_ot\n",
        "      if (x_final > o_final):\n",
        "        x_win = x_win + 1\n",
        "      elif (x_final < o_final):\n",
        "        x_loss = x_loss + 1\n",
        "      else: \n",
        "        x_tie = x_tie + 1\n",
        "\n",
        "print(\"<b>\" + str(x_win) + \"-\" + str(x_loss) + \"-\" + str(x_tie) + \"</b> when trailing or tied after two periods.\")\n"
      ],
      "execution_count": 11,
      "outputs": [
        {
          "output_type": "stream",
          "text": [
            "<b>2-8-0</b> when trailing or tied after two periods.\n"
          ],
          "name": "stdout"
        }
      ]
    },
    {
      "cell_type": "code",
      "metadata": {
        "id": "iFjXF9DuaoXW",
        "outputId": "4c14bdc1-266c-4bd8-d68f-4dce0c8b453a",
        "colab": {
          "base_uri": "https://localhost:8080/",
          "height": 245
        }
      },
      "source": [
        "# calculate shooting percentage (goals / shots on goal)\n",
        "\n",
        "shot_percentage = []\n",
        "\n",
        "for x in range(1,5):\n",
        "  x_goals = df_goals[(df_goals.team == \"a\") & (df_goals.period == x)].shape[0]\n",
        "  period = \"ashburn_p\" + str(x)\n",
        "  if (x == 4):\n",
        "    period = \"ashburn_ot\"\n",
        "\n",
        "  x_shots = df_shots[period].sum()\n",
        "\n",
        "  shot_percentage.append('{0:.0f}'.format(int(x_goals) / int(x_shots) * 100))\n",
        "\n",
        "display = \"Shooting percentage by period: <b>\"\n",
        "\n",
        "for x in range(1,5):\n",
        "  if (x == 1):\n",
        "    period = str(x) + \"st: \" + str(shot_percentage[0]) + \"%, \"\n",
        "  elif (x == 2):\n",
        "    period = str(x) + \"nd: \" + str(shot_percentage[1]) + \"%, \"\n",
        "  elif (x == 3):\n",
        "    period = str(x) + \"rd: \" + str(shot_percentage[2]) + \"%, \"\n",
        "  else:\n",
        "    period = \"OT: \" + str(shot_percentage[3]) + \"%</b>.\"\n",
        "\n",
        "  display = display + period\n",
        "\n",
        "print(display)\n",
        "\n"
      ],
      "execution_count": 12,
      "outputs": [
        {
          "output_type": "error",
          "ename": "ZeroDivisionError",
          "evalue": "ignored",
          "traceback": [
            "\u001b[0;31m---------------------------------------------------------------------------\u001b[0m",
            "\u001b[0;31mZeroDivisionError\u001b[0m                         Traceback (most recent call last)",
            "\u001b[0;32m<ipython-input-12-9b1b78be25f5>\u001b[0m in \u001b[0;36m<module>\u001b[0;34m()\u001b[0m\n\u001b[1;32m     11\u001b[0m   \u001b[0mx_shots\u001b[0m \u001b[0;34m=\u001b[0m \u001b[0mdf_shots\u001b[0m\u001b[0;34m[\u001b[0m\u001b[0mperiod\u001b[0m\u001b[0;34m]\u001b[0m\u001b[0;34m.\u001b[0m\u001b[0msum\u001b[0m\u001b[0;34m(\u001b[0m\u001b[0;34m)\u001b[0m\u001b[0;34m\u001b[0m\u001b[0;34m\u001b[0m\u001b[0m\n\u001b[1;32m     12\u001b[0m \u001b[0;34m\u001b[0m\u001b[0m\n\u001b[0;32m---> 13\u001b[0;31m   \u001b[0mshot_percentage\u001b[0m\u001b[0;34m.\u001b[0m\u001b[0mappend\u001b[0m\u001b[0;34m(\u001b[0m\u001b[0;34m'{0:.0f}'\u001b[0m\u001b[0;34m.\u001b[0m\u001b[0mformat\u001b[0m\u001b[0;34m(\u001b[0m\u001b[0mint\u001b[0m\u001b[0;34m(\u001b[0m\u001b[0mx_goals\u001b[0m\u001b[0;34m)\u001b[0m \u001b[0;34m/\u001b[0m \u001b[0mint\u001b[0m\u001b[0;34m(\u001b[0m\u001b[0mx_shots\u001b[0m\u001b[0;34m)\u001b[0m \u001b[0;34m*\u001b[0m \u001b[0;36m100\u001b[0m\u001b[0;34m)\u001b[0m\u001b[0;34m)\u001b[0m\u001b[0;34m\u001b[0m\u001b[0;34m\u001b[0m\u001b[0m\n\u001b[0m\u001b[1;32m     14\u001b[0m \u001b[0;34m\u001b[0m\u001b[0m\n\u001b[1;32m     15\u001b[0m \u001b[0mdisplay\u001b[0m \u001b[0;34m=\u001b[0m \u001b[0;34m\"Shooting percentage by period: <b>\"\u001b[0m\u001b[0;34m\u001b[0m\u001b[0;34m\u001b[0m\u001b[0m\n",
            "\u001b[0;31mZeroDivisionError\u001b[0m: division by zero"
          ]
        }
      ]
    },
    {
      "cell_type": "code",
      "metadata": {
        "id": "8w4KDN1JZ0c5",
        "outputId": "6802a0c6-31b8-47db-c39b-432c1d95c6d6",
        "colab": {
          "base_uri": "https://localhost:8080/",
          "height": 297
        }
      },
      "source": [
        "# pie chart with time Xtreme is ahead, losing, or tied \n",
        "\n",
        "# psuedo-logic \n",
        "# loop through each game, get period length, loop through goals by period, start with period length - time of next goal\n",
        "# then if tied, winning, or losing add time difference to the total, continue, rinse, repeat\n",
        "num_games = df_games.shape[0]\n",
        "\n",
        "time_leading = datetime.timedelta(minutes=0, seconds=0)\n",
        "time_trailing = datetime.timedelta(minutes=0, seconds=0)\n",
        "time_tied = datetime.timedelta(minutes=0, seconds=0) \n",
        "curr_time = datetime.timedelta(minutes=0, seconds=0) \n",
        "a_score = 0 \n",
        "o_score = 0 \n",
        "\n",
        "# loop through each game\n",
        "for g in range(1, num_games+1):\n",
        "\n",
        "  # reset sores \n",
        "  a_score = 0 \n",
        "  o_score = 0 \n",
        "\n",
        "  # create a temporary dataframe with just that game \n",
        "  df_game_goals = df_goals[(df_goals.game == g)]\n",
        "  \n",
        "  # loop through each period \n",
        "  for p in range(1,5):\n",
        "    # dynmically get period length \n",
        "    period_length = df_periods[(df_periods.game == g)][\"p\" + str(p)+ \"_length\"].iloc[0]\n",
        "    period_time = datetime.timedelta(minutes=int(period_length), seconds=0)\n",
        "    df_period_goals = df_game_goals[(df_game_goals.period == p)] \n",
        "\n",
        "    # init current time to period length \n",
        "    curr_time = period_time\n",
        "\n",
        "    # only proceed if there was any time  in that period (not always an OT game)\n",
        "    if (period_length > 0):\n",
        "      \n",
        "      # get number of goals in the period \n",
        "      num_goals_this_period = df_period_goals.shape[0]\n",
        "\n",
        "      # if no goals scored that period, just add time on\n",
        "      if (num_goals_this_period == 0):\n",
        "        if (a_score == o_score):\n",
        "          time_tied = time_tied + period_time\n",
        "        elif (a_score > o_score):\n",
        "          time_leading = time_leading + period_time\n",
        "        else: \n",
        "          time_trailing = time_trailing + period_time\n",
        "\n",
        "      else:\n",
        "        # track number of goals\n",
        "        goal_counter = 1\n",
        "\n",
        "        # yes, goals that period so iterate over each goal  \n",
        "        for idx in df_period_goals.index:\n",
        "\n",
        "          # get each goal and store time difference from curr_time to time goal scored\n",
        "          xtime = df_period_goals[\"time\"][idx]\n",
        "          [m, s] = [int(x) for x in xtime.split(':')]\n",
        "          time_goal_scored = datetime.timedelta(minutes=m, seconds=s)\n",
        "          time_diff = curr_time - time_goal_scored\n",
        "          curr_time = time_goal_scored \n",
        "\n",
        "          # decide where to assign the time \n",
        "          if (a_score == o_score):\n",
        "            time_tied = time_tied + time_diff\n",
        "          elif (a_score > o_score):\n",
        "            time_leading = time_leading + time_diff\n",
        "          else: \n",
        "            time_trailing = time_trailing + time_diff\n",
        "\n",
        "          # increment the score \n",
        "          if df_period_goals[\"team\"][idx] == \"a\": \n",
        "            a_score = a_score + 1\n",
        "          else: \n",
        "            o_score = o_score + 1\n",
        "\n",
        "          # if this is the last goal, need to add rest of time in the period\n",
        "          # print(num_goals_this_period, goal_counter) \n",
        "          if (goal_counter == num_goals_this_period):\n",
        "            if (a_score == o_score):\n",
        "              time_tied = time_tied + time_goal_scored\n",
        "            elif (a_score > o_score):\n",
        "              time_leading = time_leading + time_goal_scored\n",
        "            else: \n",
        "              time_trailing = time_trailing + time_goal_scored\n",
        "\n",
        "          # increment the counter\n",
        "          goal_counter = goal_counter + 1\n",
        "\n",
        "# pretty up the labels\n",
        "totsec = time_leading.total_seconds()\n",
        "h = '{0:.0f}'.format(totsec // 3600)\n",
        "m = '{0:.0f}'.format((totsec % 3600) // 60)\n",
        "leading_label = str(h) + \" hours, \" + str(m) + \" mins leading\"\n",
        "\n",
        "totsec = time_trailing.total_seconds()\n",
        "h = '{0:.0f}'.format(totsec // 3600)\n",
        "m = '{0:.0f}'.format((totsec % 3600) // 60)\n",
        "trailing_label = str(h) + \" hours, \" + str(m) + \" mins trailing\"\n",
        "\n",
        "totsec = time_tied.total_seconds()\n",
        "h = '{0:.0f}'.format(totsec // 3600)\n",
        "m = '{0:.0f}'.format((totsec % 3600) // 60)\n",
        "tied_label = str(h) + \" hours, \" + str(m) + \" mins tied\"\n",
        "\n",
        "t_values = [time_leading.seconds, time_trailing.seconds, time_tied.seconds]\n",
        "t_labels = [leading_label, trailing_label, tied_label] \n",
        "t_colors = ['#ff0000','#c0c0c0','#000000']\n",
        "\n",
        "fig1, ax1 = plt.subplots()\n",
        "patches, texts = ax1.pie(t_values, colors = t_colors, pctdistance=1.08, startangle=90)\n",
        "\n",
        "# Equal aspect ratio ensures that pie is drawn as a circle\n",
        "plt.legend(patches, t_labels, loc=\"best\") # , bbox_to_anchor=(.85, .9))\n",
        "ax1.axis('equal')  \n",
        "ax1.set_title('Time Leading, Trailing, or Tied')\n",
        "plt.tight_layout()\n",
        "plt.show()\n",
        "\n",
        "\n",
        "\n"
      ],
      "execution_count": 13,
      "outputs": [
        {
          "output_type": "display_data",
          "data": {
            "image/png": "[encoded data removed]",
            "text/plain": [
              "<Figure size 432x288 with 1 Axes>"
            ]
          },
          "metadata": {
            "tags": []
          }
        }
      ]
    },
    {
      "cell_type": "code",
      "metadata": {
        "id": "KCSq4VHobTEc",
        "outputId": "27e2f483-fe04-448c-bf6c-16f1607dcc03",
        "colab": {
          "base_uri": "https://localhost:8080/",
          "height": 333
        }
      },
      "source": [
        "# display goals and assists for each player \n",
        "\n",
        "# get data\n",
        "x = df_player_stats[\"G\"]\n",
        "y = df_player_stats[\"A\"]\n",
        "n = df_player_stats[\"Player\"]\n",
        "colors = (0,0,0)\n",
        "area = np.pi * 3\n",
        "\n",
        "#ycol = [1,2,3,4,5,6,7,8,9,10,11,12]\n",
        "\n",
        "# Plot\n",
        "plt.scatter(x.values, y.values, s=area, c=colors, alpha=0.5)\n",
        "plt.title('Player Goals and Assists')\n",
        "#plt.yticks(ycol)\n",
        "plt.xlabel('Goals')\n",
        "plt.ylabel('Assists')\n",
        "\n",
        "for x, y, n in zip(x, y, n):\n",
        "    plt.text(x, y, str('{0:.0f}'.format(n)), color=\"black\", fontsize=12)\n",
        "\n",
        "plt.show()\n"
      ],
      "execution_count": 14,
      "outputs": [
        {
          "output_type": "stream",
          "text": [
            "*c* argument looks like a single numeric RGB or RGBA sequence, which should be avoided as value-mapping will have precedence in case its length matches with *x* & *y*.  Please use the *color* keyword-argument or provide a 2-D array with a single row if you intend to specify the same RGB or RGBA value for all points.\n"
          ],
          "name": "stderr"
        },
        {
          "output_type": "display_data",
          "data": {
            "image/png": "[encoded data removed]",
            "text/plain": [
              "<Figure size 432x288 with 1 Axes>"
            ]
          },
          "metadata": {
            "tags": [],
            "needs_background": "light"
          }
        }
      ]
    },
    {
      "cell_type": "code",
      "metadata": {
        "id": "8JFV1R2QcdN_",
        "outputId": "8f4ce422-dd1d-4369-b383-ad46a43bdd1f",
        "colab": {
          "base_uri": "https://localhost:8080/",
          "height": 503
        }
      },
      "source": [
        "# side-by-side bar charts with goals in each game\n",
        "\n",
        "# create an empty dataframe\n",
        "dfx = pd.DataFrame(columns=[\"clubs\", \"times\",\t\"x_goals\",\t\"o_goals\",])\n",
        "\n",
        "# get all the unique opponents \n",
        "df_games.sort_values(\"opp\", inplace=True, ascending=False)\n",
        "arr = df_games[\"opp\"].unique()\n",
        "\n",
        "# loop through \n",
        "for o in arr:\n",
        "  c = df_games[(df_games.opp == o)].count().iloc[0]\n",
        "  axg = df_games[(df_games.opp == o)].axscore.sum()\n",
        "  opg = df_games[(df_games.opp == o)].oppscore.sum()\n",
        "  dfx = dfx.append({'clubs': o + \": \" + str(c) + \" game(s)\", 'times': c, 'x_goals': axg, 'o_goals': opg}, ignore_index=True)  \n",
        "\n",
        "dfx.sort_values(by=['times'], ascending=True, inplace=True)\n",
        "\n",
        "y = np.arange(dfx[\"times\"].size)\n",
        "\n",
        "# extend the size so there's some whitespace to show totals\n",
        "xtick = range(1, (dfx[\"x_goals\"].max() + 10))\n",
        "\n",
        "# generate two axes\n",
        "fig, axes = plt.subplots(ncols=2, sharey=True)\n",
        "\n",
        "# xtreme \n",
        "axes[0].barh(y, dfx[\"x_goals\"], align='center', color='black', zorder=10)\n",
        "axes[0].set(title=\"Xtreme Goals\")\n",
        "axes[0].invert_xaxis()\n",
        "axes[0].set(yticks=y, yticklabels=dfx[\"clubs\"])\n",
        "axes[0].yaxis.tick_left()\n",
        "axes[0].set_xticks(xtick,xtick)\n",
        "\n",
        "for i, v in enumerate(dfx[\"x_goals\"]):\n",
        "    axes[0].text(v + 4, i - .25, str(v), color='black')\n",
        "\n",
        "# opponent\n",
        "axes[1].barh(y, dfx[\"o_goals\"], align='center', color='#fb8072', zorder=10)\n",
        "axes[1].set(title=\"Opponent Goals\")\n",
        "axes[1].set_xticks(xtick,xtick)\n",
        "\n",
        "for i, v in enumerate(dfx[\"o_goals\"]):\n",
        "    axes[1].text(v + 2, i - .25, str(v), color='#fb8072')\n",
        "\n",
        "fig.tight_layout()\n",
        "fig.subplots_adjust(wspace=0.01)\n",
        "fig.set_size_inches(8, 5)\n",
        "\n",
        "plt.show()\n"
      ],
      "execution_count": 15,
      "outputs": [
        {
          "output_type": "stream",
          "text": [
            "/usr/local/lib/python3.6/dist-packages/ipykernel_launcher.py:33: MatplotlibDeprecationWarning:\n",
            "\n",
            "Passing the minor parameter of set_xticks() positionally is deprecated since Matplotlib 3.2; the parameter will become keyword-only two minor releases later.\n",
            "\n",
            "/usr/local/lib/python3.6/dist-packages/ipykernel_launcher.py:41: MatplotlibDeprecationWarning:\n",
            "\n",
            "Passing the minor parameter of set_xticks() positionally is deprecated since Matplotlib 3.2; the parameter will become keyword-only two minor releases later.\n",
            "\n"
          ],
          "name": "stderr"
        },
        {
          "output_type": "display_data",
          "data": {
            "image/png": "[encoded data removed]",
            "text/plain": [
              "<Figure size 576x360 with 2 Axes>"
            ]
          },
          "metadata": {
            "tags": [],
            "needs_background": "light"
          }
        }
      ]
    },
    {
      "cell_type": "code",
      "metadata": {
        "id": "vOP6_WN3E1ZF",
        "outputId": "371c04f0-c47e-4a96-bf93-6ba3c1c943a3",
        "colab": {
          "base_uri": "https://localhost:8080/",
          "height": 415
        }
      },
      "source": [
        "import numpy as np\n",
        "\n",
        "import matplotlib.pyplot as plt\n",
        "from matplotlib.patches import Circle, RegularPolygon\n",
        "from matplotlib.path import Path\n",
        "from matplotlib.projections.polar import PolarAxes\n",
        "from matplotlib.projections import register_projection\n",
        "from matplotlib.spines import Spine\n",
        "from matplotlib.transforms import Affine2D\n",
        "\n",
        "\n",
        "def radar_factory(num_vars, frame='circle'):\n",
        "    \"\"\"Create a radar chart with `num_vars` axes.\n",
        "\n",
        "    This function creates a RadarAxes projection and registers it.\n",
        "\n",
        "    Parameters\n",
        "    ----------\n",
        "    num_vars : int\n",
        "        Number of variables for radar chart.\n",
        "    frame : {'circle' | 'polygon'}\n",
        "        Shape of frame surrounding axes.\n",
        "\n",
        "    \"\"\"\n",
        "    # calculate evenly-spaced axis angles\n",
        "    theta = np.linspace(0, 2*np.pi, num_vars, endpoint=False)\n",
        "\n",
        "    class RadarAxes(PolarAxes):\n",
        "\n",
        "        name = 'radar'\n",
        "\n",
        "        def __init__(self, *args, **kwargs):\n",
        "            super().__init__(*args, **kwargs)\n",
        "            # rotate plot such that the first axis is at the top\n",
        "            self.set_theta_zero_location('N')\n",
        "\n",
        "        def fill(self, *args, closed=True, **kwargs):\n",
        "            \"\"\"Override fill so that line is closed by default\"\"\"\n",
        "            return super().fill(closed=closed, *args, **kwargs)\n",
        "\n",
        "        def plot(self, *args, **kwargs):\n",
        "            \"\"\"Override plot so that line is closed by default\"\"\"\n",
        "            lines = super().plot(*args, **kwargs)\n",
        "            for line in lines:\n",
        "                self._close_line(line)\n",
        "\n",
        "        def _close_line(self, line):\n",
        "            x, y = line.get_data()\n",
        "            # FIXME: markers at x[0], y[0] get doubled-up\n",
        "            if x[0] != x[-1]:\n",
        "                x = np.concatenate((x, [x[0]]))\n",
        "                y = np.concatenate((y, [y[0]]))\n",
        "                line.set_data(x, y)\n",
        "\n",
        "        def set_varlabels(self, labels):\n",
        "            self.set_thetagrids(np.degrees(theta), labels)\n",
        "\n",
        "        def _gen_axes_patch(self):\n",
        "            # The Axes patch must be centered at (0.5, 0.5) and of radius 0.5\n",
        "            # in axes coordinates.\n",
        "            if frame == 'circle':\n",
        "                return Circle((0.5, 0.5), 0.5)\n",
        "            elif frame == 'polygon':\n",
        "                return RegularPolygon((0.5, 0.5), num_vars,\n",
        "                                      radius=.5, edgecolor=\"k\")\n",
        "            else:\n",
        "                raise ValueError(\"unknown value for 'frame': %s\" % frame)\n",
        "\n",
        "        def draw(self, renderer):\n",
        "            \"\"\" Draw. If frame is polygon, make gridlines polygon-shaped \"\"\"\n",
        "            if frame == 'polygon':\n",
        "                gridlines = self.yaxis.get_gridlines()\n",
        "                for gl in gridlines:\n",
        "                    gl.get_path()._interpolation_steps = num_vars\n",
        "            super().draw(renderer)\n",
        "\n",
        "\n",
        "        def _gen_axes_spines(self):\n",
        "            if frame == 'circle':\n",
        "                return super()._gen_axes_spines()\n",
        "            elif frame == 'polygon':\n",
        "                # spine_type must be 'left'/'right'/'top'/'bottom'/'circle'.\n",
        "                spine = Spine(axes=self,\n",
        "                              spine_type='circle',\n",
        "                              path=Path.unit_regular_polygon(num_vars))\n",
        "                # unit_regular_polygon gives a polygon of radius 1 centered at\n",
        "                # (0, 0) but we want a polygon of radius 0.5 centered at (0.5,\n",
        "                # 0.5) in axes coordinates.\n",
        "                spine.set_transform(Affine2D().scale(.5).translate(.5, .5)\n",
        "                                    + self.transAxes)\n",
        "\n",
        "\n",
        "                return {'polar': spine}\n",
        "            else:\n",
        "                raise ValueError(\"unknown value for 'frame': %s\" % frame)\n",
        "\n",
        "    register_projection(RadarAxes)\n",
        "    return theta\n",
        "\n",
        "\n",
        "data = [['Goals', 'Assists', 'PIM'],\n",
        "        ('Players', [\n",
        "            [5, 2, 2],\n",
        "            [8, 1, 4],\n",
        "            [3, 2, 8],\n",
        "            [0, 2, 8],\n",
        "            [0, 3, 6]])]\n",
        "\n",
        "N = len(data[0])\n",
        "theta = radar_factory(N, frame='polygon')\n",
        "\n",
        "spoke_labels = data.pop(0)\n",
        "title, case_data = data[0]\n",
        "\n",
        "fig, ax = plt.subplots(figsize=(6, 6), subplot_kw=dict(projection='radar'))\n",
        "fig.subplots_adjust(top=0.85, bottom=0.05)\n",
        "\n",
        "ax.set_rgrids([2, 4, 6, 8, 10, 12, 14, 16])\n",
        "ax.set_title(title,  position=(0.5, 1.1), ha='center')\n",
        "\n",
        "for d in case_data:\n",
        "    line = ax.plot(theta, d)\n",
        "    ax.fill(theta, d,  alpha=0.25)\n",
        "ax.set_varlabels(spoke_labels)\n",
        "\n",
        "plt.show()"
      ],
      "execution_count": null,
      "outputs": [
        {
          "output_type": "display_data",
          "data": {
            "image/png": "[encoded data removed]",
            "text/plain": [
              "<Figure size 432x432 with 1 Axes>"
            ]
          },
          "metadata": {
            "tags": [],
            "needs_background": "light"
          }
        }
      ]
    },
    {
      "cell_type": "code",
      "metadata": {
        "id": "FWXzFlZsIgDA",
        "outputId": "039f168f-8791-4161-efb4-9cab44708801",
        "colab": {
          "base_uri": "https://localhost:8080/",
          "height": 860
        }
      },
      "source": [
        "p = df_player_stats[\"Player\"].values.tolist()\n",
        "g = df_player_stats[\"G\"].values.tolist()\n",
        "\n",
        "#create the color_series for the rosechart\n",
        "color_series = [\"#802200\",\"#B33000\",\"#FF4500\",\"#FAA327\",\"#9ECB3C\",\n",
        " \"#6DBC49\",\"#37B44E\",\"#14ADCF\",\"#209AC9\",\"#1E91CA\",\n",
        " \"#2C6BA0\",\"#2B55A1\",\"#2D3D8E\",\"#44388E\",\"#6A368B\",\n",
        " \"#D02C2A\",\"#D44C2D\",\"#F57A34\",\"#FA8F2F\",\"#D99D21\"]\n",
        "rosechart = Pie(init_opts=opt.InitOpts(width='1350px', height='750px'))\n",
        "# set the color\n",
        "rosechart.set_colors(color_series)\n",
        "# add the data to the rosechart\n",
        "rosechart.add(\"\", [list(z) for z in zip(p, g)],\n",
        "        radius=[\"20%\", \"95%\"],  # 20% inside radius，95% ourside radius\n",
        "        center=[\"30%\", \"60%\"],   # center of the chart\n",
        "        rosetype=\"area\")\n",
        "# set the global options for the chart\n",
        "rosechart.set_global_opts(title_opts=opt.TitleOpts(title=\"Goals by Player\"),\n",
        "                     legend_opts=opt.LegendOpts(is_show=False),\n",
        "                     toolbox_opts=opt.ToolboxOpts())\n",
        "# set the series options\n",
        "rosechart.set_series_opts(label_opts=opt.LabelOpts(is_show=True, position=\"inside\", font_size=12,formatter=\"{b}:{c}%\", font_style=\"italic\",font_weight=\"bold\", font_family=\"Century\"),)\n",
        "rosechart.render_notebook()"
      ],
      "execution_count": null,
      "outputs": [
        {
          "output_type": "stream",
          "text": [
            "/usr/local/lib/python3.6/dist-packages/pyecharts/charts/chart.py:14: PendingDeprecationWarning:\n",
            "\n",
            "pyecharts 所有图表类型将在 v1.9.0 版本开始强制使用 ChartItem 进行数据项配置 :)\n",
            "\n"
          ],
          "name": "stderr"
        },
        {
          "output_type": "execute_result",
          "data": {
            "text/html": [
              "\n",
              "<script>\n",
              "    require.config({\n",
              "        paths: {\n",
              "            'echarts':'https://assets.pyecharts.org/assets/echarts.min'\n",
              "        }\n",
              "    });\n",
              "</script>\n",
              "\n",
              "        <div id=\"16fbf54df6b54061b40f1442f6f62b8d\" style=\"width:1350px; height:750px;\"></div>\n",
              "\n",
              "<script>\n",
              "        require(['echarts'], function(echarts) {\n",
              "                var chart_16fbf54df6b54061b40f1442f6f62b8d = echarts.init(\n",
              "                    document.getElementById('16fbf54df6b54061b40f1442f6f62b8d'), 'white', {renderer: 'canvas'});\n",
              "                var option_16fbf54df6b54061b40f1442f6f62b8d = {\n",
              "    \"animation\": true,\n",
              "    \"animationThreshold\": 2000,\n",
              "    \"animationDuration\": 1000,\n",
              "    \"animationEasing\": \"cubicOut\",\n",
              "    \"animationDelay\": 0,\n",
              "    \"animationDurationUpdate\": 300,\n",
              "    \"animationEasingUpdate\": \"cubicOut\",\n",
              "    \"animationDelayUpdate\": 0,\n",
              "    \"color\": [\n",
              "        \"#802200\",\n",
              "        \"#B33000\",\n",
              "        \"#FF4500\",\n",
              "        \"#FAA327\",\n",
              "        \"#9ECB3C\",\n",
              "        \"#6DBC49\",\n",
              "        \"#37B44E\",\n",
              "        \"#14ADCF\",\n",
              "        \"#209AC9\",\n",
              "        \"#1E91CA\",\n",
              "        \"#2C6BA0\",\n",
              "        \"#2B55A1\",\n",
              "        \"#2D3D8E\",\n",
              "        \"#44388E\",\n",
              "        \"#6A368B\",\n",
              "        \"#D02C2A\",\n",
              "        \"#D44C2D\",\n",
              "        \"#F57A34\",\n",
              "        \"#FA8F2F\",\n",
              "        \"#D99D21\"\n",
              "    ],\n",
              "    \"series\": [\n",
              "        {\n",
              "            \"type\": \"pie\",\n",
              "            \"clockwise\": true,\n",
              "            \"data\": [\n",
              "                {\n",
              "                    \"name\": 4,\n",
              "                    \"value\": 5\n",
              "                },\n",
              "                {\n",
              "                    \"name\": 9,\n",
              "                    \"value\": 8\n",
              "                },\n",
              "                {\n",
              "                    \"name\": 12,\n",
              "                    \"value\": 3\n",
              "                },\n",
              "                {\n",
              "                    \"name\": 14,\n",
              "                    \"value\": 0\n",
              "                },\n",
              "                {\n",
              "                    \"name\": 15,\n",
              "                    \"value\": 0\n",
              "                },\n",
              "                {\n",
              "                    \"name\": 20,\n",
              "                    \"value\": 0\n",
              "                },\n",
              "                {\n",
              "                    \"name\": 24,\n",
              "                    \"value\": 0\n",
              "                },\n",
              "                {\n",
              "                    \"name\": 32,\n",
              "                    \"value\": 3\n",
              "                },\n",
              "                {\n",
              "                    \"name\": 34,\n",
              "                    \"value\": 13\n",
              "                },\n",
              "                {\n",
              "                    \"name\": 37,\n",
              "                    \"value\": 4\n",
              "                },\n",
              "                {\n",
              "                    \"name\": 50,\n",
              "                    \"value\": 5\n",
              "                },\n",
              "                {\n",
              "                    \"name\": 87,\n",
              "                    \"value\": 4\n",
              "                },\n",
              "                {\n",
              "                    \"name\": 29,\n",
              "                    \"value\": 0\n",
              "                }\n",
              "            ],\n",
              "            \"radius\": [\n",
              "                \"20%\",\n",
              "                \"95%\"\n",
              "            ],\n",
              "            \"center\": [\n",
              "                \"30%\",\n",
              "                \"60%\"\n",
              "            ],\n",
              "            \"roseType\": \"area\",\n",
              "            \"label\": {\n",
              "                \"show\": true,\n",
              "                \"position\": \"inside\",\n",
              "                \"margin\": 8,\n",
              "                \"fontSize\": 12,\n",
              "                \"fontStyle\": \"italic\",\n",
              "                \"fontWeight\": \"bold\",\n",
              "                \"fontFamily\": \"Century\",\n",
              "                \"formatter\": \"{b}:{c}%\"\n",
              "            },\n",
              "            \"rippleEffect\": {\n",
              "                \"show\": true,\n",
              "                \"brushType\": \"stroke\",\n",
              "                \"scale\": 2.5,\n",
              "                \"period\": 4\n",
              "            }\n",
              "        }\n",
              "    ],\n",
              "    \"legend\": [\n",
              "        {\n",
              "            \"data\": [\n",
              "                4,\n",
              "                9,\n",
              "                12,\n",
              "                14,\n",
              "                15,\n",
              "                20,\n",
              "                24,\n",
              "                32,\n",
              "                34,\n",
              "                37,\n",
              "                50,\n",
              "                87,\n",
              "                29\n",
              "            ],\n",
              "            \"selected\": {},\n",
              "            \"show\": false,\n",
              "            \"padding\": 5,\n",
              "            \"itemGap\": 10,\n",
              "            \"itemWidth\": 25,\n",
              "            \"itemHeight\": 14\n",
              "        }\n",
              "    ],\n",
              "    \"tooltip\": {\n",
              "        \"show\": true,\n",
              "        \"trigger\": \"item\",\n",
              "        \"triggerOn\": \"mousemove|click\",\n",
              "        \"axisPointer\": {\n",
              "            \"type\": \"line\"\n",
              "        },\n",
              "        \"showContent\": true,\n",
              "        \"alwaysShowContent\": false,\n",
              "        \"showDelay\": 0,\n",
              "        \"hideDelay\": 100,\n",
              "        \"textStyle\": {\n",
              "            \"fontSize\": 14\n",
              "        },\n",
              "        \"borderWidth\": 0,\n",
              "        \"padding\": 5\n",
              "    },\n",
              "    \"title\": [\n",
              "        {\n",
              "            \"text\": \"Goals by Player\",\n",
              "            \"padding\": 5,\n",
              "            \"itemGap\": 10\n",
              "        }\n",
              "    ],\n",
              "    \"toolbox\": {\n",
              "        \"show\": true,\n",
              "        \"orient\": \"horizontal\",\n",
              "        \"itemSize\": 15,\n",
              "        \"itemGap\": 10,\n",
              "        \"left\": \"80%\",\n",
              "        \"feature\": {\n",
              "            \"saveAsImage\": {\n",
              "                \"type\": \"png\",\n",
              "                \"backgroundColor\": \"auto\",\n",
              "                \"connectedBackgroundColor\": \"#fff\",\n",
              "                \"show\": true,\n",
              "                \"title\": \"\\u4fdd\\u5b58\\u4e3a\\u56fe\\u7247\",\n",
              "                \"pixelRatio\": 1\n",
              "            },\n",
              "            \"restore\": {\n",
              "                \"show\": true,\n",
              "                \"title\": \"\\u8fd8\\u539f\"\n",
              "            },\n",
              "            \"dataView\": {\n",
              "                \"show\": true,\n",
              "                \"title\": \"\\u6570\\u636e\\u89c6\\u56fe\",\n",
              "                \"readOnly\": false,\n",
              "                \"lang\": [\n",
              "                    \"\\u6570\\u636e\\u89c6\\u56fe\",\n",
              "                    \"\\u5173\\u95ed\",\n",
              "                    \"\\u5237\\u65b0\"\n",
              "                ],\n",
              "                \"backgroundColor\": \"#fff\",\n",
              "                \"textareaColor\": \"#fff\",\n",
              "                \"textareaBorderColor\": \"#333\",\n",
              "                \"textColor\": \"#000\",\n",
              "                \"buttonColor\": \"#c23531\",\n",
              "                \"buttonTextColor\": \"#fff\"\n",
              "            },\n",
              "            \"dataZoom\": {\n",
              "                \"show\": true,\n",
              "                \"title\": {\n",
              "                    \"zoom\": \"\\u533a\\u57df\\u7f29\\u653e\",\n",
              "                    \"back\": \"\\u533a\\u57df\\u7f29\\u653e\\u8fd8\\u539f\"\n",
              "                },\n",
              "                \"icon\": {},\n",
              "                \"xAxisIndex\": false,\n",
              "                \"yAxisIndex\": false,\n",
              "                \"filterMode\": \"filter\"\n",
              "            },\n",
              "            \"magicType\": {\n",
              "                \"show\": true,\n",
              "                \"type\": [\n",
              "                    \"line\",\n",
              "                    \"bar\",\n",
              "                    \"stack\",\n",
              "                    \"tiled\"\n",
              "                ],\n",
              "                \"title\": {\n",
              "                    \"line\": \"\\u5207\\u6362\\u4e3a\\u6298\\u7ebf\\u56fe\",\n",
              "                    \"bar\": \"\\u5207\\u6362\\u4e3a\\u67f1\\u72b6\\u56fe\",\n",
              "                    \"stack\": \"\\u5207\\u6362\\u4e3a\\u5806\\u53e0\",\n",
              "                    \"tiled\": \"\\u5207\\u6362\\u4e3a\\u5e73\\u94fa\"\n",
              "                },\n",
              "                \"icon\": {}\n",
              "            },\n",
              "            \"brush\": {\n",
              "                \"icon\": {},\n",
              "                \"title\": {\n",
              "                    \"rect\": \"\\u77e9\\u5f62\\u9009\\u62e9\",\n",
              "                    \"polygon\": \"\\u5708\\u9009\",\n",
              "                    \"lineX\": \"\\u6a2a\\u5411\\u9009\\u62e9\",\n",
              "                    \"lineY\": \"\\u7eb5\\u5411\\u9009\\u62e9\",\n",
              "                    \"keep\": \"\\u4fdd\\u6301\\u9009\\u62e9\",\n",
              "                    \"clear\": \"\\u6e05\\u9664\\u9009\\u62e9\"\n",
              "                }\n",
              "            }\n",
              "        }\n",
              "    }\n",
              "};\n",
              "                chart_16fbf54df6b54061b40f1442f6f62b8d.setOption(option_16fbf54df6b54061b40f1442f6f62b8d);\n",
              "        });\n",
              "    </script>\n"
            ],
            "text/plain": [
              "<pyecharts.render.display.HTML at 0x7febaff6e2e8>"
            ]
          },
          "metadata": {
            "tags": []
          },
          "execution_count": 27
        }
      ]
    },
    {
      "cell_type": "code",
      "metadata": {
        "id": "ez_Fx8FoTDE2",
        "outputId": "14be5694-4115-4f4c-df5c-395564e508bc",
        "colab": {
          "base_uri": "https://localhost:8080/"
        }
      },
      "source": [
        "# what is record in second game of a two-game day? \n",
        "\n",
        "# values\n",
        "x_win = 0 \n",
        "x_loss = 0\n",
        "x_tie = 0 \n",
        "\n",
        "# get all the unique dates \n",
        "arr = df_games[\"date\"].unique()\n",
        "\n",
        "# sort by games (ascending)\n",
        "df_games.sort_values(by=['game'], inplace=True)\n",
        "\n",
        "# go through each day, find days with two games \n",
        "for d in arr:\n",
        "  count = df_games[(df_games.date == d)].shape[0]\n",
        "  if (count > 1):\n",
        "    #print(df_games[(df_games.date == d)])\n",
        "    series = df_games[(df_games.date == d)].iloc[1:,5:7]\n",
        "    ax_score = series.values[0,0]\n",
        "    op_score = series.values[0,1]\n",
        "    if (ax_score > op_score):\n",
        "      x_win = x_win + 1\n",
        "    elif (ax_score < op_score):\n",
        "      x_loss = x_loss + 1\n",
        "    else: \n",
        "      x_tie = x_tie + 1\n",
        "\n",
        "    #series = df_games[(df_games.date == d)].iloc[1:,5:7]\n",
        "    #print(df_games[(df_games.date == d)])\n",
        "    #print(series)\n",
        "\n",
        "# track w-l-t for the second game \n",
        "print(\"<b>\" + str(x_win) + \"-\" + str(x_loss) + \"-\" + str(x_tie) + \"</b> in the second game when playing two games on the same day.\")\n",
        "\n"
      ],
      "execution_count": 16,
      "outputs": [
        {
          "output_type": "stream",
          "text": [
            "<b>2-4-0</b> in the second game when playing two games on the same day.\n"
          ],
          "name": "stdout"
        }
      ]
    },
    {
      "cell_type": "code",
      "metadata": {
        "id": "-ZFw9U7xTUXw",
        "outputId": "2aee8af4-e41e-4cac-97b3-67718900894b",
        "colab": {
          "base_uri": "https://localhost:8080/",
          "height": 399
        }
      },
      "source": [
        "# create a new data frame with totals\n",
        "dfx = pd.DataFrame(columns=[\"game\",\t\"goals\",\t\"shots\", \"location\", \"league\", \"goalie\"])\n",
        "\n",
        "# all games \n",
        "games = df_games.game\n",
        "\n",
        "# loop through those games to pull out opponent shots and total up \n",
        "for g in games: \n",
        "  location = df_games[df_games.game == g].iloc[0,4]\n",
        "  league = df_games[df_games.game == g].iloc[0,8]\n",
        "  goalie = df_games[df_games.game == g].iloc[0,7]\n",
        "  goals = df_games[df_games.game == g].axscore.iloc[0]\n",
        "  shots = df_shots[df_shots.game == g].ashburn_p1.iloc[0] + df_shots[df_shots.game == g].ashburn_p2.iloc[0] + df_shots[df_shots.game == g].ashburn_p3.iloc[0] + df_shots[df_shots.game == g].ashburn_ot.iloc[0]\n",
        "  dfx = dfx.append({'game': g, 'goals': float(goals), 'shots': float(shots), 'location': location, 'league': league, 'goalie': goalie} , ignore_index=True)  \n",
        "\n",
        "graph = sns.lmplot(x='shots', y='goals', hue='league', data=dfx, fit_reg=False, legend_out=True)\n",
        "ax = sns.regplot(x='shots', y='goals', data=dfx, scatter=False) \n",
        "\n",
        "ax.spines['right'].set_visible(False)\n",
        "ax.spines['top'].set_visible(False)\n",
        "ax.set_title('Xtreme Goals Linear Regression Plot')\n",
        "\n",
        "for axis in [ax.xaxis, ax.yaxis]:\n",
        "    axis.set_major_locator(ticker.MaxNLocator(integer=True))\n",
        "\n",
        "# title\n",
        "new_title = 'Game Type'\n",
        "graph._legend.set_title(new_title)\n",
        "graph._legend.set_bbox_to_anchor((1.2, .9))\n",
        "# replace labels\n",
        "new_labels = ['Exhibition', 'Nashville', 'EJEPL']\n",
        "for t, l in zip(graph._legend.texts, new_labels): \n",
        "  t.set_text(l)\n",
        "\n"
      ],
      "execution_count": 18,
      "outputs": [
        {
          "output_type": "display_data",
          "data": {
            "image/png": "[encoded data removed]",
            "text/plain": [
              "<Figure size 402.125x360 with 1 Axes>"
            ]
          },
          "metadata": {
            "tags": [],
            "needs_background": "light"
          }
        }
      ]
    },
    {
      "cell_type": "code",
      "metadata": {
        "id": "zAc-iBaFxbfZ"
      },
      "source": [
        "# NO LONGER USED # \n",
        "# create a motion chart showing goals/assists by player over the games\n",
        "\n",
        "# roundup function for chart max\n",
        "def roundup(x):\n",
        "    return int(math.ceil(x / 10.0)) * 10\n",
        "\n",
        "# create an empty data frame\n",
        "dfmc = pd.DataFrame(columns=[\"player\",\t\"game\", \"goals\",\t\"assists\",])\n",
        "\n",
        "# get a list of players\n",
        "players = df_goals_assists.player.unique()\n",
        "\n",
        "# get number of games\n",
        "num_games = df_games.shape[0]\n",
        "\n",
        "# loop through each player\n",
        "for p in players:\n",
        "\n",
        "  # insert an initial row for the first week as baseline\n",
        "  goals = df_goals_assists[(df_goals_assists.player == p) & (df_goals_assists.game == 1)].goals.iloc[0]\n",
        "  if math.isnan(goals):\n",
        "    goals = 0\n",
        "  assists = df_goals_assists[(df_goals_assists.player == p) & (df_goals_assists.game == 1)].assists.iloc[0]\n",
        "  if math.isnan(assists):\n",
        "    assists = 0\n",
        "  dfmc = dfmc.append({'player': '{0:.0f}'.format(p), 'game': 1, 'goals': goals, 'assists': assists} , ignore_index=True)  \n",
        "\n",
        "  # loop through each game\n",
        "  for g in range(2, num_games+1):\n",
        "    # save current goals/assists to last week \n",
        "    last_week_goals = goals\n",
        "    last_week_assists = assists\n",
        "\n",
        "    # for each subsequent week, the total is this week (g) plus last week \n",
        "    goals = df_goals_assists[(df_goals_assists.player == p) & (df_goals_assists.game == g)].goals.iloc[0] \n",
        "    if not math.isnan(goals):\n",
        "      goals = goals + last_week_goals\n",
        "    else:\n",
        "      goals = last_week_goals\n",
        "    assists = df_goals_assists[(df_goals_assists.player == p) & (df_goals_assists.game == g)].assists.iloc[0] \n",
        "    if not math.isnan(assists):\n",
        "      assists = assists + last_week_assists\n",
        "    else:\n",
        "      assists = last_week_assists\n",
        "    dfmc = dfmc.append({'player': '{0:.0f}'.format(p), 'game': g, 'goals': goals, 'assists': assists} , ignore_index=True)  \n",
        "\n",
        "# figure out max goals and assists \n",
        "max_goals = roundup(dfmc[\"goals\"].max())\n",
        "max_assists = roundup(dfmc[\"assists\"].max())\n",
        "\n",
        "px.scatter(dfmc, x=\"goals\", y=\"assists\", animation_frame=\"game\", animation_group=\"player\",\n",
        "           color=\"player\", hover_name=\"player\",\n",
        "           log_x=False, range_x=[0,max_goals], range_y=[0,max_assists])\n",
        "\n",
        "\n"
      ],
      "execution_count": null,
      "outputs": []
    }
  ]
}