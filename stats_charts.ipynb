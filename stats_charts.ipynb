{
  "nbformat": 4,
  "nbformat_minor": 0,
  "metadata": {
    "colab": {
      "name": "stats_charts.ipynb",
      "provenance": [],
      "collapsed_sections": []
    },
    "kernelspec": {
      "name": "python3",
      "display_name": "Python 3"
    }
  },
  "cells": [
    {
      "cell_type": "code",
      "metadata": {
        "id": "oSYr4M7YPgQl",
        "colab_type": "code",
        "colab": {
          "base_uri": "https://localhost:8080/",
          "height": 51
        },
        "outputId": "2d6eb61d-0a15-4382-8b5d-8c10f7ade0cc"
      },
      "source": [
        "# libraries used\n",
        "\n",
        "import pandas as pd \n",
        "import numpy as np\n",
        "import matplotlib.pyplot as plt\n",
        "import plotly.graph_objects as go\n",
        "\n",
        "%matplotlib inline\n",
        "\n",
        "# needed for treemap graphic\n",
        "!pip install squarify \n",
        "import squarify\n",
        "\n",
        "print(\"loaded libraries\")"
      ],
      "execution_count": 33,
      "outputs": [
        {
          "output_type": "stream",
          "text": [
            "Requirement already satisfied: squarify in /usr/local/lib/python3.6/dist-packages (0.4.3)\n",
            "loaded libraries\n"
          ],
          "name": "stdout"
        }
      ]
    },
    {
      "cell_type": "code",
      "metadata": {
        "id": "mr9DTGOXM1NR",
        "colab_type": "code",
        "colab": {
          "base_uri": "https://localhost:8080/",
          "height": 34
        },
        "outputId": "e679248d-011b-4569-b63d-eece3e4c4d29"
      },
      "source": [
        "# load up csv files\n",
        "\n",
        "github_url = \"https://raw.githubusercontent.com/werntzp/hockey-stats/master/\"\n",
        "\n",
        "df_shots = pd.read_csv(github_url + \"shots.csv\") \n",
        "df_goals = pd.read_csv(github_url + \"goals.csv\") \n",
        "df_penalties = pd.read_csv(github_url + \"penalties.csv\") \n",
        "\n",
        "print(\"loaded csv files\")"
      ],
      "execution_count": 35,
      "outputs": [
        {
          "output_type": "stream",
          "text": [
            "loaded csv files\n"
          ],
          "name": "stdout"
        }
      ]
    },
    {
      "cell_type": "code",
      "metadata": {
        "id": "MwwjyVzO6Ehd",
        "colab_type": "code",
        "outputId": "df30a011-9a67-421b-a568-ae8957555b26",
        "colab": {
          "base_uri": "https://localhost:8080/",
          "height": 281
        }
      },
      "source": [
        "# stacked bar chart showing Xtreme goals/shots by period\n",
        "\n",
        "p1g = df_goals[(df_goals.team == \"a\") & (df_goals.period == 1)].shape[0]\n",
        "p2g = df_goals[(df_goals.team == \"a\") & (df_goals.period == 2)].shape[0]\n",
        "p3g = df_goals[(df_goals.team == \"a\") & (df_goals.period == 3)].shape[0]\n",
        "p1s = df_shots['ashburn_p1'].sum()\n",
        "p2s = df_shots['ashburn_p2'].sum()\n",
        "p3s = df_shots['ashburn_p3'].sum()\n",
        "\n",
        "N = 3\n",
        "goals = (p1g, p2g, p3g)\n",
        "shots = (p1s, p2s, p3s)\n",
        "ind = np.arange(N)    # the x locations for the groups\n",
        "width = 0.35       # the width of the bars: can also be len(x) sequence\n",
        "\n",
        "p1 = plt.bar(ind, goals, width, color='red')\n",
        "p2 = plt.bar(ind, shots, width, bottom=goals, color='grey')\n",
        "\n",
        "plt.title('Xtreme Goals and Shot by Period')\n",
        "plt.xticks(ind, ('1', '2', '3'))\n",
        "plt.yticks(np.arange(0, 150, 10))\n",
        "plt.legend((p1[0], p2[0]), ('Goals', 'Shots'))\n",
        "\n",
        "plt.show()"
      ],
      "execution_count": 12,
      "outputs": [
        {
          "output_type": "display_data",
          "data": {
            "image/png": "[encoded data removed]",
            "text/plain": [
              "<Figure size 432x288 with 1 Axes>"
            ]
          },
          "metadata": {
            "tags": []
          }
        }
      ]
    },
    {
      "cell_type": "code",
      "metadata": {
        "id": "LRDTT0Sc8iHH",
        "colab_type": "code",
        "outputId": "3681c86d-b6c9-4e40-c34f-5e431d2217f9",
        "colab": {
          "base_uri": "https://localhost:8080/",
          "height": 281
        }
      },
      "source": [
        "# stacked bar chart showing opponent goals/shots by period\n",
        "\n",
        "p1g = df_goals[(df_goals.team == \"o\") & (df_goals.period == 1)].shape[0]\n",
        "p2g = df_goals[(df_goals.team == \"o\") & (df_goals.period == 2)].shape[0]\n",
        "p3g = df_goals[(df_goals.team == \"o\") & (df_goals.period == 3)].shape[0]\n",
        "p1s = df_shots['opp_p1'].sum()\n",
        "p2s = df_shots['opp_p2'].sum()\n",
        "p3s = df_shots['opp_p3'].sum()\n",
        "\n",
        "N = 3\n",
        "goals = (p1g, p2g, p3g)\n",
        "shots = (p1s, p2s, p3s)\n",
        "ind = np.arange(N)    # the x locations for the groups\n",
        "width = 0.35       # the width of the bars: can also be len(x) sequence\n",
        "\n",
        "p1 = plt.bar(ind, goals, width, color='orange')\n",
        "p2 = plt.bar(ind, shots, width, bottom=goals, color='blue')\n",
        "\n",
        "plt.title('Opponent Goals and Shot by Period')\n",
        "plt.xticks(ind, ('1', '2', '3'))\n",
        "plt.yticks(np.arange(0, 150, 10))\n",
        "plt.legend((p1[0], p2[0]), ('Goals', 'Shots'))\n",
        "\n",
        "plt.show()"
      ],
      "execution_count": 13,
      "outputs": [
        {
          "output_type": "display_data",
          "data": {
            "image/png": "[encoded data removed]",
            "text/plain": [
              "<Figure size 432x288 with 1 Axes>"
            ]
          },
          "metadata": {
            "tags": []
          }
        }
      ]
    },
    {
      "cell_type": "code",
      "metadata": {
        "id": "C2k94cQD7qaY",
        "colab_type": "code",
        "outputId": "4320c158-d78e-417c-baaa-dd35a3507408",
        "colab": {
          "base_uri": "https://localhost:8080/",
          "height": 297
        }
      },
      "source": [
        "# bar chart comparing xtreme and opponent penalties by period\n",
        "\n",
        "p1xp = df_penalties[(df_penalties.team == \"a\") & (df_penalties.period == 1)].shape[0]\n",
        "p2xp = df_penalties[(df_penalties.team == \"a\") & (df_penalties.period == 2)].shape[0]\n",
        "p3xp = df_penalties[(df_penalties.team == \"a\") & (df_penalties.period == 3)].shape[0]\n",
        "p1op = df_penalties[(df_penalties.team == \"o\") & (df_penalties.period == 1)].shape[0]\n",
        "p2op = df_penalties[(df_penalties.team == \"o\") & (df_penalties.period == 2)].shape[0]\n",
        "p3op = df_penalties[(df_penalties.team == \"o\") & (df_penalties.period == 3)].shape[0]\n",
        "\n",
        "labels = ['1', '2', '3']\n",
        "xtreme = [p1xp, p2xp, p3xp]\n",
        "opponent = [p1op, p2op, p3op]\n",
        "\n",
        "x = np.arange(len(labels))  # the label locations\n",
        "width = 0.35  # the width of the bars\n",
        "\n",
        "fig, ax = plt.subplots()\n",
        "rects1 = ax.bar(x - width/2, xtreme, width, label='Xtreme', color='black')\n",
        "rects2 = ax.bar(x + width/2, opponent, width, label='Opponents', color='orange')\n",
        "\n",
        "# Add some text for labels, title and custom x-axis tick labels, etc.\n",
        "ax.set_title('Number of Penalties by Period')\n",
        "ax.set_xticks(x)\n",
        "ax.set_xticklabels(labels)\n",
        "ax.legend()\n",
        "\n",
        "fig.tight_layout()\n",
        "plt.yticks(np.arange(0, 15, 2))\n",
        "\n",
        "plt.show()"
      ],
      "execution_count": 17,
      "outputs": [
        {
          "output_type": "display_data",
          "data": {
            "image/png": "[encoded data removed]",
            "text/plain": [
              "<Figure size 432x288 with 1 Axes>"
            ]
          },
          "metadata": {
            "tags": []
          }
        }
      ]
    },
    {
      "cell_type": "code",
      "metadata": {
        "id": "Z7z7K5RapGzy",
        "colab_type": "code",
        "colab": {
          "base_uri": "https://localhost:8080/",
          "height": 717
        },
        "outputId": "b66de96b-e490-4fdf-c2bf-6735874669b3"
      },
      "source": [
        "# treemap with penalty types \n",
        "\n",
        "fig = go.Figure()\n",
        "\n",
        "x = 0.\n",
        "y = 0.\n",
        "width = 100.\n",
        "height = 100.\n",
        "\n",
        "# get unique list of xtreme penalty types\n",
        "dfx = df_penalties[(df_penalties.team == \"a\")]\n",
        "arr = dfx.type.unique()\n",
        "\n",
        "p_values = []\n",
        "p_labels = []\n",
        "\n",
        "# loop through names and count up number of times they occured\n",
        "for p in arr:\n",
        "  c = df_penalties[(df_penalties.type == p)].shape[0]\n",
        "  p_values.append(c)\n",
        "  p_labels.append(p + \" (\" + str(c) + \")\")\n",
        "\n",
        "normed = squarify.normalize_sizes(p_values, width, height)\n",
        "rects = squarify.squarify(normed, x, y, width, height)\n",
        "\n",
        "# Choose colors from http://colorbrewer2.org/ under \"Export\"\n",
        "color_brewer = ['rgb(141,211,199)','rgb(255,255,179)','rgb(190,186,218)','rgb(251,128,114)','rgb(128,177,211)','rgb(253,180,98)','rgb(179,222,105)','rgb(252,205,229)']\n",
        "\n",
        "# other colors if have more than 8 penalty types ... rgb(217,217,217), rgb(188,128,189), rgb(204,235,197)\n",
        "\n",
        "shapes = []\n",
        "annotations = []\n",
        "counter = 0\n",
        "\n",
        "for r, val, color, lbl in zip(rects, p_values, color_brewer, p_labels):\n",
        "    shapes.append(\n",
        "        dict(\n",
        "            type = 'rect',\n",
        "            x0 = r['x'],\n",
        "            y0 = r['y'],\n",
        "            x1 = r['x']+r['dx'],\n",
        "            y1 = r['y']+r['dy'],\n",
        "            line = dict( width = 2 ),\n",
        "            fillcolor = color\n",
        "        )\n",
        "    )\n",
        "    annotations.append(\n",
        "        dict(\n",
        "            x = r['x']+(r['dx']/2),\n",
        "            y = r['y']+(r['dy']/2),\n",
        "            text = lbl,\n",
        "            showarrow = False\n",
        "        )\n",
        "    )\n",
        "\n",
        "# For hover text\n",
        "fig.add_trace(go.Scatter(\n",
        "    x = [ r['x']+(r['dx']/2) for r in rects ],\n",
        "    y = [ r['y']+(r['dy']/2) for r in rects ],\n",
        "    text = [ str(v) for v in p_values ],\n",
        "    mode = 'text',\n",
        "))\n",
        "\n",
        "fig.update_layout(\n",
        "    height=700,\n",
        "    width=700,\n",
        "    xaxis=dict(showgrid=False,zeroline=False,showticklabels=False),\n",
        "    yaxis=dict(showgrid=False,zeroline=False,showticklabels=False),\n",
        "    shapes=shapes,\n",
        "    annotations=annotations,\n",
        "    hovermode='closest',\n",
        "    title=go.layout.Title(\n",
        "        text=\"Penalty Types\",\n",
        "        xref=\"paper\",\n",
        "        x=0\n",
        "    )\n",
        ")\n",
        "\n",
        "fig.show()"
      ],
      "execution_count": 36,
      "outputs": [
        {
          "output_type": "display_data",
          "data": {
            "text/html": [
              "<html>\n",
              "<head><meta charset=\"utf-8\" /></head>\n",
              "<body>\n",
              "    <div>\n",
              "            <script src=\"https://cdnjs.cloudflare.com/ajax/libs/mathjax/2.7.5/MathJax.js?config=TeX-AMS-MML_SVG\"></script><script type=\"text/javascript\">if (window.MathJax) {MathJax.Hub.Config({SVG: {font: \"STIX-Web\"}});}</script>\n",
              "                <script type=\"text/javascript\">window.PlotlyConfig = {MathJaxConfig: 'local'};</script>\n",
              "        <script src=\"https://cdn.plot.ly/plotly-latest.min.js\"></script>    \n",
              "            <div id=\"08bd0a9a-d600-49f6-9da4-90f2373202cd\" class=\"plotly-graph-div\" style=\"height:700px; width:700px;\"></div>\n",
              "            <script type=\"text/javascript\">\n",
              "                \n",
              "                    window.PLOTLYENV=window.PLOTLYENV || {};\n",
              "                    \n",
              "                if (document.getElementById(\"08bd0a9a-d600-49f6-9da4-90f2373202cd\")) {\n",
              "                    Plotly.newPlot(\n",
              "                        '08bd0a9a-d600-49f6-9da4-90f2373202cd',\n",
              "                        [{\"mode\": \"text\", \"text\": [\"1\", \"1\", \"6\", \"1\", \"2\", \"7\", \"1\", \"2\"], \"type\": \"scatter\", \"x\": [19.047619047619047, 19.047619047619047, 19.047619047619047, 48.41269841269841, 79.36507936507937, 69.04761904761905, 48.41269841269842, 79.36507936507937], \"y\": [6.25, 18.75, 62.5, 11.538461538461538, 11.538461538461538, 50.0, 88.46153846153845, 88.46153846153845]}],\n",
              "                        {\"annotations\": [{\"showarrow\": false, \"text\": \"Checking (1)\", \"x\": 19.047619047619047, \"y\": 6.25}, {\"showarrow\": false, \"text\": \"Hooking (1)\", \"x\": 19.047619047619047, \"y\": 18.75}, {\"showarrow\": false, \"text\": \"Roughing (6)\", \"x\": 19.047619047619047, \"y\": 62.5}, {\"showarrow\": false, \"text\": \"10-Minute (1)\", \"x\": 48.41269841269841, \"y\": 11.538461538461538}, {\"showarrow\": false, \"text\": \"Too Many Skaters (2)\", \"x\": 79.36507936507937, \"y\": 11.538461538461538}, {\"showarrow\": false, \"text\": \"Tripping (7)\", \"x\": 69.04761904761905, \"y\": 50.0}, {\"showarrow\": false, \"text\": \"Slashing (1)\", \"x\": 48.41269841269842, \"y\": 88.46153846153845}, {\"showarrow\": false, \"text\": \"Interference (2)\", \"x\": 79.36507936507937, \"y\": 88.46153846153845}], \"height\": 700, \"hovermode\": \"closest\", \"shapes\": [{\"fillcolor\": \"rgb(141,211,199)\", \"line\": {\"width\": 2}, \"type\": \"rect\", \"x0\": 0.0, \"x1\": 38.095238095238095, \"y0\": 0.0, \"y1\": 12.5}, {\"fillcolor\": \"rgb(255,255,179)\", \"line\": {\"width\": 2}, \"type\": \"rect\", \"x0\": 0.0, \"x1\": 38.095238095238095, \"y0\": 12.5, \"y1\": 25.0}, {\"fillcolor\": \"rgb(190,186,218)\", \"line\": {\"width\": 2}, \"type\": \"rect\", \"x0\": 0.0, \"x1\": 38.095238095238095, \"y0\": 25.0, \"y1\": 100.0}, {\"fillcolor\": \"rgb(251,128,114)\", \"line\": {\"width\": 2}, \"type\": \"rect\", \"x0\": 38.095238095238095, \"x1\": 58.730158730158735, \"y0\": 0.0, \"y1\": 23.076923076923077}, {\"fillcolor\": \"rgb(128,177,211)\", \"line\": {\"width\": 2}, \"type\": \"rect\", \"x0\": 58.730158730158735, \"x1\": 100.0, \"y0\": 0.0, \"y1\": 23.076923076923077}, {\"fillcolor\": \"rgb(253,180,98)\", \"line\": {\"width\": 2}, \"type\": \"rect\", \"x0\": 38.095238095238095, \"x1\": 100.0, \"y0\": 23.076923076923077, \"y1\": 76.92307692307692}, {\"fillcolor\": \"rgb(179,222,105)\", \"line\": {\"width\": 2}, \"type\": \"rect\", \"x0\": 38.095238095238095, \"x1\": 58.730158730158735, \"y0\": 76.92307692307692, \"y1\": 100.0}, {\"fillcolor\": \"rgb(252,205,229)\", \"line\": {\"width\": 2}, \"type\": \"rect\", \"x0\": 58.730158730158735, \"x1\": 100.00000000000001, \"y0\": 76.92307692307692, \"y1\": 100.0}], \"template\": {\"data\": {\"bar\": [{\"error_x\": {\"color\": \"#2a3f5f\"}, \"error_y\": {\"color\": \"#2a3f5f\"}, \"marker\": {\"line\": {\"color\": \"#E5ECF6\", \"width\": 0.5}}, \"type\": \"bar\"}], \"barpolar\": [{\"marker\": {\"line\": {\"color\": \"#E5ECF6\", \"width\": 0.5}}, \"type\": \"barpolar\"}], \"carpet\": [{\"aaxis\": {\"endlinecolor\": \"#2a3f5f\", \"gridcolor\": \"white\", \"linecolor\": \"white\", \"minorgridcolor\": \"white\", \"startlinecolor\": \"#2a3f5f\"}, \"baxis\": {\"endlinecolor\": \"#2a3f5f\", \"gridcolor\": \"white\", \"linecolor\": \"white\", \"minorgridcolor\": \"white\", \"startlinecolor\": \"#2a3f5f\"}, \"type\": \"carpet\"}], \"choropleth\": [{\"colorbar\": {\"outlinewidth\": 0, \"ticks\": \"\"}, \"type\": \"choropleth\"}], \"contour\": [{\"colorbar\": {\"outlinewidth\": 0, \"ticks\": \"\"}, \"colorscale\": [[0.0, \"#0d0887\"], [0.1111111111111111, \"#46039f\"], [0.2222222222222222, \"#7201a8\"], [0.3333333333333333, \"#9c179e\"], [0.4444444444444444, \"#bd3786\"], [0.5555555555555556, \"#d8576b\"], [0.6666666666666666, \"#ed7953\"], [0.7777777777777778, \"#fb9f3a\"], [0.8888888888888888, \"#fdca26\"], [1.0, \"#f0f921\"]], \"type\": \"contour\"}], \"contourcarpet\": [{\"colorbar\": {\"outlinewidth\": 0, \"ticks\": \"\"}, \"type\": \"contourcarpet\"}], \"heatmap\": [{\"colorbar\": {\"outlinewidth\": 0, \"ticks\": \"\"}, \"colorscale\": [[0.0, \"#0d0887\"], [0.1111111111111111, \"#46039f\"], [0.2222222222222222, \"#7201a8\"], [0.3333333333333333, \"#9c179e\"], [0.4444444444444444, \"#bd3786\"], [0.5555555555555556, \"#d8576b\"], [0.6666666666666666, \"#ed7953\"], [0.7777777777777778, \"#fb9f3a\"], [0.8888888888888888, \"#fdca26\"], [1.0, \"#f0f921\"]], \"type\": \"heatmap\"}], \"heatmapgl\": [{\"colorbar\": {\"outlinewidth\": 0, \"ticks\": \"\"}, \"colorscale\": [[0.0, \"#0d0887\"], [0.1111111111111111, \"#46039f\"], [0.2222222222222222, \"#7201a8\"], [0.3333333333333333, \"#9c179e\"], [0.4444444444444444, \"#bd3786\"], [0.5555555555555556, \"#d8576b\"], [0.6666666666666666, \"#ed7953\"], [0.7777777777777778, \"#fb9f3a\"], [0.8888888888888888, \"#fdca26\"], [1.0, \"#f0f921\"]], \"type\": \"heatmapgl\"}], \"histogram\": [{\"marker\": {\"colorbar\": {\"outlinewidth\": 0, \"ticks\": \"\"}}, \"type\": \"histogram\"}], \"histogram2d\": [{\"colorbar\": {\"outlinewidth\": 0, \"ticks\": \"\"}, \"colorscale\": [[0.0, \"#0d0887\"], [0.1111111111111111, \"#46039f\"], [0.2222222222222222, \"#7201a8\"], [0.3333333333333333, \"#9c179e\"], [0.4444444444444444, \"#bd3786\"], [0.5555555555555556, \"#d8576b\"], [0.6666666666666666, \"#ed7953\"], [0.7777777777777778, \"#fb9f3a\"], [0.8888888888888888, \"#fdca26\"], [1.0, \"#f0f921\"]], \"type\": \"histogram2d\"}], \"histogram2dcontour\": [{\"colorbar\": {\"outlinewidth\": 0, \"ticks\": \"\"}, \"colorscale\": [[0.0, \"#0d0887\"], [0.1111111111111111, \"#46039f\"], [0.2222222222222222, \"#7201a8\"], [0.3333333333333333, \"#9c179e\"], [0.4444444444444444, \"#bd3786\"], [0.5555555555555556, \"#d8576b\"], [0.6666666666666666, \"#ed7953\"], [0.7777777777777778, \"#fb9f3a\"], [0.8888888888888888, \"#fdca26\"], [1.0, \"#f0f921\"]], \"type\": \"histogram2dcontour\"}], \"mesh3d\": [{\"colorbar\": {\"outlinewidth\": 0, \"ticks\": \"\"}, \"type\": \"mesh3d\"}], \"parcoords\": [{\"line\": {\"colorbar\": {\"outlinewidth\": 0, \"ticks\": \"\"}}, \"type\": \"parcoords\"}], \"scatter\": [{\"marker\": {\"colorbar\": {\"outlinewidth\": 0, \"ticks\": \"\"}}, \"type\": \"scatter\"}], \"scatter3d\": [{\"line\": {\"colorbar\": {\"outlinewidth\": 0, \"ticks\": \"\"}}, \"marker\": {\"colorbar\": {\"outlinewidth\": 0, \"ticks\": \"\"}}, \"type\": \"scatter3d\"}], \"scattercarpet\": [{\"marker\": {\"colorbar\": {\"outlinewidth\": 0, \"ticks\": \"\"}}, \"type\": \"scattercarpet\"}], \"scattergeo\": [{\"marker\": {\"colorbar\": {\"outlinewidth\": 0, \"ticks\": \"\"}}, \"type\": \"scattergeo\"}], \"scattergl\": [{\"marker\": {\"colorbar\": {\"outlinewidth\": 0, \"ticks\": \"\"}}, \"type\": \"scattergl\"}], \"scattermapbox\": [{\"marker\": {\"colorbar\": {\"outlinewidth\": 0, \"ticks\": \"\"}}, \"type\": \"scattermapbox\"}], \"scatterpolar\": [{\"marker\": {\"colorbar\": {\"outlinewidth\": 0, \"ticks\": \"\"}}, \"type\": \"scatterpolar\"}], \"scatterpolargl\": [{\"marker\": {\"colorbar\": {\"outlinewidth\": 0, \"ticks\": \"\"}}, \"type\": \"scatterpolargl\"}], \"scatterternary\": [{\"marker\": {\"colorbar\": {\"outlinewidth\": 0, \"ticks\": \"\"}}, \"type\": \"scatterternary\"}], \"surface\": [{\"colorbar\": {\"outlinewidth\": 0, \"ticks\": \"\"}, \"colorscale\": [[0.0, \"#0d0887\"], [0.1111111111111111, \"#46039f\"], [0.2222222222222222, \"#7201a8\"], [0.3333333333333333, \"#9c179e\"], [0.4444444444444444, \"#bd3786\"], [0.5555555555555556, \"#d8576b\"], [0.6666666666666666, \"#ed7953\"], [0.7777777777777778, \"#fb9f3a\"], [0.8888888888888888, \"#fdca26\"], [1.0, \"#f0f921\"]], \"type\": \"surface\"}], \"table\": [{\"cells\": {\"fill\": {\"color\": \"#EBF0F8\"}, \"line\": {\"color\": \"white\"}}, \"header\": {\"fill\": {\"color\": \"#C8D4E3\"}, \"line\": {\"color\": \"white\"}}, \"type\": \"table\"}]}, \"layout\": {\"annotationdefaults\": {\"arrowcolor\": \"#2a3f5f\", \"arrowhead\": 0, \"arrowwidth\": 1}, \"colorscale\": {\"diverging\": [[0, \"#8e0152\"], [0.1, \"#c51b7d\"], [0.2, \"#de77ae\"], [0.3, \"#f1b6da\"], [0.4, \"#fde0ef\"], [0.5, \"#f7f7f7\"], [0.6, \"#e6f5d0\"], [0.7, \"#b8e186\"], [0.8, \"#7fbc41\"], [0.9, \"#4d9221\"], [1, \"#276419\"]], \"sequential\": [[0.0, \"#0d0887\"], [0.1111111111111111, \"#46039f\"], [0.2222222222222222, \"#7201a8\"], [0.3333333333333333, \"#9c179e\"], [0.4444444444444444, \"#bd3786\"], [0.5555555555555556, \"#d8576b\"], [0.6666666666666666, \"#ed7953\"], [0.7777777777777778, \"#fb9f3a\"], [0.8888888888888888, \"#fdca26\"], [1.0, \"#f0f921\"]], \"sequentialminus\": [[0.0, \"#0d0887\"], [0.1111111111111111, \"#46039f\"], [0.2222222222222222, \"#7201a8\"], [0.3333333333333333, \"#9c179e\"], [0.4444444444444444, \"#bd3786\"], [0.5555555555555556, \"#d8576b\"], [0.6666666666666666, \"#ed7953\"], [0.7777777777777778, \"#fb9f3a\"], [0.8888888888888888, \"#fdca26\"], [1.0, \"#f0f921\"]]}, \"colorway\": [\"#636efa\", \"#EF553B\", \"#00cc96\", \"#ab63fa\", \"#FFA15A\", \"#19d3f3\", \"#FF6692\", \"#B6E880\", \"#FF97FF\", \"#FECB52\"], \"font\": {\"color\": \"#2a3f5f\"}, \"geo\": {\"bgcolor\": \"white\", \"lakecolor\": \"white\", \"landcolor\": \"#E5ECF6\", \"showlakes\": true, \"showland\": true, \"subunitcolor\": \"white\"}, \"hoverlabel\": {\"align\": \"left\"}, \"hovermode\": \"closest\", \"mapbox\": {\"style\": \"light\"}, \"paper_bgcolor\": \"white\", \"plot_bgcolor\": \"#E5ECF6\", \"polar\": {\"angularaxis\": {\"gridcolor\": \"white\", \"linecolor\": \"white\", \"ticks\": \"\"}, \"bgcolor\": \"#E5ECF6\", \"radialaxis\": {\"gridcolor\": \"white\", \"linecolor\": \"white\", \"ticks\": \"\"}}, \"scene\": {\"xaxis\": {\"backgroundcolor\": \"#E5ECF6\", \"gridcolor\": \"white\", \"gridwidth\": 2, \"linecolor\": \"white\", \"showbackground\": true, \"ticks\": \"\", \"zerolinecolor\": \"white\"}, \"yaxis\": {\"backgroundcolor\": \"#E5ECF6\", \"gridcolor\": \"white\", \"gridwidth\": 2, \"linecolor\": \"white\", \"showbackground\": true, \"ticks\": \"\", \"zerolinecolor\": \"white\"}, \"zaxis\": {\"backgroundcolor\": \"#E5ECF6\", \"gridcolor\": \"white\", \"gridwidth\": 2, \"linecolor\": \"white\", \"showbackground\": true, \"ticks\": \"\", \"zerolinecolor\": \"white\"}}, \"shapedefaults\": {\"line\": {\"color\": \"#2a3f5f\"}}, \"ternary\": {\"aaxis\": {\"gridcolor\": \"white\", \"linecolor\": \"white\", \"ticks\": \"\"}, \"baxis\": {\"gridcolor\": \"white\", \"linecolor\": \"white\", \"ticks\": \"\"}, \"bgcolor\": \"#E5ECF6\", \"caxis\": {\"gridcolor\": \"white\", \"linecolor\": \"white\", \"ticks\": \"\"}}, \"title\": {\"x\": 0.05}, \"xaxis\": {\"automargin\": true, \"gridcolor\": \"white\", \"linecolor\": \"white\", \"ticks\": \"\", \"zerolinecolor\": \"white\", \"zerolinewidth\": 2}, \"yaxis\": {\"automargin\": true, \"gridcolor\": \"white\", \"linecolor\": \"white\", \"ticks\": \"\", \"zerolinecolor\": \"white\", \"zerolinewidth\": 2}}}, \"title\": {\"text\": \"Penalty Types\", \"x\": 0, \"xref\": \"paper\"}, \"width\": 700, \"xaxis\": {\"showgrid\": false, \"showticklabels\": false, \"zeroline\": false}, \"yaxis\": {\"showgrid\": false, \"showticklabels\": false, \"zeroline\": false}},\n",
              "                        {\"responsive\": true}\n",
              "                    ).then(function(){\n",
              "                            \n",
              "var gd = document.getElementById('08bd0a9a-d600-49f6-9da4-90f2373202cd');\n",
              "var x = new MutationObserver(function (mutations, observer) {{\n",
              "        var display = window.getComputedStyle(gd).display;\n",
              "        if (!display || display === 'none') {{\n",
              "            console.log([gd, 'removed!']);\n",
              "            Plotly.purge(gd);\n",
              "            observer.disconnect();\n",
              "        }}\n",
              "}});\n",
              "\n",
              "// Listen for the removal of the full notebook cells\n",
              "var notebookContainer = gd.closest('#notebook-container');\n",
              "if (notebookContainer) {{\n",
              "    x.observe(notebookContainer, {childList: true});\n",
              "}}\n",
              "\n",
              "// Listen for the clearing of the current output cell\n",
              "var outputEl = gd.closest('.output');\n",
              "if (outputEl) {{\n",
              "    x.observe(outputEl, {childList: true});\n",
              "}}\n",
              "\n",
              "                        })\n",
              "                };\n",
              "                \n",
              "            </script>\n",
              "        </div>\n",
              "</body>\n",
              "</html>"
            ]
          },
          "metadata": {
            "tags": []
          }
        }
      ]
    },
    {
      "cell_type": "code",
      "metadata": {
        "id": "zyuQFbqqGF3H",
        "colab_type": "code",
        "colab": {}
      },
      "source": [
        "import matplotlib.pyplot as plt\n",
        "import numpy as np\n",
        "import matplotlib.dates as mdates\n",
        "from datetime import datetime\n",
        "\n",
        "%matplotlib inline\n",
        "\n",
        "\n",
        "names = ['Ashburn goal', 'Ashburn goal', 'Ashburn goal', 'Ashburn penalty', 'Ashburn penalty', \n",
        "        'Hollydell goal', 'Hollydell goal', 'Hollydell penalty', 'Period 2',\n",
        "        'Ashburn penalty', 'Ashburn goal', 'Hollydell goal', 'Ashburn goal', 'Period 3', 'Ashburn goal']\n",
        "\n",
        "dates = ['2019-01-01', '2019-01-03', '2019-01-04', '2019-01-05',\n",
        "             '2019-01-05', '2019-01-06', '2019-01-07', '2019-01-13',\n",
        "             '2019-01-16', '2019-01-18', '2019-01-22', '2019-01-23',\n",
        "             '2019-01-26', '2019-01-31', '2019-03-01']\n",
        "\n",
        "# Convert date strings (e.g. 2014-10-18) to datetime\n",
        "dates = [datetime.strptime(d, \"%Y-%m-%d\") for d in dates]\n",
        "    \n",
        "# Choose some nice levels\n",
        "levels = np.tile([-5, 5, -3, 3, -1, 1],\n",
        "                 int(np.ceil(len(dates)/6)))[:len(dates)]\n",
        "\n",
        "# Create figure and plot a stem plot with the date\n",
        "fig, ax = plt.subplots(figsize=(8.8, 4), constrained_layout=True)\n",
        "ax.set(title=\"Game 1 Timeline\")\n",
        "\n",
        "markerline, stemline, baseline = ax.stem(dates, levels, linefmt=\"C3-\", basefmt=\"k-\")\n",
        "\n",
        "plt.setp(markerline, mec=\"k\", mfc=\"w\", zorder=3)\n",
        "\n",
        "# Shift the markers to the baseline by replacing the y-data by zeros.\n",
        "markerline.set_ydata(np.zeros(len(dates)))\n",
        "\n",
        "# annotate lines\n",
        "vert = np.array(['top', 'bottom'])[(levels > 0).astype(int)]\n",
        "for d, l, r, va in zip(dates, levels, names, vert):\n",
        "    ax.annotate(r, xy=(d, l), xytext=(-3, np.sign(l)*3),\n",
        "                textcoords=\"offset points\", va=va, ha=\"right\")\n",
        "\n",
        "# format xaxis with 4 month intervals\n",
        "#ax.get_xaxis().set_major_locator(mdates.MonthLocator(interval=4))\n",
        "#ax.get_xaxis().set_major_formatter(mdates.DateFormatter(\"%b %Y\"))\n",
        "#plt.setp(ax.get_xticklabels(), rotation=30, ha=\"right\")\n",
        "\n",
        "# remove y axis and spines\n",
        "ax.get_yaxis().set_visible(False)\n",
        "for spine in [\"left\", \"top\", \"right\"]:\n",
        "    ax.spines[spine].set_visible(False)\n",
        "\n",
        "ax.margins(y=0.1)\n",
        "plt.axis('off')\n",
        "plt.show()    \n",
        "    "
      ],
      "execution_count": 0,
      "outputs": []
    },
    {
      "cell_type": "code",
      "metadata": {
        "id": "VKOQ40aaqsCs",
        "colab_type": "code",
        "colab": {}
      },
      "source": [
        "import numpy as np\n",
        "import matplotlib.pyplot as plt\n",
        "\n",
        "n = np.arange(0, 10)\n",
        "\n",
        "x1 = np.sin(n)\n",
        "x2 = np.cos(n)\n",
        "\n",
        "#x1 = [.50, .25, .15, .10]\n",
        "#x2 = [-.25, -.50, -.75, -1]\n",
        "\n",
        "fig, ax = plt.subplots()\n",
        "\n",
        "ax.stem(n, x1, 'b', markerfmt='bo', label=\"First\")\n",
        "ax.stem(n, x2, 'g', markerfmt='go', label=\"Second\")\n",
        "ax.legend()\n",
        "\n",
        "plt.show()"
      ],
      "execution_count": 0,
      "outputs": []
    },
    {
      "cell_type": "code",
      "metadata": {
        "id": "4NEk0gIhPS9D",
        "colab_type": "code",
        "outputId": "3f9f624c-676b-4146-e140-50684b795056",
        "colab": {
          "base_uri": "https://localhost:8080/",
          "height": 153
        }
      },
      "source": [
        "# penalties\n",
        "\n",
        "dfx = df_penalties[(df_penalties.team == \"a\")]\n",
        "arr = dfx.type.unique()\n",
        "\n",
        "p_values = []\n",
        "p_labels = []\n",
        "\n",
        "for p in arr:\n",
        "  c = df_penalties[(df_penalties.type == p)].shape[0]\n",
        "  p_values.append(c)\n",
        "  p_labels.append(p + \" (\" + str(c) + \")\")\n",
        "\n",
        "p_values\n",
        "p_labels\n",
        "\n"
      ],
      "execution_count": 29,
      "outputs": [
        {
          "output_type": "execute_result",
          "data": {
            "text/plain": [
              "['Checking (1)',\n",
              " 'Hooking (1)',\n",
              " 'Roughing (6)',\n",
              " '10-Minute Misconduct (1)',\n",
              " 'Too Many Skaters (2)',\n",
              " 'Tripping (7)',\n",
              " 'Slashing (1)',\n",
              " 'Interference (2)']"
            ]
          },
          "metadata": {
            "tags": []
          },
          "execution_count": 29
        }
      ]
    }
  ]
}