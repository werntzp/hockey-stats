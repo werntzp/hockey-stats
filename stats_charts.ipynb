{
  "nbformat": 4,
  "nbformat_minor": 0,
  "metadata": {
    "colab": {
      "name": "stats_charts.ipynb",
      "provenance": [],
      "collapsed_sections": []
    },
    "kernelspec": {
      "name": "python3",
      "display_name": "Python 3"
    }
  },
  "cells": [
    {
      "cell_type": "code",
      "metadata": {
        "id": "oSYr4M7YPgQl",
        "outputId": "3caf1750-1cde-4c38-d2ef-49aaeafa9e8c",
        "colab": {
          "base_uri": "https://localhost:8080/",
          "height": 108
        }
      },
      "source": [
        "# libraries used\n",
        "\n",
        "import pandas as pd \n",
        "import numpy as np\n",
        "import matplotlib.pyplot as plt\n",
        "import plotly.graph_objects as go\n",
        "import matplotlib.ticker as ticker\n",
        "import plotly.express as px\n",
        "import seaborn as sns\n",
        "import datetime\n",
        "import math\n",
        "\n",
        "%matplotlib inline\n",
        "\n",
        "# needed for treemap graphic\n",
        "!pip install squarify \n",
        "import squarify\n",
        "\n",
        "print(\"loaded libraries\")"
      ],
      "execution_count": 1,
      "outputs": [
        {
          "output_type": "stream",
          "text": [
            "Collecting squarify\n",
            "  Downloading https://files.pythonhosted.org/packages/0b/2b/2e77c35326efec19819cd1d729540d4d235e6c2a3f37658288a363a67da5/squarify-0.4.3-py3-none-any.whl\n",
            "Installing collected packages: squarify\n",
            "Successfully installed squarify-0.4.3\n",
            "loaded libraries\n"
          ],
          "name": "stdout"
        }
      ]
    },
    {
      "cell_type": "code",
      "metadata": {
        "id": "mr9DTGOXM1NR",
        "outputId": "dc87d06e-3b09-438d-cbc2-94e2ad78a36b",
        "colab": {
          "base_uri": "https://localhost:8080/",
          "height": 35
        }
      },
      "source": [
        "# load up csv files\n",
        "\n",
        "github_url = \"https://raw.githubusercontent.com/werntzp/hockey-stats/master/\"\n",
        "\n",
        "df_games = pd.read_csv(github_url + \"games.csv\") \n",
        "df_shots = pd.read_csv(github_url + \"shots.csv\") \n",
        "df_goals = pd.read_csv(github_url + \"goals.csv\") \n",
        "#df_goals_assists = pd.read_csv(github_url + \"goals_assists.csv\")\n",
        "df_periods = pd.read_csv(github_url + \"periods.csv\")\n",
        "df_penalties = pd.read_csv(github_url + \"penalties.csv\") \n",
        "df_points = pd.read_csv(github_url + \"points.csv\")\n",
        "\n",
        "print(\"loaded csv files\")\n"
      ],
      "execution_count": 2,
      "outputs": [
        {
          "output_type": "stream",
          "text": [
            "loaded csv files\n"
          ],
          "name": "stdout"
        }
      ]
    },
    {
      "cell_type": "code",
      "metadata": {
        "id": "6FVD71eSc33b",
        "outputId": "aca88f20-aec3-4258-f851-983ef0599f18",
        "colab": {
          "base_uri": "https://localhost:8080/",
          "height": 297
        }
      },
      "source": [
        "# bar chart with goals per period\n",
        "\n",
        "p1xg = df_goals[(df_goals.team == \"a\") & (df_goals.period == 1)].shape[0]\n",
        "p2xg = df_goals[(df_goals.team == \"a\") & (df_goals.period == 2)].shape[0]\n",
        "p3xg = df_goals[(df_goals.team == \"a\") & (df_goals.period == 3)].shape[0]\n",
        "p4xg = df_goals[(df_goals.team == \"a\") & (df_goals.period == 4)].shape[0]\n",
        "\n",
        "p1og = df_goals[(df_goals.team == \"o\") & (df_goals.period == 1)].shape[0]\n",
        "p2og = df_goals[(df_goals.team == \"o\") & (df_goals.period == 2)].shape[0]\n",
        "p3og = df_goals[(df_goals.team == \"o\") & (df_goals.period == 3)].shape[0]\n",
        "p4og = df_goals[(df_goals.team == \"o\") & (df_goals.period == 4)].shape[0]\n",
        "\n",
        "labels = ['1', '2', '3', 'OT']\n",
        "xtreme = [p1xg, p2xg, p3xg, p4xg]\n",
        "opponent = [p1og, p2og, p3og, p4og]\n",
        "\n",
        "x_label = \"Xtreme (\" + str(p1xg + p2xg + p3xg + p4xg) + \")\"\n",
        "o_label = \"Opponents (\" + str(p1og + p2og + p3og + p4og) + \")\"\n",
        "\n",
        "x = np.arange(len(labels))  # the label locations\n",
        "width = 0.35  # the width of the bars\n",
        "\n",
        "fig, ax = plt.subplots()\n",
        "rects1 = ax.bar(x - width/2, xtreme, width, label=x_label, color='black')\n",
        "rects2 = ax.bar(x + width/2, opponent, width, label=o_label, color='#8dd3c7')\n",
        "\n",
        "# Add some text for labels, title and custom x-axis tick labels, etc.\n",
        "ax.set_title('Goals by Period')\n",
        "ax.set_xticks(x)\n",
        "ax.set_xticklabels(labels)\n",
        "ax.spines['right'].set_visible(False)\n",
        "ax.spines['top'].set_visible(False)\n",
        "ax.legend()\n",
        "\n",
        "fig.tight_layout()\n",
        "plt.yticks(np.arange(0, 30, 5))\n",
        "\n",
        "plt.show()"
      ],
      "execution_count": 3,
      "outputs": [
        {
          "output_type": "display_data",
          "data": {
            "image/png": "[encoded data removed]",
            "text/plain": [
              "<Figure size 432x288 with 1 Axes>"
            ]
          },
          "metadata": {
            "tags": [],
            "needs_background": "light"
          }
        }
      ]
    },
    {
      "cell_type": "code",
      "metadata": {
        "id": "LRDTT0Sc8iHH",
        "outputId": "94a8a615-5e58-4941-c5fe-3e6b6d8152f8",
        "colab": {
          "base_uri": "https://localhost:8080/",
          "height": 297
        }
      },
      "source": [
        "# bar chart with shots per period\n",
        "\n",
        "p1xs = df_shots['ashburn_p1'].sum()\n",
        "p2xs = df_shots['ashburn_p2'].sum()\n",
        "p3xs = df_shots['ashburn_p3'].sum()\n",
        "p4xs = df_shots['ashburn_ot'].sum()\n",
        "\n",
        "p1os = df_shots['opp_p1'].sum()\n",
        "p2os = df_shots['opp_p2'].sum()\n",
        "p3os = df_shots['opp_p3'].sum()\n",
        "p4os = df_shots['opp_ot'].sum()\n",
        "\n",
        "labels = ['1', '2', '3', 'OT']\n",
        "xtreme = [p1xs, p2xs, p3xs, p4xs]\n",
        "opponent = [p1os, p2os, p3os, p4os]\n",
        "\n",
        "x_label = \"Xtreme (\" + str(p1xs + p2xs + p3xs + p4xs) + \")\"\n",
        "o_label = \"Opponents (\" + str(p1os + p2os + p3os + p4os) + \")\"\n",
        "\n",
        "x = np.arange(len(labels))  # the label locations\n",
        "width = 0.35  # the width of the bars\n",
        "\n",
        "fig, ax = plt.subplots()\n",
        "rects1 = ax.bar(x - width/2, xtreme, width, label=x_label, color='black')\n",
        "rects2 = ax.bar(x + width/2, opponent, width, label=o_label, color='#fb8072')\n",
        "\n",
        "# Add some text for labels, title and custom x-axis tick labels, etc.\n",
        "ax.set_title('Shots by Period')\n",
        "ax.set_xticks(x)\n",
        "ax.set_xticklabels(labels)\n",
        "ax.spines['right'].set_visible(False)\n",
        "ax.spines['top'].set_visible(False)\n",
        "ax.legend()\n",
        "\n",
        "fig.tight_layout()\n",
        "plt.yticks(np.arange(0, 200, 50))\n",
        "\n",
        "plt.show()\n"
      ],
      "execution_count": 6,
      "outputs": [
        {
          "output_type": "display_data",
          "data": {
            "image/png": "[encoded data removed]",
            "text/plain": [
              "<Figure size 432x288 with 1 Axes>"
            ]
          },
          "metadata": {
            "tags": [],
            "needs_background": "light"
          }
        }
      ]
    },
    {
      "cell_type": "code",
      "metadata": {
        "id": "C2k94cQD7qaY",
        "outputId": "62246374-7cff-449f-fa53-d198541481ac",
        "colab": {
          "base_uri": "https://localhost:8080/",
          "height": 297
        }
      },
      "source": [
        "# bar chart comparing xtreme and opponent penalties by period\n",
        "\n",
        "p1xp = df_penalties[(df_penalties.team == \"a\") & (df_penalties.period == 1)].shape[0]\n",
        "p2xp = df_penalties[(df_penalties.team == \"a\") & (df_penalties.period == 2)].shape[0]\n",
        "p3xp = df_penalties[(df_penalties.team == \"a\") & (df_penalties.period == 3)].shape[0]\n",
        "p4xp = df_penalties[(df_penalties.team == \"a\") & (df_penalties.period == 4)].shape[0]\n",
        "\n",
        "p1op = df_penalties[(df_penalties.team == \"o\") & (df_penalties.period == 1)].shape[0]\n",
        "p2op = df_penalties[(df_penalties.team == \"o\") & (df_penalties.period == 2)].shape[0]\n",
        "p3op = df_penalties[(df_penalties.team == \"o\") & (df_penalties.period == 3)].shape[0]\n",
        "p4op = df_penalties[(df_penalties.team == \"o\") & (df_penalties.period == 4)].shape[0]\n",
        "\n",
        "labels = ['1', '2', '3', 'OT']\n",
        "xtreme = [p1xp, p2xp, p3xp, p4xp]\n",
        "opponent = [p1op, p2op, p3op, p4op]\n",
        "\n",
        "x_label = \"Xtreme (\" + str(p1xp + p2xp + p3xp + p4xp) + \")\"\n",
        "o_label = \"Opponents (\" + str(p1op + p2op + p3op + p4op) + \")\"\n",
        "\n",
        "x = np.arange(len(labels))  # the label locations\n",
        "width = 0.35  # the width of the bars\n",
        "\n",
        "fig, ax = plt.subplots()\n",
        "rects1 = ax.bar(x - width/2, xtreme, width, label=x_label, color='black')\n",
        "rects2 = ax.bar(x + width/2, opponent, width, label=o_label, color='#fccde5')\n",
        "\n",
        "# Add some text for labels, title and custom x-axis tick labels, etc.\n",
        "ax.set_title('Penalties by Period')\n",
        "ax.set_xticks(x)\n",
        "ax.set_xticklabels(labels)\n",
        "ax.spines['right'].set_visible(False)\n",
        "ax.spines['top'].set_visible(False)\n",
        "ax.legend()\n",
        "\n",
        "fig.tight_layout()\n",
        "plt.yticks(np.arange(0, 25, 5))\n",
        "\n",
        "plt.show()"
      ],
      "execution_count": 8,
      "outputs": [
        {
          "output_type": "display_data",
          "data": {
            "image/png": "[encoded data removed]",
            "text/plain": [
              "<Figure size 432x288 with 1 Axes>"
            ]
          },
          "metadata": {
            "tags": [],
            "needs_background": "light"
          }
        }
      ]
    },
    {
      "cell_type": "code",
      "metadata": {
        "id": "Z7z7K5RapGzy",
        "outputId": "ec2dd694-51c5-4c70-c56b-23aae08fd432",
        "colab": {
          "base_uri": "https://localhost:8080/",
          "height": 717
        }
      },
      "source": [
        "# treemap with penalty types \n",
        "\n",
        "fig = go.Figure()\n",
        "\n",
        "x = 0.\n",
        "y = 0.\n",
        "width = 100.\n",
        "height = 100.\n",
        "\n",
        "# get unique list of xtreme penalty types\n",
        "dfx = df_penalties[(df_penalties.team == \"a\")]\n",
        "arr = dfx.type.unique()\n",
        "\n",
        "p_values = []\n",
        "p_labels = []\n",
        "\n",
        "# loop through names and count up number of times they occured\n",
        "for p in arr:\n",
        "  c = dfx[(dfx.type == p)].shape[0]\n",
        "  p_values.append(c)\n",
        "  p_labels.append(p + \" (\" + str(c) + \")\")\n",
        "\n",
        "normed = squarify.normalize_sizes(p_values, width, height)\n",
        "rects = squarify.squarify(normed, x, y, width, height)\n",
        "\n",
        "# Choose colors from http://colorbrewer2.org/ under \"Export\"\n",
        "color_brewer = ['rgb(43,140,190)','rgb(141,211,199)','rgb(255,255,179)','rgb(190,186,218)','rgb(251,128,114)','rgb(128,177,211)','rgb(253,180,98)','rgb(179,222,105)','rgb(252,205,229)','rgb(217,217,217)','rgb(188,128,189)','rgb(204,235,197)','rgb(44,162,95)', 'rgb(299,245,249)','rgb(136,86,167)']\n",
        "\n",
        "# other colors if have more than 8 penalty types ... , , \n",
        "\n",
        "shapes = []\n",
        "annotations = []\n",
        "counter = 0\n",
        "\n",
        "for r, val, color, lbl in zip(rects, p_values, color_brewer, p_labels):\n",
        "    shapes.append(\n",
        "        dict(\n",
        "            type = 'rect',\n",
        "            x0 = r['x'],\n",
        "            y0 = r['y'],\n",
        "            x1 = r['x']+r['dx'],\n",
        "            y1 = r['y']+r['dy'],\n",
        "            line = dict( width = 2 ),\n",
        "            fillcolor = color\n",
        "        )\n",
        "    )\n",
        "    annotations.append(\n",
        "        dict(\n",
        "            x = r['x']+(r['dx']/2),\n",
        "            y = r['y']+(r['dy']/2),\n",
        "            text = lbl.replace(' ', '\\r\\n'), \n",
        "            showarrow = False\n",
        "        )\n",
        "    )\n",
        "\n",
        "# For hover text\n",
        "fig.add_trace(go.Scatter(\n",
        "    x = [ r['x']+(r['dx']/2) for r in rects ],\n",
        "    y = [ r['y']+(r['dy']/2) for r in rects ],\n",
        "    text = [ str(v) for v in p_values ],\n",
        "    mode = 'text',\n",
        "))\n",
        "\n",
        "fig.update_layout(\n",
        "    height=700,\n",
        "    width=700,\n",
        "    xaxis=dict(showgrid=False,zeroline=False,showticklabels=False),\n",
        "    yaxis=dict(showgrid=False,zeroline=False,showticklabels=False),\n",
        "    shapes=shapes,\n",
        "    annotations=annotations,\n",
        "    hovermode='closest',\n",
        "    title=go.layout.Title(\n",
        "        text=\"Xtreme Penalty Types\",\n",
        "        xref=\"paper\",\n",
        "        x=0\n",
        "    )\n",
        ")\n",
        "\n",
        "fig.show()"
      ],
      "execution_count": 9,
      "outputs": [
        {
          "output_type": "display_data",
          "data": {
            "text/html": [
              "<html>\n",
              "<head><meta charset=\"utf-8\" /></head>\n",
              "<body>\n",
              "    <div>\n",
              "            <script src=\"https://cdnjs.cloudflare.com/ajax/libs/mathjax/2.7.5/MathJax.js?config=TeX-AMS-MML_SVG\"></script><script type=\"text/javascript\">if (window.MathJax) {MathJax.Hub.Config({SVG: {font: \"STIX-Web\"}});}</script>\n",
              "                <script type=\"text/javascript\">window.PlotlyConfig = {MathJaxConfig: 'local'};</script>\n",
              "        <script src=\"https://cdn.plot.ly/plotly-latest.min.js\"></script>    \n",
              "            <div id=\"71e9dba8-c518-4ad3-b9c1-af4f524862b9\" class=\"plotly-graph-div\" style=\"height:700px; width:700px;\"></div>\n",
              "            <script type=\"text/javascript\">\n",
              "                \n",
              "                    window.PLOTLYENV=window.PLOTLYENV || {};\n",
              "                    \n",
              "                if (document.getElementById(\"71e9dba8-c518-4ad3-b9c1-af4f524862b9\")) {\n",
              "                    Plotly.newPlot(\n",
              "                        '71e9dba8-c518-4ad3-b9c1-af4f524862b9',\n",
              "                        [{\"mode\": \"text\", \"text\": [\"6\", \"1\", \"1\", \"5\", \"1\", \"1\", \"1\", \"1\", \"2\"], \"type\": \"scatter\", \"x\": [18.42105263157895, 18.42105263157895, 42.10526315789474, 73.68421052631578, 47.36842105263158, 47.36842105263158, 68.42105263157895, 89.47368421052632, 78.94736842105264], \"y\": [42.857142857142854, 92.85714285714285, 25.000000000000004, 25.000000000000004, 62.50000000000001, 87.5, 62.50000000000001, 62.50000000000001, 87.5]}],\n",
              "                        {\"annotations\": [{\"showarrow\": false, \"text\": \"Trip\\r\\n(6)\", \"x\": 18.42105263157895, \"y\": 42.857142857142854}, {\"showarrow\": false, \"text\": \"Hold\\r\\n(1)\", \"x\": 18.42105263157895, \"y\": 92.85714285714285}, {\"showarrow\": false, \"text\": \"Too\\r\\nMany\\r\\n(1)\", \"x\": 42.10526315789474, \"y\": 25.000000000000004}, {\"showarrow\": false, \"text\": \"Rough\\r\\n(5)\", \"x\": 73.68421052631578, \"y\": 25.000000000000004}, {\"showarrow\": false, \"text\": \"Hook\\r\\n(1)\", \"x\": 47.36842105263158, \"y\": 62.50000000000001}, {\"showarrow\": false, \"text\": \"Check\\r\\n(1)\", \"x\": 47.36842105263158, \"y\": 87.5}, {\"showarrow\": false, \"text\": \"Slash\\r\\n(1)\", \"x\": 68.42105263157895, \"y\": 62.50000000000001}, {\"showarrow\": false, \"text\": \"High\\r\\nStick\\r\\n(1)\", \"x\": 89.47368421052632, \"y\": 62.50000000000001}, {\"showarrow\": false, \"text\": \"Interference\\r\\n(2)\", \"x\": 78.94736842105264, \"y\": 87.5}], \"height\": 700, \"hovermode\": \"closest\", \"shapes\": [{\"fillcolor\": \"rgb(43,140,190)\", \"line\": {\"width\": 2}, \"type\": \"rect\", \"x0\": 0.0, \"x1\": 36.8421052631579, \"y0\": 0.0, \"y1\": 85.71428571428571}, {\"fillcolor\": \"rgb(141,211,199)\", \"line\": {\"width\": 2}, \"type\": \"rect\", \"x0\": 0.0, \"x1\": 36.8421052631579, \"y0\": 85.71428571428571, \"y1\": 99.99999999999999}, {\"fillcolor\": \"rgb(255,255,179)\", \"line\": {\"width\": 2}, \"type\": \"rect\", \"x0\": 36.8421052631579, \"x1\": 47.368421052631575, \"y0\": 0.0, \"y1\": 50.00000000000001}, {\"fillcolor\": \"rgb(190,186,218)\", \"line\": {\"width\": 2}, \"type\": \"rect\", \"x0\": 47.368421052631575, \"x1\": 100.0, \"y0\": 0.0, \"y1\": 50.00000000000001}, {\"fillcolor\": \"rgb(251,128,114)\", \"line\": {\"width\": 2}, \"type\": \"rect\", \"x0\": 36.8421052631579, \"x1\": 57.89473684210527, \"y0\": 50.00000000000001, \"y1\": 75.0}, {\"fillcolor\": \"rgb(128,177,211)\", \"line\": {\"width\": 2}, \"type\": \"rect\", \"x0\": 36.8421052631579, \"x1\": 57.89473684210527, \"y0\": 75.0, \"y1\": 100.0}, {\"fillcolor\": \"rgb(253,180,98)\", \"line\": {\"width\": 2}, \"type\": \"rect\", \"x0\": 57.89473684210527, \"x1\": 78.94736842105263, \"y0\": 50.00000000000001, \"y1\": 75.0}, {\"fillcolor\": \"rgb(179,222,105)\", \"line\": {\"width\": 2}, \"type\": \"rect\", \"x0\": 78.94736842105263, \"x1\": 100.0, \"y0\": 50.00000000000001, \"y1\": 75.0}, {\"fillcolor\": \"rgb(252,205,229)\", \"line\": {\"width\": 2}, \"type\": \"rect\", \"x0\": 57.89473684210527, \"x1\": 100.00000000000001, \"y0\": 75.0, \"y1\": 100.0}], \"template\": {\"data\": {\"bar\": [{\"error_x\": {\"color\": \"#2a3f5f\"}, \"error_y\": {\"color\": \"#2a3f5f\"}, \"marker\": {\"line\": {\"color\": \"#E5ECF6\", \"width\": 0.5}}, \"type\": \"bar\"}], \"barpolar\": [{\"marker\": {\"line\": {\"color\": \"#E5ECF6\", \"width\": 0.5}}, \"type\": \"barpolar\"}], \"carpet\": [{\"aaxis\": {\"endlinecolor\": \"#2a3f5f\", \"gridcolor\": \"white\", \"linecolor\": \"white\", \"minorgridcolor\": \"white\", \"startlinecolor\": \"#2a3f5f\"}, \"baxis\": {\"endlinecolor\": \"#2a3f5f\", \"gridcolor\": \"white\", \"linecolor\": \"white\", \"minorgridcolor\": \"white\", \"startlinecolor\": \"#2a3f5f\"}, \"type\": \"carpet\"}], \"choropleth\": [{\"colorbar\": {\"outlinewidth\": 0, \"ticks\": \"\"}, \"type\": \"choropleth\"}], \"contour\": [{\"colorbar\": {\"outlinewidth\": 0, \"ticks\": \"\"}, \"colorscale\": [[0.0, \"#0d0887\"], [0.1111111111111111, \"#46039f\"], [0.2222222222222222, \"#7201a8\"], [0.3333333333333333, \"#9c179e\"], [0.4444444444444444, \"#bd3786\"], [0.5555555555555556, \"#d8576b\"], [0.6666666666666666, \"#ed7953\"], [0.7777777777777778, \"#fb9f3a\"], [0.8888888888888888, \"#fdca26\"], [1.0, \"#f0f921\"]], \"type\": \"contour\"}], \"contourcarpet\": [{\"colorbar\": {\"outlinewidth\": 0, \"ticks\": \"\"}, \"type\": \"contourcarpet\"}], \"heatmap\": [{\"colorbar\": {\"outlinewidth\": 0, \"ticks\": \"\"}, \"colorscale\": [[0.0, \"#0d0887\"], [0.1111111111111111, \"#46039f\"], [0.2222222222222222, \"#7201a8\"], [0.3333333333333333, \"#9c179e\"], [0.4444444444444444, \"#bd3786\"], [0.5555555555555556, \"#d8576b\"], [0.6666666666666666, \"#ed7953\"], [0.7777777777777778, \"#fb9f3a\"], [0.8888888888888888, \"#fdca26\"], [1.0, \"#f0f921\"]], \"type\": \"heatmap\"}], \"heatmapgl\": [{\"colorbar\": {\"outlinewidth\": 0, \"ticks\": \"\"}, \"colorscale\": [[0.0, \"#0d0887\"], [0.1111111111111111, \"#46039f\"], [0.2222222222222222, \"#7201a8\"], [0.3333333333333333, \"#9c179e\"], [0.4444444444444444, \"#bd3786\"], [0.5555555555555556, \"#d8576b\"], [0.6666666666666666, \"#ed7953\"], [0.7777777777777778, \"#fb9f3a\"], [0.8888888888888888, \"#fdca26\"], [1.0, \"#f0f921\"]], \"type\": \"heatmapgl\"}], \"histogram\": [{\"marker\": {\"colorbar\": {\"outlinewidth\": 0, \"ticks\": \"\"}}, \"type\": \"histogram\"}], \"histogram2d\": [{\"colorbar\": {\"outlinewidth\": 0, \"ticks\": \"\"}, \"colorscale\": [[0.0, \"#0d0887\"], [0.1111111111111111, \"#46039f\"], [0.2222222222222222, \"#7201a8\"], [0.3333333333333333, \"#9c179e\"], [0.4444444444444444, \"#bd3786\"], [0.5555555555555556, \"#d8576b\"], [0.6666666666666666, \"#ed7953\"], [0.7777777777777778, \"#fb9f3a\"], [0.8888888888888888, \"#fdca26\"], [1.0, \"#f0f921\"]], \"type\": \"histogram2d\"}], \"histogram2dcontour\": [{\"colorbar\": {\"outlinewidth\": 0, \"ticks\": \"\"}, \"colorscale\": [[0.0, \"#0d0887\"], [0.1111111111111111, \"#46039f\"], [0.2222222222222222, \"#7201a8\"], [0.3333333333333333, \"#9c179e\"], [0.4444444444444444, \"#bd3786\"], [0.5555555555555556, \"#d8576b\"], [0.6666666666666666, \"#ed7953\"], [0.7777777777777778, \"#fb9f3a\"], [0.8888888888888888, \"#fdca26\"], [1.0, \"#f0f921\"]], \"type\": \"histogram2dcontour\"}], \"mesh3d\": [{\"colorbar\": {\"outlinewidth\": 0, \"ticks\": \"\"}, \"type\": \"mesh3d\"}], \"parcoords\": [{\"line\": {\"colorbar\": {\"outlinewidth\": 0, \"ticks\": \"\"}}, \"type\": \"parcoords\"}], \"pie\": [{\"automargin\": true, \"type\": \"pie\"}], \"scatter\": [{\"marker\": {\"colorbar\": {\"outlinewidth\": 0, \"ticks\": \"\"}}, \"type\": \"scatter\"}], \"scatter3d\": [{\"line\": {\"colorbar\": {\"outlinewidth\": 0, \"ticks\": \"\"}}, \"marker\": {\"colorbar\": {\"outlinewidth\": 0, \"ticks\": \"\"}}, \"type\": \"scatter3d\"}], \"scattercarpet\": [{\"marker\": {\"colorbar\": {\"outlinewidth\": 0, \"ticks\": \"\"}}, \"type\": \"scattercarpet\"}], \"scattergeo\": [{\"marker\": {\"colorbar\": {\"outlinewidth\": 0, \"ticks\": \"\"}}, \"type\": \"scattergeo\"}], \"scattergl\": [{\"marker\": {\"colorbar\": {\"outlinewidth\": 0, \"ticks\": \"\"}}, \"type\": \"scattergl\"}], \"scattermapbox\": [{\"marker\": {\"colorbar\": {\"outlinewidth\": 0, \"ticks\": \"\"}}, \"type\": \"scattermapbox\"}], \"scatterpolar\": [{\"marker\": {\"colorbar\": {\"outlinewidth\": 0, \"ticks\": \"\"}}, \"type\": \"scatterpolar\"}], \"scatterpolargl\": [{\"marker\": {\"colorbar\": {\"outlinewidth\": 0, \"ticks\": \"\"}}, \"type\": \"scatterpolargl\"}], \"scatterternary\": [{\"marker\": {\"colorbar\": {\"outlinewidth\": 0, \"ticks\": \"\"}}, \"type\": \"scatterternary\"}], \"surface\": [{\"colorbar\": {\"outlinewidth\": 0, \"ticks\": \"\"}, \"colorscale\": [[0.0, \"#0d0887\"], [0.1111111111111111, \"#46039f\"], [0.2222222222222222, \"#7201a8\"], [0.3333333333333333, \"#9c179e\"], [0.4444444444444444, \"#bd3786\"], [0.5555555555555556, \"#d8576b\"], [0.6666666666666666, \"#ed7953\"], [0.7777777777777778, \"#fb9f3a\"], [0.8888888888888888, \"#fdca26\"], [1.0, \"#f0f921\"]], \"type\": \"surface\"}], \"table\": [{\"cells\": {\"fill\": {\"color\": \"#EBF0F8\"}, \"line\": {\"color\": \"white\"}}, \"header\": {\"fill\": {\"color\": \"#C8D4E3\"}, \"line\": {\"color\": \"white\"}}, \"type\": \"table\"}]}, \"layout\": {\"annotationdefaults\": {\"arrowcolor\": \"#2a3f5f\", \"arrowhead\": 0, \"arrowwidth\": 1}, \"coloraxis\": {\"colorbar\": {\"outlinewidth\": 0, \"ticks\": \"\"}}, \"colorscale\": {\"diverging\": [[0, \"#8e0152\"], [0.1, \"#c51b7d\"], [0.2, \"#de77ae\"], [0.3, \"#f1b6da\"], [0.4, \"#fde0ef\"], [0.5, \"#f7f7f7\"], [0.6, \"#e6f5d0\"], [0.7, \"#b8e186\"], [0.8, \"#7fbc41\"], [0.9, \"#4d9221\"], [1, \"#276419\"]], \"sequential\": [[0.0, \"#0d0887\"], [0.1111111111111111, \"#46039f\"], [0.2222222222222222, \"#7201a8\"], [0.3333333333333333, \"#9c179e\"], [0.4444444444444444, \"#bd3786\"], [0.5555555555555556, \"#d8576b\"], [0.6666666666666666, \"#ed7953\"], [0.7777777777777778, \"#fb9f3a\"], [0.8888888888888888, \"#fdca26\"], [1.0, \"#f0f921\"]], \"sequentialminus\": [[0.0, \"#0d0887\"], [0.1111111111111111, \"#46039f\"], [0.2222222222222222, \"#7201a8\"], [0.3333333333333333, \"#9c179e\"], [0.4444444444444444, \"#bd3786\"], [0.5555555555555556, \"#d8576b\"], [0.6666666666666666, \"#ed7953\"], [0.7777777777777778, \"#fb9f3a\"], [0.8888888888888888, \"#fdca26\"], [1.0, \"#f0f921\"]]}, \"colorway\": [\"#636efa\", \"#EF553B\", \"#00cc96\", \"#ab63fa\", \"#FFA15A\", \"#19d3f3\", \"#FF6692\", \"#B6E880\", \"#FF97FF\", \"#FECB52\"], \"font\": {\"color\": \"#2a3f5f\"}, \"geo\": {\"bgcolor\": \"white\", \"lakecolor\": \"white\", \"landcolor\": \"#E5ECF6\", \"showlakes\": true, \"showland\": true, \"subunitcolor\": \"white\"}, \"hoverlabel\": {\"align\": \"left\"}, \"hovermode\": \"closest\", \"mapbox\": {\"style\": \"light\"}, \"paper_bgcolor\": \"white\", \"plot_bgcolor\": \"#E5ECF6\", \"polar\": {\"angularaxis\": {\"gridcolor\": \"white\", \"linecolor\": \"white\", \"ticks\": \"\"}, \"bgcolor\": \"#E5ECF6\", \"radialaxis\": {\"gridcolor\": \"white\", \"linecolor\": \"white\", \"ticks\": \"\"}}, \"scene\": {\"xaxis\": {\"backgroundcolor\": \"#E5ECF6\", \"gridcolor\": \"white\", \"gridwidth\": 2, \"linecolor\": \"white\", \"showbackground\": true, \"ticks\": \"\", \"zerolinecolor\": \"white\"}, \"yaxis\": {\"backgroundcolor\": \"#E5ECF6\", \"gridcolor\": \"white\", \"gridwidth\": 2, \"linecolor\": \"white\", \"showbackground\": true, \"ticks\": \"\", \"zerolinecolor\": \"white\"}, \"zaxis\": {\"backgroundcolor\": \"#E5ECF6\", \"gridcolor\": \"white\", \"gridwidth\": 2, \"linecolor\": \"white\", \"showbackground\": true, \"ticks\": \"\", \"zerolinecolor\": \"white\"}}, \"shapedefaults\": {\"line\": {\"color\": \"#2a3f5f\"}}, \"ternary\": {\"aaxis\": {\"gridcolor\": \"white\", \"linecolor\": \"white\", \"ticks\": \"\"}, \"baxis\": {\"gridcolor\": \"white\", \"linecolor\": \"white\", \"ticks\": \"\"}, \"bgcolor\": \"#E5ECF6\", \"caxis\": {\"gridcolor\": \"white\", \"linecolor\": \"white\", \"ticks\": \"\"}}, \"title\": {\"x\": 0.05}, \"xaxis\": {\"automargin\": true, \"gridcolor\": \"white\", \"linecolor\": \"white\", \"ticks\": \"\", \"title\": {\"standoff\": 15}, \"zerolinecolor\": \"white\", \"zerolinewidth\": 2}, \"yaxis\": {\"automargin\": true, \"gridcolor\": \"white\", \"linecolor\": \"white\", \"ticks\": \"\", \"title\": {\"standoff\": 15}, \"zerolinecolor\": \"white\", \"zerolinewidth\": 2}}}, \"title\": {\"text\": \"Xtreme Penalty Types\", \"x\": 0, \"xref\": \"paper\"}, \"width\": 700, \"xaxis\": {\"showgrid\": false, \"showticklabels\": false, \"zeroline\": false}, \"yaxis\": {\"showgrid\": false, \"showticklabels\": false, \"zeroline\": false}},\n",
              "                        {\"responsive\": true}\n",
              "                    ).then(function(){\n",
              "                            \n",
              "var gd = document.getElementById('71e9dba8-c518-4ad3-b9c1-af4f524862b9');\n",
              "var x = new MutationObserver(function (mutations, observer) {{\n",
              "        var display = window.getComputedStyle(gd).display;\n",
              "        if (!display || display === 'none') {{\n",
              "            console.log([gd, 'removed!']);\n",
              "            Plotly.purge(gd);\n",
              "            observer.disconnect();\n",
              "        }}\n",
              "}});\n",
              "\n",
              "// Listen for the removal of the full notebook cells\n",
              "var notebookContainer = gd.closest('#notebook-container');\n",
              "if (notebookContainer) {{\n",
              "    x.observe(notebookContainer, {childList: true});\n",
              "}}\n",
              "\n",
              "// Listen for the clearing of the current output cell\n",
              "var outputEl = gd.closest('.output');\n",
              "if (outputEl) {{\n",
              "    x.observe(outputEl, {childList: true});\n",
              "}}\n",
              "\n",
              "                        })\n",
              "                };\n",
              "                \n",
              "            </script>\n",
              "        </div>\n",
              "</body>\n",
              "</html>"
            ]
          },
          "metadata": {
            "tags": []
          }
        }
      ]
    },
    {
      "cell_type": "code",
      "metadata": {
        "id": "bM6MXF0gwR3L",
        "outputId": "425beb64-86e2-4c83-d587-32c621bbf5c0",
        "colab": {
          "base_uri": "https://localhost:8080/",
          "height": 297
        }
      },
      "source": [
        "# Pie chart with goal types\n",
        "\n",
        "# dictionary with goal types \n",
        "goal_types = {\"en\": \"Empty Net\", \"es\": \"Even Strength\", \"pp\": \"Power Play\", \"ps\": \"Penalty shot\", \"sh\": \"Short-handed\" }\n",
        "\n",
        "# get unique list of goal types \n",
        "dfx = df_goals[(df_goals.team == \"a\")]\n",
        "arr = dfx.type.unique()\n",
        "\n",
        "g_values = []\n",
        "g_labels = []\n",
        "\n",
        "for g in arr:\n",
        "  c = dfx[(dfx.type == g)].shape[0]\n",
        "  g_values.append(c)\n",
        "  g_labels.append(goal_types[g] + \" (\" + str(c) + \")\")\n",
        "\n",
        "#colors\n",
        "colors = ['#ff0000','#c0c0c0','#ffffff','#000000']\n",
        "\n",
        "fig1, ax1 = plt.subplots()\n",
        "#patches, texts, autotexts = ax1.pie(g_values, colors = colors, autopct='%1.0f%%', pctdistance=1.08, startangle=90)\n",
        "patches, texts = ax1.pie(g_values, colors = colors, pctdistance=1.08, startangle=90)\n",
        "\n",
        "# Equal aspect ratio ensures that pie is drawn as a circle\n",
        "plt.legend(patches, g_labels, loc=\"best\")\n",
        "ax1.axis('equal')  \n",
        "ax1.set_title('Types of Xtreme Goals (' + str(len(dfx.index)) + ')')\n",
        "plt.tight_layout()\n",
        "plt.show()"
      ],
      "execution_count": 10,
      "outputs": [
        {
          "output_type": "display_data",
          "data": {
            "image/png": "[encoded data removed]",
            "text/plain": [
              "<Figure size 432x288 with 1 Axes>"
            ]
          },
          "metadata": {
            "tags": []
          }
        }
      ]
    },
    {
      "cell_type": "code",
      "metadata": {
        "id": "u4F9Wi9-7QjT",
        "outputId": "0edf9b5c-ff9f-44c6-ef76-1851afe5bf2f",
        "colab": {
          "base_uri": "https://localhost:8080/",
          "height": 297
        }
      },
      "source": [
        "# Pie chart with goal types\n",
        "\n",
        "# dictionary with goal types \n",
        "#goal_types = {\"en\": \"Empty Net\", \"es\": \"Even Strength\", \"pp\": \"Power Play\", \"ps\": \"Penalty shot\", \"sh\": \"Short-handed\" }\n",
        "\n",
        "# get unique list of goal types \n",
        "dfx = df_goals[(df_goals.team == \"o\")]\n",
        "arr = dfx.type.unique()\n",
        "\n",
        "g_values = []\n",
        "g_labels = []\n",
        "\n",
        "for g in arr:\n",
        "  c = dfx[(dfx.type == g)].shape[0]\n",
        "  g_values.append(c)\n",
        "  g_labels.append(goal_types[g] + \" (\" + str(c) + \")\")\n",
        "\n",
        "#colors\n",
        "colors = ['#80b1d3','#fb8072','#8dd3c7','#fccde5']\n",
        "\n",
        "fig1, ax1 = plt.subplots()\n",
        "#patches, texts, autotexts = ax1.pie(g_values, colors = colors, autopct='%1.0f%%', pctdistance=1.08, startangle=90)\n",
        "patches, texts = ax1.pie(g_values, colors = colors, pctdistance=1.08, startangle=90)\n",
        "\n",
        "# Equal aspect ratio ensures that pie is drawn as a circle\n",
        "plt.legend(patches, g_labels, loc=\"best\")\n",
        "ax1.axis('equal')  \n",
        "ax1.set_title('Types of Opponent Goals (' + str(len(dfx.index)) + ')')\n",
        "plt.tight_layout()\n",
        "plt.show()"
      ],
      "execution_count": 11,
      "outputs": [
        {
          "output_type": "display_data",
          "data": {
            "image/png": "[encoded data removed]",
            "text/plain": [
              "<Figure size 432x288 with 1 Axes>"
            ]
          },
          "metadata": {
            "tags": []
          }
        }
      ]
    },
    {
      "cell_type": "code",
      "metadata": {
        "id": "JjMUguEHx3x8",
        "outputId": "a867a196-d09a-4252-997f-d0dce9b575f9",
        "colab": {
          "base_uri": "https://localhost:8080/",
          "height": 35
        }
      },
      "source": [
        "# calculate how many times Xtreme scored first \n",
        "\n",
        "dfx = pd.DataFrame(columns=[\"game\",\t\"team\",\t\"period\",\t\"time\",\t\"type\"])\n",
        "\n",
        "num_games = df_games.shape[0]\n",
        "\n",
        "# build dataframe where xtreme scored first \n",
        "for g in range(1,num_games+1):\n",
        "    t = df_goals[(df_goals.game == g)].head(1)\n",
        "    dfx = pd.concat([t, dfx[:]])\n",
        "\n",
        "# loop through it to get their record \n",
        "x_win = 0 \n",
        "x_loss = 0 \n",
        "x_tie = 0 \n",
        "\n",
        "dft = dfx[(dfx.team == \"a\")]\n",
        "\n",
        "for idx in dft.index:\n",
        "    # for each game, determine if Xtreme won or lost\n",
        "    g = dft[\"game\"][idx]\n",
        "    # go get score for each game \n",
        "    if ((df_games[(df_games.game == g)].axscore.iloc[0]) > (df_games[(df_games.game == g)].oppscore.iloc[0])):\n",
        "      x_win = x_win + 1\n",
        "    elif ((df_games[(df_games.game == g)].axscore.iloc[0]) < (df_games[(df_games.game == g)].oppscore.iloc[0])):\n",
        "      x_loss = x_loss + 1\n",
        "    else: \n",
        "      x_tie = x_tie + 1\n",
        "\n",
        "print(\"<b>\" +  str(x_win) + \"-\" + str(x_loss) + \"-\" + str(x_tie) + \"</b> when scoring first.\")\n"
      ],
      "execution_count": null,
      "outputs": [
        {
          "output_type": "stream",
          "text": [
            "<b>3-1-1</b> when scoring first.\n"
          ],
          "name": "stdout"
        }
      ]
    },
    {
      "cell_type": "code",
      "metadata": {
        "id": "Nd0RiU4koGob",
        "outputId": "20b8750f-18a3-4f50-def6-6ff498056855",
        "colab": {
          "base_uri": "https://localhost:8080/",
          "height": 35
        }
      },
      "source": [
        "# calculate power play percentage (calculated by dividing power play goals by power play opportunities)\n",
        "\n",
        "ppg = df_goals[(df_goals.team == \"a\") & (df_goals.type == \"pp\")].shape[0]\n",
        "ppo = df_penalties[(df_penalties.team == \"o\")].shape[0]\n",
        "pp = '{0:.0f}'.format((ppg / ppo * 100))\n",
        "print(\"Power play percentage: <b>\" + str(pp) + \"%</b>, \")\n"
      ],
      "execution_count": null,
      "outputs": [
        {
          "output_type": "stream",
          "text": [
            "Power play percentage: <b>7%</b>, \n"
          ],
          "name": "stdout"
        }
      ]
    },
    {
      "cell_type": "code",
      "metadata": {
        "id": "ltWDq6BxqYjQ",
        "outputId": "23b3c72d-9ff3-459b-f11a-f2f3dc65d8db",
        "colab": {
          "base_uri": "https://localhost:8080/",
          "height": 35
        }
      },
      "source": [
        "# calculate penalty kill percentage (calculated by subtracting power play goals against from power \n",
        "#play opportunities against, then dividing by power play opportunities against.)\n",
        "\n",
        "ppg = df_goals[(df_goals.team == \"o\") & (df_goals.type == \"pp\")].shape[0]\n",
        "ppo = df_penalties[(df_penalties.team == \"a\")].shape[0]\n",
        "pp = '{0:.0f}'.format(((ppo - ppg) / ppo * 100))\n",
        "print(\"penalty kill percentage: <b>\" + str(pp) + \"%</b>.\")\n"
      ],
      "execution_count": null,
      "outputs": [
        {
          "output_type": "stream",
          "text": [
            "penalty kill percentage: <b>85%</b>.\n"
          ],
          "name": "stdout"
        }
      ]
    },
    {
      "cell_type": "code",
      "metadata": {
        "id": "Rbb9WrydfaU8",
        "outputId": "1351d2b5-ac2b-472d-e84a-7f9d335b2f53",
        "colab": {
          "base_uri": "https://localhost:8080/",
          "height": 35
        }
      },
      "source": [
        "# calculate average shots per game (xtreme and opponents) \n",
        "\n",
        "num_games = df_games.shape[0]\n",
        "\n",
        "x_shots = (df_shots['ashburn_p1'].sum() + df_shots['ashburn_p2'].sum() + \n",
        "           df_shots['ashburn_p3'].sum() + df_shots['ashburn_ot'].sum())\n",
        "\n",
        "o_shots = (df_shots['opp_p1'].sum() + df_shots['opp_p2'].sum() + \n",
        "           df_shots['opp_p3'].sum() + df_shots['opp_ot'].sum())\n",
        "\n",
        "x_avg_shots = '{0:.0f}'.format(x_shots / num_games * 1) # round to whole number .0f\n",
        "o_avg_shots = '{0:.0f}'.format(o_shots / num_games * 1) # round to whole number .0f\n",
        "\n",
        "print(\"Averaging <b>\" + str(x_avg_shots) + \"</b> shots per game while opponents average <b>\" +\n",
        "      str(o_avg_shots) + \"</b>.\")"
      ],
      "execution_count": null,
      "outputs": [
        {
          "output_type": "stream",
          "text": [
            "Averaging <b>26</b> shots per game while opponents average <b>28</b>.\n"
          ],
          "name": "stdout"
        }
      ]
    },
    {
      "cell_type": "code",
      "metadata": {
        "id": "PW4J0MTVkbuJ",
        "outputId": "24e2f1e0-30ef-4b84-b3da-ccbbe4babf69",
        "colab": {
          "base_uri": "https://localhost:8080/",
          "height": 35
        }
      },
      "source": [
        "# what is Xtreme record when getting over x shots?\n",
        "target_shots = 30\n",
        "x_win = 0 \n",
        "x_loss = 0 \n",
        "x_tie = 0 \n",
        "\n",
        "# iterate through shots table \n",
        "for idx in df_shots.index:\n",
        "  # total up the shots\n",
        "  g = df_shots['game'][idx]\n",
        "  shots = df_shots[\"ashburn_p1\"][idx] + df_shots[\"ashburn_p2\"][idx] + df_shots[\"ashburn_p3\"][idx] + df_shots[\"ashburn_ot\"][idx]\n",
        "  \n",
        "  # over?\n",
        "  if (shots >= target_shots):\n",
        "    # print(g, shots)\n",
        "    # get the game and see if Xtreme won or lost\n",
        "    axscore = df_games[(df_games.game == g)].axscore.iloc[0]\n",
        "    oppscore = df_games[(df_games.game == g)].oppscore.iloc[0]\n",
        "    if (axscore > oppscore):\n",
        "      x_win = x_win + 1\n",
        "    elif (axscore < oppscore):\n",
        "      x_loss = x_loss + 1\n",
        "    else:\n",
        "      x_tie = x_tie + 1\n",
        "  \n",
        "# results? \n",
        "print(\"<b>\" + str(x_win) + \"-\" + str(x_loss) + \"-\" + str(x_tie) + \"</b> when getting \" + \n",
        "      str(target_shots) + \" or more shots in a game.\")\n"
      ],
      "execution_count": null,
      "outputs": [
        {
          "output_type": "stream",
          "text": [
            "<b>3-0-0</b> when getting 30 or more shots in a game.\n"
          ],
          "name": "stdout"
        }
      ]
    },
    {
      "cell_type": "code",
      "metadata": {
        "id": "rqpJH8_k2270",
        "outputId": "63a6aa75-9085-4677-ee0f-b8b6651d704f",
        "colab": {
          "base_uri": "https://localhost:8080/",
          "height": 398
        }
      },
      "source": [
        "# calculate how many periods xtreme have scored in \n",
        "\n",
        "num_games = df_games.shape[0]\n",
        "\n",
        "periods_scored = 0 \n",
        "for g in range(1,num_games+1): \n",
        "  dfx = df_goals[(df_goals.game == g) & (df_goals.team == \"a\")]\n",
        "  periods = dfx[\"period\"].unique().size\n",
        "  periods_scored = periods_scored + periods\n",
        "\n",
        "# count # periods where > 0 \n",
        "total_periods = 0 \n",
        "for g in range(1,num_games+1): \n",
        "  for p in range(1,5):\n",
        "    period_num = \"p\" + str(p) + \"_length\"\n",
        "    period_length = df_periods.loc[df_periods.game == g, period_num].iloc[0]\n",
        "    if (period_length > 0):\n",
        "      total_periods = total_periods + 1\n",
        "\n",
        "ps = '{0:.0f}'.format(periods_scored / total_periods * 100)\n",
        "\n",
        "print(\"Scored in <b>\" + str(periods_scored) + \"</b> out of <b>\" + str(total_periods) + \"</b> periods (\" + \n",
        "      str(ps) + \"%).\")\n"
      ],
      "execution_count": null,
      "outputs": [
        {
          "output_type": "error",
          "ename": "IndexError",
          "evalue": "ignored",
          "traceback": [
            "\u001b[0;31m---------------------------------------------------------------------------\u001b[0m",
            "\u001b[0;31mIndexError\u001b[0m                                Traceback (most recent call last)",
            "\u001b[0;32m<ipython-input-15-381aeb1285c3>\u001b[0m in \u001b[0;36m<module>\u001b[0;34m()\u001b[0m\n\u001b[1;32m     14\u001b[0m   \u001b[0;32mfor\u001b[0m \u001b[0mp\u001b[0m \u001b[0;32min\u001b[0m \u001b[0mrange\u001b[0m\u001b[0;34m(\u001b[0m\u001b[0;36m1\u001b[0m\u001b[0;34m,\u001b[0m\u001b[0;36m5\u001b[0m\u001b[0;34m)\u001b[0m\u001b[0;34m:\u001b[0m\u001b[0;34m\u001b[0m\u001b[0;34m\u001b[0m\u001b[0m\n\u001b[1;32m     15\u001b[0m     \u001b[0mperiod_num\u001b[0m \u001b[0;34m=\u001b[0m \u001b[0;34m\"p\"\u001b[0m \u001b[0;34m+\u001b[0m \u001b[0mstr\u001b[0m\u001b[0;34m(\u001b[0m\u001b[0mp\u001b[0m\u001b[0;34m)\u001b[0m \u001b[0;34m+\u001b[0m \u001b[0;34m\"_length\"\u001b[0m\u001b[0;34m\u001b[0m\u001b[0;34m\u001b[0m\u001b[0m\n\u001b[0;32m---> 16\u001b[0;31m     \u001b[0mperiod_length\u001b[0m \u001b[0;34m=\u001b[0m \u001b[0mdf_periods\u001b[0m\u001b[0;34m.\u001b[0m\u001b[0mloc\u001b[0m\u001b[0;34m[\u001b[0m\u001b[0mdf_periods\u001b[0m\u001b[0;34m.\u001b[0m\u001b[0mgame\u001b[0m \u001b[0;34m==\u001b[0m \u001b[0mg\u001b[0m\u001b[0;34m,\u001b[0m \u001b[0mperiod_num\u001b[0m\u001b[0;34m]\u001b[0m\u001b[0;34m.\u001b[0m\u001b[0miloc\u001b[0m\u001b[0;34m[\u001b[0m\u001b[0;36m0\u001b[0m\u001b[0;34m]\u001b[0m\u001b[0;34m\u001b[0m\u001b[0;34m\u001b[0m\u001b[0m\n\u001b[0m\u001b[1;32m     17\u001b[0m     \u001b[0;32mif\u001b[0m \u001b[0;34m(\u001b[0m\u001b[0mperiod_length\u001b[0m \u001b[0;34m>\u001b[0m \u001b[0;36m0\u001b[0m\u001b[0;34m)\u001b[0m\u001b[0;34m:\u001b[0m\u001b[0;34m\u001b[0m\u001b[0;34m\u001b[0m\u001b[0m\n\u001b[1;32m     18\u001b[0m       \u001b[0mtotal_periods\u001b[0m \u001b[0;34m=\u001b[0m \u001b[0mtotal_periods\u001b[0m \u001b[0;34m+\u001b[0m \u001b[0;36m1\u001b[0m\u001b[0;34m\u001b[0m\u001b[0;34m\u001b[0m\u001b[0m\n",
            "\u001b[0;32m/usr/local/lib/python3.6/dist-packages/pandas/core/indexing.py\u001b[0m in \u001b[0;36m__getitem__\u001b[0;34m(self, key)\u001b[0m\n\u001b[1;32m    877\u001b[0m \u001b[0;34m\u001b[0m\u001b[0m\n\u001b[1;32m    878\u001b[0m             \u001b[0mmaybe_callable\u001b[0m \u001b[0;34m=\u001b[0m \u001b[0mcom\u001b[0m\u001b[0;34m.\u001b[0m\u001b[0mapply_if_callable\u001b[0m\u001b[0;34m(\u001b[0m\u001b[0mkey\u001b[0m\u001b[0;34m,\u001b[0m \u001b[0mself\u001b[0m\u001b[0;34m.\u001b[0m\u001b[0mobj\u001b[0m\u001b[0;34m)\u001b[0m\u001b[0;34m\u001b[0m\u001b[0;34m\u001b[0m\u001b[0m\n\u001b[0;32m--> 879\u001b[0;31m             \u001b[0;32mreturn\u001b[0m \u001b[0mself\u001b[0m\u001b[0;34m.\u001b[0m\u001b[0m_getitem_axis\u001b[0m\u001b[0;34m(\u001b[0m\u001b[0mmaybe_callable\u001b[0m\u001b[0;34m,\u001b[0m \u001b[0maxis\u001b[0m\u001b[0;34m=\u001b[0m\u001b[0maxis\u001b[0m\u001b[0;34m)\u001b[0m\u001b[0;34m\u001b[0m\u001b[0;34m\u001b[0m\u001b[0m\n\u001b[0m\u001b[1;32m    880\u001b[0m \u001b[0;34m\u001b[0m\u001b[0m\n\u001b[1;32m    881\u001b[0m     \u001b[0;32mdef\u001b[0m \u001b[0m_is_scalar_access\u001b[0m\u001b[0;34m(\u001b[0m\u001b[0mself\u001b[0m\u001b[0;34m,\u001b[0m \u001b[0mkey\u001b[0m\u001b[0;34m:\u001b[0m \u001b[0mTuple\u001b[0m\u001b[0;34m)\u001b[0m\u001b[0;34m:\u001b[0m\u001b[0;34m\u001b[0m\u001b[0;34m\u001b[0m\u001b[0m\n",
            "\u001b[0;32m/usr/local/lib/python3.6/dist-packages/pandas/core/indexing.py\u001b[0m in \u001b[0;36m_getitem_axis\u001b[0;34m(self, key, axis)\u001b[0m\n\u001b[1;32m   1494\u001b[0m \u001b[0;34m\u001b[0m\u001b[0m\n\u001b[1;32m   1495\u001b[0m             \u001b[0;31m# validate the location\u001b[0m\u001b[0;34m\u001b[0m\u001b[0;34m\u001b[0m\u001b[0;34m\u001b[0m\u001b[0m\n\u001b[0;32m-> 1496\u001b[0;31m             \u001b[0mself\u001b[0m\u001b[0;34m.\u001b[0m\u001b[0m_validate_integer\u001b[0m\u001b[0;34m(\u001b[0m\u001b[0mkey\u001b[0m\u001b[0;34m,\u001b[0m \u001b[0maxis\u001b[0m\u001b[0;34m)\u001b[0m\u001b[0;34m\u001b[0m\u001b[0;34m\u001b[0m\u001b[0m\n\u001b[0m\u001b[1;32m   1497\u001b[0m \u001b[0;34m\u001b[0m\u001b[0m\n\u001b[1;32m   1498\u001b[0m             \u001b[0;32mreturn\u001b[0m \u001b[0mself\u001b[0m\u001b[0;34m.\u001b[0m\u001b[0mobj\u001b[0m\u001b[0;34m.\u001b[0m\u001b[0m_ixs\u001b[0m\u001b[0;34m(\u001b[0m\u001b[0mkey\u001b[0m\u001b[0;34m,\u001b[0m \u001b[0maxis\u001b[0m\u001b[0;34m=\u001b[0m\u001b[0maxis\u001b[0m\u001b[0;34m)\u001b[0m\u001b[0;34m\u001b[0m\u001b[0;34m\u001b[0m\u001b[0m\n",
            "\u001b[0;32m/usr/local/lib/python3.6/dist-packages/pandas/core/indexing.py\u001b[0m in \u001b[0;36m_validate_integer\u001b[0;34m(self, key, axis)\u001b[0m\n\u001b[1;32m   1435\u001b[0m         \u001b[0mlen_axis\u001b[0m \u001b[0;34m=\u001b[0m \u001b[0mlen\u001b[0m\u001b[0;34m(\u001b[0m\u001b[0mself\u001b[0m\u001b[0;34m.\u001b[0m\u001b[0mobj\u001b[0m\u001b[0;34m.\u001b[0m\u001b[0m_get_axis\u001b[0m\u001b[0;34m(\u001b[0m\u001b[0maxis\u001b[0m\u001b[0;34m)\u001b[0m\u001b[0;34m)\u001b[0m\u001b[0;34m\u001b[0m\u001b[0;34m\u001b[0m\u001b[0m\n\u001b[1;32m   1436\u001b[0m         \u001b[0;32mif\u001b[0m \u001b[0mkey\u001b[0m \u001b[0;34m>=\u001b[0m \u001b[0mlen_axis\u001b[0m \u001b[0;32mor\u001b[0m \u001b[0mkey\u001b[0m \u001b[0;34m<\u001b[0m \u001b[0;34m-\u001b[0m\u001b[0mlen_axis\u001b[0m\u001b[0;34m:\u001b[0m\u001b[0;34m\u001b[0m\u001b[0;34m\u001b[0m\u001b[0m\n\u001b[0;32m-> 1437\u001b[0;31m             \u001b[0;32mraise\u001b[0m \u001b[0mIndexError\u001b[0m\u001b[0;34m(\u001b[0m\u001b[0;34m\"single positional indexer is out-of-bounds\"\u001b[0m\u001b[0;34m)\u001b[0m\u001b[0;34m\u001b[0m\u001b[0;34m\u001b[0m\u001b[0m\n\u001b[0m\u001b[1;32m   1438\u001b[0m \u001b[0;34m\u001b[0m\u001b[0m\n\u001b[1;32m   1439\u001b[0m     \u001b[0;31m# -------------------------------------------------------------------\u001b[0m\u001b[0;34m\u001b[0m\u001b[0;34m\u001b[0m\u001b[0;34m\u001b[0m\u001b[0m\n",
            "\u001b[0;31mIndexError\u001b[0m: single positional indexer is out-of-bounds"
          ]
        }
      ]
    },
    {
      "cell_type": "code",
      "metadata": {
        "id": "LLz5VaOzsvgd",
        "outputId": "9b8b8209-1e86-4d40-c200-e1a9af18c8a9",
        "colab": {
          "base_uri": "https://localhost:8080/",
          "height": 53
        }
      },
      "source": [
        "# calculate when we give up a goal within 1 minute or 2 of scoring one \n",
        "# find an xtreme goal, see if next one is opponent, then subtract time? \n",
        "\n",
        "# use a counter\n",
        "ctr = 0 \n",
        "\n",
        "# use one minute as threshold\n",
        "threshold = datetime.timedelta(minutes=1)\n",
        "\n",
        "# get all xtreme goals \n",
        "dfx = df_goals[(df_goals.team == \"a\")]\n",
        "\n",
        "# loop through each one\n",
        "for x in range(1, dfx.shape[0]+1):\n",
        "    try: \n",
        "        # current goal is ashburn\n",
        "        curr_goal = dfx.iloc[x]\n",
        "        # next goal is whatever the next one is \n",
        "        next_goal = df_goals.iloc[curr_goal.name+1]\n",
        "        # need to verify next goal occured in the same game, same period, and was scored by opponet\n",
        "        if ((next_goal[0] == curr_goal[0]) & (next_goal[1] == \"o\") & (next_goal[2] == curr_goal[2])):\n",
        "            # now, grab time of ashburn goal and opponent goal \n",
        "            [x1_min, x1_sec] = [int(x) for x in curr_goal[3].split(':')]\n",
        "            a_goal_time = datetime.timedelta(minutes=x1_min, seconds=x1_sec)\n",
        "            [x2_min, x2_sec] = [int(x) for x in next_goal[3].split(':')]\n",
        "            o_goal_time = datetime.timedelta(minutes=x2_min, seconds=x2_sec)\n",
        "            # subtract to get time differential and see if below the threshold\n",
        "            time_diff = a_goal_time - o_goal_time\n",
        "            if (time_diff < threshold):\n",
        "              #print(next_goal)\n",
        "              # increment the counter\n",
        "              ctr = ctr + 1\n",
        "    except:\n",
        "        print(\"\")\n",
        "        \n",
        "#print out the result\n",
        "print(\"Opponents have sored <b>\" + str(ctr) + \"</b> times within one minute of the Xtreme scoring a goal.\")\n",
        "\n"
      ],
      "execution_count": null,
      "outputs": [
        {
          "output_type": "stream",
          "text": [
            "\n",
            "Opponents have sored <b>3</b> times within one minute of the Xtreme scoring a goal.\n"
          ],
          "name": "stdout"
        }
      ]
    },
    {
      "cell_type": "code",
      "metadata": {
        "id": "yOS9M8XElPUU",
        "outputId": "cdc40c1f-389f-4b69-a189-731d6616b0ce",
        "colab": {
          "base_uri": "https://localhost:8080/",
          "height": 35
        }
      },
      "source": [
        "# calculate Xtreme record when leading after two periods \n",
        "\n",
        "num_games = df_games.shape[0]\n",
        "\n",
        "x_win = 0 \n",
        "x_tie = 0 \n",
        "x_loss = 0 \n",
        "\n",
        "for g in range(1, num_games+1): \n",
        "  # go through each game, add up xtreme and opponent goals through two periods \n",
        "  x_goals_through_two = df_goals[(df_goals.game == g) & (df_goals.team == \"a\") & (df_goals.period == 1)].shape[0] + df_goals[(df_goals.game == g) & (df_goals.team == \"a\") & (df_goals.period == 2)].shape[0]\n",
        "  o_goals_through_two = df_goals[(df_goals.game == g) & (df_goals.team == \"o\") & (df_goals.period == 1)].shape[0] + df_goals[(df_goals.game == g) & (df_goals.team == \"o\") & (df_goals.period == 2)].shape[0]\n",
        "  # if behind, get 3rd period and ot score, see if they won the game \n",
        "  if (x_goals_through_two > o_goals_through_two): \n",
        "      # add to counter for when behind \n",
        "      x_goals_3rd_and_ot = df_goals[(df_goals.game == g) & (df_goals.team == \"a\") & (df_goals.period == 3)].shape[0] + df_goals[(df_goals.game == g) & (df_goals.team == \"a\") & (df_goals.period == 4)].shape[0]  \n",
        "      o_goals_3rd_and_ot = df_goals[(df_goals.game == g) & (df_goals.team == \"o\") & (df_goals.period == 3)].shape[0] + df_goals[(df_goals.game == g) & (df_goals.team == \"o\") & (df_goals.period == 4)].shape[0]\n",
        "      # compute final score \n",
        "      x_final = x_goals_through_two + x_goals_3rd_and_ot\n",
        "      o_final = o_goals_through_two + o_goals_3rd_and_ot\n",
        "      if (x_final > o_final):\n",
        "        x_win = x_win + 1\n",
        "      elif (x_final < o_final):\n",
        "        x_loss = x_loss + 1\n",
        "      else: \n",
        "        x_tie = x_tie + 1\n",
        "\n",
        "print(\"<b>\" + str(x_win) + \"-\" + str(x_loss) + \"-\" + str(x_tie) + \"</b> when leading after two periods, \")\n"
      ],
      "execution_count": null,
      "outputs": [
        {
          "output_type": "stream",
          "text": [
            "<b>3-0-2</b> when leading after two periods, \n"
          ],
          "name": "stdout"
        }
      ]
    },
    {
      "cell_type": "code",
      "metadata": {
        "id": "usOumMeQb9P7",
        "outputId": "95dbfc3a-eb71-4002-ca54-3cb8e04762a3",
        "colab": {
          "base_uri": "https://localhost:8080/",
          "height": 35
        }
      },
      "source": [
        "# calculate how many times the Xtreme have won a game when trailing after two periods \n",
        "\n",
        "num_games = df_games.shape[0]\n",
        "\n",
        "games_trailing = 0 \n",
        "x_win = 0 \n",
        "x_tie = 0 \n",
        "x_loss = 0 \n",
        "\n",
        "for g in range(1, num_games+1): \n",
        "  # go through each game, add up xtreme and opponent goals through two periods \n",
        "  x_goals_through_two = df_goals[(df_goals.game == g) & (df_goals.team == \"a\") & (df_goals.period == 1)].shape[0] + df_goals[(df_goals.game == g) & (df_goals.team == \"a\") & (df_goals.period == 2)].shape[0]\n",
        "  o_goals_through_two = df_goals[(df_goals.game == g) & (df_goals.team == \"o\") & (df_goals.period == 1)].shape[0] + df_goals[(df_goals.game == g) & (df_goals.team == \"o\") & (df_goals.period == 2)].shape[0]\n",
        "  # if behind, get 3rd period and ot score, see if they won the game \n",
        "  if (x_goals_through_two <= o_goals_through_two): \n",
        "      # add to counter for when behind \n",
        "      games_trailing = games_trailing + 1\n",
        "      x_goals_3rd_and_ot = df_goals[(df_goals.game == g) & (df_goals.team == \"a\") & (df_goals.period == 3)].shape[0] + df_goals[(df_goals.game == g) & (df_goals.team == \"a\") & (df_goals.period == 4)].shape[0]  \n",
        "      o_goals_3rd_and_ot = df_goals[(df_goals.game == g) & (df_goals.team == \"o\") & (df_goals.period == 3)].shape[0] + df_goals[(df_goals.game == g) & (df_goals.team == \"o\") & (df_goals.period == 4)].shape[0]\n",
        "      # compute final score \n",
        "      x_final = x_goals_through_two + x_goals_3rd_and_ot\n",
        "      o_final = o_goals_through_two + o_goals_3rd_and_ot\n",
        "      if (x_final > o_final):\n",
        "        x_win = x_win + 1\n",
        "      elif (x_final < o_final):\n",
        "        x_loss = x_loss + 1\n",
        "      else: \n",
        "        x_tie = x_tie + 1\n",
        "\n",
        "print(\"<b>\" + str(x_win) + \"-\" + str(x_loss) + \"-\" + str(x_tie) + \"</b> when trailing or tied after two periods.\")\n"
      ],
      "execution_count": null,
      "outputs": [
        {
          "output_type": "stream",
          "text": [
            "<b>0-3-0</b> when trailing or tied after two periods.\n"
          ],
          "name": "stdout"
        }
      ]
    },
    {
      "cell_type": "code",
      "metadata": {
        "id": "iFjXF9DuaoXW",
        "outputId": "63ae611c-0989-4e5c-e17e-c8b8c0bcd29f",
        "colab": {
          "base_uri": "https://localhost:8080/",
          "height": 245
        }
      },
      "source": [
        "# calculate shooting percentage (goals / shots on goal)\n",
        "\n",
        "shot_percentage = []\n",
        "\n",
        "for x in range(1,5):\n",
        "  x_goals = df_goals[(df_goals.team == \"a\") & (df_goals.period == x)].shape[0]\n",
        "  period = \"ashburn_p\" + str(x)\n",
        "  if (x == 4):\n",
        "    period = \"ashburn_ot\"\n",
        "\n",
        "  x_shots = df_shots[period].sum()\n",
        "\n",
        "  shot_percentage.append('{0:.0f}'.format(int(x_goals) / int(x_shots) * 100))\n",
        "\n",
        "display = \"Shooting percentage by period: <b>\"\n",
        "\n",
        "for x in range(1,5):\n",
        "  if (x == 1):\n",
        "    period = str(x) + \"st: \" + str(shot_percentage[0]) + \"%, \"\n",
        "  elif (x == 2):\n",
        "    period = str(x) + \"nd: \" + str(shot_percentage[1]) + \"%, \"\n",
        "  elif (x == 3):\n",
        "    period = str(x) + \"rd: \" + str(shot_percentage[2]) + \"%, \"\n",
        "  else:\n",
        "    period = \"OT: \" + str(shot_percentage[3]) + \"%</b>.\"\n",
        "\n",
        "  display = display + period\n",
        "\n",
        "print(display)\n",
        "\n"
      ],
      "execution_count": null,
      "outputs": [
        {
          "output_type": "error",
          "ename": "ZeroDivisionError",
          "evalue": "ignored",
          "traceback": [
            "\u001b[0;31m---------------------------------------------------------------------------\u001b[0m",
            "\u001b[0;31mZeroDivisionError\u001b[0m                         Traceback (most recent call last)",
            "\u001b[0;32m<ipython-input-22-9b1b78be25f5>\u001b[0m in \u001b[0;36m<module>\u001b[0;34m()\u001b[0m\n\u001b[1;32m     11\u001b[0m   \u001b[0mx_shots\u001b[0m \u001b[0;34m=\u001b[0m \u001b[0mdf_shots\u001b[0m\u001b[0;34m[\u001b[0m\u001b[0mperiod\u001b[0m\u001b[0;34m]\u001b[0m\u001b[0;34m.\u001b[0m\u001b[0msum\u001b[0m\u001b[0;34m(\u001b[0m\u001b[0;34m)\u001b[0m\u001b[0;34m\u001b[0m\u001b[0;34m\u001b[0m\u001b[0m\n\u001b[1;32m     12\u001b[0m \u001b[0;34m\u001b[0m\u001b[0m\n\u001b[0;32m---> 13\u001b[0;31m   \u001b[0mshot_percentage\u001b[0m\u001b[0;34m.\u001b[0m\u001b[0mappend\u001b[0m\u001b[0;34m(\u001b[0m\u001b[0;34m'{0:.0f}'\u001b[0m\u001b[0;34m.\u001b[0m\u001b[0mformat\u001b[0m\u001b[0;34m(\u001b[0m\u001b[0mint\u001b[0m\u001b[0;34m(\u001b[0m\u001b[0mx_goals\u001b[0m\u001b[0;34m)\u001b[0m \u001b[0;34m/\u001b[0m \u001b[0mint\u001b[0m\u001b[0;34m(\u001b[0m\u001b[0mx_shots\u001b[0m\u001b[0;34m)\u001b[0m \u001b[0;34m*\u001b[0m \u001b[0;36m100\u001b[0m\u001b[0;34m)\u001b[0m\u001b[0;34m)\u001b[0m\u001b[0;34m\u001b[0m\u001b[0;34m\u001b[0m\u001b[0m\n\u001b[0m\u001b[1;32m     14\u001b[0m \u001b[0;34m\u001b[0m\u001b[0m\n\u001b[1;32m     15\u001b[0m \u001b[0mdisplay\u001b[0m \u001b[0;34m=\u001b[0m \u001b[0;34m\"Shooting percentage by period: <b>\"\u001b[0m\u001b[0;34m\u001b[0m\u001b[0;34m\u001b[0m\u001b[0m\n",
            "\u001b[0;31mZeroDivisionError\u001b[0m: division by zero"
          ]
        }
      ]
    },
    {
      "cell_type": "code",
      "metadata": {
        "id": "8w4KDN1JZ0c5",
        "outputId": "fc3b812d-14e8-4953-d6ad-98ec377c023f",
        "colab": {
          "base_uri": "https://localhost:8080/",
          "height": 297
        }
      },
      "source": [
        "# pie chart with time Xtreme is ahead, losing, or tied \n",
        "\n",
        "# psuedo-logic \n",
        "# loop through each game, get period length, loop through goals by period, start with period length - time of next goal\n",
        "# then if tied, winning, or losing add time difference to the total, continue, rinse, repeat\n",
        "num_games = df_games.shape[0]\n",
        "\n",
        "time_leading = datetime.timedelta(minutes=0, seconds=0)\n",
        "time_trailing = datetime.timedelta(minutes=0, seconds=0)\n",
        "time_tied = datetime.timedelta(minutes=0, seconds=0) \n",
        "curr_time = datetime.timedelta(minutes=0, seconds=0) \n",
        "a_score = 0 \n",
        "o_score = 0 \n",
        "\n",
        "# loop through each game\n",
        "for g in range(1, num_games+1):\n",
        "\n",
        "  # reset sores \n",
        "  a_score = 0 \n",
        "  o_score = 0 \n",
        "\n",
        "  # create a temporary dataframe with just that game \n",
        "  df_game_goals = df_goals[(df_goals.game == g)]\n",
        "  \n",
        "  # loop through each period \n",
        "  for p in range(1,5):\n",
        "    # dynmically get period length \n",
        "    period_length = df_periods[(df_periods.game == g)][\"p\" + str(p)+ \"_length\"].iloc[0]\n",
        "    period_time = datetime.timedelta(minutes=int(period_length), seconds=0)\n",
        "    df_period_goals = df_game_goals[(df_game_goals.period == p)] \n",
        "\n",
        "    # init current time to period length \n",
        "    curr_time = period_time\n",
        "\n",
        "    # only proceed if there was any time  in that period (not always an OT game)\n",
        "    if (period_length > 0):\n",
        "      \n",
        "      # get number of goals in the period \n",
        "      num_goals_this_period = df_period_goals.shape[0]\n",
        "\n",
        "      # if no goals scored that period, just add time on\n",
        "      if (num_goals_this_period == 0):\n",
        "        if (a_score == o_score):\n",
        "          time_tied = time_tied + period_time\n",
        "        elif (a_score > o_score):\n",
        "          time_leading = time_leading + period_time\n",
        "        else: \n",
        "          time_trailing = time_trailing + period_time\n",
        "\n",
        "      else:\n",
        "        # track number of goals\n",
        "        goal_counter = 1\n",
        "\n",
        "        # yes, goals that period so iterate over each goal  \n",
        "        for idx in df_period_goals.index:\n",
        "\n",
        "          # get each goal and store time difference from curr_time to time goal scored\n",
        "          xtime = df_period_goals[\"time\"][idx]\n",
        "          [m, s] = [int(x) for x in xtime.split(':')]\n",
        "          time_goal_scored = datetime.timedelta(minutes=m, seconds=s)\n",
        "          time_diff = curr_time - time_goal_scored\n",
        "          curr_time = time_goal_scored \n",
        "\n",
        "          # decide where to assign the time \n",
        "          if (a_score == o_score):\n",
        "            time_tied = time_tied + time_diff\n",
        "          elif (a_score > o_score):\n",
        "            time_leading = time_leading + time_diff\n",
        "          else: \n",
        "            time_trailing = time_trailing + time_diff\n",
        "\n",
        "          # increment the score \n",
        "          if df_period_goals[\"team\"][idx] == \"a\": \n",
        "            a_score = a_score + 1\n",
        "          else: \n",
        "            o_score = o_score + 1\n",
        "\n",
        "          # if this is the last goal, need to add rest of time in the period\n",
        "          # print(num_goals_this_period, goal_counter) \n",
        "          if (goal_counter == num_goals_this_period):\n",
        "            if (a_score == o_score):\n",
        "              time_tied = time_tied + time_goal_scored\n",
        "            elif (a_score > o_score):\n",
        "              time_leading = time_leading + time_goal_scored\n",
        "            else: \n",
        "              time_trailing = time_trailing + time_goal_scored\n",
        "\n",
        "          # increment the counter\n",
        "          goal_counter = goal_counter + 1\n",
        "\n",
        "# pretty up the labels\n",
        "totsec = time_leading.total_seconds()\n",
        "h = '{0:.0f}'.format(totsec // 3600)\n",
        "m = '{0:.0f}'.format((totsec % 3600) // 60)\n",
        "leading_label = str(h) + \" hours, \" + str(m) + \" mins leading\"\n",
        "\n",
        "totsec = time_trailing.total_seconds()\n",
        "h = '{0:.0f}'.format(totsec // 3600)\n",
        "m = '{0:.0f}'.format((totsec % 3600) // 60)\n",
        "trailing_label = str(h) + \" hours, \" + str(m) + \" mins trailing\"\n",
        "\n",
        "totsec = time_tied.total_seconds()\n",
        "h = '{0:.0f}'.format(totsec // 3600)\n",
        "m = '{0:.0f}'.format((totsec % 3600) // 60)\n",
        "tied_label = str(h) + \" hours, \" + str(m) + \" mins tied\"\n",
        "\n",
        "t_values = [time_leading.seconds, time_trailing.seconds, time_tied.seconds]\n",
        "t_labels = [leading_label, trailing_label, tied_label] \n",
        "t_colors = ['#ff0000','#c0c0c0','#000000']\n",
        "\n",
        "fig1, ax1 = plt.subplots()\n",
        "patches, texts = ax1.pie(t_values, colors = t_colors, pctdistance=1.08, startangle=90)\n",
        "\n",
        "# Equal aspect ratio ensures that pie is drawn as a circle\n",
        "plt.legend(patches, t_labels, loc=\"best\") # , bbox_to_anchor=(.85, .9))\n",
        "ax1.axis('equal')  \n",
        "ax1.set_title('Time Leading, Trailing, or Tied')\n",
        "plt.tight_layout()\n",
        "plt.show()\n",
        "\n",
        "\n",
        "\n"
      ],
      "execution_count": 12,
      "outputs": [
        {
          "output_type": "display_data",
          "data": {
            "image/png": "[encoded data removed]",
            "text/plain": [
              "<Figure size 432x288 with 1 Axes>"
            ]
          },
          "metadata": {
            "tags": []
          }
        }
      ]
    },
    {
      "cell_type": "code",
      "metadata": {
        "id": "eYxFESuxTPoa",
        "outputId": "d29b1468-6615-42ea-c057-650403817341",
        "colab": {
          "base_uri": "https://localhost:8080/",
          "height": 686
        }
      },
      "source": [
        "# Show points per game (multiple plots)\n",
        "\n",
        "num_games = df_games.shape[0]\n",
        "\n",
        "# only use whole numbers\n",
        "ytick = [0,1,2,3,4,5,6]\n",
        "xtick = range(1,num_games+1) \n",
        "\n",
        "# setup multiple plots\n",
        "fig, axs = plt.subplots(2, 6)\n",
        "\n",
        "axs[0, 0].plot( 'game', '4', data=df_points, marker='', color='#a6cee3', linewidth=1)\n",
        "axs[0, 0].set_title('4')\n",
        "axs[0, 0].set_yticks(ytick)\n",
        "\n",
        "axs[0, 1].plot( 'game', '9', data=df_points, marker='', color='#1f78b4', linewidth=1)\n",
        "axs[0, 1].set_title('9')\n",
        "axs[0, 1].set_yticks(ytick)\n",
        "\n",
        "axs[0, 2].plot( 'game', '12', data=df_points, marker='', color='#b2df8a', linewidth=1)\n",
        "axs[0, 2].set_title('12')\n",
        "axs[0, 2].set_yticks(ytick)\n",
        "\n",
        "axs[0, 3].plot( 'game', '14', data=df_points, marker='', color='#cab2d6', linewidth=1)\n",
        "axs[0, 3].set_title('14')\n",
        "axs[0, 3].set_yticks(ytick)\n",
        "\n",
        "axs[0, 4].plot( 'game', '15', data=df_points, marker='', color='#c0c0c0', linewidth=1)\n",
        "axs[0, 4].set_title('15')\n",
        "axs[0, 4].set_yticks(ytick)\n",
        "\n",
        "axs[0, 5].plot( 'game', '20', data=df_points, marker='', color='#b2df8a', linewidth=1)\n",
        "axs[0, 5].set_title('20')\n",
        "axs[0, 5].set_yticks(ytick)\n",
        "\n",
        "axs[1, 0].plot( 'game', '24', data=df_points, marker='', color='#33a02c', linewidth=1)\n",
        "axs[1, 0].set_title('24')\n",
        "axs[1, 0].set_yticks(ytick)\n",
        "\n",
        "axs[1, 1].plot( 'game', '32', data=df_points, marker='', color='#fb9a99', linewidth=1)\n",
        "axs[1, 1].set_title('32')\n",
        "axs[1, 1].set_yticks(ytick)\n",
        "\n",
        "axs[1, 2].plot( 'game', '34', data=df_points, marker='', color='#000000', linewidth=1)\n",
        "axs[1, 2].set_title('34')\n",
        "axs[1, 2].set_yticks(ytick)\n",
        "\n",
        "axs[1, 3].plot( 'game', '37', data=df_points, marker='', color='#00ffff', linewidth=1)\n",
        "axs[1, 3].set_title('37')\n",
        "axs[1, 3].set_yticks(ytick)\n",
        "\n",
        "axs[1, 4].plot('game', '50', data=df_points, marker='', color='#e31a1c', linewidth=1)\n",
        "axs[1, 4].set_title('50')\n",
        "axs[1, 4].set_yticks(ytick)\n",
        "\n",
        "axs[1, 5].plot( 'game', '87', data=df_points, marker='', color='#fdbf6f', linewidth=1)\n",
        "axs[1, 5].set_title('87')\n",
        "axs[1, 5].set_yticks(ytick)\n",
        "\n",
        "for ax in axs.flat:\n",
        "    ax.set(xlabel='Game', ylabel='Points')\n",
        "\n",
        "for ax in axs.flat:\n",
        "    ax.label_outer()\n",
        "\n",
        "fig.set_size_inches(15, 8)\n",
        "fig.suptitle('Points per Player by Game', y=.94)\n",
        "\n",
        "df_points"
      ],
      "execution_count": null,
      "outputs": [
        {
          "output_type": "stream",
          "text": [
            "/usr/local/lib/python3.6/dist-packages/ipykernel_launcher.py:12: RuntimeWarning:\n",
            "\n",
            "Second argument '4' is ambiguous: could be a format string but is in 'data'; using as data.  If it was intended as data, set the format string to an empty string to suppress this warning.  If it was intended as a format string, explicitly pass the x-values as well.  Alternatively, rename the entry in 'data'.\n",
            "\n"
          ],
          "name": "stderr"
        },
        {
          "output_type": "execute_result",
          "data": {
            "text/html": [
              "<div>\n",
              "<style scoped>\n",
              "    .dataframe tbody tr th:only-of-type {\n",
              "        vertical-align: middle;\n",
              "    }\n",
              "\n",
              "    .dataframe tbody tr th {\n",
              "        vertical-align: top;\n",
              "    }\n",
              "\n",
              "    .dataframe thead th {\n",
              "        text-align: right;\n",
              "    }\n",
              "</style>\n",
              "<table border=\"1\" class=\"dataframe\">\n",
              "  <thead>\n",
              "    <tr style=\"text-align: right;\">\n",
              "      <th></th>\n",
              "      <th>game</th>\n",
              "      <th>4</th>\n",
              "      <th>9</th>\n",
              "      <th>12</th>\n",
              "      <th>14</th>\n",
              "      <th>15</th>\n",
              "      <th>20</th>\n",
              "      <th>24</th>\n",
              "      <th>32</th>\n",
              "      <th>34</th>\n",
              "      <th>37</th>\n",
              "      <th>50</th>\n",
              "      <th>87</th>\n",
              "    </tr>\n",
              "  </thead>\n",
              "  <tbody>\n",
              "    <tr>\n",
              "      <th>0</th>\n",
              "      <td>1</td>\n",
              "      <td>2</td>\n",
              "      <td>0</td>\n",
              "      <td>0</td>\n",
              "      <td>0</td>\n",
              "      <td>0</td>\n",
              "      <td>0</td>\n",
              "      <td>0</td>\n",
              "      <td>0</td>\n",
              "      <td>1</td>\n",
              "      <td>1</td>\n",
              "      <td>2</td>\n",
              "      <td>0</td>\n",
              "    </tr>\n",
              "  </tbody>\n",
              "</table>\n",
              "</div>"
            ],
            "text/plain": [
              "   game  4  9  12  14  15  20  24  32  34  37  50  87\n",
              "0     1  2  0   0   0   0   0   0   0   1   1   2   0"
            ]
          },
          "metadata": {
            "tags": []
          },
          "execution_count": 24
        },
        {
          "output_type": "display_data",
          "data": {
            "image/png": "[encoded data removed]",
            "text/plain": [
              "<Figure size 1080x576 with 12 Axes>"
            ]
          },
          "metadata": {
            "tags": [],
            "needs_background": "light"
          }
        }
      ]
    },
    {
      "cell_type": "code",
      "metadata": {
        "id": "KCSq4VHobTEc",
        "outputId": "3816c495-54ad-4512-e45c-d947a0fe7bde",
        "colab": {
          "base_uri": "https://localhost:8080/",
          "height": 333
        }
      },
      "source": [
        "# create a new data frame with totals\n",
        "dfx = pd.DataFrame(columns=[\"player\",\t\"goals\",\t\"assists\",])\n",
        "\n",
        "# get a list of players (unique across goals and both assists)\n",
        "players = np.unique(df_goals[['goal', 'ast1', 'ast2']].values)\n",
        "# remove any nans\n",
        "players = players[~pd.isnull(players)]\n",
        "\n",
        "#print(players)\n",
        "\n",
        "# loop through each, get their total goals/assists and add to temporary data frame\n",
        "for p in players:\n",
        "  goals = len(df_goals[df_goals['goal'] == p])\n",
        "  assists = (len(df_goals[df_goals['ast1'] == p])) + (len(df_goals[df_goals['ast2'] == p]))\n",
        "  dfx = dfx.append({'player': p, 'goals': goals, 'assists': assists} , ignore_index=True)  \n",
        "\n",
        "#print(dfx)\n",
        "\n",
        "# get data\n",
        "x = dfx[\"goals\"]\n",
        "y = dfx[\"assists\"]\n",
        "n = dfx[\"player\"]\n",
        "colors = (0,0,0)\n",
        "area = np.pi * 3\n",
        "\n",
        "ycol = [1,2,3,4,5,6,7,8,9,10]\n",
        "\n",
        "# Plot\n",
        "plt.scatter(x.values, y.values, s=area, c=colors, alpha=0.5)\n",
        "plt.title('Player Goals and Assists')\n",
        "plt.yticks(ycol)\n",
        "plt.xlabel('Goals')\n",
        "plt.ylabel('Assists')\n",
        "\n",
        "for x, y, n in zip(x, y, n):\n",
        "    plt.text(x, y, str('{0:.0f}'.format(n)), color=\"black\", fontsize=12)\n",
        "\n",
        "plt.show()\n"
      ],
      "execution_count": null,
      "outputs": [
        {
          "output_type": "stream",
          "text": [
            "*c* argument looks like a single numeric RGB or RGBA sequence, which should be avoided as value-mapping will have precedence in case its length matches with *x* & *y*.  Please use the *color* keyword-argument or provide a 2-D array with a single row if you intend to specify the same RGB or RGBA value for all points.\n"
          ],
          "name": "stderr"
        },
        {
          "output_type": "display_data",
          "data": {
            "image/png": "[encoded data removed]",
            "text/plain": [
              "<Figure size 432x288 with 1 Axes>"
            ]
          },
          "metadata": {
            "tags": [],
            "needs_background": "light"
          }
        }
      ]
    },
    {
      "cell_type": "code",
      "metadata": {
        "id": "eg0NOXykSkuF",
        "outputId": "abbae3f1-790a-483c-f174-45443cf40de4",
        "colab": {
          "base_uri": "https://localhost:8080/",
          "height": 295
        }
      },
      "source": [
        "# assists per game \n",
        "# goals per game \n",
        "# shots per game (for against)\n",
        "\n",
        "# create empty  data set \n",
        "dfx = pd.DataFrame(columns=[\"game\",\t\"ax\",\t\"op\",])\n",
        "\n",
        "# total number of games \n",
        "num_games = df_games.shape[0]\n",
        "\n",
        "# loop through the shots data set, total up for each game and add to new one \n",
        "for g in range(1, num_games+1):\n",
        "  # total up shots \n",
        "  ax = df_shots[(df_shots.game == g)].ashburn_p1.iloc[0] + df_shots[(df_shots.game == g)].ashburn_p2.iloc[0] + df_shots[(df_shots.game == g)].ashburn_p3.iloc[0] + df_shots[(df_shots.game == g)].ashburn_ot.iloc[0]\n",
        "  op = df_shots[(df_shots.game == g)].opp_p1.iloc[0] + df_shots[(df_shots.game == g)].opp_p2.iloc[0] + df_shots[(df_shots.game == g)].opp_p3.iloc[0] + df_shots[(df_shots.game == g)].opp_ot.iloc[0]\n",
        "  #print (g, ax, op)\n",
        "  dfx = dfx.append({'game': '{0:.0f}'.format(g), 'ax': ax, 'op': op}, ignore_index=True)  \n",
        "\n",
        "fig, ax = plt.subplots()\n",
        "# plot xtreme and opponents\n",
        "ax.plot(dfx[\"op\"], label=\"Opponents\", color=\"#fb8072\", linestyle=\":\")\n",
        "ax.plot(dfx[\"ax\"], label=\"Xtreme\", color=\"black\")\n",
        "\n",
        "ax.spines['right'].set_visible(False)\n",
        "ax.spines['top'].set_visible(False)\n",
        "ax.legend()\n",
        "\n",
        "ax.set(xlabel='Game', ylabel='Shots')\n",
        "plt.title('Xtreme and Opponent Shots by Game')\n",
        "plt.show()\n"
      ],
      "execution_count": null,
      "outputs": [
        {
          "output_type": "display_data",
          "data": {
            "image/png": "[encoded data removed]",
            "text/plain": [
              "<Figure size 432x288 with 1 Axes>"
            ]
          },
          "metadata": {
            "tags": [],
            "needs_background": "light"
          }
        }
      ]
    },
    {
      "cell_type": "code",
      "metadata": {
        "id": "ksA7gBbgUPJC",
        "outputId": "d299fc48-4908-48d6-de4c-9e7014a1befa",
        "colab": {
          "base_uri": "https://localhost:8080/",
          "height": 245
        }
      },
      "source": [
        "# goals + assists per game \n",
        "\n",
        "# create empty  data set \n",
        "dfx = pd.DataFrame(columns=[\"game\",\t\"goals\",\t\"assists\",])\n",
        "\n",
        "# total number of games \n",
        "num_games = df_games.shape[0]\n",
        "\n",
        "# loop through the shots data set, total up for each game and add to new one \n",
        "for g in range(1, num_games+1):\n",
        "  # total up shots \n",
        "  goals = df_goals_assists[(df_goals_assists.game == g)].goals.sum()\n",
        "  assists = df_goals_assists[(df_goals_assists.game == g)].assists.sum()\n",
        "  dfx = dfx.append({'game': '{0:.0f}'.format(g), 'goals': goals, 'assists': assists}, ignore_index=True)  \n",
        "\n",
        "fig, ax = plt.subplots()\n",
        "\n",
        "# plot xtreme and opponents\n",
        "ax.plot(dfx[\"assists\"], label=\"Assists\", color=\"red\", linestyle=\":\")\n",
        "ax.plot(dfx[\"goals\"], label=\"Goals\", color=\"black\")\n",
        "\n",
        "ax.spines['right'].set_visible(False)\n",
        "ax.spines['top'].set_visible(False)\n",
        "ax.legend()\n",
        "\n",
        "ax.set(xlabel='Game', ylabel='')\n",
        "plt.title('Xtreme Goals and Assists by Game')\n",
        "plt.show()\n"
      ],
      "execution_count": null,
      "outputs": [
        {
          "output_type": "error",
          "ename": "NameError",
          "evalue": "ignored",
          "traceback": [
            "\u001b[0;31m---------------------------------------------------------------------------\u001b[0m",
            "\u001b[0;31mNameError\u001b[0m                                 Traceback (most recent call last)",
            "\u001b[0;32m<ipython-input-27-04e3fd4a12ef>\u001b[0m in \u001b[0;36m<module>\u001b[0;34m()\u001b[0m\n\u001b[1;32m     10\u001b[0m \u001b[0;32mfor\u001b[0m \u001b[0mg\u001b[0m \u001b[0;32min\u001b[0m \u001b[0mrange\u001b[0m\u001b[0;34m(\u001b[0m\u001b[0;36m1\u001b[0m\u001b[0;34m,\u001b[0m \u001b[0mnum_games\u001b[0m\u001b[0;34m+\u001b[0m\u001b[0;36m1\u001b[0m\u001b[0;34m)\u001b[0m\u001b[0;34m:\u001b[0m\u001b[0;34m\u001b[0m\u001b[0;34m\u001b[0m\u001b[0m\n\u001b[1;32m     11\u001b[0m   \u001b[0;31m# total up shots\u001b[0m\u001b[0;34m\u001b[0m\u001b[0;34m\u001b[0m\u001b[0;34m\u001b[0m\u001b[0m\n\u001b[0;32m---> 12\u001b[0;31m   \u001b[0mgoals\u001b[0m \u001b[0;34m=\u001b[0m \u001b[0mdf_goals_assists\u001b[0m\u001b[0;34m[\u001b[0m\u001b[0;34m(\u001b[0m\u001b[0mdf_goals_assists\u001b[0m\u001b[0;34m.\u001b[0m\u001b[0mgame\u001b[0m \u001b[0;34m==\u001b[0m \u001b[0mg\u001b[0m\u001b[0;34m)\u001b[0m\u001b[0;34m]\u001b[0m\u001b[0;34m.\u001b[0m\u001b[0mgoals\u001b[0m\u001b[0;34m.\u001b[0m\u001b[0msum\u001b[0m\u001b[0;34m(\u001b[0m\u001b[0;34m)\u001b[0m\u001b[0;34m\u001b[0m\u001b[0;34m\u001b[0m\u001b[0m\n\u001b[0m\u001b[1;32m     13\u001b[0m   \u001b[0massists\u001b[0m \u001b[0;34m=\u001b[0m \u001b[0mdf_goals_assists\u001b[0m\u001b[0;34m[\u001b[0m\u001b[0;34m(\u001b[0m\u001b[0mdf_goals_assists\u001b[0m\u001b[0;34m.\u001b[0m\u001b[0mgame\u001b[0m \u001b[0;34m==\u001b[0m \u001b[0mg\u001b[0m\u001b[0;34m)\u001b[0m\u001b[0;34m]\u001b[0m\u001b[0;34m.\u001b[0m\u001b[0massists\u001b[0m\u001b[0;34m.\u001b[0m\u001b[0msum\u001b[0m\u001b[0;34m(\u001b[0m\u001b[0;34m)\u001b[0m\u001b[0;34m\u001b[0m\u001b[0;34m\u001b[0m\u001b[0m\n\u001b[1;32m     14\u001b[0m   \u001b[0mdfx\u001b[0m \u001b[0;34m=\u001b[0m \u001b[0mdfx\u001b[0m\u001b[0;34m.\u001b[0m\u001b[0mappend\u001b[0m\u001b[0;34m(\u001b[0m\u001b[0;34m{\u001b[0m\u001b[0;34m'game'\u001b[0m\u001b[0;34m:\u001b[0m \u001b[0;34m'{0:.0f}'\u001b[0m\u001b[0;34m.\u001b[0m\u001b[0mformat\u001b[0m\u001b[0;34m(\u001b[0m\u001b[0mg\u001b[0m\u001b[0;34m)\u001b[0m\u001b[0;34m,\u001b[0m \u001b[0;34m'goals'\u001b[0m\u001b[0;34m:\u001b[0m \u001b[0mgoals\u001b[0m\u001b[0;34m,\u001b[0m \u001b[0;34m'assists'\u001b[0m\u001b[0;34m:\u001b[0m \u001b[0massists\u001b[0m\u001b[0;34m}\u001b[0m\u001b[0;34m,\u001b[0m \u001b[0mignore_index\u001b[0m\u001b[0;34m=\u001b[0m\u001b[0;32mTrue\u001b[0m\u001b[0;34m)\u001b[0m\u001b[0;34m\u001b[0m\u001b[0;34m\u001b[0m\u001b[0m\n",
            "\u001b[0;31mNameError\u001b[0m: name 'df_goals_assists' is not defined"
          ]
        }
      ]
    },
    {
      "cell_type": "code",
      "metadata": {
        "id": "8JFV1R2QcdN_",
        "outputId": "36be2340-c507-4600-9c86-0a76d8ddc9af",
        "colab": {
          "base_uri": "https://localhost:8080/",
          "height": 503
        }
      },
      "source": [
        "# side-by-side bar charts with goals in each game\n",
        "\n",
        "# create an empty dataframe\n",
        "dfx = pd.DataFrame(columns=[\"clubs\", \"times\",\t\"x_goals\",\t\"o_goals\",])\n",
        "\n",
        "# get all the unique opponents \n",
        "df_games.sort_values(\"opp\", inplace=True, ascending=False)\n",
        "arr = df_games[\"opp\"].unique()\n",
        "\n",
        "# loop through \n",
        "for o in arr:\n",
        "  c = df_games[(df_games.opp == o)].count().iloc[0]\n",
        "  axg = df_games[(df_games.opp == o)].axscore.sum()\n",
        "  opg = df_games[(df_games.opp == o)].oppscore.sum()\n",
        "  dfx = dfx.append({'clubs': o + \" - \" + str(c) + \" game(s)\", 'times': c, 'x_goals': axg, 'o_goals': opg}, ignore_index=True)  \n",
        "\n",
        "dfx.sort_values(by=['times'], ascending=True, inplace=True)\n",
        "\n",
        "y = np.arange(dfx[\"times\"].size)\n",
        "\n",
        "# extend the size so there's some whitespace to show totals\n",
        "xtick = range(1, (dfx[\"x_goals\"].max() + 10))\n",
        "\n",
        "# generate two axes\n",
        "fig, axes = plt.subplots(ncols=2, sharey=True)\n",
        "\n",
        "# xtreme \n",
        "axes[0].barh(y, dfx[\"x_goals\"], align='center', color='black', zorder=10)\n",
        "axes[0].set(title=\"Xtreme Goals\")\n",
        "axes[0].invert_xaxis()\n",
        "axes[0].set(yticks=y, yticklabels=dfx[\"clubs\"])\n",
        "axes[0].yaxis.tick_left()\n",
        "axes[0].set_xticks(xtick,xtick)\n",
        "\n",
        "for i, v in enumerate(dfx[\"x_goals\"]):\n",
        "    axes[0].text(v + 4, i - .25, str(v), color='black')\n",
        "\n",
        "# opponent\n",
        "axes[1].barh(y, dfx[\"o_goals\"], align='center', color='#fb8072', zorder=10)\n",
        "axes[1].set(title=\"Opponent Goals\")\n",
        "axes[1].set_xticks(xtick,xtick)\n",
        "\n",
        "for i, v in enumerate(dfx[\"o_goals\"]):\n",
        "    axes[1].text(v + 2, i - .25, str(v), color='#fb8072')\n",
        "\n",
        "fig.tight_layout()\n",
        "fig.subplots_adjust(wspace=0.01)\n",
        "fig.set_size_inches(8, 5)\n",
        "\n",
        "plt.show()\n"
      ],
      "execution_count": 18,
      "outputs": [
        {
          "output_type": "stream",
          "text": [
            "/usr/local/lib/python3.6/dist-packages/ipykernel_launcher.py:33: MatplotlibDeprecationWarning:\n",
            "\n",
            "Passing the minor parameter of set_xticks() positionally is deprecated since Matplotlib 3.2; the parameter will become keyword-only two minor releases later.\n",
            "\n",
            "/usr/local/lib/python3.6/dist-packages/ipykernel_launcher.py:41: MatplotlibDeprecationWarning:\n",
            "\n",
            "Passing the minor parameter of set_xticks() positionally is deprecated since Matplotlib 3.2; the parameter will become keyword-only two minor releases later.\n",
            "\n"
          ],
          "name": "stderr"
        },
        {
          "output_type": "display_data",
          "data": {
            "image/png": "[encoded data removed]",
            "text/plain": [
              "<Figure size 576x360 with 2 Axes>"
            ]
          },
          "metadata": {
            "tags": [],
            "needs_background": "light"
          }
        }
      ]
    },
    {
      "cell_type": "code",
      "metadata": {
        "id": "ez_Fx8FoTDE2",
        "outputId": "c921f6c8-f1d8-478c-df6c-bc401fa08810",
        "colab": {
          "base_uri": "https://localhost:8080/",
          "height": 35
        }
      },
      "source": [
        "# what is record in second game of a two-game day? \n",
        "\n",
        "# values\n",
        "x_win = 0 \n",
        "x_loss = 0\n",
        "x_tie = 0 \n",
        "\n",
        "# get all the unique dates \n",
        "arr = df_games[\"date\"].unique()\n",
        "\n",
        "# sort by games (ascending)\n",
        "df_games.sort_values(by=['game'], inplace=True)\n",
        "\n",
        "# go through each day, find days with two games \n",
        "for d in arr:\n",
        "  count = df_games[(df_games.date == d)].shape[0]\n",
        "  if (count > 1):\n",
        "    #print(df_games[(df_games.date == d)])\n",
        "    series = df_games[(df_games.date == d)].iloc[1:,5:7]\n",
        "    ax_score = series.values[0,0]\n",
        "    op_score = series.values[0,1]\n",
        "    if (ax_score > op_score):\n",
        "      x_win = x_win + 1\n",
        "    elif (ax_score < op_score):\n",
        "      x_loss = x_loss + 1\n",
        "    else: \n",
        "      x_tie = x_tie + 1\n",
        "\n",
        "    #series = df_games[(df_games.date == d)].iloc[1:,5:7]\n",
        "    #print(df_games[(df_games.date == d)])\n",
        "    #print(series)\n",
        "\n",
        "# track w-l-t for the second game \n",
        "print(\"<b>\" + str(x_win) + \"-\" + str(x_loss) + \"-\" + str(x_tie) + \"</b> in the second game when playing two games on the same day.\")\n",
        "\n"
      ],
      "execution_count": null,
      "outputs": [
        {
          "output_type": "stream",
          "text": [
            "<b>1-1-0</b> in the second game when playing two games on the same day.\n"
          ],
          "name": "stdout"
        }
      ]
    },
    {
      "cell_type": "code",
      "metadata": {
        "id": "-ZFw9U7xTUXw",
        "outputId": "6e2573ef-cdd5-4c2c-a7f9-9202d5c2a98f",
        "colab": {
          "base_uri": "https://localhost:8080/",
          "height": 399
        }
      },
      "source": [
        "# create a new data frame with totals\n",
        "dfx = pd.DataFrame(columns=[\"game\",\t\"goals\",\t\"shots\", \"location\", \"league\", \"goalie\"])\n",
        "\n",
        "# all games \n",
        "games = df_games.game\n",
        "\n",
        "# loop through those games to pull out opponent shots and total up \n",
        "for g in games: \n",
        "  location = df_games[df_games.game == g].iloc[0,4]\n",
        "  league = df_games[df_games.game == g].iloc[0,8]\n",
        "  goalie = df_games[df_games.game == g].iloc[0,7]\n",
        "  goals = df_games[df_games.game == g].axscore.iloc[0]\n",
        "  shots = df_shots[df_shots.game == g].ashburn_p1.iloc[0] + df_shots[df_shots.game == g].ashburn_p2.iloc[0] + df_shots[df_shots.game == g].ashburn_p3.iloc[0] + df_shots[df_shots.game == g].ashburn_ot.iloc[0]\n",
        "  dfx = dfx.append({'game': g, 'goals': float(goals), 'shots': float(shots), 'location': location, 'league': league, 'goalie': goalie} , ignore_index=True)  \n",
        "\n",
        "graph = sns.lmplot(x='shots', y='goals', hue='league', data=dfx, fit_reg=False, legend_out=True)\n",
        "ax = sns.regplot(x='shots', y='goals', data=dfx, scatter=False) \n",
        "\n",
        "ax.spines['right'].set_visible(False)\n",
        "ax.spines['top'].set_visible(False)\n",
        "ax.set_title('Xtreme Goals Linear Regression Plot')\n",
        "\n",
        "for axis in [ax.xaxis, ax.yaxis]:\n",
        "    axis.set_major_locator(ticker.MaxNLocator(integer=True))\n",
        "\n",
        "# title\n",
        "new_title = 'Game Type'\n",
        "graph._legend.set_title(new_title)\n",
        "graph._legend.set_bbox_to_anchor((1.2, .9))\n",
        "# replace labels\n",
        "new_labels = ['Exhibition', 'Nashville']\n",
        "for t, l in zip(graph._legend.texts, new_labels): \n",
        "  t.set_text(l)\n",
        "\n"
      ],
      "execution_count": 17,
      "outputs": [
        {
          "output_type": "display_data",
          "data": {
            "image/png": "[encoded data removed]",
            "text/plain": [
              "<Figure size 402x360 with 1 Axes>"
            ]
          },
          "metadata": {
            "tags": [],
            "needs_background": "light"
          }
        }
      ]
    },
    {
      "cell_type": "code",
      "metadata": {
        "id": "zAc-iBaFxbfZ"
      },
      "source": [
        "# NO LONGER USED # \n",
        "# create a motion chart showing goals/assists by player over the games\n",
        "\n",
        "# roundup function for chart max\n",
        "def roundup(x):\n",
        "    return int(math.ceil(x / 10.0)) * 10\n",
        "\n",
        "# create an empty data frame\n",
        "dfmc = pd.DataFrame(columns=[\"player\",\t\"game\", \"goals\",\t\"assists\",])\n",
        "\n",
        "# get a list of players\n",
        "players = df_goals_assists.player.unique()\n",
        "\n",
        "# get number of games\n",
        "num_games = df_games.shape[0]\n",
        "\n",
        "# loop through each player\n",
        "for p in players:\n",
        "\n",
        "  # insert an initial row for the first week as baseline\n",
        "  goals = df_goals_assists[(df_goals_assists.player == p) & (df_goals_assists.game == 1)].goals.iloc[0]\n",
        "  if math.isnan(goals):\n",
        "    goals = 0\n",
        "  assists = df_goals_assists[(df_goals_assists.player == p) & (df_goals_assists.game == 1)].assists.iloc[0]\n",
        "  if math.isnan(assists):\n",
        "    assists = 0\n",
        "  dfmc = dfmc.append({'player': '{0:.0f}'.format(p), 'game': 1, 'goals': goals, 'assists': assists} , ignore_index=True)  \n",
        "\n",
        "  # loop through each game\n",
        "  for g in range(2, num_games+1):\n",
        "    # save current goals/assists to last week \n",
        "    last_week_goals = goals\n",
        "    last_week_assists = assists\n",
        "\n",
        "    # for each subsequent week, the total is this week (g) plus last week \n",
        "    goals = df_goals_assists[(df_goals_assists.player == p) & (df_goals_assists.game == g)].goals.iloc[0] \n",
        "    if not math.isnan(goals):\n",
        "      goals = goals + last_week_goals\n",
        "    else:\n",
        "      goals = last_week_goals\n",
        "    assists = df_goals_assists[(df_goals_assists.player == p) & (df_goals_assists.game == g)].assists.iloc[0] \n",
        "    if not math.isnan(assists):\n",
        "      assists = assists + last_week_assists\n",
        "    else:\n",
        "      assists = last_week_assists\n",
        "    dfmc = dfmc.append({'player': '{0:.0f}'.format(p), 'game': g, 'goals': goals, 'assists': assists} , ignore_index=True)  \n",
        "\n",
        "# figure out max goals and assists \n",
        "max_goals = roundup(dfmc[\"goals\"].max())\n",
        "max_assists = roundup(dfmc[\"assists\"].max())\n",
        "\n",
        "px.scatter(dfmc, x=\"goals\", y=\"assists\", animation_frame=\"game\", animation_group=\"player\",\n",
        "           color=\"player\", hover_name=\"player\",\n",
        "           log_x=False, range_x=[0,max_goals], range_y=[0,max_assists])\n",
        "\n",
        "\n"
      ],
      "execution_count": null,
      "outputs": []
    }
  ]
}