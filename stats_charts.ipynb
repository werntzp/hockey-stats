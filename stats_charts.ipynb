{
  "nbformat": 4,
  "nbformat_minor": 0,
  "metadata": {
    "colab": {
      "name": "stats_charts.ipynb",
      "provenance": [],
      "collapsed_sections": []
    },
    "kernelspec": {
      "name": "python3",
      "display_name": "Python 3"
    }
  },
  "cells": [
    {
      "cell_type": "code",
      "metadata": {
        "id": "oSYr4M7YPgQl",
        "colab": {
          "base_uri": "https://localhost:8080/"
        },
        "outputId": "ca2f09a9-9b8e-40e1-ec50-4b6449a65ce7"
      },
      "source": [
        "# libraries used\n",
        "\n",
        "import pandas as pd \n",
        "import numpy as np\n",
        "import matplotlib.pyplot as plt\n",
        "import plotly.graph_objects as go\n",
        "import matplotlib.ticker as ticker\n",
        "import plotly.express as px\n",
        "import seaborn as sns\n",
        "import datetime\n",
        "import math\n",
        "\n",
        "%matplotlib inline\n",
        "\n",
        "# needed for treemap graphic\n",
        "!pip install squarify \n",
        "import squarify\n",
        "\n",
        "!pip install pyecharts\n",
        "from pyecharts.charts import Pie\n",
        "from pyecharts import options as opt\n",
        "\n",
        "print(\"loaded libraries\")"
      ],
      "execution_count": 1,
      "outputs": [
        {
          "output_type": "stream",
          "text": [
            "Collecting squarify\n",
            "  Downloading https://files.pythonhosted.org/packages/0b/2b/2e77c35326efec19819cd1d729540d4d235e6c2a3f37658288a363a67da5/squarify-0.4.3-py3-none-any.whl\n",
            "Installing collected packages: squarify\n",
            "Successfully installed squarify-0.4.3\n",
            "Collecting pyecharts\n",
            "\u001b[?25l  Downloading https://files.pythonhosted.org/packages/d2/1a/a094c0d11c3c87cf407cbd9dc069882e9bba08374df1ad81dfb39de1a8d3/pyecharts-1.9.0-py3-none-any.whl (135kB)\n",
            "\u001b[K     |████████████████████████████████| 143kB 13.6MB/s \n",
            "\u001b[?25hCollecting simplejson\n",
            "\u001b[?25l  Downloading https://files.pythonhosted.org/packages/73/96/1e6b19045375890068d7342cbe280dd64ae73fd90b9735b5efb8d1e044a1/simplejson-3.17.2-cp36-cp36m-manylinux2010_x86_64.whl (127kB)\n",
            "\u001b[K     |████████████████████████████████| 133kB 22.0MB/s \n",
            "\u001b[?25hRequirement already satisfied: prettytable in /usr/local/lib/python3.6/dist-packages (from pyecharts) (2.0.0)\n",
            "Requirement already satisfied: jinja2 in /usr/local/lib/python3.6/dist-packages (from pyecharts) (2.11.2)\n",
            "Requirement already satisfied: wcwidth in /usr/local/lib/python3.6/dist-packages (from prettytable->pyecharts) (0.2.5)\n",
            "Requirement already satisfied: setuptools in /usr/local/lib/python3.6/dist-packages (from prettytable->pyecharts) (51.3.3)\n",
            "Requirement already satisfied: MarkupSafe>=0.23 in /usr/local/lib/python3.6/dist-packages (from jinja2->pyecharts) (1.1.1)\n",
            "Installing collected packages: simplejson, pyecharts\n",
            "Successfully installed pyecharts-1.9.0 simplejson-3.17.2\n",
            "loaded libraries\n"
          ],
          "name": "stdout"
        }
      ]
    },
    {
      "cell_type": "code",
      "metadata": {
        "id": "mr9DTGOXM1NR",
        "colab": {
          "base_uri": "https://localhost:8080/"
        },
        "outputId": "3b83b3f5-0064-4a45-95ab-2d6a73e89be4"
      },
      "source": [
        "# load up csv files\n",
        "\n",
        "github_url = \"https://raw.githubusercontent.com/werntzp/hockey-stats/master/\"\n",
        "\n",
        "df_games = pd.read_csv(github_url + \"games.csv\") \n",
        "df_shots = pd.read_csv(github_url + \"shots.csv\") \n",
        "df_goals = pd.read_csv(github_url + \"goals.csv\") \n",
        "#df_goals_assists = pd.read_csv(github_url + \"goals_assists.csv\")\n",
        "df_periods = pd.read_csv(github_url + \"periods.csv\")\n",
        "df_penalties = pd.read_csv(github_url + \"penalties.csv\") \n",
        "df_points = pd.read_csv(github_url + \"points.csv\")\n",
        "df_player_stats = pd.read_csv(github_url + \"xtreme_2020-21_player_stats.csv\")\n",
        "\n",
        "print(\"loaded csv files\")\n"
      ],
      "execution_count": 2,
      "outputs": [
        {
          "output_type": "stream",
          "text": [
            "loaded csv files\n"
          ],
          "name": "stdout"
        }
      ]
    },
    {
      "cell_type": "code",
      "metadata": {
        "id": "6FVD71eSc33b",
        "colab": {
          "base_uri": "https://localhost:8080/",
          "height": 297
        },
        "outputId": "b0304d86-2160-4f27-cfba-7e055c9a2cd7"
      },
      "source": [
        "# bar chart with goals per period\n",
        "\n",
        "p1xg = df_goals[(df_goals.team == \"a\") & (df_goals.period == 1)].shape[0]\n",
        "p2xg = df_goals[(df_goals.team == \"a\") & (df_goals.period == 2)].shape[0]\n",
        "p3xg = df_goals[(df_goals.team == \"a\") & (df_goals.period == 3)].shape[0]\n",
        "p4xg = df_goals[(df_goals.team == \"a\") & (df_goals.period == 4)].shape[0]\n",
        "\n",
        "p1og = df_goals[(df_goals.team == \"o\") & (df_goals.period == 1)].shape[0]\n",
        "p2og = df_goals[(df_goals.team == \"o\") & (df_goals.period == 2)].shape[0]\n",
        "p3og = df_goals[(df_goals.team == \"o\") & (df_goals.period == 3)].shape[0]\n",
        "p4og = df_goals[(df_goals.team == \"o\") & (df_goals.period == 4)].shape[0]\n",
        "\n",
        "labels = ['1', '2', '3', 'OT']\n",
        "xtreme = [p1xg, p2xg, p3xg, p4xg]\n",
        "opponent = [p1og, p2og, p3og, p4og]\n",
        "\n",
        "x_label = \"Xtreme (\" + str(p1xg + p2xg + p3xg + p4xg) + \")\"\n",
        "o_label = \"Opponents (\" + str(p1og + p2og + p3og + p4og) + \")\"\n",
        "\n",
        "x = np.arange(len(labels))  # the label locations\n",
        "width = 0.35  # the width of the bars\n",
        "\n",
        "fig, ax = plt.subplots()\n",
        "rects1 = ax.bar(x - width/2, xtreme, width, label=x_label, color='black')\n",
        "rects2 = ax.bar(x + width/2, opponent, width, label=o_label, color='#8dd3c7')\n",
        "\n",
        "# Add some text for labels, title and custom x-axis tick labels, etc.\n",
        "ax.set_title('Goals by Period')\n",
        "ax.set_xticks(x)\n",
        "ax.set_xticklabels(labels)\n",
        "ax.spines['right'].set_visible(False)\n",
        "ax.spines['top'].set_visible(False)\n",
        "ax.legend()\n",
        "\n",
        "fig.tight_layout()\n",
        "plt.yticks(np.arange(0, 55, 5))\n",
        "\n",
        "plt.show()"
      ],
      "execution_count": 4,
      "outputs": [
        {
          "output_type": "display_data",
          "data": {
            "image/png": "[encoded data removed]",
            "text/plain": [
              "<Figure size 432x288 with 1 Axes>"
            ]
          },
          "metadata": {
            "tags": [],
            "needs_background": "light"
          }
        }
      ]
    },
    {
      "cell_type": "code",
      "metadata": {
        "id": "LRDTT0Sc8iHH",
        "colab": {
          "base_uri": "https://localhost:8080/",
          "height": 297
        },
        "outputId": "9c4e1989-61fc-4dc0-b462-3ff21fde87cc"
      },
      "source": [
        "# bar chart with shots per period\n",
        "\n",
        "p1xs = df_shots['ashburn_p1'].sum()\n",
        "p2xs = df_shots['ashburn_p2'].sum()\n",
        "p3xs = df_shots['ashburn_p3'].sum()\n",
        "p4xs = df_shots['ashburn_ot'].sum()\n",
        "\n",
        "p1os = df_shots['opp_p1'].sum()\n",
        "p2os = df_shots['opp_p2'].sum()\n",
        "p3os = df_shots['opp_p3'].sum()\n",
        "p4os = df_shots['opp_ot'].sum()\n",
        "\n",
        "labels = ['1', '2', '3', 'OT']\n",
        "xtreme = [p1xs, p2xs, p3xs, p4xs]\n",
        "opponent = [p1os, p2os, p3os, p4os]\n",
        "\n",
        "x_label = \"Xtreme (\" + str(p1xs + p2xs + p3xs + p4xs) + \")\"\n",
        "o_label = \"Opponents (\" + str(p1os + p2os + p3os + p4os) + \")\"\n",
        "\n",
        "x = np.arange(len(labels))  # the label locations\n",
        "width = 0.35  # the width of the bars\n",
        "\n",
        "fig, ax = plt.subplots()\n",
        "rects1 = ax.bar(x - width/2, xtreme, width, label=x_label, color='black')\n",
        "rects2 = ax.bar(x + width/2, opponent, width, label=o_label, color='#fb8072')\n",
        "\n",
        "# Add some text for labels, title and custom x-axis tick labels, etc.\n",
        "ax.set_title('Shots by Period')\n",
        "ax.set_xticks(x)\n",
        "ax.set_xticklabels(labels)\n",
        "ax.spines['right'].set_visible(False)\n",
        "ax.spines['top'].set_visible(False)\n",
        "ax.legend()\n",
        "\n",
        "fig.tight_layout()\n",
        "plt.yticks(np.arange(0, 375, 50))\n",
        "\n",
        "plt.show()\n"
      ],
      "execution_count": 5,
      "outputs": [
        {
          "output_type": "display_data",
          "data": {
            "image/png": "[encoded data removed]",
            "text/plain": [
              "<Figure size 432x288 with 1 Axes>"
            ]
          },
          "metadata": {
            "tags": [],
            "needs_background": "light"
          }
        }
      ]
    },
    {
      "cell_type": "code",
      "metadata": {
        "id": "C2k94cQD7qaY",
        "colab": {
          "base_uri": "https://localhost:8080/",
          "height": 297
        },
        "outputId": "f07951ce-678a-4499-9060-693f43a94180"
      },
      "source": [
        "# bar chart comparing xtreme and opponent penalties by period\n",
        "\n",
        "p1xp = df_penalties[(df_penalties.team == \"a\") & (df_penalties.period == 1)].shape[0]\n",
        "p2xp = df_penalties[(df_penalties.team == \"a\") & (df_penalties.period == 2)].shape[0]\n",
        "p3xp = df_penalties[(df_penalties.team == \"a\") & (df_penalties.period == 3)].shape[0]\n",
        "p4xp = df_penalties[(df_penalties.team == \"a\") & (df_penalties.period == 4)].shape[0]\n",
        "\n",
        "p1op = df_penalties[(df_penalties.team == \"o\") & (df_penalties.period == 1)].shape[0]\n",
        "p2op = df_penalties[(df_penalties.team == \"o\") & (df_penalties.period == 2)].shape[0]\n",
        "p3op = df_penalties[(df_penalties.team == \"o\") & (df_penalties.period == 3)].shape[0]\n",
        "p4op = df_penalties[(df_penalties.team == \"o\") & (df_penalties.period == 4)].shape[0]\n",
        "\n",
        "labels = ['1', '2', '3', 'OT']\n",
        "xtreme = [p1xp, p2xp, p3xp, p4xp]\n",
        "opponent = [p1op, p2op, p3op, p4op]\n",
        "\n",
        "x_label = \"Xtreme (\" + str(p1xp + p2xp + p3xp + p4xp) + \")\"\n",
        "o_label = \"Opponents (\" + str(p1op + p2op + p3op + p4op) + \")\"\n",
        "\n",
        "x = np.arange(len(labels))  # the label locations\n",
        "width = 0.35  # the width of the bars\n",
        "\n",
        "fig, ax = plt.subplots()\n",
        "rects1 = ax.bar(x - width/2, xtreme, width, label=x_label, color='black')\n",
        "rects2 = ax.bar(x + width/2, opponent, width, label=o_label, color='#fccde5')\n",
        "\n",
        "# Add some text for labels, title and custom x-axis tick labels, etc.\n",
        "ax.set_title('Penalties by Period')\n",
        "ax.set_xticks(x)\n",
        "ax.set_xticklabels(labels)\n",
        "ax.spines['right'].set_visible(False)\n",
        "ax.spines['top'].set_visible(False)\n",
        "ax.legend()\n",
        "\n",
        "fig.tight_layout()\n",
        "plt.yticks(np.arange(0, 45, 5))\n",
        "\n",
        "plt.show()"
      ],
      "execution_count": 6,
      "outputs": [
        {
          "output_type": "display_data",
          "data": {
            "image/png": "[encoded data removed]",
            "text/plain": [
              "<Figure size 432x288 with 1 Axes>"
            ]
          },
          "metadata": {
            "tags": [],
            "needs_background": "light"
          }
        }
      ]
    },
    {
      "cell_type": "code",
      "metadata": {
        "id": "Z7z7K5RapGzy",
        "colab": {
          "base_uri": "https://localhost:8080/",
          "height": 717
        },
        "outputId": "3f6654c5-2e0d-4b2b-dba1-f1b8744c2546"
      },
      "source": [
        "# treemap with penalty types \n",
        "\n",
        "fig = go.Figure()\n",
        "\n",
        "x = 0.\n",
        "y = 0.\n",
        "width = 100.\n",
        "height = 100.\n",
        "\n",
        "# get unique list of xtreme penalty types\n",
        "dfx = df_penalties[(df_penalties.team == \"a\")]\n",
        "arr = dfx.type.unique()\n",
        "\n",
        "p_values = []\n",
        "p_labels = []\n",
        "\n",
        "# loop through names and count up number of times they occured\n",
        "for p in arr:\n",
        "  c = dfx[(dfx.type == p)].shape[0]\n",
        "  p_values.append(c)\n",
        "  p_labels.append(p + \" (\" + str(c) + \")\")\n",
        "\n",
        "normed = squarify.normalize_sizes(p_values, width, height)\n",
        "rects = squarify.squarify(normed, x, y, width, height)\n",
        "\n",
        "# Choose colors from http://colorbrewer2.org/ under \"Export\"\n",
        "color_brewer = ['rgb(43,140,190)','rgb(141,211,199)','rgb(255,255,179)','rgb(190,186,218)','rgb(251,128,114)','rgb(128,177,211)','rgb(253,180,98)','rgb(179,222,105)','rgb(252,205,229)','rgb(217,217,217)','rgb(188,128,189)','rgb(204,235,197)','rgb(44,162,95)', 'rgb(299,245,249)','rgb(136,86,167)']\n",
        "\n",
        "# other colors if have more than 8 penalty types ... , , \n",
        "\n",
        "shapes = []\n",
        "annotations = []\n",
        "counter = 0\n",
        "\n",
        "for r, val, color, lbl in zip(rects, p_values, color_brewer, p_labels):\n",
        "    shapes.append(\n",
        "        dict(\n",
        "            type = 'rect',\n",
        "            x0 = r['x'],\n",
        "            y0 = r['y'],\n",
        "            x1 = r['x']+r['dx'],\n",
        "            y1 = r['y']+r['dy'],\n",
        "            line = dict( width = 2 ),\n",
        "            fillcolor = color\n",
        "        )\n",
        "    )\n",
        "    annotations.append(\n",
        "        dict(\n",
        "            x = r['x']+(r['dx']/2),\n",
        "            y = r['y']+(r['dy']/2),\n",
        "            text = lbl.replace(' ', '\\r\\n'), \n",
        "            showarrow = False\n",
        "        )\n",
        "    )\n",
        "\n",
        "# For hover text\n",
        "fig.add_trace(go.Scatter(\n",
        "    x = [ r['x']+(r['dx']/2) for r in rects ],\n",
        "    y = [ r['y']+(r['dy']/2) for r in rects ],\n",
        "    text = [ str(v) for v in p_values ],\n",
        "    mode = 'text',\n",
        "))\n",
        "\n",
        "fig.update_layout(\n",
        "    height=700,\n",
        "    width=700,\n",
        "    xaxis=dict(showgrid=False,zeroline=False,showticklabels=False),\n",
        "    yaxis=dict(showgrid=False,zeroline=False,showticklabels=False),\n",
        "    shapes=shapes,\n",
        "    annotations=annotations,\n",
        "    hovermode='closest',\n",
        "    title=go.layout.Title(\n",
        "        text=\"Xtreme Penalty Types\",\n",
        "        xref=\"paper\",\n",
        "        x=0\n",
        "    )\n",
        ")\n",
        "\n",
        "fig.show()"
      ],
      "execution_count": 7,
      "outputs": [
        {
          "output_type": "display_data",
          "data": {
            "text/html": [
              "<html>\n",
              "<head><meta charset=\"utf-8\" /></head>\n",
              "<body>\n",
              "    <div>\n",
              "            <script src=\"https://cdnjs.cloudflare.com/ajax/libs/mathjax/2.7.5/MathJax.js?config=TeX-AMS-MML_SVG\"></script><script type=\"text/javascript\">if (window.MathJax) {MathJax.Hub.Config({SVG: {font: \"STIX-Web\"}});}</script>\n",
              "                <script type=\"text/javascript\">window.PlotlyConfig = {MathJaxConfig: 'local'};</script>\n",
              "        <script src=\"https://cdn.plot.ly/plotly-latest.min.js\"></script>    \n",
              "            <div id=\"16f847a4-44ef-47f4-93a1-2a4ab0ddc933\" class=\"plotly-graph-div\" style=\"height:700px; width:700px;\"></div>\n",
              "            <script type=\"text/javascript\">\n",
              "                \n",
              "                    window.PLOTLYENV=window.PLOTLYENV || {};\n",
              "                    \n",
              "                if (document.getElementById(\"16f847a4-44ef-47f4-93a1-2a4ab0ddc933\")) {\n",
              "                    Plotly.newPlot(\n",
              "                        '16f847a4-44ef-47f4-93a1-2a4ab0ddc933',\n",
              "                        [{\"mode\": \"text\", \"text\": [\"23\", \"2\", \"3\", \"8\", \"9\", \"4\", \"2\", \"2\", \"6\", \"1\", \"2\", \"1\"], \"type\": \"scatter\", \"x\": [18.253968253968253, 49.2063492063492, 80.95238095238093, 51.44724556489262, 83.19327731092436, 47.08994708994709, 47.08994708994709, 62.96296296296296, 84.12698412698413, 62.96296296296296, 78.83597883597884, 94.70899470899471], \"y\": [50.0, 6.250000000000001, 6.250000000000001, 33.75000000000001, 33.75000000000001, 70.0, 92.5, 70.0, 70.0, 92.5, 92.5, 92.50000000000001]}],\n",
              "                        {\"annotations\": [{\"showarrow\": false, \"text\": \"Trip\\r\\n(23)\", \"x\": 18.253968253968253, \"y\": 50.0}, {\"showarrow\": false, \"text\": \"Hold\\r\\n(2)\", \"x\": 49.2063492063492, \"y\": 6.250000000000001}, {\"showarrow\": false, \"text\": \"Too\\r\\nMany\\r\\n(3)\", \"x\": 80.95238095238093, \"y\": 6.250000000000001}, {\"showarrow\": false, \"text\": \"Rough\\r\\n(8)\", \"x\": 51.44724556489262, \"y\": 33.75000000000001}, {\"showarrow\": false, \"text\": \"Hook\\r\\n(9)\", \"x\": 83.19327731092436, \"y\": 33.75000000000001}, {\"showarrow\": false, \"text\": \"Check\\r\\n(4)\", \"x\": 47.08994708994709, \"y\": 70.0}, {\"showarrow\": false, \"text\": \"Slash\\r\\n(2)\", \"x\": 47.08994708994709, \"y\": 92.5}, {\"showarrow\": false, \"text\": \"High\\r\\nStick\\r\\n(2)\", \"x\": 62.96296296296296, \"y\": 70.0}, {\"showarrow\": false, \"text\": \"Interference\\r\\n(6)\", \"x\": 84.12698412698413, \"y\": 70.0}, {\"showarrow\": false, \"text\": \"Elbow\\r\\n(1)\", \"x\": 62.96296296296296, \"y\": 92.5}, {\"showarrow\": false, \"text\": \"10\\r\\nMinute\\r\\n(2)\", \"x\": 78.83597883597884, \"y\": 92.5}, {\"showarrow\": false, \"text\": \"Hit\\r\\nFrom\\r\\nBehind\\r\\n(1)\", \"x\": 94.70899470899471, \"y\": 92.50000000000001}], \"height\": 700, \"hovermode\": \"closest\", \"shapes\": [{\"fillcolor\": \"rgb(43,140,190)\", \"line\": {\"width\": 2}, \"type\": \"rect\", \"x0\": 0.0, \"x1\": 36.507936507936506, \"y0\": 0.0, \"y1\": 100.0}, {\"fillcolor\": \"rgb(141,211,199)\", \"line\": {\"width\": 2}, \"type\": \"rect\", \"x0\": 36.507936507936506, \"x1\": 61.9047619047619, \"y0\": 0.0, \"y1\": 12.500000000000002}, {\"fillcolor\": \"rgb(255,255,179)\", \"line\": {\"width\": 2}, \"type\": \"rect\", \"x0\": 61.9047619047619, \"x1\": 99.99999999999999, \"y0\": 0.0, \"y1\": 12.500000000000002}, {\"fillcolor\": \"rgb(190,186,218)\", \"line\": {\"width\": 2}, \"type\": \"rect\", \"x0\": 36.507936507936506, \"x1\": 66.38655462184873, \"y0\": 12.500000000000002, \"y1\": 55.00000000000001}, {\"fillcolor\": \"rgb(251,128,114)\", \"line\": {\"width\": 2}, \"type\": \"rect\", \"x0\": 66.38655462184873, \"x1\": 99.99999999999999, \"y0\": 12.500000000000002, \"y1\": 55.00000000000001}, {\"fillcolor\": \"rgb(128,177,211)\", \"line\": {\"width\": 2}, \"type\": \"rect\", \"x0\": 36.507936507936506, \"x1\": 57.67195767195767, \"y0\": 55.00000000000001, \"y1\": 85.0}, {\"fillcolor\": \"rgb(253,180,98)\", \"line\": {\"width\": 2}, \"type\": \"rect\", \"x0\": 36.507936507936506, \"x1\": 57.67195767195767, \"y0\": 85.0, \"y1\": 100.0}, {\"fillcolor\": \"rgb(179,222,105)\", \"line\": {\"width\": 2}, \"type\": \"rect\", \"x0\": 57.67195767195767, \"x1\": 68.25396825396825, \"y0\": 55.00000000000001, \"y1\": 85.0}, {\"fillcolor\": \"rgb(252,205,229)\", \"line\": {\"width\": 2}, \"type\": \"rect\", \"x0\": 68.25396825396825, \"x1\": 100.0, \"y0\": 55.00000000000001, \"y1\": 85.0}, {\"fillcolor\": \"rgb(217,217,217)\", \"line\": {\"width\": 2}, \"type\": \"rect\", \"x0\": 57.67195767195767, \"x1\": 68.25396825396825, \"y0\": 85.0, \"y1\": 100.0}, {\"fillcolor\": \"rgb(188,128,189)\", \"line\": {\"width\": 2}, \"type\": \"rect\", \"x0\": 68.25396825396825, \"x1\": 89.41798941798943, \"y0\": 85.0, \"y1\": 100.0}, {\"fillcolor\": \"rgb(204,235,197)\", \"line\": {\"width\": 2}, \"type\": \"rect\", \"x0\": 89.41798941798943, \"x1\": 100.0, \"y0\": 85.0, \"y1\": 100.00000000000003}], \"template\": {\"data\": {\"bar\": [{\"error_x\": {\"color\": \"#2a3f5f\"}, \"error_y\": {\"color\": \"#2a3f5f\"}, \"marker\": {\"line\": {\"color\": \"#E5ECF6\", \"width\": 0.5}}, \"type\": \"bar\"}], \"barpolar\": [{\"marker\": {\"line\": {\"color\": \"#E5ECF6\", \"width\": 0.5}}, \"type\": \"barpolar\"}], \"carpet\": [{\"aaxis\": {\"endlinecolor\": \"#2a3f5f\", \"gridcolor\": \"white\", \"linecolor\": \"white\", \"minorgridcolor\": \"white\", \"startlinecolor\": \"#2a3f5f\"}, \"baxis\": {\"endlinecolor\": \"#2a3f5f\", \"gridcolor\": \"white\", \"linecolor\": \"white\", \"minorgridcolor\": \"white\", \"startlinecolor\": \"#2a3f5f\"}, \"type\": \"carpet\"}], \"choropleth\": [{\"colorbar\": {\"outlinewidth\": 0, \"ticks\": \"\"}, \"type\": \"choropleth\"}], \"contour\": [{\"colorbar\": {\"outlinewidth\": 0, \"ticks\": \"\"}, \"colorscale\": [[0.0, \"#0d0887\"], [0.1111111111111111, \"#46039f\"], [0.2222222222222222, \"#7201a8\"], [0.3333333333333333, \"#9c179e\"], [0.4444444444444444, \"#bd3786\"], [0.5555555555555556, \"#d8576b\"], [0.6666666666666666, \"#ed7953\"], [0.7777777777777778, \"#fb9f3a\"], [0.8888888888888888, \"#fdca26\"], [1.0, \"#f0f921\"]], \"type\": \"contour\"}], \"contourcarpet\": [{\"colorbar\": {\"outlinewidth\": 0, \"ticks\": \"\"}, \"type\": \"contourcarpet\"}], \"heatmap\": [{\"colorbar\": {\"outlinewidth\": 0, \"ticks\": \"\"}, \"colorscale\": [[0.0, \"#0d0887\"], [0.1111111111111111, \"#46039f\"], [0.2222222222222222, \"#7201a8\"], [0.3333333333333333, \"#9c179e\"], [0.4444444444444444, \"#bd3786\"], [0.5555555555555556, \"#d8576b\"], [0.6666666666666666, \"#ed7953\"], [0.7777777777777778, \"#fb9f3a\"], [0.8888888888888888, \"#fdca26\"], [1.0, \"#f0f921\"]], \"type\": \"heatmap\"}], \"heatmapgl\": [{\"colorbar\": {\"outlinewidth\": 0, \"ticks\": \"\"}, \"colorscale\": [[0.0, \"#0d0887\"], [0.1111111111111111, \"#46039f\"], [0.2222222222222222, \"#7201a8\"], [0.3333333333333333, \"#9c179e\"], [0.4444444444444444, \"#bd3786\"], [0.5555555555555556, \"#d8576b\"], [0.6666666666666666, \"#ed7953\"], [0.7777777777777778, \"#fb9f3a\"], [0.8888888888888888, \"#fdca26\"], [1.0, \"#f0f921\"]], \"type\": \"heatmapgl\"}], \"histogram\": [{\"marker\": {\"colorbar\": {\"outlinewidth\": 0, \"ticks\": \"\"}}, \"type\": \"histogram\"}], \"histogram2d\": [{\"colorbar\": {\"outlinewidth\": 0, \"ticks\": \"\"}, \"colorscale\": [[0.0, \"#0d0887\"], [0.1111111111111111, \"#46039f\"], [0.2222222222222222, \"#7201a8\"], [0.3333333333333333, \"#9c179e\"], [0.4444444444444444, \"#bd3786\"], [0.5555555555555556, \"#d8576b\"], [0.6666666666666666, \"#ed7953\"], [0.7777777777777778, \"#fb9f3a\"], [0.8888888888888888, \"#fdca26\"], [1.0, \"#f0f921\"]], \"type\": \"histogram2d\"}], \"histogram2dcontour\": [{\"colorbar\": {\"outlinewidth\": 0, \"ticks\": \"\"}, \"colorscale\": [[0.0, \"#0d0887\"], [0.1111111111111111, \"#46039f\"], [0.2222222222222222, \"#7201a8\"], [0.3333333333333333, \"#9c179e\"], [0.4444444444444444, \"#bd3786\"], [0.5555555555555556, \"#d8576b\"], [0.6666666666666666, \"#ed7953\"], [0.7777777777777778, \"#fb9f3a\"], [0.8888888888888888, \"#fdca26\"], [1.0, \"#f0f921\"]], \"type\": \"histogram2dcontour\"}], \"mesh3d\": [{\"colorbar\": {\"outlinewidth\": 0, \"ticks\": \"\"}, \"type\": \"mesh3d\"}], \"parcoords\": [{\"line\": {\"colorbar\": {\"outlinewidth\": 0, \"ticks\": \"\"}}, \"type\": \"parcoords\"}], \"pie\": [{\"automargin\": true, \"type\": \"pie\"}], \"scatter\": [{\"marker\": {\"colorbar\": {\"outlinewidth\": 0, \"ticks\": \"\"}}, \"type\": \"scatter\"}], \"scatter3d\": [{\"line\": {\"colorbar\": {\"outlinewidth\": 0, \"ticks\": \"\"}}, \"marker\": {\"colorbar\": {\"outlinewidth\": 0, \"ticks\": \"\"}}, \"type\": \"scatter3d\"}], \"scattercarpet\": [{\"marker\": {\"colorbar\": {\"outlinewidth\": 0, \"ticks\": \"\"}}, \"type\": \"scattercarpet\"}], \"scattergeo\": [{\"marker\": {\"colorbar\": {\"outlinewidth\": 0, \"ticks\": \"\"}}, \"type\": \"scattergeo\"}], \"scattergl\": [{\"marker\": {\"colorbar\": {\"outlinewidth\": 0, \"ticks\": \"\"}}, \"type\": \"scattergl\"}], \"scattermapbox\": [{\"marker\": {\"colorbar\": {\"outlinewidth\": 0, \"ticks\": \"\"}}, \"type\": \"scattermapbox\"}], \"scatterpolar\": [{\"marker\": {\"colorbar\": {\"outlinewidth\": 0, \"ticks\": \"\"}}, \"type\": \"scatterpolar\"}], \"scatterpolargl\": [{\"marker\": {\"colorbar\": {\"outlinewidth\": 0, \"ticks\": \"\"}}, \"type\": \"scatterpolargl\"}], \"scatterternary\": [{\"marker\": {\"colorbar\": {\"outlinewidth\": 0, \"ticks\": \"\"}}, \"type\": \"scatterternary\"}], \"surface\": [{\"colorbar\": {\"outlinewidth\": 0, \"ticks\": \"\"}, \"colorscale\": [[0.0, \"#0d0887\"], [0.1111111111111111, \"#46039f\"], [0.2222222222222222, \"#7201a8\"], [0.3333333333333333, \"#9c179e\"], [0.4444444444444444, \"#bd3786\"], [0.5555555555555556, \"#d8576b\"], [0.6666666666666666, \"#ed7953\"], [0.7777777777777778, \"#fb9f3a\"], [0.8888888888888888, \"#fdca26\"], [1.0, \"#f0f921\"]], \"type\": \"surface\"}], \"table\": [{\"cells\": {\"fill\": {\"color\": \"#EBF0F8\"}, \"line\": {\"color\": \"white\"}}, \"header\": {\"fill\": {\"color\": \"#C8D4E3\"}, \"line\": {\"color\": \"white\"}}, \"type\": \"table\"}]}, \"layout\": {\"annotationdefaults\": {\"arrowcolor\": \"#2a3f5f\", \"arrowhead\": 0, \"arrowwidth\": 1}, \"coloraxis\": {\"colorbar\": {\"outlinewidth\": 0, \"ticks\": \"\"}}, \"colorscale\": {\"diverging\": [[0, \"#8e0152\"], [0.1, \"#c51b7d\"], [0.2, \"#de77ae\"], [0.3, \"#f1b6da\"], [0.4, \"#fde0ef\"], [0.5, \"#f7f7f7\"], [0.6, \"#e6f5d0\"], [0.7, \"#b8e186\"], [0.8, \"#7fbc41\"], [0.9, \"#4d9221\"], [1, \"#276419\"]], \"sequential\": [[0.0, \"#0d0887\"], [0.1111111111111111, \"#46039f\"], [0.2222222222222222, \"#7201a8\"], [0.3333333333333333, \"#9c179e\"], [0.4444444444444444, \"#bd3786\"], [0.5555555555555556, \"#d8576b\"], [0.6666666666666666, \"#ed7953\"], [0.7777777777777778, \"#fb9f3a\"], [0.8888888888888888, \"#fdca26\"], [1.0, \"#f0f921\"]], \"sequentialminus\": [[0.0, \"#0d0887\"], [0.1111111111111111, \"#46039f\"], [0.2222222222222222, \"#7201a8\"], [0.3333333333333333, \"#9c179e\"], [0.4444444444444444, \"#bd3786\"], [0.5555555555555556, \"#d8576b\"], [0.6666666666666666, \"#ed7953\"], [0.7777777777777778, \"#fb9f3a\"], [0.8888888888888888, \"#fdca26\"], [1.0, \"#f0f921\"]]}, \"colorway\": [\"#636efa\", \"#EF553B\", \"#00cc96\", \"#ab63fa\", \"#FFA15A\", \"#19d3f3\", \"#FF6692\", \"#B6E880\", \"#FF97FF\", \"#FECB52\"], \"font\": {\"color\": \"#2a3f5f\"}, \"geo\": {\"bgcolor\": \"white\", \"lakecolor\": \"white\", \"landcolor\": \"#E5ECF6\", \"showlakes\": true, \"showland\": true, \"subunitcolor\": \"white\"}, \"hoverlabel\": {\"align\": \"left\"}, \"hovermode\": \"closest\", \"mapbox\": {\"style\": \"light\"}, \"paper_bgcolor\": \"white\", \"plot_bgcolor\": \"#E5ECF6\", \"polar\": {\"angularaxis\": {\"gridcolor\": \"white\", \"linecolor\": \"white\", \"ticks\": \"\"}, \"bgcolor\": \"#E5ECF6\", \"radialaxis\": {\"gridcolor\": \"white\", \"linecolor\": \"white\", \"ticks\": \"\"}}, \"scene\": {\"xaxis\": {\"backgroundcolor\": \"#E5ECF6\", \"gridcolor\": \"white\", \"gridwidth\": 2, \"linecolor\": \"white\", \"showbackground\": true, \"ticks\": \"\", \"zerolinecolor\": \"white\"}, \"yaxis\": {\"backgroundcolor\": \"#E5ECF6\", \"gridcolor\": \"white\", \"gridwidth\": 2, \"linecolor\": \"white\", \"showbackground\": true, \"ticks\": \"\", \"zerolinecolor\": \"white\"}, \"zaxis\": {\"backgroundcolor\": \"#E5ECF6\", \"gridcolor\": \"white\", \"gridwidth\": 2, \"linecolor\": \"white\", \"showbackground\": true, \"ticks\": \"\", \"zerolinecolor\": \"white\"}}, \"shapedefaults\": {\"line\": {\"color\": \"#2a3f5f\"}}, \"ternary\": {\"aaxis\": {\"gridcolor\": \"white\", \"linecolor\": \"white\", \"ticks\": \"\"}, \"baxis\": {\"gridcolor\": \"white\", \"linecolor\": \"white\", \"ticks\": \"\"}, \"bgcolor\": \"#E5ECF6\", \"caxis\": {\"gridcolor\": \"white\", \"linecolor\": \"white\", \"ticks\": \"\"}}, \"title\": {\"x\": 0.05}, \"xaxis\": {\"automargin\": true, \"gridcolor\": \"white\", \"linecolor\": \"white\", \"ticks\": \"\", \"title\": {\"standoff\": 15}, \"zerolinecolor\": \"white\", \"zerolinewidth\": 2}, \"yaxis\": {\"automargin\": true, \"gridcolor\": \"white\", \"linecolor\": \"white\", \"ticks\": \"\", \"title\": {\"standoff\": 15}, \"zerolinecolor\": \"white\", \"zerolinewidth\": 2}}}, \"title\": {\"text\": \"Xtreme Penalty Types\", \"x\": 0, \"xref\": \"paper\"}, \"width\": 700, \"xaxis\": {\"showgrid\": false, \"showticklabels\": false, \"zeroline\": false}, \"yaxis\": {\"showgrid\": false, \"showticklabels\": false, \"zeroline\": false}},\n",
              "                        {\"responsive\": true}\n",
              "                    ).then(function(){\n",
              "                            \n",
              "var gd = document.getElementById('16f847a4-44ef-47f4-93a1-2a4ab0ddc933');\n",
              "var x = new MutationObserver(function (mutations, observer) {{\n",
              "        var display = window.getComputedStyle(gd).display;\n",
              "        if (!display || display === 'none') {{\n",
              "            console.log([gd, 'removed!']);\n",
              "            Plotly.purge(gd);\n",
              "            observer.disconnect();\n",
              "        }}\n",
              "}});\n",
              "\n",
              "// Listen for the removal of the full notebook cells\n",
              "var notebookContainer = gd.closest('#notebook-container');\n",
              "if (notebookContainer) {{\n",
              "    x.observe(notebookContainer, {childList: true});\n",
              "}}\n",
              "\n",
              "// Listen for the clearing of the current output cell\n",
              "var outputEl = gd.closest('.output');\n",
              "if (outputEl) {{\n",
              "    x.observe(outputEl, {childList: true});\n",
              "}}\n",
              "\n",
              "                        })\n",
              "                };\n",
              "                \n",
              "            </script>\n",
              "        </div>\n",
              "</body>\n",
              "</html>"
            ]
          },
          "metadata": {
            "tags": []
          }
        }
      ]
    },
    {
      "cell_type": "code",
      "metadata": {
        "id": "bM6MXF0gwR3L",
        "colab": {
          "base_uri": "https://localhost:8080/",
          "height": 297
        },
        "outputId": "435d922a-97f5-4e8c-baf0-99898c8f027b"
      },
      "source": [
        "# Pie chart with goal types\n",
        "\n",
        "# dictionary with goal types \n",
        "goal_types = {\"en\": \"Empty Net\", \"es\": \"Even Strength\", \"pp\": \"Power Play\", \"ps\": \"Penalty shot\", \"sh\": \"Short-handed\" }\n",
        "\n",
        "# get unique list of goal types \n",
        "dfx = df_goals[(df_goals.team == \"a\")]\n",
        "arr = dfx.type.unique()\n",
        "\n",
        "g_values = []\n",
        "g_labels = []\n",
        "\n",
        "for g in arr:\n",
        "  c = dfx[(dfx.type == g)].shape[0]\n",
        "  g_values.append(c)\n",
        "  g_labels.append(goal_types[g] + \" (\" + str(c) + \")\")\n",
        "\n",
        "#colors\n",
        "colors = ['#ff0000','#c0c0c0','#ffffff','#000000']\n",
        "\n",
        "fig1, ax1 = plt.subplots()\n",
        "#patches, texts, autotexts = ax1.pie(g_values, colors = colors, autopct='%1.0f%%', pctdistance=1.08, startangle=90)\n",
        "patches, texts = ax1.pie(g_values, colors = colors, pctdistance=1.08, startangle=90)\n",
        "\n",
        "# Equal aspect ratio ensures that pie is drawn as a circle\n",
        "plt.legend(patches, g_labels, loc=\"best\")\n",
        "ax1.axis('equal')  \n",
        "ax1.set_title('Types of Xtreme Goals (' + str(len(dfx.index)) + ')')\n",
        "plt.tight_layout()\n",
        "plt.show()"
      ],
      "execution_count": 8,
      "outputs": [
        {
          "output_type": "display_data",
          "data": {
            "image/png": "[encoded data removed]",
            "text/plain": [
              "<Figure size 432x288 with 1 Axes>"
            ]
          },
          "metadata": {
            "tags": []
          }
        }
      ]
    },
    {
      "cell_type": "code",
      "metadata": {
        "id": "u4F9Wi9-7QjT",
        "colab": {
          "base_uri": "https://localhost:8080/",
          "height": 297
        },
        "outputId": "6818160a-e522-4c3d-8757-4f85ce1cf396"
      },
      "source": [
        "# Pie chart with goal types\n",
        "\n",
        "# dictionary with goal types \n",
        "#goal_types = {\"en\": \"Empty Net\", \"es\": \"Even Strength\", \"pp\": \"Power Play\", \"ps\": \"Penalty shot\", \"sh\": \"Short-handed\" }\n",
        "\n",
        "# get unique list of goal types \n",
        "dfx = df_goals[(df_goals.team == \"o\")]\n",
        "arr = dfx.type.unique()\n",
        "\n",
        "g_values = []\n",
        "g_labels = []\n",
        "\n",
        "for g in arr:\n",
        "  c = dfx[(dfx.type == g)].shape[0]\n",
        "  g_values.append(c)\n",
        "  g_labels.append(goal_types[g] + \" (\" + str(c) + \")\")\n",
        "\n",
        "#colors\n",
        "colors = ['#80b1d3','#fb8072','#8dd3c7','#fccde5']\n",
        "\n",
        "fig1, ax1 = plt.subplots()\n",
        "#patches, texts, autotexts = ax1.pie(g_values, colors = colors, autopct='%1.0f%%', pctdistance=1.08, startangle=90)\n",
        "patches, texts = ax1.pie(g_values, colors = colors, pctdistance=1.08, startangle=90)\n",
        "\n",
        "# Equal aspect ratio ensures that pie is drawn as a circle\n",
        "plt.legend(patches, g_labels, loc=\"best\")\n",
        "ax1.axis('equal')  \n",
        "ax1.set_title('Types of Opponent Goals (' + str(len(dfx.index)) + ')')\n",
        "plt.tight_layout()\n",
        "plt.show()"
      ],
      "execution_count": 9,
      "outputs": [
        {
          "output_type": "display_data",
          "data": {
            "image/png": "[encoded data removed]",
            "text/plain": [
              "<Figure size 432x288 with 1 Axes>"
            ]
          },
          "metadata": {
            "tags": []
          }
        }
      ]
    },
    {
      "cell_type": "code",
      "metadata": {
        "id": "JjMUguEHx3x8",
        "colab": {
          "base_uri": "https://localhost:8080/"
        },
        "outputId": "ef13440f-4cf7-4f4d-e8cf-4dadc5a774a4"
      },
      "source": [
        "# calculate how many times Xtreme scored first \n",
        "\n",
        "dfx = pd.DataFrame(columns=[\"game\",\t\"team\",\t\"period\",\t\"time\",\t\"type\"])\n",
        "\n",
        "num_games = df_games.shape[0]\n",
        "\n",
        "# build dataframe where xtreme scored first \n",
        "for g in range(1,num_games+1):\n",
        "    t = df_goals[(df_goals.game == g)].head(1)\n",
        "    dfx = pd.concat([t, dfx[:]])\n",
        "\n",
        "# loop through it to get their record \n",
        "x_win = 0 \n",
        "x_loss = 0 \n",
        "x_tie = 0 \n",
        "\n",
        "dft = dfx[(dfx.team == \"a\")]\n",
        "\n",
        "for idx in dft.index:\n",
        "    # for each game, determine if Xtreme won or lost\n",
        "    g = dft[\"game\"][idx]\n",
        "    # go get score for each game \n",
        "    if ((df_games[(df_games.game == g)].axscore.iloc[0]) > (df_games[(df_games.game == g)].oppscore.iloc[0])):\n",
        "      x_win = x_win + 1\n",
        "    elif ((df_games[(df_games.game == g)].axscore.iloc[0]) < (df_games[(df_games.game == g)].oppscore.iloc[0])):\n",
        "      x_loss = x_loss + 1\n",
        "    else: \n",
        "      x_tie = x_tie + 1\n",
        "\n",
        "print(\"<b>\" +  str(x_win) + \"-\" + str(x_loss) + \"-\" + str(x_tie) + \"</b> when scoring first.\")\n"
      ],
      "execution_count": null,
      "outputs": [
        {
          "output_type": "stream",
          "text": [
            "<b>9-5-1</b> when scoring first.\n"
          ],
          "name": "stdout"
        }
      ]
    },
    {
      "cell_type": "code",
      "metadata": {
        "id": "Nd0RiU4koGob",
        "colab": {
          "base_uri": "https://localhost:8080/"
        },
        "outputId": "cb84f115-8ea3-4475-8d8b-a48ef8efddaa"
      },
      "source": [
        "# calculate power play percentage (calculated by dividing power play goals by power play opportunities)\n",
        "\n",
        "ppg = df_goals[(df_goals.team == \"a\") & (df_goals.type == \"pp\")].shape[0]\n",
        "ppo = df_penalties[(df_penalties.team == \"o\")].shape[0]\n",
        "pp = '{0:.0f}'.format((ppg / ppo * 100))\n",
        "print(\"Power play percentage: <b>\" + str(pp) + \"%</b>, \")\n"
      ],
      "execution_count": null,
      "outputs": [
        {
          "output_type": "stream",
          "text": [
            "Power play percentage: <b>9%</b>, \n"
          ],
          "name": "stdout"
        }
      ]
    },
    {
      "cell_type": "code",
      "metadata": {
        "id": "ltWDq6BxqYjQ",
        "colab": {
          "base_uri": "https://localhost:8080/"
        },
        "outputId": "6d5522db-e51b-4789-ac12-efd8fda9528b"
      },
      "source": [
        "# calculate penalty kill percentage (calculated by subtracting power play goals against from power \n",
        "#play opportunities against, then dividing by power play opportunities against.)\n",
        "\n",
        "ppg = df_goals[(df_goals.team == \"o\") & (df_goals.type == \"pp\")].shape[0]\n",
        "ppo = df_penalties[(df_penalties.team == \"a\")].shape[0]\n",
        "pp = '{0:.0f}'.format(((ppo - ppg) / ppo * 100))\n",
        "print(\"penalty kill percentage: <b>\" + str(pp) + \"%</b>.\")\n"
      ],
      "execution_count": null,
      "outputs": [
        {
          "output_type": "stream",
          "text": [
            "penalty kill percentage: <b>87%</b>.\n"
          ],
          "name": "stdout"
        }
      ]
    },
    {
      "cell_type": "code",
      "metadata": {
        "id": "Rbb9WrydfaU8",
        "colab": {
          "base_uri": "https://localhost:8080/"
        },
        "outputId": "bdfea711-fe93-4e43-e9ba-2e708c41d6ba"
      },
      "source": [
        "# calculate average shots per game (xtreme and opponents) \n",
        "\n",
        "num_games = df_games.shape[0]\n",
        "\n",
        "x_shots = (df_shots['ashburn_p1'].sum() + df_shots['ashburn_p2'].sum() + \n",
        "           df_shots['ashburn_p3'].sum() + df_shots['ashburn_ot'].sum())\n",
        "\n",
        "o_shots = (df_shots['opp_p1'].sum() + df_shots['opp_p2'].sum() + \n",
        "           df_shots['opp_p3'].sum() + df_shots['opp_ot'].sum())\n",
        "\n",
        "x_avg_shots = '{0:.0f}'.format(x_shots / num_games * 1) # round to whole number .0f\n",
        "o_avg_shots = '{0:.0f}'.format(o_shots / num_games * 1) # round to whole number .0f\n",
        "\n",
        "print(\"Averaging <b>\" + str(x_avg_shots) + \"</b> shots per game while opponents average <b>\" +\n",
        "      str(o_avg_shots) + \"</b>.\")"
      ],
      "execution_count": null,
      "outputs": [
        {
          "output_type": "stream",
          "text": [
            "Averaging <b>25</b> shots per game while opponents average <b>24</b>.\n"
          ],
          "name": "stdout"
        }
      ]
    },
    {
      "cell_type": "code",
      "metadata": {
        "id": "PW4J0MTVkbuJ",
        "colab": {
          "base_uri": "https://localhost:8080/"
        },
        "outputId": "18f17fc4-973f-479b-972a-020acb381466"
      },
      "source": [
        "# what is Xtreme record when getting over x shots?\n",
        "target_shots = 30\n",
        "x_win = 0 \n",
        "x_loss = 0 \n",
        "x_tie = 0 \n",
        "\n",
        "# iterate through shots table \n",
        "for idx in df_shots.index:\n",
        "  # total up the shots\n",
        "  g = df_shots['game'][idx]\n",
        "  shots = df_shots[\"ashburn_p1\"][idx] + df_shots[\"ashburn_p2\"][idx] + df_shots[\"ashburn_p3\"][idx] + df_shots[\"ashburn_ot\"][idx]\n",
        "  \n",
        "  # over?\n",
        "  if (shots >= target_shots):\n",
        "    # print(g, shots)\n",
        "    # get the game and see if Xtreme won or lost\n",
        "    axscore = df_games[(df_games.game == g)].axscore.iloc[0]\n",
        "    oppscore = df_games[(df_games.game == g)].oppscore.iloc[0]\n",
        "    if (axscore > oppscore):\n",
        "      x_win = x_win + 1\n",
        "    elif (axscore < oppscore):\n",
        "      x_loss = x_loss + 1\n",
        "    else:\n",
        "      x_tie = x_tie + 1\n",
        "  \n",
        "# results? \n",
        "print(\"<b>\" + str(x_win) + \"-\" + str(x_loss) + \"-\" + str(x_tie) + \"</b> when getting \" + \n",
        "      str(target_shots) + \" or more shots in a game.\")\n"
      ],
      "execution_count": null,
      "outputs": [
        {
          "output_type": "stream",
          "text": [
            "<b>7-1-0</b> when getting 30 or more shots in a game.\n"
          ],
          "name": "stdout"
        }
      ]
    },
    {
      "cell_type": "code",
      "metadata": {
        "id": "rqpJH8_k2270",
        "colab": {
          "base_uri": "https://localhost:8080/"
        },
        "outputId": "c3dabb23-5887-41fe-f685-5be866b0f65e"
      },
      "source": [
        "# calculate how many periods xtreme have scored in \n",
        "\n",
        "num_games = df_games.shape[0]\n",
        "\n",
        "periods_scored = 0 \n",
        "for g in range(1,num_games+1): \n",
        "  dfx = df_goals[(df_goals.game == g) & (df_goals.team == \"a\")]\n",
        "  periods = dfx[\"period\"].unique().size\n",
        "  periods_scored = periods_scored + periods\n",
        "\n",
        "# count # periods where > 0 \n",
        "total_periods = 0 \n",
        "for g in range(1,num_games+1): \n",
        "  for p in range(1,5):\n",
        "    period_num = \"p\" + str(p) + \"_length\"\n",
        "    period_length = df_periods.loc[df_periods.game == g, period_num].iloc[0]\n",
        "    if (period_length > 0):\n",
        "      total_periods = total_periods + 1\n",
        "\n",
        "ps = '{0:.0f}'.format(periods_scored / total_periods * 100)\n",
        "\n",
        "print(\"Scored in <b>\" + str(periods_scored) + \"</b> out of <b>\" + str(total_periods) + \"</b> periods (\" + \n",
        "      str(ps) + \"%).\")\n"
      ],
      "execution_count": null,
      "outputs": [
        {
          "output_type": "stream",
          "text": [
            "Scored in <b>55</b> out of <b>93</b> periods (59%).\n"
          ],
          "name": "stdout"
        }
      ]
    },
    {
      "cell_type": "code",
      "metadata": {
        "id": "LLz5VaOzsvgd",
        "colab": {
          "base_uri": "https://localhost:8080/"
        },
        "outputId": "1d291e7e-1a82-4f61-aeb8-c8e7201f5441"
      },
      "source": [
        "# calculate when we give up a goal within 1 minute or 2 of scoring one \n",
        "# find an xtreme goal, see if next one is opponent, then subtract time? \n",
        "\n",
        "# use a counter\n",
        "ctr = 0 \n",
        "\n",
        "# use one minute as threshold\n",
        "threshold = datetime.timedelta(minutes=1)\n",
        "\n",
        "# get all xtreme goals \n",
        "dfx = df_goals[(df_goals.team == \"a\")]\n",
        "\n",
        "# loop through each one\n",
        "for x in range(1, dfx.shape[0]+1):\n",
        "    try: \n",
        "        # current goal is ashburn\n",
        "        curr_goal = dfx.iloc[x]\n",
        "        # next goal is whatever the next one is \n",
        "        next_goal = df_goals.iloc[curr_goal.name+1]\n",
        "        # need to verify next goal occured in the same game, same period, and was scored by opponet\n",
        "        if ((next_goal[0] == curr_goal[0]) & (next_goal[1] == \"o\") & (next_goal[2] == curr_goal[2])):\n",
        "            # now, grab time of ashburn goal and opponent goal \n",
        "            [x1_min, x1_sec] = [int(x) for x in curr_goal[3].split(':')]\n",
        "            a_goal_time = datetime.timedelta(minutes=x1_min, seconds=x1_sec)\n",
        "            [x2_min, x2_sec] = [int(x) for x in next_goal[3].split(':')]\n",
        "            o_goal_time = datetime.timedelta(minutes=x2_min, seconds=x2_sec)\n",
        "            # subtract to get time differential and see if below the threshold\n",
        "            time_diff = a_goal_time - o_goal_time\n",
        "            if (time_diff < threshold):\n",
        "              #print(next_goal)\n",
        "              # increment the counter\n",
        "              ctr = ctr + 1\n",
        "    except:\n",
        "        print(\"\")\n",
        "        \n",
        "#print out the result\n",
        "print(\"Opponents have sored <b>\" + str(ctr) + \"</b> times within one minute of the Xtreme scoring a goal.\")\n",
        "\n"
      ],
      "execution_count": null,
      "outputs": [
        {
          "output_type": "stream",
          "text": [
            "\n",
            "\n",
            "Opponents have sored <b>6</b> times within one minute of the Xtreme scoring a goal.\n"
          ],
          "name": "stdout"
        }
      ]
    },
    {
      "cell_type": "code",
      "metadata": {
        "id": "yOS9M8XElPUU",
        "colab": {
          "base_uri": "https://localhost:8080/"
        },
        "outputId": "eeded694-d68b-4c8a-a03a-9bfa7e9967b6"
      },
      "source": [
        "# calculate Xtreme record when leading after two periods \n",
        "\n",
        "num_games = df_games.shape[0]\n",
        "\n",
        "x_win = 0 \n",
        "x_tie = 0 \n",
        "x_loss = 0 \n",
        "\n",
        "for g in range(1, num_games+1): \n",
        "  # go through each game, add up xtreme and opponent goals through two periods \n",
        "  x_goals_through_two = df_goals[(df_goals.game == g) & (df_goals.team == \"a\") & (df_goals.period == 1)].shape[0] + df_goals[(df_goals.game == g) & (df_goals.team == \"a\") & (df_goals.period == 2)].shape[0]\n",
        "  o_goals_through_two = df_goals[(df_goals.game == g) & (df_goals.team == \"o\") & (df_goals.period == 1)].shape[0] + df_goals[(df_goals.game == g) & (df_goals.team == \"o\") & (df_goals.period == 2)].shape[0]\n",
        "  # if behind, get 3rd period and ot score, see if they won the game \n",
        "  if (x_goals_through_two > o_goals_through_two): \n",
        "      # add to counter for when behind \n",
        "      x_goals_3rd_and_ot = df_goals[(df_goals.game == g) & (df_goals.team == \"a\") & (df_goals.period == 3)].shape[0] + df_goals[(df_goals.game == g) & (df_goals.team == \"a\") & (df_goals.period == 4)].shape[0]  \n",
        "      o_goals_3rd_and_ot = df_goals[(df_goals.game == g) & (df_goals.team == \"o\") & (df_goals.period == 3)].shape[0] + df_goals[(df_goals.game == g) & (df_goals.team == \"o\") & (df_goals.period == 4)].shape[0]\n",
        "      # compute final score \n",
        "      x_final = x_goals_through_two + x_goals_3rd_and_ot\n",
        "      o_final = o_goals_through_two + o_goals_3rd_and_ot\n",
        "      if (x_final > o_final):\n",
        "        x_win = x_win + 1\n",
        "      elif (x_final < o_final):\n",
        "        x_loss = x_loss + 1\n",
        "      else: \n",
        "        x_tie = x_tie + 1\n",
        "\n",
        "print(\"<b>\" + str(x_win) + \"-\" + str(x_loss) + \"-\" + str(x_tie) + \"</b> when leading after two periods, \")\n"
      ],
      "execution_count": null,
      "outputs": [
        {
          "output_type": "stream",
          "text": [
            "<b>9-0-2</b> when leading after two periods, \n"
          ],
          "name": "stdout"
        }
      ]
    },
    {
      "cell_type": "code",
      "metadata": {
        "id": "usOumMeQb9P7",
        "colab": {
          "base_uri": "https://localhost:8080/"
        },
        "outputId": "786c79d8-f52b-4d4d-baf7-f01b075dfade"
      },
      "source": [
        "# calculate how many times the Xtreme have won a game when trailing after two periods \n",
        "\n",
        "num_games = df_games.shape[0]\n",
        "\n",
        "games_trailing = 0 \n",
        "x_win = 0 \n",
        "x_tie = 0 \n",
        "x_loss = 0 \n",
        "\n",
        "for g in range(1, num_games+1): \n",
        "  # go through each game, add up xtreme and opponent goals through two periods \n",
        "  x_goals_through_two = df_goals[(df_goals.game == g) & (df_goals.team == \"a\") & (df_goals.period == 1)].shape[0] + df_goals[(df_goals.game == g) & (df_goals.team == \"a\") & (df_goals.period == 2)].shape[0]\n",
        "  o_goals_through_two = df_goals[(df_goals.game == g) & (df_goals.team == \"o\") & (df_goals.period == 1)].shape[0] + df_goals[(df_goals.game == g) & (df_goals.team == \"o\") & (df_goals.period == 2)].shape[0]\n",
        "  # if behind, get 3rd period and ot score, see if they won the game \n",
        "  if (x_goals_through_two <= o_goals_through_two): \n",
        "      # add to counter for when behind \n",
        "      games_trailing = games_trailing + 1\n",
        "      x_goals_3rd_and_ot = df_goals[(df_goals.game == g) & (df_goals.team == \"a\") & (df_goals.period == 3)].shape[0] + df_goals[(df_goals.game == g) & (df_goals.team == \"a\") & (df_goals.period == 4)].shape[0]  \n",
        "      o_goals_3rd_and_ot = df_goals[(df_goals.game == g) & (df_goals.team == \"o\") & (df_goals.period == 3)].shape[0] + df_goals[(df_goals.game == g) & (df_goals.team == \"o\") & (df_goals.period == 4)].shape[0]\n",
        "      # compute final score \n",
        "      x_final = x_goals_through_two + x_goals_3rd_and_ot\n",
        "      o_final = o_goals_through_two + o_goals_3rd_and_ot\n",
        "      if (x_final > o_final):\n",
        "        x_win = x_win + 1\n",
        "      elif (x_final < o_final):\n",
        "        x_loss = x_loss + 1\n",
        "      else: \n",
        "        x_tie = x_tie + 1\n",
        "\n",
        "print(\"<b>\" + str(x_win) + \"-\" + str(x_loss) + \"-\" + str(x_tie) + \"</b> when trailing or tied after two periods.\")\n"
      ],
      "execution_count": null,
      "outputs": [
        {
          "output_type": "stream",
          "text": [
            "<b>5-15-0</b> when trailing or tied after two periods.\n"
          ],
          "name": "stdout"
        }
      ]
    },
    {
      "cell_type": "code",
      "metadata": {
        "id": "iFjXF9DuaoXW",
        "colab": {
          "base_uri": "https://localhost:8080/",
          "height": 245
        },
        "outputId": "30802267-fa40-4c41-bad1-ca299f1abb7c"
      },
      "source": [
        "# calculate shooting percentage (goals / shots on goal)\n",
        "\n",
        "shot_percentage = []\n",
        "\n",
        "for x in range(1,5):\n",
        "  x_goals = df_goals[(df_goals.team == \"a\") & (df_goals.period == x)].shape[0]\n",
        "  period = \"ashburn_p\" + str(x)\n",
        "  if (x == 4):\n",
        "    period = \"ashburn_ot\"\n",
        "\n",
        "  x_shots = df_shots[period].sum()\n",
        "\n",
        "  shot_percentage.append('{0:.0f}'.format(int(x_goals) / int(x_shots) * 100))\n",
        "\n",
        "display = \"Shooting percentage by period: <b>\"\n",
        "\n",
        "for x in range(1,5):\n",
        "  if (x == 1):\n",
        "    period = str(x) + \"st: \" + str(shot_percentage[0]) + \"%, \"\n",
        "  elif (x == 2):\n",
        "    period = str(x) + \"nd: \" + str(shot_percentage[1]) + \"%, \"\n",
        "  elif (x == 3):\n",
        "    period = str(x) + \"rd: \" + str(shot_percentage[2]) + \"%, \"\n",
        "  else:\n",
        "    period = \"OT: \" + str(shot_percentage[3]) + \"%</b>.\"\n",
        "\n",
        "  display = display + period\n",
        "\n",
        "print(display)\n",
        "\n"
      ],
      "execution_count": null,
      "outputs": [
        {
          "output_type": "error",
          "ename": "ZeroDivisionError",
          "evalue": "ignored",
          "traceback": [
            "\u001b[0;31m---------------------------------------------------------------------------\u001b[0m",
            "\u001b[0;31mZeroDivisionError\u001b[0m                         Traceback (most recent call last)",
            "\u001b[0;32m<ipython-input-19-9b1b78be25f5>\u001b[0m in \u001b[0;36m<module>\u001b[0;34m()\u001b[0m\n\u001b[1;32m     11\u001b[0m   \u001b[0mx_shots\u001b[0m \u001b[0;34m=\u001b[0m \u001b[0mdf_shots\u001b[0m\u001b[0;34m[\u001b[0m\u001b[0mperiod\u001b[0m\u001b[0;34m]\u001b[0m\u001b[0;34m.\u001b[0m\u001b[0msum\u001b[0m\u001b[0;34m(\u001b[0m\u001b[0;34m)\u001b[0m\u001b[0;34m\u001b[0m\u001b[0;34m\u001b[0m\u001b[0m\n\u001b[1;32m     12\u001b[0m \u001b[0;34m\u001b[0m\u001b[0m\n\u001b[0;32m---> 13\u001b[0;31m   \u001b[0mshot_percentage\u001b[0m\u001b[0;34m.\u001b[0m\u001b[0mappend\u001b[0m\u001b[0;34m(\u001b[0m\u001b[0;34m'{0:.0f}'\u001b[0m\u001b[0;34m.\u001b[0m\u001b[0mformat\u001b[0m\u001b[0;34m(\u001b[0m\u001b[0mint\u001b[0m\u001b[0;34m(\u001b[0m\u001b[0mx_goals\u001b[0m\u001b[0;34m)\u001b[0m \u001b[0;34m/\u001b[0m \u001b[0mint\u001b[0m\u001b[0;34m(\u001b[0m\u001b[0mx_shots\u001b[0m\u001b[0;34m)\u001b[0m \u001b[0;34m*\u001b[0m \u001b[0;36m100\u001b[0m\u001b[0;34m)\u001b[0m\u001b[0;34m)\u001b[0m\u001b[0;34m\u001b[0m\u001b[0;34m\u001b[0m\u001b[0m\n\u001b[0m\u001b[1;32m     14\u001b[0m \u001b[0;34m\u001b[0m\u001b[0m\n\u001b[1;32m     15\u001b[0m \u001b[0mdisplay\u001b[0m \u001b[0;34m=\u001b[0m \u001b[0;34m\"Shooting percentage by period: <b>\"\u001b[0m\u001b[0;34m\u001b[0m\u001b[0;34m\u001b[0m\u001b[0m\n",
            "\u001b[0;31mZeroDivisionError\u001b[0m: division by zero"
          ]
        }
      ]
    },
    {
      "cell_type": "code",
      "metadata": {
        "id": "8w4KDN1JZ0c5",
        "colab": {
          "base_uri": "https://localhost:8080/",
          "height": 297
        },
        "outputId": "2978345b-f4a6-42bb-d3d0-b2bebda608c4"
      },
      "source": [
        "# pie chart with time Xtreme is ahead, losing, or tied \n",
        "\n",
        "# psuedo-logic \n",
        "# loop through each game, get period length, loop through goals by period, start with period length - time of next goal\n",
        "# then if tied, winning, or losing add time difference to the total, continue, rinse, repeat\n",
        "num_games = df_games.shape[0]\n",
        "\n",
        "time_leading = datetime.timedelta(minutes=0, seconds=0)\n",
        "time_trailing = datetime.timedelta(minutes=0, seconds=0)\n",
        "time_tied = datetime.timedelta(minutes=0, seconds=0) \n",
        "curr_time = datetime.timedelta(minutes=0, seconds=0) \n",
        "a_score = 0 \n",
        "o_score = 0 \n",
        "\n",
        "# loop through each game\n",
        "for g in range(1, num_games+1):\n",
        "\n",
        "  # reset sores \n",
        "  a_score = 0 \n",
        "  o_score = 0 \n",
        "\n",
        "  # create a temporary dataframe with just that game \n",
        "  df_game_goals = df_goals[(df_goals.game == g)]\n",
        "  \n",
        "  # loop through each period \n",
        "  for p in range(1,5):\n",
        "    # dynmically get period length \n",
        "    try:\n",
        "      period_length = df_periods[(df_periods.game == g)][\"p\" + str(p)+ \"_length\"].iloc[0]\n",
        "    except:\n",
        "      period_length = 15\n",
        "    period_time = datetime.timedelta(minutes=int(period_length), seconds=0)\n",
        "    df_period_goals = df_game_goals[(df_game_goals.period == p)] \n",
        "\n",
        "    # init current time to period length \n",
        "    curr_time = period_time\n",
        "\n",
        "    # only proceed if there was any time  in that period (not always an OT game)\n",
        "    if (period_length > 0):\n",
        "      \n",
        "      # get number of goals in the period \n",
        "      num_goals_this_period = df_period_goals.shape[0]\n",
        "\n",
        "      # if no goals scored that period, just add time on\n",
        "      if (num_goals_this_period == 0):\n",
        "        if (a_score == o_score):\n",
        "          time_tied = time_tied + period_time\n",
        "        elif (a_score > o_score):\n",
        "          time_leading = time_leading + period_time\n",
        "        else: \n",
        "          time_trailing = time_trailing + period_time\n",
        "\n",
        "      else:\n",
        "        # track number of goals\n",
        "        goal_counter = 1\n",
        "\n",
        "        # yes, goals that period so iterate over each goal  \n",
        "        for idx in df_period_goals.index:\n",
        "\n",
        "          # get each goal and store time difference from curr_time to time goal scored\n",
        "          xtime = df_period_goals[\"time\"][idx]\n",
        "          [m, s] = [int(x) for x in xtime.split(':')]\n",
        "          time_goal_scored = datetime.timedelta(minutes=m, seconds=s)\n",
        "          time_diff = curr_time - time_goal_scored\n",
        "          curr_time = time_goal_scored \n",
        "\n",
        "          # decide where to assign the time \n",
        "          if (a_score == o_score):\n",
        "            time_tied = time_tied + time_diff\n",
        "          elif (a_score > o_score):\n",
        "            time_leading = time_leading + time_diff\n",
        "          else: \n",
        "            time_trailing = time_trailing + time_diff\n",
        "\n",
        "          # increment the score \n",
        "          if df_period_goals[\"team\"][idx] == \"a\": \n",
        "            a_score = a_score + 1\n",
        "          else: \n",
        "            o_score = o_score + 1\n",
        "\n",
        "          # if this is the last goal, need to add rest of time in the period\n",
        "          # print(num_goals_this_period, goal_counter) \n",
        "          if (goal_counter == num_goals_this_period):\n",
        "            if (a_score == o_score):\n",
        "              time_tied = time_tied + time_goal_scored\n",
        "            elif (a_score > o_score):\n",
        "              time_leading = time_leading + time_goal_scored\n",
        "            else: \n",
        "              time_trailing = time_trailing + time_goal_scored\n",
        "\n",
        "          # increment the counter\n",
        "          goal_counter = goal_counter + 1\n",
        "\n",
        "# pretty up the labels\n",
        "totsec = time_leading.total_seconds()\n",
        "h = '{0:.0f}'.format(totsec // 3600)\n",
        "m = '{0:.0f}'.format((totsec % 3600) // 60)\n",
        "leading_label = \"Leading: \" + str(h) + \" hours, \" + str(m) + \" mins\"\n",
        "\n",
        "totsec = time_trailing.total_seconds()\n",
        "h = '{0:.0f}'.format(totsec // 3600)\n",
        "m = '{0:.0f}'.format((totsec % 3600) // 60)\n",
        "trailing_label = \"Trailing: \" + str(h) + \" hours, \" + str(m) + \" mins\"\n",
        "\n",
        "totsec = time_tied.total_seconds()\n",
        "h = '{0:.0f}'.format(totsec // 3600)\n",
        "m = '{0:.0f}'.format((totsec % 3600) // 60)\n",
        "tied_label = \"Tied: \" + str(h) + \" hours, \" + str(m) + \" mins\"\n",
        "\n",
        "t_values = [time_leading.seconds, time_trailing.seconds, time_tied.seconds]\n",
        "t_labels = [leading_label, trailing_label, tied_label] \n",
        "t_colors = ['#ff0000','#c0c0c0','#000000']\n",
        "\n",
        "fig1, ax1 = plt.subplots()\n",
        "patches, texts = ax1.pie(t_values, colors = t_colors, pctdistance=1.08, startangle=90)\n",
        "\n",
        "# Equal aspect ratio ensures that pie is drawn as a circle\n",
        "plt.legend(patches, t_labels, loc=\"best\", bbox_to_anchor=(.85, .9))\n",
        "ax1.axis('equal')  \n",
        "ax1.set_title('Time Leading, Trailing, or Tied')\n",
        "plt.tight_layout()\n",
        "plt.show()\n",
        "\n",
        "\n",
        "\n"
      ],
      "execution_count": 10,
      "outputs": [
        {
          "output_type": "display_data",
          "data": {
            "image/png": "[encoded data removed]",
            "text/plain": [
              "<Figure size 432x288 with 1 Axes>"
            ]
          },
          "metadata": {
            "tags": []
          }
        }
      ]
    },
    {
      "cell_type": "code",
      "metadata": {
        "id": "KCSq4VHobTEc",
        "colab": {
          "base_uri": "https://localhost:8080/",
          "height": 590
        },
        "outputId": "c0be8093-e6c4-41b3-e90e-1f6c3afc5a71"
      },
      "source": [
        "# display goals and assists for each player \n",
        "\n",
        "print(df_player_stats[[\"Player\", \"Goals\", \"Assists\"]])\n",
        "\n",
        "# get data\n",
        "x = df_player_stats[\"Goals\"]\n",
        "y = df_player_stats[\"Assists\"]\n",
        "n = df_player_stats[\"Player\"]\n",
        "colors = (0,0,0)\n",
        "area = np.pi * 3\n",
        "\n",
        "ycol = [2,4,6,8,10]\n",
        "xcol = [2,4,6,8,10,12,14,16,18]\n",
        "\n",
        "# Plot\n",
        "plt.scatter(x.values, y.values, s=area, c=colors, alpha=0.5)\n",
        "plt.title('Player Goals and Assists')\n",
        "plt.yticks(ycol)\n",
        "plt.xticks(xcol)\n",
        "plt.xlabel('Goals')\n",
        "plt.ylabel('Assists')\n",
        "\n",
        "for x, y, n in zip(x, y, n):\n",
        "    plt.text(x, y, str('{0:.0f}'.format(n)), color=\"black\", fontsize=12)\n",
        "\n",
        "plt.show()\n"
      ],
      "execution_count": 16,
      "outputs": [
        {
          "output_type": "stream",
          "text": [
            "*c* argument looks like a single numeric RGB or RGBA sequence, which should be avoided as value-mapping will have precedence in case its length matches with *x* & *y*.  Please use the *color* keyword-argument or provide a 2-D array with a single row if you intend to specify the same RGB or RGBA value for all points.\n"
          ],
          "name": "stderr"
        },
        {
          "output_type": "stream",
          "text": [
            "    Player  Goals  Assists\n",
            "0        4      9        7\n",
            "1        9     18        8\n",
            "2       12     10        7\n",
            "3       14      4        4\n",
            "4       15      4        6\n",
            "5       20      0        0\n",
            "6       24      1        4\n",
            "7       32      7        5\n",
            "8       34     18        8\n",
            "9       37     12        6\n",
            "10      50      7        7\n",
            "11      87      6        6\n",
            "12      29      0        0\n"
          ],
          "name": "stdout"
        },
        {
          "output_type": "display_data",
          "data": {
            "image/png": "[encoded data removed]",
            "text/plain": [
              "<Figure size 432x288 with 1 Axes>"
            ]
          },
          "metadata": {
            "tags": [],
            "needs_background": "light"
          }
        }
      ]
    },
    {
      "cell_type": "code",
      "metadata": {
        "id": "8JFV1R2QcdN_",
        "colab": {
          "base_uri": "https://localhost:8080/",
          "height": 503
        },
        "outputId": "b53f2a22-bf2b-4b1a-90e0-476e08e41159"
      },
      "source": [
        "# side-by-side bar charts with goals in each game\n",
        "\n",
        "# create an empty dataframe\n",
        "dfx = pd.DataFrame(columns=[\"clubs\", \"times\",\t\"x_goals\",\t\"o_goals\",])\n",
        "\n",
        "# get all the unique opponents \n",
        "df_games.sort_values(\"opp\", inplace=True, ascending=False)\n",
        "arr = df_games[\"opp\"].unique()\n",
        "\n",
        "# loop through \n",
        "for o in arr:\n",
        "  c = df_games[(df_games.opp == o)].count().iloc[0]\n",
        "  axg = df_games[(df_games.opp == o)].axscore.sum()\n",
        "  opg = df_games[(df_games.opp == o)].oppscore.sum()\n",
        "  dfx = dfx.append({'clubs': o + \": \" + str(c) + \" game(s)\", 'times': c, 'x_goals': axg, 'o_goals': opg}, ignore_index=True)  \n",
        "\n",
        "dfx.sort_values(by=['times'], ascending=True, inplace=True)\n",
        "\n",
        "y = np.arange(dfx[\"times\"].size)\n",
        "\n",
        "# extend the size so there's some whitespace to show totals\n",
        "xtick = range(1, (dfx[\"x_goals\"].max() + 10))\n",
        "\n",
        "# generate two axes\n",
        "fig, axes = plt.subplots(ncols=2, sharey=True)\n",
        "\n",
        "# xtreme \n",
        "axes[0].barh(y, dfx[\"x_goals\"], align='center', color='black', zorder=10)\n",
        "axes[0].set(title=\"Xtreme Goals\")\n",
        "axes[0].invert_xaxis()\n",
        "axes[0].set(yticks=y, yticklabels=dfx[\"clubs\"])\n",
        "axes[0].yaxis.tick_left()\n",
        "axes[0].set_xticks(xtick,xtick)\n",
        "\n",
        "for i, v in enumerate(dfx[\"x_goals\"]):\n",
        "    axes[0].text(v + 4, i - .25, str(v), color='black')\n",
        "\n",
        "# opponent\n",
        "axes[1].barh(y, dfx[\"o_goals\"], align='center', color='#fb8072', zorder=10)\n",
        "axes[1].set(title=\"Opponent Goals\")\n",
        "axes[1].set_xticks(xtick,xtick)\n",
        "\n",
        "for i, v in enumerate(dfx[\"o_goals\"]):\n",
        "    axes[1].text(v + 2, i - .25, str(v), color='#fb8072')\n",
        "\n",
        "fig.tight_layout()\n",
        "fig.subplots_adjust(wspace=0.01)\n",
        "fig.set_size_inches(8, 5)\n",
        "\n",
        "plt.show()\n"
      ],
      "execution_count": 17,
      "outputs": [
        {
          "output_type": "stream",
          "text": [
            "/usr/local/lib/python3.6/dist-packages/ipykernel_launcher.py:33: MatplotlibDeprecationWarning:\n",
            "\n",
            "Passing the minor parameter of set_xticks() positionally is deprecated since Matplotlib 3.2; the parameter will become keyword-only two minor releases later.\n",
            "\n",
            "/usr/local/lib/python3.6/dist-packages/ipykernel_launcher.py:41: MatplotlibDeprecationWarning:\n",
            "\n",
            "Passing the minor parameter of set_xticks() positionally is deprecated since Matplotlib 3.2; the parameter will become keyword-only two minor releases later.\n",
            "\n"
          ],
          "name": "stderr"
        },
        {
          "output_type": "display_data",
          "data": {
            "image/png": "[encoded data removed]",
            "text/plain": [
              "<Figure size 576x360 with 2 Axes>"
            ]
          },
          "metadata": {
            "tags": [],
            "needs_background": "light"
          }
        }
      ]
    },
    {
      "cell_type": "code",
      "metadata": {
        "id": "ez_Fx8FoTDE2",
        "colab": {
          "base_uri": "https://localhost:8080/"
        },
        "outputId": "5aec4f24-4726-41b5-a5ae-b4efd712b979"
      },
      "source": [
        "# what is record in second game of a two-game day? \n",
        "\n",
        "# values\n",
        "x_win = 0 \n",
        "x_loss = 0\n",
        "x_tie = 0 \n",
        "\n",
        "# get all the unique dates \n",
        "arr = df_games[\"date\"].unique()\n",
        "\n",
        "# sort by games (ascending)\n",
        "df_games.sort_values(by=['game'], inplace=True)\n",
        "\n",
        "# go through each day, find days with two games \n",
        "for d in arr:\n",
        "  count = df_games[(df_games.date == d)].shape[0]\n",
        "  if (count > 1):\n",
        "    #print(df_games[(df_games.date == d)])\n",
        "    series = df_games[(df_games.date == d)].iloc[1:,5:7]\n",
        "    ax_score = series.values[0,0]\n",
        "    op_score = series.values[0,1]\n",
        "    if (ax_score > op_score):\n",
        "      x_win = x_win + 1\n",
        "    elif (ax_score < op_score):\n",
        "      x_loss = x_loss + 1\n",
        "    else: \n",
        "      x_tie = x_tie + 1\n",
        "\n",
        "    #series = df_games[(df_games.date == d)].iloc[1:,5:7]\n",
        "    #print(df_games[(df_games.date == d)])\n",
        "    #print(series)\n",
        "\n",
        "# track w-l-t for the second game \n",
        "print(\"<b>\" + str(x_win) + \"-\" + str(x_loss) + \"-\" + str(x_tie) + \"</b> in the second game when playing two games on the same day.\")\n",
        "\n"
      ],
      "execution_count": null,
      "outputs": [
        {
          "output_type": "stream",
          "text": [
            "<b>4-4-0</b> in the second game when playing two games on the same day.\n"
          ],
          "name": "stdout"
        }
      ]
    },
    {
      "cell_type": "code",
      "metadata": {
        "id": "-ZFw9U7xTUXw",
        "colab": {
          "base_uri": "https://localhost:8080/",
          "height": 1000
        },
        "outputId": "e263cdb0-8c84-4ab7-bead-2b295ba8f91c"
      },
      "source": [
        "# linear regression plot\n",
        "\n",
        "# create a new data frame with totals\n",
        "dfx = pd.DataFrame(columns=[\"game\",\t\"goals\",\t\"shots\", \"location\", \"league\", \"goalie\"])\n",
        "\n",
        "# all games \n",
        "games = df_games.game\n",
        "\n",
        "# loop through those games to pull out opponent shots and total up \n",
        "for g in games: \n",
        "  location = df_games[df_games.game == g].iloc[0,4]\n",
        "  league = df_games[df_games.game == g].iloc[0,8]\n",
        "  goalie = df_games[df_games.game == g].iloc[0,7]\n",
        "  goals = df_games[df_games.game == g].axscore.iloc[0]\n",
        "  shots = df_shots[df_shots.game == g].ashburn_p1.iloc[0] + df_shots[df_shots.game == g].ashburn_p2.iloc[0] + df_shots[df_shots.game == g].ashburn_p3.iloc[0] + df_shots[df_shots.game == g].ashburn_ot.iloc[0]\n",
        "  dfx = dfx.append({'game': g, 'goals': float(goals), 'shots': float(shots), 'location': location, 'league': league, 'goalie': goalie} , ignore_index=True)  \n",
        "\n",
        "dfx.sort_values(by=['league'], inplace=True)\n",
        "\n",
        "print(dfx[[\"game\",\t\"goals\",\t\"shots\", \"league\"]])\n",
        "\n",
        "graph = sns.lmplot(x='shots', y='goals', hue='league', data=dfx, fit_reg=False, legend_out=True)\n",
        "ax = sns.regplot(x='shots', y='goals', data=dfx, scatter=False) \n",
        "\n",
        "ax.spines['right'].set_visible(False)\n",
        "ax.spines['top'].set_visible(False)\n",
        "ax.set_title('Xtreme Goals Linear Regression Plot')\n",
        "\n",
        "for axis in [ax.xaxis, ax.yaxis]:\n",
        "    axis.set_major_locator(ticker.MaxNLocator(integer=True))\n",
        "\n",
        "# title\n",
        "new_title = 'Game Type'\n",
        "graph._legend.set_title(new_title)\n",
        "graph._legend.set_bbox_to_anchor((1.2, .9))\n",
        "# replace labels\n",
        "new_labels = ['CBHL', 'EJEPL', 'Exhibition', 'Nashville', 'Pittsburgh']\n",
        "for t, l in zip(graph._legend.texts, new_labels): \n",
        "  t.set_text(l)\n",
        "\n"
      ],
      "execution_count": 3,
      "outputs": [
        {
          "output_type": "stream",
          "text": [
            "   game  goals  shots league\n",
            "23   24    1.0   17.0      c\n",
            "30   31    3.0   21.0      c\n",
            "29   30    0.0   31.0      c\n",
            "28   29    3.0   30.0      c\n",
            "27   28    1.0   22.0      c\n",
            "26   27    1.0   16.0      c\n",
            "24   25    6.0   28.0      c\n",
            "22   23    3.0   29.0      c\n",
            "21   22    3.0   25.0      c\n",
            "19   20    1.0   32.0      c\n",
            "25   26    6.0   37.0      e\n",
            "16   17    3.0   19.0      e\n",
            "20   21    4.0   43.0      e\n",
            "13   14    6.0   24.0      e\n",
            "14   15    0.0   13.0      e\n",
            "15   16    5.0   27.0      e\n",
            "0     1    5.0   44.0      o\n",
            "18   19    3.0   23.0      o\n",
            "17   18    2.0   26.0      o\n",
            "12   13    6.0   26.0      o\n",
            "7     8    0.0   24.0      o\n",
            "6     7    4.0   32.0      o\n",
            "5     6    5.0   18.0      o\n",
            "4     5    2.0   15.0      o\n",
            "3     4    2.0   27.0      o\n",
            "2     3    5.0   31.0      o\n",
            "1     2    4.0   21.0      o\n",
            "11   12    0.0    8.0     t1\n",
            "10   11    0.0   25.0     t1\n",
            "9    10    6.0   26.0     t1\n",
            "8     9    0.0   27.0     t1\n",
            "31   32    1.0    3.0     t2\n",
            "32   33    2.0   15.0     t2\n",
            "33   34    3.0   19.0     t2\n",
            "34   35    0.0   10.0     t2\n"
          ],
          "name": "stdout"
        },
        {
          "output_type": "display_data",
          "data": {
            "image/png": "[encoded data removed]",
            "text/plain": [
              "<Figure size 406.25x360 with 1 Axes>"
            ]
          },
          "metadata": {
            "tags": [],
            "needs_background": "light"
          }
        }
      ]
    },
    {
      "cell_type": "code",
      "metadata": {
        "id": "zAc-iBaFxbfZ"
      },
      "source": [
        "# NO LONGER USED # \n",
        "# create a motion chart showing goals/assists by player over the games\n",
        "\n",
        "# roundup function for chart max\n",
        "def roundup(x):\n",
        "    return int(math.ceil(x / 10.0)) * 10\n",
        "\n",
        "# create an empty data frame\n",
        "dfmc = pd.DataFrame(columns=[\"player\",\t\"game\", \"goals\",\t\"assists\",])\n",
        "\n",
        "# get a list of players\n",
        "players = df_goals_assists.player.unique()\n",
        "\n",
        "# get number of games\n",
        "num_games = df_games.shape[0]\n",
        "\n",
        "# loop through each player\n",
        "for p in players:\n",
        "\n",
        "  # insert an initial row for the first week as baseline\n",
        "  goals = df_goals_assists[(df_goals_assists.player == p) & (df_goals_assists.game == 1)].goals.iloc[0]\n",
        "  if math.isnan(goals):\n",
        "    goals = 0\n",
        "  assists = df_goals_assists[(df_goals_assists.player == p) & (df_goals_assists.game == 1)].assists.iloc[0]\n",
        "  if math.isnan(assists):\n",
        "    assists = 0\n",
        "  dfmc = dfmc.append({'player': '{0:.0f}'.format(p), 'game': 1, 'goals': goals, 'assists': assists} , ignore_index=True)  \n",
        "\n",
        "  # loop through each game\n",
        "  for g in range(2, num_games+1):\n",
        "    # save current goals/assists to last week \n",
        "    last_week_goals = goals\n",
        "    last_week_assists = assists\n",
        "\n",
        "    # for each subsequent week, the total is this week (g) plus last week \n",
        "    goals = df_goals_assists[(df_goals_assists.player == p) & (df_goals_assists.game == g)].goals.iloc[0] \n",
        "    if not math.isnan(goals):\n",
        "      goals = goals + last_week_goals\n",
        "    else:\n",
        "      goals = last_week_goals\n",
        "    assists = df_goals_assists[(df_goals_assists.player == p) & (df_goals_assists.game == g)].assists.iloc[0] \n",
        "    if not math.isnan(assists):\n",
        "      assists = assists + last_week_assists\n",
        "    else:\n",
        "      assists = last_week_assists\n",
        "    dfmc = dfmc.append({'player': '{0:.0f}'.format(p), 'game': g, 'goals': goals, 'assists': assists} , ignore_index=True)  \n",
        "\n",
        "# figure out max goals and assists \n",
        "max_goals = roundup(dfmc[\"goals\"].max())\n",
        "max_assists = roundup(dfmc[\"assists\"].max())\n",
        "\n",
        "px.scatter(dfmc, x=\"goals\", y=\"assists\", animation_frame=\"game\", animation_group=\"player\",\n",
        "           color=\"player\", hover_name=\"player\",\n",
        "           log_x=False, range_x=[0,max_goals], range_y=[0,max_assists])\n",
        "\n",
        "\n"
      ],
      "execution_count": null,
      "outputs": []
    }
  ]
}