{
  "nbformat": 4,
  "nbformat_minor": 0,
  "metadata": {
    "colab": {
      "name": "stats_charts.ipynb",
      "provenance": [],
      "collapsed_sections": []
    },
    "kernelspec": {
      "name": "python3",
      "display_name": "Python 3"
    }
  },
  "cells": [
    {
      "cell_type": "code",
      "metadata": {
        "id": "oSYr4M7YPgQl",
        "colab_type": "code",
        "outputId": "0ca0ebdd-3bea-4123-9d3a-1b131602792f",
        "colab": {
          "base_uri": "https://localhost:8080/",
          "height": 53
        }
      },
      "source": [
        "# libraries used\n",
        "\n",
        "import pandas as pd \n",
        "import numpy as np\n",
        "import matplotlib.pyplot as plt\n",
        "import plotly.graph_objects as go\n",
        "import datetime\n",
        "\n",
        "%matplotlib inline\n",
        "\n",
        "# needed for treemap graphic\n",
        "!pip install squarify \n",
        "import squarify\n",
        "\n",
        "print(\"loaded libraries\")"
      ],
      "execution_count": 1,
      "outputs": [
        {
          "output_type": "stream",
          "text": [
            "Requirement already satisfied: squarify in /usr/local/lib/python3.6/dist-packages (0.4.3)\n",
            "loaded libraries\n"
          ],
          "name": "stdout"
        }
      ]
    },
    {
      "cell_type": "code",
      "metadata": {
        "id": "mr9DTGOXM1NR",
        "colab_type": "code",
        "outputId": "333bf6d3-8904-43a7-94e1-97b5e4aa15be",
        "colab": {
          "base_uri": "https://localhost:8080/",
          "height": 35
        }
      },
      "source": [
        "# load up csv files\n",
        "\n",
        "github_url = \"https://raw.githubusercontent.com/werntzp/hockey-stats/master/\"\n",
        "\n",
        "df_games = pd.read_csv(github_url + \"games.csv\") \n",
        "df_shots = pd.read_csv(github_url + \"shots.csv\") \n",
        "df_goals = pd.read_csv(github_url + \"goals.csv\") \n",
        "df_periods = pd.read_csv(github_url + \"periods.csv\")\n",
        "df_penalties = pd.read_csv(github_url + \"penalties.csv\") \n",
        "df_points = pd.read_csv(github_url + \"points.csv\")\n",
        "\n",
        "print(\"loaded csv files\")"
      ],
      "execution_count": 2,
      "outputs": [
        {
          "output_type": "stream",
          "text": [
            "loaded csv files\n"
          ],
          "name": "stdout"
        }
      ]
    },
    {
      "cell_type": "code",
      "metadata": {
        "id": "6FVD71eSc33b",
        "colab_type": "code",
        "outputId": "bd432439-73b2-4125-9db2-cf0461fee8c6",
        "colab": {
          "base_uri": "https://localhost:8080/",
          "height": 297
        }
      },
      "source": [
        "# bar chart with goals per period\n",
        "\n",
        "p1xg = df_goals[(df_goals.team == \"a\") & (df_goals.period == 1)].shape[0]\n",
        "p2xg = df_goals[(df_goals.team == \"a\") & (df_goals.period == 2)].shape[0]\n",
        "p3xg = df_goals[(df_goals.team == \"a\") & (df_goals.period == 3)].shape[0]\n",
        "p4xg = df_goals[(df_goals.team == \"a\") & (df_goals.period == 4)].shape[0]\n",
        "\n",
        "p1og = df_goals[(df_goals.team == \"o\") & (df_goals.period == 1)].shape[0]\n",
        "p2og = df_goals[(df_goals.team == \"o\") & (df_goals.period == 2)].shape[0]\n",
        "p3og = df_goals[(df_goals.team == \"o\") & (df_goals.period == 3)].shape[0]\n",
        "p4og = df_goals[(df_goals.team == \"o\") & (df_goals.period == 4)].shape[0]\n",
        "\n",
        "labels = ['1', '2', '3', 'OT']\n",
        "xtreme = [p1xg, p2xg, p3xg, p4xg]\n",
        "opponent = [p1og, p2og, p3og, p4og]\n",
        "\n",
        "x_label = \"Xtreme (\" + str(p1xg + p2xg + p3xg + p4xg) + \")\"\n",
        "o_label = \"Opponents (\" + str(p1og + p2og + p3og + p4og) + \")\"\n",
        "\n",
        "x = np.arange(len(labels))  # the label locations\n",
        "width = 0.35  # the width of the bars\n",
        "\n",
        "fig, ax = plt.subplots()\n",
        "rects1 = ax.bar(x - width/2, xtreme, width, label=x_label, color='black')\n",
        "rects2 = ax.bar(x + width/2, opponent, width, label=o_label, color='#8dd3c7')\n",
        "\n",
        "# Add some text for labels, title and custom x-axis tick labels, etc.\n",
        "ax.set_title('Goals by Period')\n",
        "ax.set_xticks(x)\n",
        "ax.set_xticklabels(labels)\n",
        "ax.spines['right'].set_visible(False)\n",
        "ax.spines['top'].set_visible(False)\n",
        "ax.legend()\n",
        "\n",
        "fig.tight_layout()\n",
        "plt.yticks(np.arange(0, 50, 5))\n",
        "\n",
        "plt.show()"
      ],
      "execution_count": 3,
      "outputs": [
        {
          "output_type": "display_data",
          "data": {
            "image/png": "[encoded data removed]",
            "text/plain": [
              "<Figure size 432x288 with 1 Axes>"
            ]
          },
          "metadata": {
            "tags": []
          }
        }
      ]
    },
    {
      "cell_type": "code",
      "metadata": {
        "id": "LRDTT0Sc8iHH",
        "colab_type": "code",
        "outputId": "11eda91b-5841-41db-ca01-665f7ba7100a",
        "colab": {
          "base_uri": "https://localhost:8080/",
          "height": 297
        }
      },
      "source": [
        "# bar chart with shots per period\n",
        "\n",
        "p1xs = df_shots['ashburn_p1'].sum()\n",
        "p2xs = df_shots['ashburn_p2'].sum()\n",
        "p3xs = df_shots['ashburn_p3'].sum()\n",
        "p4xs = df_shots['ashburn_ot'].sum()\n",
        "\n",
        "p1os = df_shots['opp_p1'].sum()\n",
        "p2os = df_shots['opp_p2'].sum()\n",
        "p3os = df_shots['opp_p3'].sum()\n",
        "p4os = df_shots['opp_ot'].sum()\n",
        "\n",
        "labels = ['1', '2', '3', 'OT']\n",
        "xtreme = [p1xs, p2xs, p3xs, p4xs]\n",
        "opponent = [p1os, p2os, p3os, p4os]\n",
        "\n",
        "x_label = \"Xtreme (\" + str(p1xs + p2xs + p3xs + p4xs) + \")\"\n",
        "o_label = \"Opponents (\" + str(p1os + p2os + p3os + p4os) + \")\"\n",
        "\n",
        "x = np.arange(len(labels))  # the label locations\n",
        "width = 0.35  # the width of the bars\n",
        "\n",
        "fig, ax = plt.subplots()\n",
        "rects1 = ax.bar(x - width/2, xtreme, width, label=x_label, color='black')\n",
        "rects2 = ax.bar(x + width/2, opponent, width, label=o_label, color='#fb8072')\n",
        "\n",
        "# Add some text for labels, title and custom x-axis tick labels, etc.\n",
        "ax.set_title('Shots by Period')\n",
        "ax.set_xticks(x)\n",
        "ax.set_xticklabels(labels)\n",
        "ax.spines['right'].set_visible(False)\n",
        "ax.spines['top'].set_visible(False)\n",
        "ax.legend()\n",
        "\n",
        "fig.tight_layout()\n",
        "plt.yticks(np.arange(0, 300, 50))\n",
        "\n",
        "plt.show()\n"
      ],
      "execution_count": 5,
      "outputs": [
        {
          "output_type": "display_data",
          "data": {
            "image/png": "[encoded data removed]",
            "text/plain": [
              "<Figure size 432x288 with 1 Axes>"
            ]
          },
          "metadata": {
            "tags": []
          }
        }
      ]
    },
    {
      "cell_type": "code",
      "metadata": {
        "id": "C2k94cQD7qaY",
        "colab_type": "code",
        "outputId": "2488d5fc-09f9-46d1-fac0-7c25876c48c6",
        "colab": {
          "base_uri": "https://localhost:8080/",
          "height": 297
        }
      },
      "source": [
        "# bar chart comparing xtreme and opponent penalties by period\n",
        "\n",
        "p1xp = df_penalties[(df_penalties.team == \"a\") & (df_penalties.period == 1)].shape[0]\n",
        "p2xp = df_penalties[(df_penalties.team == \"a\") & (df_penalties.period == 2)].shape[0]\n",
        "p3xp = df_penalties[(df_penalties.team == \"a\") & (df_penalties.period == 3)].shape[0]\n",
        "p4xp = df_penalties[(df_penalties.team == \"a\") & (df_penalties.period == 4)].shape[0]\n",
        "\n",
        "p1op = df_penalties[(df_penalties.team == \"o\") & (df_penalties.period == 1)].shape[0]\n",
        "p2op = df_penalties[(df_penalties.team == \"o\") & (df_penalties.period == 2)].shape[0]\n",
        "p3op = df_penalties[(df_penalties.team == \"o\") & (df_penalties.period == 3)].shape[0]\n",
        "p4op = df_penalties[(df_penalties.team == \"o\") & (df_penalties.period == 4)].shape[0]\n",
        "\n",
        "labels = ['1', '2', '3', 'OT']\n",
        "xtreme = [p1xp, p2xp, p3xp, p4xp]\n",
        "opponent = [p1op, p2op, p3op, p4op]\n",
        "\n",
        "x_label = \"Xtreme (\" + str(p1xp + p2xp + p3xp + p4xp) + \")\"\n",
        "o_label = \"Opponents (\" + str(p1op + p2op + p3op + p4op) + \")\"\n",
        "\n",
        "x = np.arange(len(labels))  # the label locations\n",
        "width = 0.35  # the width of the bars\n",
        "\n",
        "fig, ax = plt.subplots()\n",
        "rects1 = ax.bar(x - width/2, xtreme, width, label=x_label, color='black')\n",
        "rects2 = ax.bar(x + width/2, opponent, width, label=o_label, color='#fccde5')\n",
        "\n",
        "# Add some text for labels, title and custom x-axis tick labels, etc.\n",
        "ax.set_title('Penalties by Period')\n",
        "ax.set_xticks(x)\n",
        "ax.set_xticklabels(labels)\n",
        "ax.spines['right'].set_visible(False)\n",
        "ax.spines['top'].set_visible(False)\n",
        "ax.legend()\n",
        "\n",
        "fig.tight_layout()\n",
        "plt.yticks(np.arange(0, 35, 5))\n",
        "\n",
        "plt.show()"
      ],
      "execution_count": 6,
      "outputs": [
        {
          "output_type": "display_data",
          "data": {
            "image/png": "[encoded data removed]",
            "text/plain": [
              "<Figure size 432x288 with 1 Axes>"
            ]
          },
          "metadata": {
            "tags": []
          }
        }
      ]
    },
    {
      "cell_type": "code",
      "metadata": {
        "id": "Z7z7K5RapGzy",
        "colab_type": "code",
        "outputId": "46df917b-c4f0-4a14-e080-39773070438f",
        "colab": {
          "base_uri": "https://localhost:8080/",
          "height": 717
        }
      },
      "source": [
        "# treemap with penalty types \n",
        "\n",
        "fig = go.Figure()\n",
        "\n",
        "x = 0.\n",
        "y = 0.\n",
        "width = 100.\n",
        "height = 100.\n",
        "\n",
        "# get unique list of xtreme penalty types\n",
        "dfx = df_penalties[(df_penalties.team == \"a\")]\n",
        "arr = dfx.type.unique()\n",
        "\n",
        "p_values = []\n",
        "p_labels = []\n",
        "\n",
        "# loop through names and count up number of times they occured\n",
        "for p in arr:\n",
        "  c = dfx[(dfx.type == p)].shape[0]\n",
        "  p_values.append(c)\n",
        "  p_labels.append(p + \" (\" + str(c) + \")\")\n",
        "\n",
        "normed = squarify.normalize_sizes(p_values, width, height)\n",
        "rects = squarify.squarify(normed, x, y, width, height)\n",
        "\n",
        "# Choose colors from http://colorbrewer2.org/ under \"Export\"\n",
        "color_brewer = ['rgb(141,211,199)','rgb(255,255,179)','rgb(190,186,218)','rgb(251,128,114)','rgb(128,177,211)','rgb(253,180,98)','rgb(179,222,105)','rgb(252,205,229)','rgb(217,217,217)']\n",
        "\n",
        "# other colors if have more than 8 penalty types ... , rgb(188,128,189), rgb(204,235,197)\n",
        "\n",
        "shapes = []\n",
        "annotations = []\n",
        "counter = 0\n",
        "\n",
        "for r, val, color, lbl in zip(rects, p_values, color_brewer, p_labels):\n",
        "    shapes.append(\n",
        "        dict(\n",
        "            type = 'rect',\n",
        "            x0 = r['x'],\n",
        "            y0 = r['y'],\n",
        "            x1 = r['x']+r['dx'],\n",
        "            y1 = r['y']+r['dy'],\n",
        "            line = dict( width = 2 ),\n",
        "            fillcolor = color\n",
        "        )\n",
        "    )\n",
        "    annotations.append(\n",
        "        dict(\n",
        "            x = r['x']+(r['dx']/2),\n",
        "            y = r['y']+(r['dy']/2),\n",
        "            text = lbl,\n",
        "            showarrow = False\n",
        "        )\n",
        "    )\n",
        "\n",
        "# For hover text\n",
        "fig.add_trace(go.Scatter(\n",
        "    x = [ r['x']+(r['dx']/2) for r in rects ],\n",
        "    y = [ r['y']+(r['dy']/2) for r in rects ],\n",
        "    text = [ str(v) for v in p_values ],\n",
        "    mode = 'text',\n",
        "))\n",
        "\n",
        "fig.update_layout(\n",
        "    height=700,\n",
        "    width=700,\n",
        "    xaxis=dict(showgrid=False,zeroline=False,showticklabels=False),\n",
        "    yaxis=dict(showgrid=False,zeroline=False,showticklabels=False),\n",
        "    shapes=shapes,\n",
        "    annotations=annotations,\n",
        "    hovermode='closest',\n",
        "    title=go.layout.Title(\n",
        "        text=\"Xtreme Penalty Types\",\n",
        "        xref=\"paper\",\n",
        "        x=0\n",
        "    )\n",
        ")\n",
        "\n",
        "fig.show()"
      ],
      "execution_count": 7,
      "outputs": [
        {
          "output_type": "display_data",
          "data": {
            "text/html": [
              "<html>\n",
              "<head><meta charset=\"utf-8\" /></head>\n",
              "<body>\n",
              "    <div>\n",
              "            <script src=\"https://cdnjs.cloudflare.com/ajax/libs/mathjax/2.7.5/MathJax.js?config=TeX-AMS-MML_SVG\"></script><script type=\"text/javascript\">if (window.MathJax) {MathJax.Hub.Config({SVG: {font: \"STIX-Web\"}});}</script>\n",
              "                <script type=\"text/javascript\">window.PlotlyConfig = {MathJaxConfig: 'local'};</script>\n",
              "        <script src=\"https://cdn.plot.ly/plotly-latest.min.js\"></script>    \n",
              "            <div id=\"89c1c8a7-5ec1-4d3c-a76b-951c21a9c652\" class=\"plotly-graph-div\" style=\"height:700px; width:700px;\"></div>\n",
              "            <script type=\"text/javascript\">\n",
              "                \n",
              "                    window.PLOTLYENV=window.PLOTLYENV || {};\n",
              "                    \n",
              "                if (document.getElementById(\"89c1c8a7-5ec1-4d3c-a76b-951c21a9c652\")) {\n",
              "                    Plotly.newPlot(\n",
              "                        '89c1c8a7-5ec1-4d3c-a76b-951c21a9c652',\n",
              "                        [{\"mode\": \"text\", \"text\": [\"3\", \"6\", \"13\", \"2\", \"2\", \"16\", \"4\", \"7\", \"2\"], \"type\": \"scatter\", \"x\": [20.0, 20.0, 20.0, 55.0, 85.0, 70.0, 49.23076923076923, 74.61538461538463, 95.38461538461539], \"y\": [6.818181818181818, 27.272727272727273, 70.45454545454545, 6.0606060606060606, 6.0606060606060606, 36.36363636363636, 80.30303030303031, 80.3030303030303, 80.30303030303033]}],\n",
              "                        {\"annotations\": [{\"showarrow\": false, \"text\": \"Checking (3)\", \"x\": 20.0, \"y\": 6.818181818181818}, {\"showarrow\": false, \"text\": \"Hooking (6)\", \"x\": 20.0, \"y\": 27.272727272727273}, {\"showarrow\": false, \"text\": \"Roughing (13)\", \"x\": 20.0, \"y\": 70.45454545454545}, {\"showarrow\": false, \"text\": \"10-Minute (2)\", \"x\": 55.0, \"y\": 6.0606060606060606}, {\"showarrow\": false, \"text\": \"Too Many Skaters (2)\", \"x\": 85.0, \"y\": 6.0606060606060606}, {\"showarrow\": false, \"text\": \"Tripping (16)\", \"x\": 70.0, \"y\": 36.36363636363636}, {\"showarrow\": false, \"text\": \"Slashing (4)\", \"x\": 49.23076923076923, \"y\": 80.30303030303031}, {\"showarrow\": false, \"text\": \"Interference (7)\", \"x\": 74.61538461538463, \"y\": 80.3030303030303}, {\"showarrow\": false, \"text\": \"High Sticking (2)\", \"x\": 95.38461538461539, \"y\": 80.30303030303033}], \"height\": 700, \"hovermode\": \"closest\", \"shapes\": [{\"fillcolor\": \"rgb(141,211,199)\", \"line\": {\"width\": 2}, \"type\": \"rect\", \"x0\": 0.0, \"x1\": 40.0, \"y0\": 0.0, \"y1\": 13.636363636363637}, {\"fillcolor\": \"rgb(255,255,179)\", \"line\": {\"width\": 2}, \"type\": \"rect\", \"x0\": 0.0, \"x1\": 40.0, \"y0\": 13.636363636363637, \"y1\": 40.90909090909091}, {\"fillcolor\": \"rgb(190,186,218)\", \"line\": {\"width\": 2}, \"type\": \"rect\", \"x0\": 0.0, \"x1\": 40.0, \"y0\": 40.90909090909091, \"y1\": 100.0}, {\"fillcolor\": \"rgb(251,128,114)\", \"line\": {\"width\": 2}, \"type\": \"rect\", \"x0\": 40.0, \"x1\": 70.0, \"y0\": 0.0, \"y1\": 12.121212121212121}, {\"fillcolor\": \"rgb(128,177,211)\", \"line\": {\"width\": 2}, \"type\": \"rect\", \"x0\": 70.0, \"x1\": 100.0, \"y0\": 0.0, \"y1\": 12.121212121212121}, {\"fillcolor\": \"rgb(253,180,98)\", \"line\": {\"width\": 2}, \"type\": \"rect\", \"x0\": 40.0, \"x1\": 100.0, \"y0\": 12.121212121212121, \"y1\": 60.60606060606061}, {\"fillcolor\": \"rgb(179,222,105)\", \"line\": {\"width\": 2}, \"type\": \"rect\", \"x0\": 40.0, \"x1\": 58.46153846153847, \"y0\": 60.60606060606061, \"y1\": 100.0}, {\"fillcolor\": \"rgb(252,205,229)\", \"line\": {\"width\": 2}, \"type\": \"rect\", \"x0\": 58.46153846153847, \"x1\": 90.76923076923077, \"y0\": 60.60606060606061, \"y1\": 100.0}, {\"fillcolor\": \"rgb(217,217,217)\", \"line\": {\"width\": 2}, \"type\": \"rect\", \"x0\": 90.76923076923077, \"x1\": 100.0, \"y0\": 60.60606060606061, \"y1\": 100.00000000000006}], \"template\": {\"data\": {\"bar\": [{\"error_x\": {\"color\": \"#2a3f5f\"}, \"error_y\": {\"color\": \"#2a3f5f\"}, \"marker\": {\"line\": {\"color\": \"#E5ECF6\", \"width\": 0.5}}, \"type\": \"bar\"}], \"barpolar\": [{\"marker\": {\"line\": {\"color\": \"#E5ECF6\", \"width\": 0.5}}, \"type\": \"barpolar\"}], \"carpet\": [{\"aaxis\": {\"endlinecolor\": \"#2a3f5f\", \"gridcolor\": \"white\", \"linecolor\": \"white\", \"minorgridcolor\": \"white\", \"startlinecolor\": \"#2a3f5f\"}, \"baxis\": {\"endlinecolor\": \"#2a3f5f\", \"gridcolor\": \"white\", \"linecolor\": \"white\", \"minorgridcolor\": \"white\", \"startlinecolor\": \"#2a3f5f\"}, \"type\": \"carpet\"}], \"choropleth\": [{\"colorbar\": {\"outlinewidth\": 0, \"ticks\": \"\"}, \"type\": \"choropleth\"}], \"contour\": [{\"colorbar\": {\"outlinewidth\": 0, \"ticks\": \"\"}, \"colorscale\": [[0.0, \"#0d0887\"], [0.1111111111111111, \"#46039f\"], [0.2222222222222222, \"#7201a8\"], [0.3333333333333333, \"#9c179e\"], [0.4444444444444444, \"#bd3786\"], [0.5555555555555556, \"#d8576b\"], [0.6666666666666666, \"#ed7953\"], [0.7777777777777778, \"#fb9f3a\"], [0.8888888888888888, \"#fdca26\"], [1.0, \"#f0f921\"]], \"type\": \"contour\"}], \"contourcarpet\": [{\"colorbar\": {\"outlinewidth\": 0, \"ticks\": \"\"}, \"type\": \"contourcarpet\"}], \"heatmap\": [{\"colorbar\": {\"outlinewidth\": 0, \"ticks\": \"\"}, \"colorscale\": [[0.0, \"#0d0887\"], [0.1111111111111111, \"#46039f\"], [0.2222222222222222, \"#7201a8\"], [0.3333333333333333, \"#9c179e\"], [0.4444444444444444, \"#bd3786\"], [0.5555555555555556, \"#d8576b\"], [0.6666666666666666, \"#ed7953\"], [0.7777777777777778, \"#fb9f3a\"], [0.8888888888888888, \"#fdca26\"], [1.0, \"#f0f921\"]], \"type\": \"heatmap\"}], \"heatmapgl\": [{\"colorbar\": {\"outlinewidth\": 0, \"ticks\": \"\"}, \"colorscale\": [[0.0, \"#0d0887\"], [0.1111111111111111, \"#46039f\"], [0.2222222222222222, \"#7201a8\"], [0.3333333333333333, \"#9c179e\"], [0.4444444444444444, \"#bd3786\"], [0.5555555555555556, \"#d8576b\"], [0.6666666666666666, \"#ed7953\"], [0.7777777777777778, \"#fb9f3a\"], [0.8888888888888888, \"#fdca26\"], [1.0, \"#f0f921\"]], \"type\": \"heatmapgl\"}], \"histogram\": [{\"marker\": {\"colorbar\": {\"outlinewidth\": 0, \"ticks\": \"\"}}, \"type\": \"histogram\"}], \"histogram2d\": [{\"colorbar\": {\"outlinewidth\": 0, \"ticks\": \"\"}, \"colorscale\": [[0.0, \"#0d0887\"], [0.1111111111111111, \"#46039f\"], [0.2222222222222222, \"#7201a8\"], [0.3333333333333333, \"#9c179e\"], [0.4444444444444444, \"#bd3786\"], [0.5555555555555556, \"#d8576b\"], [0.6666666666666666, \"#ed7953\"], [0.7777777777777778, \"#fb9f3a\"], [0.8888888888888888, \"#fdca26\"], [1.0, \"#f0f921\"]], \"type\": \"histogram2d\"}], \"histogram2dcontour\": [{\"colorbar\": {\"outlinewidth\": 0, \"ticks\": \"\"}, \"colorscale\": [[0.0, \"#0d0887\"], [0.1111111111111111, \"#46039f\"], [0.2222222222222222, \"#7201a8\"], [0.3333333333333333, \"#9c179e\"], [0.4444444444444444, \"#bd3786\"], [0.5555555555555556, \"#d8576b\"], [0.6666666666666666, \"#ed7953\"], [0.7777777777777778, \"#fb9f3a\"], [0.8888888888888888, \"#fdca26\"], [1.0, \"#f0f921\"]], \"type\": \"histogram2dcontour\"}], \"mesh3d\": [{\"colorbar\": {\"outlinewidth\": 0, \"ticks\": \"\"}, \"type\": \"mesh3d\"}], \"parcoords\": [{\"line\": {\"colorbar\": {\"outlinewidth\": 0, \"ticks\": \"\"}}, \"type\": \"parcoords\"}], \"scatter\": [{\"marker\": {\"colorbar\": {\"outlinewidth\": 0, \"ticks\": \"\"}}, \"type\": \"scatter\"}], \"scatter3d\": [{\"line\": {\"colorbar\": {\"outlinewidth\": 0, \"ticks\": \"\"}}, \"marker\": {\"colorbar\": {\"outlinewidth\": 0, \"ticks\": \"\"}}, \"type\": \"scatter3d\"}], \"scattercarpet\": [{\"marker\": {\"colorbar\": {\"outlinewidth\": 0, \"ticks\": \"\"}}, \"type\": \"scattercarpet\"}], \"scattergeo\": [{\"marker\": {\"colorbar\": {\"outlinewidth\": 0, \"ticks\": \"\"}}, \"type\": \"scattergeo\"}], \"scattergl\": [{\"marker\": {\"colorbar\": {\"outlinewidth\": 0, \"ticks\": \"\"}}, \"type\": \"scattergl\"}], \"scattermapbox\": [{\"marker\": {\"colorbar\": {\"outlinewidth\": 0, \"ticks\": \"\"}}, \"type\": \"scattermapbox\"}], \"scatterpolar\": [{\"marker\": {\"colorbar\": {\"outlinewidth\": 0, \"ticks\": \"\"}}, \"type\": \"scatterpolar\"}], \"scatterpolargl\": [{\"marker\": {\"colorbar\": {\"outlinewidth\": 0, \"ticks\": \"\"}}, \"type\": \"scatterpolargl\"}], \"scatterternary\": [{\"marker\": {\"colorbar\": {\"outlinewidth\": 0, \"ticks\": \"\"}}, \"type\": \"scatterternary\"}], \"surface\": [{\"colorbar\": {\"outlinewidth\": 0, \"ticks\": \"\"}, \"colorscale\": [[0.0, \"#0d0887\"], [0.1111111111111111, \"#46039f\"], [0.2222222222222222, \"#7201a8\"], [0.3333333333333333, \"#9c179e\"], [0.4444444444444444, \"#bd3786\"], [0.5555555555555556, \"#d8576b\"], [0.6666666666666666, \"#ed7953\"], [0.7777777777777778, \"#fb9f3a\"], [0.8888888888888888, \"#fdca26\"], [1.0, \"#f0f921\"]], \"type\": \"surface\"}], \"table\": [{\"cells\": {\"fill\": {\"color\": \"#EBF0F8\"}, \"line\": {\"color\": \"white\"}}, \"header\": {\"fill\": {\"color\": \"#C8D4E3\"}, \"line\": {\"color\": \"white\"}}, \"type\": \"table\"}]}, \"layout\": {\"annotationdefaults\": {\"arrowcolor\": \"#2a3f5f\", \"arrowhead\": 0, \"arrowwidth\": 1}, \"colorscale\": {\"diverging\": [[0, \"#8e0152\"], [0.1, \"#c51b7d\"], [0.2, \"#de77ae\"], [0.3, \"#f1b6da\"], [0.4, \"#fde0ef\"], [0.5, \"#f7f7f7\"], [0.6, \"#e6f5d0\"], [0.7, \"#b8e186\"], [0.8, \"#7fbc41\"], [0.9, \"#4d9221\"], [1, \"#276419\"]], \"sequential\": [[0.0, \"#0d0887\"], [0.1111111111111111, \"#46039f\"], [0.2222222222222222, \"#7201a8\"], [0.3333333333333333, \"#9c179e\"], [0.4444444444444444, \"#bd3786\"], [0.5555555555555556, \"#d8576b\"], [0.6666666666666666, \"#ed7953\"], [0.7777777777777778, \"#fb9f3a\"], [0.8888888888888888, \"#fdca26\"], [1.0, \"#f0f921\"]], \"sequentialminus\": [[0.0, \"#0d0887\"], [0.1111111111111111, \"#46039f\"], [0.2222222222222222, \"#7201a8\"], [0.3333333333333333, \"#9c179e\"], [0.4444444444444444, \"#bd3786\"], [0.5555555555555556, \"#d8576b\"], [0.6666666666666666, \"#ed7953\"], [0.7777777777777778, \"#fb9f3a\"], [0.8888888888888888, \"#fdca26\"], [1.0, \"#f0f921\"]]}, \"colorway\": [\"#636efa\", \"#EF553B\", \"#00cc96\", \"#ab63fa\", \"#FFA15A\", \"#19d3f3\", \"#FF6692\", \"#B6E880\", \"#FF97FF\", \"#FECB52\"], \"font\": {\"color\": \"#2a3f5f\"}, \"geo\": {\"bgcolor\": \"white\", \"lakecolor\": \"white\", \"landcolor\": \"#E5ECF6\", \"showlakes\": true, \"showland\": true, \"subunitcolor\": \"white\"}, \"hoverlabel\": {\"align\": \"left\"}, \"hovermode\": \"closest\", \"mapbox\": {\"style\": \"light\"}, \"paper_bgcolor\": \"white\", \"plot_bgcolor\": \"#E5ECF6\", \"polar\": {\"angularaxis\": {\"gridcolor\": \"white\", \"linecolor\": \"white\", \"ticks\": \"\"}, \"bgcolor\": \"#E5ECF6\", \"radialaxis\": {\"gridcolor\": \"white\", \"linecolor\": \"white\", \"ticks\": \"\"}}, \"scene\": {\"xaxis\": {\"backgroundcolor\": \"#E5ECF6\", \"gridcolor\": \"white\", \"gridwidth\": 2, \"linecolor\": \"white\", \"showbackground\": true, \"ticks\": \"\", \"zerolinecolor\": \"white\"}, \"yaxis\": {\"backgroundcolor\": \"#E5ECF6\", \"gridcolor\": \"white\", \"gridwidth\": 2, \"linecolor\": \"white\", \"showbackground\": true, \"ticks\": \"\", \"zerolinecolor\": \"white\"}, \"zaxis\": {\"backgroundcolor\": \"#E5ECF6\", \"gridcolor\": \"white\", \"gridwidth\": 2, \"linecolor\": \"white\", \"showbackground\": true, \"ticks\": \"\", \"zerolinecolor\": \"white\"}}, \"shapedefaults\": {\"line\": {\"color\": \"#2a3f5f\"}}, \"ternary\": {\"aaxis\": {\"gridcolor\": \"white\", \"linecolor\": \"white\", \"ticks\": \"\"}, \"baxis\": {\"gridcolor\": \"white\", \"linecolor\": \"white\", \"ticks\": \"\"}, \"bgcolor\": \"#E5ECF6\", \"caxis\": {\"gridcolor\": \"white\", \"linecolor\": \"white\", \"ticks\": \"\"}}, \"title\": {\"x\": 0.05}, \"xaxis\": {\"automargin\": true, \"gridcolor\": \"white\", \"linecolor\": \"white\", \"ticks\": \"\", \"zerolinecolor\": \"white\", \"zerolinewidth\": 2}, \"yaxis\": {\"automargin\": true, \"gridcolor\": \"white\", \"linecolor\": \"white\", \"ticks\": \"\", \"zerolinecolor\": \"white\", \"zerolinewidth\": 2}}}, \"title\": {\"text\": \"Xtreme Penalty Types\", \"x\": 0, \"xref\": \"paper\"}, \"width\": 700, \"xaxis\": {\"showgrid\": false, \"showticklabels\": false, \"zeroline\": false}, \"yaxis\": {\"showgrid\": false, \"showticklabels\": false, \"zeroline\": false}},\n",
              "                        {\"responsive\": true}\n",
              "                    ).then(function(){\n",
              "                            \n",
              "var gd = document.getElementById('89c1c8a7-5ec1-4d3c-a76b-951c21a9c652');\n",
              "var x = new MutationObserver(function (mutations, observer) {{\n",
              "        var display = window.getComputedStyle(gd).display;\n",
              "        if (!display || display === 'none') {{\n",
              "            console.log([gd, 'removed!']);\n",
              "            Plotly.purge(gd);\n",
              "            observer.disconnect();\n",
              "        }}\n",
              "}});\n",
              "\n",
              "// Listen for the removal of the full notebook cells\n",
              "var notebookContainer = gd.closest('#notebook-container');\n",
              "if (notebookContainer) {{\n",
              "    x.observe(notebookContainer, {childList: true});\n",
              "}}\n",
              "\n",
              "// Listen for the clearing of the current output cell\n",
              "var outputEl = gd.closest('.output');\n",
              "if (outputEl) {{\n",
              "    x.observe(outputEl, {childList: true});\n",
              "}}\n",
              "\n",
              "                        })\n",
              "                };\n",
              "                \n",
              "            </script>\n",
              "        </div>\n",
              "</body>\n",
              "</html>"
            ]
          },
          "metadata": {
            "tags": []
          }
        }
      ]
    },
    {
      "cell_type": "code",
      "metadata": {
        "id": "bM6MXF0gwR3L",
        "colab_type": "code",
        "outputId": "1d551963-51b5-4d24-9954-5d5c008d1fdf",
        "colab": {
          "base_uri": "https://localhost:8080/",
          "height": 297
        }
      },
      "source": [
        "# Pie chart with goal types\n",
        "\n",
        "# dictionary with goal types \n",
        "goal_types = {\"en\": \"Empty Net\", \"es\": \"Even Strength\", \"pp\": \"Power Play\", \"ps\": \"Penalty shot\", \"sh\": \"Short-handed\" }\n",
        "\n",
        "# get unique list of goal types \n",
        "dfx = df_goals[(df_goals.team == \"a\")]\n",
        "arr = dfx.type.unique()\n",
        "\n",
        "g_values = []\n",
        "g_labels = []\n",
        "\n",
        "for g in arr:\n",
        "  c = dfx[(dfx.type == g)].shape[0]\n",
        "  g_values.append(c)\n",
        "  g_labels.append(goal_types[g] + \" (\" + str(c) + \")\")\n",
        "\n",
        "#colors\n",
        "colors = ['#ff0000','#c0c0c0','#ffffff','#000000']\n",
        "\n",
        "fig1, ax1 = plt.subplots()\n",
        "#patches, texts, autotexts = ax1.pie(g_values, colors = colors, autopct='%1.0f%%', pctdistance=1.08, startangle=90)\n",
        "patches, texts = ax1.pie(g_values, colors = colors, pctdistance=1.08, startangle=90)\n",
        "\n",
        "# Equal aspect ratio ensures that pie is drawn as a circle\n",
        "plt.legend(patches, g_labels, loc=\"best\")\n",
        "ax1.axis('equal')  \n",
        "ax1.set_title('Types of Xtreme Goals')\n",
        "plt.tight_layout()\n",
        "plt.show()"
      ],
      "execution_count": 8,
      "outputs": [
        {
          "output_type": "display_data",
          "data": {
            "image/png": "[encoded data removed]",
            "text/plain": [
              "<Figure size 432x288 with 1 Axes>"
            ]
          },
          "metadata": {
            "tags": []
          }
        }
      ]
    },
    {
      "cell_type": "code",
      "metadata": {
        "id": "u4F9Wi9-7QjT",
        "colab_type": "code",
        "outputId": "07f28b40-c5b7-48dd-d35b-7d19869233ef",
        "colab": {
          "base_uri": "https://localhost:8080/",
          "height": 297
        }
      },
      "source": [
        "# Pie chart with goal types\n",
        "\n",
        "# dictionary with goal types \n",
        "#goal_types = {\"en\": \"Empty Net\", \"es\": \"Even Strength\", \"pp\": \"Power Play\", \"ps\": \"Penalty shot\", \"sh\": \"Short-handed\" }\n",
        "\n",
        "# get unique list of goal types \n",
        "dfx = df_goals[(df_goals.team == \"o\")]\n",
        "arr = dfx.type.unique()\n",
        "\n",
        "g_values = []\n",
        "g_labels = []\n",
        "\n",
        "for g in arr:\n",
        "  c = dfx[(dfx.type == g)].shape[0]\n",
        "  g_values.append(c)\n",
        "  g_labels.append(goal_types[g] + \" (\" + str(c) + \")\")\n",
        "\n",
        "#colors\n",
        "colors = ['#80b1d3','#fb8072','#8dd3c7','#fccde5']\n",
        "\n",
        "fig1, ax1 = plt.subplots()\n",
        "#patches, texts, autotexts = ax1.pie(g_values, colors = colors, autopct='%1.0f%%', pctdistance=1.08, startangle=90)\n",
        "patches, texts = ax1.pie(g_values, colors = colors, pctdistance=1.08, startangle=90)\n",
        "\n",
        "# Equal aspect ratio ensures that pie is drawn as a circle\n",
        "plt.legend(patches, g_labels, loc=\"best\")\n",
        "ax1.axis('equal')  \n",
        "ax1.set_title('Types of Opponent Goals')\n",
        "plt.tight_layout()\n",
        "plt.show()"
      ],
      "execution_count": 9,
      "outputs": [
        {
          "output_type": "display_data",
          "data": {
            "image/png": "[encoded data removed]",
            "text/plain": [
              "<Figure size 432x288 with 1 Axes>"
            ]
          },
          "metadata": {
            "tags": []
          }
        }
      ]
    },
    {
      "cell_type": "code",
      "metadata": {
        "id": "JjMUguEHx3x8",
        "colab_type": "code",
        "outputId": "508ae68e-d63b-442e-a4e8-5546b009f080",
        "colab": {
          "base_uri": "https://localhost:8080/",
          "height": 35
        }
      },
      "source": [
        "# calculate how many times Xtreme scored first \n",
        "\n",
        "dfx = pd.DataFrame(columns=[\"game\",\t\"team\",\t\"period\",\t\"time\",\t\"type\"])\n",
        "\n",
        "num_games = df_games.shape[0]\n",
        "\n",
        "# build dataframe where xtreme scored first \n",
        "for g in range(1,num_games+1):\n",
        "    t = df_goals[(df_goals.game == g)].head(1)\n",
        "    dfx = pd.concat([t, dfx[:]])\n",
        "\n",
        "# loop through it to get their record \n",
        "x_win = 0 \n",
        "x_loss = 0 \n",
        "x_tie = 0 \n",
        "\n",
        "dft = dfx[(dfx.team == \"a\")]\n",
        "\n",
        "for idx in dft.index:\n",
        "    # for each game, determine if Xtreme won or lost\n",
        "    g = dft[\"game\"][idx]\n",
        "    # go get score for each game \n",
        "    if ((df_games[(df_games.game == g)].axscore.iloc[0]) > (df_games[(df_games.game == g)].oppscore.iloc[0])):\n",
        "      x_win = x_win + 1\n",
        "    elif ((df_games[(df_games.game == g)].axscore.iloc[0]) < (df_games[(df_games.game == g)].oppscore.iloc[0])):\n",
        "      x_loss = x_loss + 1\n",
        "    else: \n",
        "      x_tie = x_tie + 1\n",
        "\n",
        "print(\"The Xtreme have scored first \" + str(dfx[(dfx.team == \"a\")].shape[0]) + \" times and they are \" + \n",
        "      str(x_win) + \"-\" + str(x_loss) + \"-\" + str(x_tie) + \" in those games.\")\n"
      ],
      "execution_count": 10,
      "outputs": [
        {
          "output_type": "stream",
          "text": [
            "The Xtreme have scored first 16 times and they are 14-2-0 in those games.\n"
          ],
          "name": "stdout"
        }
      ]
    },
    {
      "cell_type": "code",
      "metadata": {
        "id": "Nd0RiU4koGob",
        "colab_type": "code",
        "outputId": "62e82272-d5a8-475f-c29e-934be7a045a2",
        "colab": {
          "base_uri": "https://localhost:8080/",
          "height": 35
        }
      },
      "source": [
        "# calculate power play percentage (calculated by dividing power play goals by power play opportunities)\n",
        "\n",
        "ppg = df_goals[(df_goals.team == \"a\") & (df_goals.type == \"pp\")].shape[0]\n",
        "ppo = df_penalties[(df_penalties.team == \"o\")].shape[0]\n",
        "pp = '{0:.0f}'.format((ppg / ppo * 100))\n",
        "print(\"The Xtreme power play percentage is \" + str(pp) + \"%.\")\n"
      ],
      "execution_count": 11,
      "outputs": [
        {
          "output_type": "stream",
          "text": [
            "The Xtreme power play percentage is 17%.\n"
          ],
          "name": "stdout"
        }
      ]
    },
    {
      "cell_type": "code",
      "metadata": {
        "id": "ltWDq6BxqYjQ",
        "colab_type": "code",
        "outputId": "c9d8daef-6327-45ea-a441-399e87f2a2fa",
        "colab": {
          "base_uri": "https://localhost:8080/",
          "height": 35
        }
      },
      "source": [
        "# calculate penalty kill percentage (calculated by subtracting power play goals against from power \n",
        "#play opportunities against, then dividing by power play opportunities against.)\n",
        "\n",
        "ppg = df_goals[(df_goals.team == \"o\") & (df_goals.type == \"pp\")].shape[0]\n",
        "ppo = df_penalties[(df_penalties.team == \"a\")].shape[0]\n",
        "pp = '{0:.0f}'.format(((ppo - ppg) / ppo * 100))\n",
        "print(\"The Xtreme penalty kill percentage is \" + str(pp) + \"%.\")\n"
      ],
      "execution_count": 12,
      "outputs": [
        {
          "output_type": "stream",
          "text": [
            "The Xtreme penalty kill percentage is 87%.\n"
          ],
          "name": "stdout"
        }
      ]
    },
    {
      "cell_type": "code",
      "metadata": {
        "id": "Rbb9WrydfaU8",
        "colab_type": "code",
        "outputId": "2f2efb2c-706a-44d9-9831-3a9a7146318d",
        "colab": {
          "base_uri": "https://localhost:8080/",
          "height": 35
        }
      },
      "source": [
        "# calculate average shots per game (xtreme and opponents) \n",
        "\n",
        "num_games = df_games.shape[0]\n",
        "\n",
        "x_shots = (df_shots['ashburn_p1'].sum() + df_shots['ashburn_p2'].sum() + \n",
        "           df_shots['ashburn_p3'].sum() + df_shots['ashburn_ot'].sum())\n",
        "\n",
        "o_shots = (df_shots['opp_p1'].sum() + df_shots['opp_p2'].sum() + \n",
        "           df_shots['opp_p3'].sum() + df_shots['opp_ot'].sum())\n",
        "\n",
        "x_avg_shots = '{0:.0f}'.format(x_shots / num_games * 1) # round to whole number .0f\n",
        "o_avg_shots = '{0:.0f}'.format(o_shots / num_games * 1) # round to whole number .0f\n",
        "\n",
        "print(\"The Xtreme are averaging \" + str(x_avg_shots) + \" shots per game while opponents are averaging \" +\n",
        "      str(o_avg_shots) + \".\")"
      ],
      "execution_count": 13,
      "outputs": [
        {
          "output_type": "stream",
          "text": [
            "The Xtreme are averaging 25 shots per game while opponents are averaging 18.\n"
          ],
          "name": "stdout"
        }
      ]
    },
    {
      "cell_type": "code",
      "metadata": {
        "id": "rqpJH8_k2270",
        "colab_type": "code",
        "outputId": "50174e88-6a21-446e-f365-520b0e2d3a30",
        "colab": {
          "base_uri": "https://localhost:8080/",
          "height": 35
        }
      },
      "source": [
        "# calculate how many periods xtreme have scored in \n",
        "\n",
        "num_games = df_games.shape[0]\n",
        "\n",
        "periods_scored = 0 \n",
        "for g in range(1,num_games+1): \n",
        "  dfx = df_goals[(df_goals.game == g) & (df_goals.team == \"a\")]\n",
        "  periods = dfx[\"period\"].unique().size\n",
        "  periods_scored = periods_scored + periods\n",
        "\n",
        "# count # periods where > 0 \n",
        "total_periods = 0 \n",
        "for g in range(1,num_games+1): \n",
        "  for p in range(1,5):\n",
        "    period_num = \"p\" + str(p) + \"_length\"\n",
        "    period_length = df_periods.loc[df_periods.game == g, period_num].iloc[0]\n",
        "    if (period_length > 0):\n",
        "      total_periods = total_periods + 1\n",
        "\n",
        "ps = '{0:.0f}'.format(periods_scored / total_periods * 100)\n",
        "\n",
        "print(\"The Xtreme have scored in \" + str(periods_scored) + \" out of \" + str(total_periods) + \" periods (\" + \n",
        "      str(ps) + \"%).\")\n"
      ],
      "execution_count": 14,
      "outputs": [
        {
          "output_type": "stream",
          "text": [
            "The Xtreme have scored in 57 out of 83 periods (69%).\n"
          ],
          "name": "stdout"
        }
      ]
    },
    {
      "cell_type": "code",
      "metadata": {
        "id": "LLz5VaOzsvgd",
        "colab_type": "code",
        "outputId": "9945e7a9-4709-451b-f088-742189c1f027",
        "colab": {
          "base_uri": "https://localhost:8080/",
          "height": 71
        }
      },
      "source": [
        "# calculate when we give up a goal within 1 minute or 2 of scoring one \n",
        "# find an xtreme goal, see if next one is opponent, then subtract time? \n",
        "\n",
        "# use a counter\n",
        "ctr = 0 \n",
        "\n",
        "# use one minute as threshold\n",
        "threshold = datetime.timedelta(minutes=1)\n",
        "\n",
        "# get all xtreme goals \n",
        "dfx = df_goals[(df_goals.team == \"a\")]\n",
        "\n",
        "# loop through each one\n",
        "for x in range(1, dfx.shape[0]+1):\n",
        "    try: \n",
        "        # current goal is ashburn\n",
        "        curr_goal = dfx.iloc[x]\n",
        "        # next goal is whatever the next one is \n",
        "        next_goal = df_goals.iloc[curr_goal.name+1]\n",
        "        # need to verify next goal occured in the same game, same period, and was scored by opponet\n",
        "        if ((next_goal[0] == curr_goal[0]) & (next_goal[1] == \"o\") & (next_goal[2] == curr_goal[2])):\n",
        "            # now, grab time of ashburn goal and opponent goal \n",
        "            [x1_min, x1_sec] = [int(x) for x in curr_goal[3].split(':')]\n",
        "            a_goal_time = datetime.timedelta(minutes=x1_min, seconds=x1_sec)\n",
        "            [x2_min, x2_sec] = [int(x) for x in next_goal[3].split(':')]\n",
        "            o_goal_time = datetime.timedelta(minutes=x2_min, seconds=x2_sec)\n",
        "            # subtract to get time differential and see if below the threshold\n",
        "            time_diff = a_goal_time - o_goal_time\n",
        "            if (time_diff < threshold):\n",
        "              #print(next_goal)\n",
        "              # increment the counter\n",
        "              ctr = ctr + 1\n",
        "    except:\n",
        "        print(\"\")\n",
        "        \n",
        "#print out the result\n",
        "print(\"Opponents have sored \" + str(ctr) + \" times within one minute of the Xtreme scoring a goal.\")\n",
        "\n"
      ],
      "execution_count": 15,
      "outputs": [
        {
          "output_type": "stream",
          "text": [
            "\n",
            "\n",
            "Opponents have sored 8 times within one minute of the Xtreme scoring a goal.\n"
          ],
          "name": "stdout"
        }
      ]
    },
    {
      "cell_type": "code",
      "metadata": {
        "id": "iFjXF9DuaoXW",
        "colab_type": "code",
        "outputId": "dbb696d2-8fca-4c8f-8b53-c14bbaeb25b9",
        "colab": {
          "base_uri": "https://localhost:8080/",
          "height": 35
        }
      },
      "source": [
        "# calculate shooting percentage (goals / shots on goal)\n",
        "\n",
        "x_goals = df_goals[(df_goals.team == \"a\")].shape[0]\n",
        "x_shots = (df_shots['ashburn_p1'].sum() + df_shots['ashburn_p2'].sum() + \n",
        "           df_shots['ashburn_p3'].sum() + df_shots['ashburn_ot'].sum())\n",
        "\n",
        "sp = '{0:.0f}'.format(int(x_goals) / int(x_shots) * 100)\n",
        "print(\"The Xtreme shooting percentage is \" + str(sp) + \"%.\")\n",
        "\n"
      ],
      "execution_count": 17,
      "outputs": [
        {
          "output_type": "stream",
          "text": [
            "The Xtreme shooting percentage is 16%.\n"
          ],
          "name": "stdout"
        }
      ]
    },
    {
      "cell_type": "code",
      "metadata": {
        "id": "8w4KDN1JZ0c5",
        "colab_type": "code",
        "outputId": "f3ae5505-d1e8-4664-94ee-f92a428067c9",
        "colab": {
          "base_uri": "https://localhost:8080/",
          "height": 297
        }
      },
      "source": [
        "# pie chart with time Xtreme is ahead, losing, or tied \n",
        "\n",
        "# psuedo-logic \n",
        "# loop through each game, get period length, loop through goals by period, start with period length - time of next goal\n",
        "# then if tied, winning, or losing add time difference to the total, continue, rinse, repeat\n",
        "num_games = df_games.shape[0]\n",
        "\n",
        "time_leading = datetime.timedelta(minutes=0, seconds=0)\n",
        "time_trailing = datetime.timedelta(minutes=0, seconds=0)\n",
        "time_tied = datetime.timedelta(minutes=0, seconds=0) \n",
        "curr_time = datetime.timedelta(minutes=0, seconds=0) \n",
        "a_score = 0 \n",
        "o_score = 0 \n",
        "\n",
        "# loop through each game\n",
        "for g in range(1, num_games+1):\n",
        "\n",
        "  # reset sores \n",
        "  a_score = 0 \n",
        "  o_score = 0 \n",
        "\n",
        "  # create a temporary dataframe with just that game \n",
        "  df_game_goals = df_goals[(df_goals.game == g)]\n",
        "  \n",
        "  # loop through each period \n",
        "  for p in range(1,5):\n",
        "    # dynmically get period length \n",
        "    period_length = df_periods[(df_periods.game == g)][\"p\" + str(p)+ \"_length\"].iloc[0]\n",
        "    period_time = datetime.timedelta(minutes=int(period_length), seconds=0)\n",
        "    df_period_goals = df_game_goals[(df_game_goals.period == p)] \n",
        "\n",
        "    # init current time to period length \n",
        "    curr_time = period_time\n",
        "\n",
        "    # only proceed if there was any time  in that period (not always an OT game)\n",
        "    if (period_length > 0):\n",
        "      \n",
        "      # get number of goals in the period \n",
        "      num_goals_this_period = df_period_goals.shape[0]\n",
        "\n",
        "      # if no goals scored that period, just add time on\n",
        "      if (num_goals_this_period == 0):\n",
        "        if (a_score == o_score):\n",
        "          time_tied = time_tied + period_time\n",
        "        elif (a_score > o_score):\n",
        "          time_leading = time_leading + period_time\n",
        "        else: \n",
        "          time_trailing = time_trailing + period_time\n",
        "\n",
        "      else:\n",
        "        # track number of goals\n",
        "        goal_counter = 1\n",
        "\n",
        "        # yes, goals that period so iterate over each goal  \n",
        "        for idx in df_period_goals.index:\n",
        "\n",
        "          # get each goal and store time difference from curr_time to time goal scored\n",
        "          xtime = df_period_goals[\"time\"][idx]\n",
        "          [m, s] = [int(x) for x in xtime.split(':')]\n",
        "          time_goal_scored = datetime.timedelta(minutes=m, seconds=s)\n",
        "          time_diff = curr_time - time_goal_scored\n",
        "          curr_time = time_goal_scored \n",
        "\n",
        "          # decide where to assign the time \n",
        "          if (a_score == o_score):\n",
        "            time_tied = time_tied + time_diff\n",
        "          elif (a_score > o_score):\n",
        "            time_leading = time_leading + time_diff\n",
        "          else: \n",
        "            time_trailing = time_trailing + time_diff\n",
        "\n",
        "          # increment the score \n",
        "          if df_period_goals[\"team\"][idx] == \"a\": \n",
        "            a_score = a_score + 1\n",
        "          else: \n",
        "            o_score = o_score + 1\n",
        "\n",
        "          # if this is the last goal, need to add rest of time in the period\n",
        "          # print(num_goals_this_period, goal_counter) \n",
        "          if (goal_counter == num_goals_this_period):\n",
        "            if (a_score == o_score):\n",
        "              time_tied = time_tied + time_goal_scored\n",
        "            elif (a_score > o_score):\n",
        "              time_leading = time_leading + time_goal_scored\n",
        "            else: \n",
        "              time_trailing = time_trailing + time_goal_scored\n",
        "\n",
        "          # increment the counter\n",
        "          goal_counter = goal_counter + 1\n",
        "\n",
        "# pretty up the labels\n",
        "totsec = time_leading.total_seconds()\n",
        "h = '{0:.0f}'.format(totsec // 3600)\n",
        "m = '{0:.0f}'.format((totsec % 3600) // 60)\n",
        "leading_label = str(h) + \" hours, \" + str(m) + \" mins leading\"\n",
        "\n",
        "totsec = time_trailing.total_seconds()\n",
        "h = '{0:.0f}'.format(totsec // 3600)\n",
        "m = '{0:.0f}'.format((totsec % 3600) // 60)\n",
        "trailing_label = str(h) + \" hours, \" + str(m) + \" mins trailing\"\n",
        "\n",
        "totsec = time_tied.total_seconds()\n",
        "h = '{0:.0f}'.format(totsec // 3600)\n",
        "m = '{0:.0f}'.format((totsec % 3600) // 60)\n",
        "tied_label = str(h) + \" hours, \" + str(m) + \" mins tied\"\n",
        "\n",
        "t_values = [time_leading.seconds, time_trailing.seconds, time_tied.seconds]\n",
        "t_labels = [leading_label, trailing_label, tied_label] \n",
        "t_colors = ['#ff0000','#c0c0c0','#000000']\n",
        "\n",
        "fig1, ax1 = plt.subplots()\n",
        "patches, texts = ax1.pie(t_values, colors = t_colors, pctdistance=1.08, startangle=90)\n",
        "\n",
        "# Equal aspect ratio ensures that pie is drawn as a circle\n",
        "plt.legend(patches, t_labels, loc=\"best\") # , bbox_to_anchor=(.85, .9))\n",
        "ax1.axis('equal')  \n",
        "ax1.set_title('Time Leading, Trailing, or Tied')\n",
        "plt.tight_layout()\n",
        "plt.show()\n",
        "\n",
        "\n",
        "\n"
      ],
      "execution_count": 18,
      "outputs": [
        {
          "output_type": "display_data",
          "data": {
            "image/png": "[encoded data removed]",
            "text/plain": [
              "<Figure size 432x288 with 1 Axes>"
            ]
          },
          "metadata": {
            "tags": []
          }
        }
      ]
    },
    {
      "cell_type": "code",
      "metadata": {
        "id": "eYxFESuxTPoa",
        "colab_type": "code",
        "outputId": "b13c93a9-6f6d-4a14-a5d5-4cc0e54bf444",
        "colab": {
          "base_uri": "https://localhost:8080/",
          "height": 876
        }
      },
      "source": [
        "# Show points per game (multiple plots)\n",
        "\n",
        "num_games = df_games.shape[0]\n",
        "\n",
        "# only use whole numbers\n",
        "ytick = [0,1,2,3,4,5]\n",
        "xtick = range(1,num_games+1) \n",
        "\n",
        "# setup multiple plots\n",
        "fig, axs = plt.subplots(3, 5)\n",
        "\n",
        "axs[0, 0].plot( 'game', '91', data=df_points, marker='', color='#a6cee3', linewidth=1)\n",
        "axs[0, 0].set_title('91')\n",
        "axs[0, 0].set_yticks(ytick,ytick)\n",
        "\n",
        "axs[0, 1].plot( 'game', '9', data=df_points, marker='', color='#1f78b4', linewidth=1)\n",
        "axs[0, 1].set_title('9')\n",
        "axs[0, 1].set_yticks(ytick,ytick)\n",
        "\n",
        "axs[0, 2].plot( 'game', '37', data=df_points, marker='', color='#b2df8a', linewidth=1)\n",
        "axs[0, 2].set_title('37')\n",
        "axs[0, 2].set_yticks(ytick,ytick)\n",
        "\n",
        "axs[0, 3].plot( 'game', '11', data=df_points, marker='', color='#cab2d6', linewidth=1)\n",
        "axs[0, 3].set_title('11')\n",
        "axs[0, 3].set_yticks(ytick,ytick)\n",
        "\n",
        "axs[0, 4].plot( 'game', '34', data=df_points, marker='', color='#c0c0c0', linewidth=1)\n",
        "axs[0, 4].set_title('34')\n",
        "axs[0, 4].set_yticks(ytick,ytick)\n",
        "\n",
        "axs[1, 0].plot( 'game', '32', data=df_points, marker='', color='#b2df8a', linewidth=1)\n",
        "axs[1, 0].set_title('32')\n",
        "axs[1, 0].set_yticks(ytick,ytick)\n",
        "\n",
        "axs[1, 1].plot( 'game', '50', data=df_points, marker='', color='#33a02c', linewidth=1)\n",
        "axs[1, 1].set_title('50')\n",
        "axs[1, 1].set_yticks(ytick,ytick)\n",
        "\n",
        "axs[1, 2].plot( 'game', '39', data=df_points, marker='', color='#fb9a99', linewidth=1)\n",
        "axs[1, 2].set_title('39')\n",
        "axs[1, 2].set_yticks(ytick,ytick)\n",
        "\n",
        "axs[1, 3].plot( 'game', '15', data=df_points, marker='', color='#000000', linewidth=1)\n",
        "axs[1, 3].set_title('15')\n",
        "axs[1, 3].set_yticks(ytick,ytick)\n",
        "\n",
        "axs[1, 4].plot( 'game', '12', data=df_points, marker='', color='#00ffff', linewidth=1)\n",
        "axs[1, 4].set_title('12')\n",
        "axs[1, 4].set_yticks(ytick,ytick)\n",
        "\n",
        "axs[2, 0].plot('game', '3', data=df_points, marker='', color='#e31a1c', linewidth=1)\n",
        "axs[2, 0].set_title('3')\n",
        "axs[2, 0].set_yticks(ytick,ytick)\n",
        "\n",
        "axs[2, 1].plot( 'game', '79', data=df_points, marker='', color='#fdbf6f', linewidth=1)\n",
        "axs[2, 1].set_title('79')\n",
        "axs[2, 1].set_yticks(ytick,ytick)\n",
        "\n",
        "axs[2, 2].plot( 'game', '24', data=df_points, marker='', color='#ff7f00', linewidth=1)\n",
        "axs[2, 2].set_title('24')\n",
        "axs[2, 2].set_yticks(ytick,ytick)\n",
        "\n",
        "axs[2, 3].plot( 'game', '14', data=df_points, marker='', color='#00ff00', linewidth=1)\n",
        "axs[2, 3].set_title('14')\n",
        "axs[2, 3].set_yticks(ytick,ytick)\n",
        "\n",
        "axs[2, 4].plot( 'game', '5', data=df_points, marker='', color='#0000ff', linewidth=1)\n",
        "axs[2, 4].set_title('5')\n",
        "axs[2, 4].set_yticks(ytick,ytick)\n",
        "\n",
        "for ax in axs.flat:\n",
        "    ax.set(xlabel='Game', ylabel='Points')\n",
        "\n",
        "for ax in axs.flat:\n",
        "    ax.label_outer()\n",
        "\n",
        "fig.set_size_inches(12, 12)\n",
        "fig.suptitle('Points per Player by Game', y=.94)\n"
      ],
      "execution_count": 0,
      "outputs": [
        {
          "output_type": "stream",
          "text": [
            "/usr/local/lib/python3.6/dist-packages/ipykernel_launcher.py:51: RuntimeWarning:\n",
            "\n",
            "Second argument '3' is ambiguous: could be a color spec but is in data; using as data.  Either rename the entry in data or use three arguments to plot.\n",
            "\n"
          ],
          "name": "stderr"
        },
        {
          "output_type": "execute_result",
          "data": {
            "text/plain": [
              "Text(0.5, 0.94, 'Points per Player by Game')"
            ]
          },
          "metadata": {
            "tags": []
          },
          "execution_count": 21
        },
        {
          "output_type": "display_data",
          "data": {
            "image/png": "[encoded data removed]",
            "text/plain": [
              "<Figure size 864x864 with 15 Axes>"
            ]
          },
          "metadata": {
            "tags": []
          }
        }
      ]
    },
    {
      "cell_type": "code",
      "metadata": {
        "id": "667Mfn9_el8Y",
        "colab_type": "code",
        "colab": {}
      },
      "source": [
        "### *** OLD CHART, DO NOT USE *** ###\n",
        "\n",
        "# stacked bar chart showing Xtreme goals/shots by period\n",
        "\n",
        "p1g = df_goals[(df_goals.team == \"a\") & (df_goals.period == 1)].shape[0]\n",
        "p2g = df_goals[(df_goals.team == \"a\") & (df_goals.period == 2)].shape[0]\n",
        "p3g = df_goals[(df_goals.team == \"a\") & (df_goals.period == 3)].shape[0]\n",
        "p4g = df_goals[(df_goals.team == \"a\") & (df_goals.period == 4)].shape[0]\n",
        "\n",
        "p1s = df_shots['ashburn_p1'].sum()\n",
        "p2s = df_shots['ashburn_p2'].sum()\n",
        "p3s = df_shots['ashburn_p3'].sum()\n",
        "p4s = df_shots['ashburn_ot'].sum()\n",
        "\n",
        "N = 4\n",
        "goals = (p1g, p2g, p3g, p4g)\n",
        "shots = (p1s, p2s, p3s, p4s)\n",
        "ind = np.arange(N)    # the x locations for the groups\n",
        "width = 0.35       # the width of the bars: can also be len(x) sequence\n",
        "\n",
        "g_label = \"Goals (\" + str(p1g + p2g + p3g + p4g) + \")\"\n",
        "\n",
        "p1 = plt.bar(ind, goals, width, color='red')\n",
        "p2 = plt.bar(ind, shots, width, bottom=goals, color='black')\n",
        "\n",
        "plt.title('Xtreme Goals and Shots by Period')\n",
        "plt.xticks(ind, ('1', '2', '3', 'OT'))\n",
        "plt.yticks(np.arange(0, 225, 10))\n",
        "plt.legend((p1[0], p2[0]), (g_label, 'Shots'))\n",
        "\n",
        "plt.show()"
      ],
      "execution_count": 0,
      "outputs": []
    }
  ]
}