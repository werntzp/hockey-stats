{
  "nbformat": 4,
  "nbformat_minor": 0,
  "metadata": {
    "colab": {
      "name": "common_opponents.ipynb",
      "provenance": [],
      "collapsed_sections": []
    },
    "kernelspec": {
      "name": "python3",
      "display_name": "Python 3"
    }
  },
  "cells": [
    {
      "cell_type": "code",
      "metadata": {
        "id": "Gung6iN04KcQ",
        "colab_type": "code",
        "colab": {}
      },
      "source": [
        "# Common Opponent Lister - for any team (myhockeyrankings team id needed), go through all their opponents\n",
        "# looking for common opponents with Xtreme. Print out a list of common opponents and results for both Xtreme\n",
        "# and upcoming opponent. \n"
      ],
      "execution_count": 0,
      "outputs": []
    },
    {
      "cell_type": "code",
      "metadata": {
        "id": "igY4-xKMvFnV",
        "colab_type": "code",
        "outputId": "84ceeaa4-17ad-417c-a669-9be95df8b586",
        "colab": {
          "base_uri": "https://localhost:8080/",
          "height": 204
        }
      },
      "source": [
        "# install pre-reqs\n",
        "!pip install pycurl\n",
        "!pip install beautifulsoup4\n",
        "\n",
        "# imports \n",
        "import pycurl\n",
        "import pandas as pd \n",
        "from bs4 import BeautifulSoup\n",
        "from io import BytesIO\n",
        "from google.colab import files\n"
      ],
      "execution_count": 1,
      "outputs": [
        {
          "output_type": "stream",
          "text": [
            "Collecting pycurl\n",
            "\u001b[?25l  Downloading https://files.pythonhosted.org/packages/ac/b3/0f3979633b7890bab6098d84c84467030b807a1e2b31f5d30103af5a71ca/pycurl-7.43.0.3.tar.gz (215kB)\n",
            "\r\u001b[K     |█▌                              | 10kB 20.3MB/s eta 0:00:01\r\u001b[K     |███                             | 20kB 3.1MB/s eta 0:00:01\r\u001b[K     |████▋                           | 30kB 4.4MB/s eta 0:00:01\r\u001b[K     |██████                          | 40kB 2.9MB/s eta 0:00:01\r\u001b[K     |███████▋                        | 51kB 3.5MB/s eta 0:00:01\r\u001b[K     |█████████▏                      | 61kB 4.2MB/s eta 0:00:01\r\u001b[K     |██████████▊                     | 71kB 4.5MB/s eta 0:00:01\r\u001b[K     |████████████▏                   | 81kB 5.1MB/s eta 0:00:01\r\u001b[K     |█████████████▊                  | 92kB 5.7MB/s eta 0:00:01\r\u001b[K     |███████████████▎                | 102kB 4.7MB/s eta 0:00:01\r\u001b[K     |████████████████▊               | 112kB 4.7MB/s eta 0:00:01\r\u001b[K     |██████████████████▎             | 122kB 4.7MB/s eta 0:00:01\r\u001b[K     |███████████████████▉            | 133kB 4.7MB/s eta 0:00:01\r\u001b[K     |█████████████████████▍          | 143kB 4.7MB/s eta 0:00:01\r\u001b[K     |██████████████████████▉         | 153kB 4.7MB/s eta 0:00:01\r\u001b[K     |████████████████████████▍       | 163kB 4.7MB/s eta 0:00:01\r\u001b[K     |██████████████████████████      | 174kB 4.7MB/s eta 0:00:01\r\u001b[K     |███████████████████████████▍    | 184kB 4.7MB/s eta 0:00:01\r\u001b[K     |█████████████████████████████   | 194kB 4.7MB/s eta 0:00:01\r\u001b[K     |██████████████████████████████▌ | 204kB 4.7MB/s eta 0:00:01\r\u001b[K     |████████████████████████████████| 215kB 4.7MB/s \n",
            "\u001b[?25hBuilding wheels for collected packages: pycurl\n",
            "  Building wheel for pycurl (setup.py) ... \u001b[?25l\u001b[?25hdone\n",
            "  Created wheel for pycurl: filename=pycurl-7.43.0.3-cp36-cp36m-linux_x86_64.whl size=282637 sha256=168a9ab9c5b86640ab83f088f06dc4c2f623f1782de22caf65087063dacd9186\n",
            "  Stored in directory: /root/.cache/pip/wheels/89/40/f5/7b4f2285aca871b5173887a6c69127210d92806c0d3a977e51\n",
            "Successfully built pycurl\n",
            "Installing collected packages: pycurl\n",
            "Successfully installed pycurl-7.43.0.3\n",
            "Requirement already satisfied: beautifulsoup4 in /usr/local/lib/python3.6/dist-packages (4.6.3)\n"
          ],
          "name": "stdout"
        }
      ]
    },
    {
      "cell_type": "code",
      "metadata": {
        "id": "47kofeU56Myz",
        "colab_type": "code",
        "colab": {}
      },
      "source": [
        "# function to build dataframe with all games\n",
        "def get_games(id):\n",
        "\n",
        "  # grab the page for team \n",
        "  buffer = BytesIO()\n",
        "  c = pycurl.Curl()\n",
        "  c.setopt(c.URL, \"https://myhockeyrankings.com/team_info.php?y=2019&t=\" + str(id))\n",
        "  c.setopt(c.WRITEDATA, buffer)\n",
        "  c.perform()\n",
        "  c.close()\n",
        "\n",
        "  # decode into a string we can work with \n",
        "  body = buffer.getvalue()\n",
        "  html = body.decode('iso-8859-1')\n",
        "\n",
        "  # pass that into beautiful soup \n",
        "  soup = BeautifulSoup(html)\n",
        "  # extract the table will all the results \n",
        "  table = soup.find(id=\"team-scores\")\n",
        "\n",
        "  # loop through each row and add to dataframe\n",
        "  output_rows = []\n",
        "  for table_row in table.findAll('tr'):\n",
        "      columns = table_row.findAll('td')\n",
        "      output_row = []\n",
        "      for column in columns:\n",
        "          output_row.append(column.text)\n",
        "      output_rows.append(output_row)\n",
        "      #print(output_row)\n",
        "\n",
        "  # also, grab the name of the team \n",
        "  team_name = soup.find(class_=\"sitestyle6\").text\n",
        "  #team_name = element.get_text()\n",
        "\n",
        "  return output_rows, team_name\n"
      ],
      "execution_count": 0,
      "outputs": []
    },
    {
      "cell_type": "code",
      "metadata": {
        "id": "066iPhEMxa1i",
        "colab_type": "code",
        "colab": {}
      },
      "source": [
        "# get the xtreme game list \n",
        "xtreme_id = \"2658\"\n",
        "rows, team_name = get_games(xtreme_id)\n",
        "df_xtreme = pd.DataFrame(rows, columns = ['Date', 'Time', 'Opponent','Location','Score','NA'])\n"
      ],
      "execution_count": 0,
      "outputs": []
    },
    {
      "cell_type": "code",
      "metadata": {
        "id": "ZgHMQD9vuhOV",
        "colab_type": "code",
        "colab": {}
      },
      "source": [
        "# get the opponent\n",
        "#opponent_id = \"1356\" # seacoast spartans elite\n",
        "#opponent_id = \"1306\" # east coast wizards elite\n",
        "#opponent_id = \"6332\" # woodbridge wolverines\n",
        "opponent_id = \"2674\" # bay state breakers\n",
        "rows, team_name = get_games(opponent_id)\n",
        "df_opponent = pd.DataFrame(rows, columns = ['Date', 'Time', 'Opponent','Location','Score','NA'])\n"
      ],
      "execution_count": 0,
      "outputs": []
    },
    {
      "cell_type": "code",
      "metadata": {
        "id": "dtX7p5r4CYa9",
        "colab_type": "code",
        "outputId": "4eae89e2-3e26-43a0-f79a-081417e1e80b",
        "colab": {
          "base_uri": "https://localhost:8080/",
          "height": 49
        }
      },
      "source": [
        "# shorten down to unique opponents\n",
        "opp_list  = df_xtreme.Opponent.unique()\n",
        "\n",
        "# df_common  = df_opponent.Opponent.isin(opp_list)\n",
        "df_common = df_opponent[df_opponent.Opponent.isin(opp_list)]\n",
        "\n",
        "# shut off warning\n",
        "pd.options.mode.chained_assignment = None\n",
        "\n",
        "# clean up the dataframe by dropping some colums\n",
        "del df_common[\"Time\"] # don't care \n",
        "del df_common[\"Location\"] # don't care \n",
        "del df_common[\"NA\"] # don't care\n",
        "df_common.drop(df_common.head(1).index, inplace=True) # first row always says none for some reason\n",
        "\n",
        "# remove any spaces in the team name\n",
        "team_name.replace(\" \", \"\")\n",
        "\n",
        "# save as csv\n",
        "df_common.to_csv(\"/content/\" + team_name + \"_common_opponents.csv\", index=False)\n",
        "\n",
        "# and display it\n",
        "df_common"
      ],
      "execution_count": 12,
      "outputs": [
        {
          "output_type": "execute_result",
          "data": {
            "text/html": [
              "<div>\n",
              "<style scoped>\n",
              "    .dataframe tbody tr th:only-of-type {\n",
              "        vertical-align: middle;\n",
              "    }\n",
              "\n",
              "    .dataframe tbody tr th {\n",
              "        vertical-align: top;\n",
              "    }\n",
              "\n",
              "    .dataframe thead th {\n",
              "        text-align: right;\n",
              "    }\n",
              "</style>\n",
              "<table border=\"1\" class=\"dataframe\">\n",
              "  <thead>\n",
              "    <tr style=\"text-align: right;\">\n",
              "      <th></th>\n",
              "      <th>Date</th>\n",
              "      <th>Opponent</th>\n",
              "      <th>Score</th>\n",
              "    </tr>\n",
              "  </thead>\n",
              "  <tbody>\n",
              "  </tbody>\n",
              "</table>\n",
              "</div>"
            ],
            "text/plain": [
              "Empty DataFrame\n",
              "Columns: [Date, Opponent, Score]\n",
              "Index: []"
            ]
          },
          "metadata": {
            "tags": []
          },
          "execution_count": 12
        }
      ]
    }
  ]
}