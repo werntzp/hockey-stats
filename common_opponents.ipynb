{
  "nbformat": 4,
  "nbformat_minor": 0,
  "metadata": {
    "colab": {
      "name": "common_opponents.ipynb",
      "provenance": [],
      "collapsed_sections": []
    },
    "kernelspec": {
      "name": "python3",
      "display_name": "Python 3"
    }
  },
  "cells": [
    {
      "cell_type": "code",
      "metadata": {
        "id": "Gung6iN04KcQ",
        "colab_type": "code",
        "colab": {}
      },
      "source": [
        "# Common Opponent Lister - for any team (myhockeyrankings team id needed), go through all their opponents\n",
        "# looking for common opponents with Xtreme. Print out a list of common opponents and results for both Xtreme\n",
        "# and upcoming opponent. \n"
      ],
      "execution_count": 0,
      "outputs": []
    },
    {
      "cell_type": "code",
      "metadata": {
        "id": "igY4-xKMvFnV",
        "colab_type": "code",
        "colab": {
          "base_uri": "https://localhost:8080/",
          "height": 53
        },
        "outputId": "e591b964-916b-403f-b73f-73d78aec75c4"
      },
      "source": [
        "# install pre-reqs\n",
        "!pip install pycurl\n",
        "!pip install beautifulsoup4\n",
        "\n",
        "# imports \n",
        "import pycurl\n",
        "import pandas as pd \n",
        "from bs4 import BeautifulSoup\n",
        "from io import BytesIO\n",
        "from google.colab import files\n"
      ],
      "execution_count": 37,
      "outputs": [
        {
          "output_type": "stream",
          "text": [
            "Requirement already satisfied: pycurl in /usr/local/lib/python3.6/dist-packages (7.43.0.3)\n",
            "Requirement already satisfied: beautifulsoup4 in /usr/local/lib/python3.6/dist-packages (4.6.3)\n"
          ],
          "name": "stdout"
        }
      ]
    },
    {
      "cell_type": "code",
      "metadata": {
        "id": "47kofeU56Myz",
        "colab_type": "code",
        "colab": {}
      },
      "source": [
        "# function to build dataframe with all games\n",
        "def get_games(id):\n",
        "\n",
        "  # grab the page for team \n",
        "  buffer = BytesIO()\n",
        "  c = pycurl.Curl()\n",
        "  c.setopt(c.URL, \"https://myhockeyrankings.com/team_info.php?y=2019&t=\" + str(id))\n",
        "  c.setopt(c.WRITEDATA, buffer)\n",
        "  c.perform()\n",
        "  c.close()\n",
        "\n",
        "  # decode into a string we can work with \n",
        "  body = buffer.getvalue()\n",
        "  html = body.decode('iso-8859-1')\n",
        "\n",
        "  # pass that into beautiful soup \n",
        "  soup = BeautifulSoup(html)\n",
        "  # extract the table will all the results \n",
        "  table = soup.find(id=\"team-scores\")\n",
        "\n",
        "  # loop through each row and add to dataframe\n",
        "  output_rows = []\n",
        "  for table_row in table.findAll('tr'):\n",
        "      columns = table_row.findAll('td')\n",
        "      output_row = []\n",
        "      for column in columns:\n",
        "          output_row.append(column.text)\n",
        "      output_rows.append(output_row)\n",
        "      #print(output_row)\n",
        "\n",
        "  # also, grab the name of the team \n",
        "  team_name = soup.find(class_=\"sitestyle6\").text\n",
        "  #team_name = element.get_text()\n",
        "\n",
        "  return output_rows, team_name\n"
      ],
      "execution_count": 0,
      "outputs": []
    },
    {
      "cell_type": "code",
      "metadata": {
        "id": "066iPhEMxa1i",
        "colab_type": "code",
        "colab": {}
      },
      "source": [
        "# get the xtreme game list \n",
        "xtreme_id = \"2658\"\n",
        "rows, team_name = get_games(xtreme_id)\n",
        "df_xtreme = pd.DataFrame(rows, columns = ['Date', 'Time', 'Opponent','Location','Score','NA'])\n"
      ],
      "execution_count": 0,
      "outputs": []
    },
    {
      "cell_type": "code",
      "metadata": {
        "id": "ZgHMQD9vuhOV",
        "colab_type": "code",
        "colab": {}
      },
      "source": [
        "# get the opponent\n",
        "opponent_id = \"25966\" # 9582 = hampton roads whalers, 3635 = rochester monarchs\n",
        "rows, team_name = get_games(opponent_id)\n",
        "df_opponent = pd.DataFrame(rows, columns = ['Date', 'Time', 'Opponent','Location','Score','NA'])\n"
      ],
      "execution_count": 0,
      "outputs": []
    },
    {
      "cell_type": "code",
      "metadata": {
        "id": "dtX7p5r4CYa9",
        "colab_type": "code",
        "colab": {
          "base_uri": "https://localhost:8080/",
          "height": 111
        },
        "outputId": "8d7eb544-020f-44bd-b13d-e7ea048f377d"
      },
      "source": [
        "# shorten down to unique opponents\n",
        "opp_list  = df_xtreme.Opponent.unique()\n",
        "\n",
        "# df_common  = df_opponent.Opponent.isin(opp_list)\n",
        "df_common = df_opponent[df_opponent.Opponent.isin(opp_list)]\n",
        "\n",
        "# shut off warning\n",
        "pd.options.mode.chained_assignment = None\n",
        "\n",
        "# clean up the dataframe by dropping some colums\n",
        "del df_common[\"Time\"] # don't care \n",
        "del df_common[\"Location\"] # don't care \n",
        "del df_common[\"NA\"] # don't care\n",
        "df_common.drop(df_common.head(1).index, inplace=True) # first row always says none for some reason\n",
        "\n",
        "# remove any spaces in the team name\n",
        "team_name.replace(\" \", \"\")\n",
        "\n",
        "# save as csv\n",
        "df_common.to_csv(\"/content/\" + team_name + \"_common_opponents.csv\", index=False)\n",
        "\n",
        "# and display it\n",
        "df_common"
      ],
      "execution_count": 55,
      "outputs": [
        {
          "output_type": "execute_result",
          "data": {
            "text/html": [
              "<div>\n",
              "<style scoped>\n",
              "    .dataframe tbody tr th:only-of-type {\n",
              "        vertical-align: middle;\n",
              "    }\n",
              "\n",
              "    .dataframe tbody tr th {\n",
              "        vertical-align: top;\n",
              "    }\n",
              "\n",
              "    .dataframe thead th {\n",
              "        text-align: right;\n",
              "    }\n",
              "</style>\n",
              "<table border=\"1\" class=\"dataframe\">\n",
              "  <thead>\n",
              "    <tr style=\"text-align: right;\">\n",
              "      <th></th>\n",
              "      <th>Date</th>\n",
              "      <th>Opponent</th>\n",
              "      <th>Score</th>\n",
              "    </tr>\n",
              "  </thead>\n",
              "  <tbody>\n",
              "    <tr>\n",
              "      <th>15</th>\n",
              "      <td>2019-10-19</td>\n",
              "      <td>Montgomery Blue Devils (Blue) AA</td>\n",
              "      <td>8 - 3</td>\n",
              "    </tr>\n",
              "    <tr>\n",
              "      <th>16</th>\n",
              "      <td>2019-10-19</td>\n",
              "      <td>Montgomery Blue Devils (Blue) AA</td>\n",
              "      <td>9 - 3</td>\n",
              "    </tr>\n",
              "  </tbody>\n",
              "</table>\n",
              "</div>"
            ],
            "text/plain": [
              "          Date                          Opponent  Score\n",
              "15  2019-10-19  Montgomery Blue Devils (Blue) AA  8 - 3\n",
              "16  2019-10-19  Montgomery Blue Devils (Blue) AA  9 - 3"
            ]
          },
          "metadata": {
            "tags": []
          },
          "execution_count": 55
        }
      ]
    }
  ]
}