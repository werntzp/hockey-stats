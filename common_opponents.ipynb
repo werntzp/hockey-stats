{
  "nbformat": 4,
  "nbformat_minor": 0,
  "metadata": {
    "colab": {
      "name": "common_opponents.ipynb",
      "provenance": [],
      "collapsed_sections": []
    },
    "kernelspec": {
      "name": "python3",
      "display_name": "Python 3"
    }
  },
  "cells": [
    {
      "cell_type": "code",
      "metadata": {
        "id": "Gung6iN04KcQ"
      },
      "source": [
        "# Common Opponent Lister - for any team (myhockeyrankings team id needed), go through all their opponents\n",
        "# looking for common opponents with Xtreme. Print out a list of common opponents and results for both Xtreme\n",
        "# and upcoming opponent. \n"
      ],
      "execution_count": null,
      "outputs": []
    },
    {
      "cell_type": "code",
      "metadata": {
        "id": "igY4-xKMvFnV",
        "colab": {
          "base_uri": "https://localhost:8080/"
        },
        "outputId": "91c39e69-98bd-49d1-f31b-7a28f240616e"
      },
      "source": [
        "# install pre-reqs\n",
        "!pip install pycurl\n",
        "!pip install beautifulsoup4\n",
        "\n",
        "# imports \n",
        "import pycurl\n",
        "import pandas as pd \n",
        "from bs4 import BeautifulSoup\n",
        "from io import BytesIO\n",
        "from google.colab import files\n"
      ],
      "execution_count": null,
      "outputs": [
        {
          "output_type": "stream",
          "name": "stdout",
          "text": [
            "Collecting pycurl\n",
            "  Downloading pycurl-7.44.1.tar.gz (227 kB)\n",
            "\u001b[?25l\r\u001b[K     |█▍                              | 10 kB 21.0 MB/s eta 0:00:01\r\u001b[K     |██▉                             | 20 kB 23.2 MB/s eta 0:00:01\r\u001b[K     |████▎                           | 30 kB 19.2 MB/s eta 0:00:01\r\u001b[K     |█████▊                          | 40 kB 12.9 MB/s eta 0:00:01\r\u001b[K     |███████▏                        | 51 kB 8.8 MB/s eta 0:00:01\r\u001b[K     |████████▋                       | 61 kB 9.1 MB/s eta 0:00:01\r\u001b[K     |██████████                      | 71 kB 7.9 MB/s eta 0:00:01\r\u001b[K     |███████████▌                    | 81 kB 8.8 MB/s eta 0:00:01\r\u001b[K     |█████████████                   | 92 kB 7.1 MB/s eta 0:00:01\r\u001b[K     |██████████████▍                 | 102 kB 7.8 MB/s eta 0:00:01\r\u001b[K     |███████████████▉                | 112 kB 7.8 MB/s eta 0:00:01\r\u001b[K     |█████████████████▎              | 122 kB 7.8 MB/s eta 0:00:01\r\u001b[K     |██████████████████▊             | 133 kB 7.8 MB/s eta 0:00:01\r\u001b[K     |████████████████████▏           | 143 kB 7.8 MB/s eta 0:00:01\r\u001b[K     |█████████████████████▋          | 153 kB 7.8 MB/s eta 0:00:01\r\u001b[K     |███████████████████████         | 163 kB 7.8 MB/s eta 0:00:01\r\u001b[K     |████████████████████████▌       | 174 kB 7.8 MB/s eta 0:00:01\r\u001b[K     |██████████████████████████      | 184 kB 7.8 MB/s eta 0:00:01\r\u001b[K     |███████████████████████████▍    | 194 kB 7.8 MB/s eta 0:00:01\r\u001b[K     |████████████████████████████▉   | 204 kB 7.8 MB/s eta 0:00:01\r\u001b[K     |██████████████████████████████▎ | 215 kB 7.8 MB/s eta 0:00:01\r\u001b[K     |███████████████████████████████▊| 225 kB 7.8 MB/s eta 0:00:01\r\u001b[K     |████████████████████████████████| 227 kB 7.8 MB/s \n",
            "\u001b[?25hBuilding wheels for collected packages: pycurl\n",
            "  Building wheel for pycurl (setup.py) ... \u001b[?25l\u001b[?25hdone\n",
            "  Created wheel for pycurl: filename=pycurl-7.44.1-cp37-cp37m-linux_x86_64.whl size=292986 sha256=194d036f684ec7085ce5e3b2058d06467711b56eafa88cfae771f9d82fbd30f2\n",
            "  Stored in directory: /root/.cache/pip/wheels/c5/46/b4/4dc60b406282c22dd4f1ca7da5c949e88aeadb78283123f94d\n",
            "Successfully built pycurl\n",
            "Installing collected packages: pycurl\n",
            "Successfully installed pycurl-7.44.1\n",
            "Requirement already satisfied: beautifulsoup4 in /usr/local/lib/python3.7/dist-packages (4.6.3)\n"
          ]
        }
      ]
    },
    {
      "cell_type": "code",
      "metadata": {
        "id": "47kofeU56Myz"
      },
      "source": [
        "# function to build dataframe with all games\n",
        "def get_games(id, yr):\n",
        "\n",
        "  # grab the page for team \n",
        "  buffer = BytesIO()\n",
        "  c = pycurl.Curl()\n",
        "  c.setopt(c.URL, \"https://myhockeyrankings.com/team_info.php?y=\" + str(yr) + \"&t=\" + str(id))\n",
        "  c.setopt(c.WRITEDATA, buffer)\n",
        "  c.perform()\n",
        "  c.close()\n",
        "\n",
        "  # decode into a string we can work with \n",
        "  body = buffer.getvalue()\n",
        "  html = body.decode('iso-8859-1')\n",
        "\n",
        "  # pass that into beautiful soup \n",
        "  soup = BeautifulSoup(html)\n",
        "  # extract the table will all the results \n",
        "  table = soup.find(id=\"team-scores\")\n",
        "\n",
        "  # loop through each row and add to dataframe\n",
        "  output_rows = []\n",
        "  for table_row in table.findAll('tr'):\n",
        "      columns = table_row.findAll('td')\n",
        "      output_row = []\n",
        "      for column in columns:\n",
        "          output_row.append(column.text)\n",
        "      output_rows.append(output_row)\n",
        "      #print(output_row)\n",
        "\n",
        "  # also, grab the name of the team \n",
        "  team_name = soup.find(class_=\"sitestyle6\").text\n",
        "  #team_name = element.get_text()\n",
        "\n",
        "  return output_rows, team_name\n"
      ],
      "execution_count": null,
      "outputs": []
    },
    {
      "cell_type": "code",
      "metadata": {
        "id": "066iPhEMxa1i"
      },
      "source": [
        "# get the wlc09 game list \n",
        "our_team_id = \"1114\"\n",
        "rows, team_name = get_games(our_team_id, \"2021\")\n",
        "df_us = pd.DataFrame(rows, columns = ['Date', 'Time', 'Opponent','Location','Result','NA'])\n"
      ],
      "execution_count": null,
      "outputs": []
    },
    {
      "cell_type": "code",
      "metadata": {
        "id": "ZgHMQD9vuhOV"
      },
      "source": [
        "# get the opponent\n",
        "opponent_id = \"16650\" # \n",
        "rows, team_name = get_games(opponent_id, \"2021\")\n",
        "df_opponent = pd.DataFrame(rows, columns = ['Date', 'Time', 'Opponent','Location','Result','NA'])\n"
      ],
      "execution_count": null,
      "outputs": []
    },
    {
      "cell_type": "code",
      "metadata": {
        "id": "dtX7p5r4CYa9",
        "colab": {
          "base_uri": "https://localhost:8080/",
          "height": 390
        },
        "outputId": "0db1460f-6430-41e8-d54e-c7aca563fc15"
      },
      "source": [
        "# shorten down to unique opponents\n",
        "opp_list  = df_us.Opponent.unique()\n",
        "\n",
        "df_common = df_opponent[df_opponent.Opponent.isin(opp_list)]\n",
        "\n",
        "# shut off warning\n",
        "pd.options.mode.chained_assignment = None\n",
        "\n",
        "# clean up the dataframe by dropping some colums\n",
        "del df_common[\"Time\"] # don't care \n",
        "del df_common[\"Location\"] # don't care \n",
        "del df_common[\"NA\"] # don't care\n",
        "df_common.drop(df_common.head(1).index, inplace=True) # first row always says none for some reason\n",
        "\n",
        "# remove any spaces in the team name\n",
        "team_name.replace(\" \", \"\")\n",
        "\n",
        "# save as csv\n",
        "df_common.to_csv(\"/content/\" + team_name + \"_common_opponents.csv\", index=False)\n",
        "\n",
        "# and display it\n",
        "df_common"
      ],
      "execution_count": null,
      "outputs": [
        {
          "output_type": "execute_result",
          "data": {
            "text/html": [
              "<div>\n",
              "<style scoped>\n",
              "    .dataframe tbody tr th:only-of-type {\n",
              "        vertical-align: middle;\n",
              "    }\n",
              "\n",
              "    .dataframe tbody tr th {\n",
              "        vertical-align: top;\n",
              "    }\n",
              "\n",
              "    .dataframe thead th {\n",
              "        text-align: right;\n",
              "    }\n",
              "</style>\n",
              "<table border=\"1\" class=\"dataframe\">\n",
              "  <thead>\n",
              "    <tr style=\"text-align: right;\">\n",
              "      <th></th>\n",
              "      <th>Date</th>\n",
              "      <th>Opponent</th>\n",
              "      <th>Result</th>\n",
              "    </tr>\n",
              "  </thead>\n",
              "  <tbody>\n",
              "    <tr>\n",
              "      <th>1</th>\n",
              "      <td>2021-09-18</td>\n",
              "      <td>New Jersey Colonials 09 AAA</td>\n",
              "      <td>3 - 3</td>\n",
              "    </tr>\n",
              "    <tr>\n",
              "      <th>3</th>\n",
              "      <td>2021-09-25</td>\n",
              "      <td>Philadelphia Jr Flyers 09 AAA</td>\n",
              "      <td>2 - 8</td>\n",
              "    </tr>\n",
              "    <tr>\n",
              "      <th>4</th>\n",
              "      <td>2021-09-26</td>\n",
              "      <td>Long Island Royals 09 AAA</td>\n",
              "      <td>1 - 8</td>\n",
              "    </tr>\n",
              "    <tr>\n",
              "      <th>5</th>\n",
              "      <td>2021-10-02</td>\n",
              "      <td>New Jersey Devils 09 AAA</td>\n",
              "      <td>4 - 11</td>\n",
              "    </tr>\n",
              "    <tr>\n",
              "      <th>9</th>\n",
              "      <td>2021-11-20</td>\n",
              "      <td>New Jersey Devils 09 AAA</td>\n",
              "      <td>-</td>\n",
              "    </tr>\n",
              "    <tr>\n",
              "      <th>10</th>\n",
              "      <td>2021-12-11</td>\n",
              "      <td>New York Saints 09 AAA</td>\n",
              "      <td>-</td>\n",
              "    </tr>\n",
              "    <tr>\n",
              "      <th>11</th>\n",
              "      <td>2021-12-11</td>\n",
              "      <td>New York Saints 09 AAA</td>\n",
              "      <td>-</td>\n",
              "    </tr>\n",
              "    <tr>\n",
              "      <th>12</th>\n",
              "      <td>2021-12-12</td>\n",
              "      <td>New Jersey Devils 09 AAA</td>\n",
              "      <td>-</td>\n",
              "    </tr>\n",
              "    <tr>\n",
              "      <th>13</th>\n",
              "      <td>2022-01-29</td>\n",
              "      <td>New Jersey Devils 09 AAA</td>\n",
              "      <td>-</td>\n",
              "    </tr>\n",
              "    <tr>\n",
              "      <th>14</th>\n",
              "      <td>2022-01-30</td>\n",
              "      <td>New York Saints 09 AAA</td>\n",
              "      <td>-</td>\n",
              "    </tr>\n",
              "    <tr>\n",
              "      <th>15</th>\n",
              "      <td>2022-01-30</td>\n",
              "      <td>New York Saints 09 AAA</td>\n",
              "      <td>-</td>\n",
              "    </tr>\n",
              "  </tbody>\n",
              "</table>\n",
              "</div>"
            ],
            "text/plain": [
              "          Date                       Opponent  Result\n",
              "1   2021-09-18    New Jersey Colonials 09 AAA   3 - 3\n",
              "3   2021-09-25  Philadelphia Jr Flyers 09 AAA   2 - 8\n",
              "4   2021-09-26      Long Island Royals 09 AAA   1 - 8\n",
              "5   2021-10-02       New Jersey Devils 09 AAA  4 - 11\n",
              "9   2021-11-20       New Jersey Devils 09 AAA      - \n",
              "10  2021-12-11         New York Saints 09 AAA      - \n",
              "11  2021-12-11         New York Saints 09 AAA      - \n",
              "12  2021-12-12       New Jersey Devils 09 AAA      - \n",
              "13  2022-01-29       New Jersey Devils 09 AAA      - \n",
              "14  2022-01-30         New York Saints 09 AAA      - \n",
              "15  2022-01-30         New York Saints 09 AAA      - "
            ]
          },
          "metadata": {},
          "execution_count": 13
        }
      ]
    }
  ]
}